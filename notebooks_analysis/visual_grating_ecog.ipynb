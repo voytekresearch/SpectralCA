{
 "cells": [
  {
   "cell_type": "markdown",
   "metadata": {},
   "source": [
    "# NeuroTycho Visual Grating"
   ]
  },
  {
   "cell_type": "code",
   "execution_count": null,
   "metadata": {
    "collapsed": true
   },
   "outputs": [],
   "source": [
    "import sys\n",
    "sys.path.append('/Users/SP/code/spectralCV')"
   ]
  },
  {
   "cell_type": "code",
   "execution_count": null,
   "metadata": {
    "collapsed": false
   },
   "outputs": [],
   "source": [
    "%matplotlib inline\n",
    "\n",
    "# imports\n",
    "from scv_funcs import access_nt as asc\n",
    "import numpy as np\n",
    "import scipy as sp\n",
    "import scipy.io as io\n",
    "import scipy.signal as sig\n",
    "import matplotlib.pyplot as plt\n",
    "import pandas as pd\n",
    "import h5py\n",
    "import os\n",
    "\n",
    "import neurodsp as ndsp\n",
    "# from fooof import FOOOFGroup\n",
    "from scv_funcs import lfpca"
   ]
  },
  {
   "cell_type": "markdown",
   "metadata": {},
   "source": [
    "### Accessing data and creating lfpca objects"
   ]
  },
  {
   "cell_type": "code",
   "execution_count": null,
   "metadata": {
    "collapsed": false
   },
   "outputs": [],
   "source": [
    "# getting data\n",
    "# data_path = \"/Users/Lauren/Data/NeuroTycho/VisualGrating/20100723S1_VGT_K2_KazuhitoTakenaka-ToruYanagawa_mat_ECoG128-Event3/\"\n",
    "data_path = \"/Users/SP/Documents/02-Data/Neurotycho/VisualGrating/20100723S1_VGT_K2_KazuhitoTakenaka-ToruYanagawa_mat_ECoG128-Event3/\"\n",
    "# setting event data into pandas dataframe\n",
    "matfile = io.loadmat(data_path + 'Event.mat', squeeze_me=True)\n",
    "EventData = matfile['EventData']\n",
    "EventIndex = matfile['EventIndex']\n",
    "\n",
    "df_ecodes = pd.DataFrame(data=[EventData, EventIndex]).T\n",
    "df_ecodes = df_ecodes.rename(columns={0: 'ecode', 1: 'EventIndex'})"
   ]
  },
  {
   "cell_type": "code",
   "execution_count": null,
   "metadata": {
    "collapsed": false
   },
   "outputs": [],
   "source": [
    "# different stimulations 1 to 8 according to the boundary edges\n",
    "edges = [(300,400), (650,750), (950,1050), (1300,1400), (1600,1700), (1950,2050), (2250,2350), (2600,2700), (2900,3000)]\n",
    "stims_ecode = np.empty((9,),dtype=object)\n",
    "\n",
    "for i,edge in enumerate(edges):\n",
    "    lower,upper = edge\n",
    "    stims_ecode[i]= df_ecodes[(df_ecodes['ecode'] >= lower) & (df_ecodes['ecode'] <= upper)]\n",
    "\n",
    "# getting data from all channels\n",
    "session = 0\n",
    "chan = np.arange(1,129).tolist()\n",
    "data = asc.get_ECoG(data_path, session, chan)"
   ]
  },
  {
   "cell_type": "code",
   "execution_count": null,
   "metadata": {
    "collapsed": false
   },
   "outputs": [],
   "source": [
    "plt.figure(figsize=(15,3))\n",
    "plt.plot(np.diff(np.array(stims_ecode[4]['EventIndex'])))"
   ]
  },
  {
   "cell_type": "code",
   "execution_count": null,
   "metadata": {
    "collapsed": false
   },
   "outputs": [],
   "source": [
    "# because the length is different, making sure each window is 2000\n",
    "def make_lfpca(data, stim_ecode, fs, a=0, b=2, n_fft=2000, f_lim=200):\n",
    "    \n",
    "    n_chans = data.shape[0]\n",
    "    \n",
    "    # locations of where the differences occur\n",
    "    diff_inds = list(np.where(np.diff(np.array(stim_ecode['EventIndex'])) != 1)[0]+1)    \n",
    "\n",
    "    #initialize\n",
    "    start_ind = None\n",
    "    end_ind = None\n",
    "\n",
    "    stimdata = data[:,stim_ecode['EventIndex']]\n",
    "    # 128 channels, all the windows, 2000 in each windows\n",
    "    f_axis = np.fft.fftfreq(n_fft, 1./fs)\n",
    "    f_axis = f_axis[:np.where(np.abs(f_axis)>f_lim)[0][0]]\n",
    "    vg_psd = np.empty((n_chans, len(f_axis), len(diff_inds)),object)\n",
    "    vg_ft = np.empty((n_chans, len(f_axis), len(diff_inds)),object)\n",
    "    \n",
    "    # for every start index, we grab out the chunck \n",
    "    for idx, new_start_ind in enumerate(diff_inds):\n",
    "        # setting the indices of start and end for which we want\n",
    "        if new_start_ind == diff_inds[0]:\n",
    "            start_ind = 0\n",
    "            end_ind = new_start_ind\n",
    "        elif new_start_ind == diff_inds[-1]:\n",
    "            start_ind = new_start_ind\n",
    "            end_ind = len(stim_ecode['ecode'])\n",
    "        else:\n",
    "            start_ind = diff_inds[idx-1]\n",
    "            end_ind = new_start_ind\n",
    "        inds = stim_ecode['EventIndex'][start_ind:end_ind]\n",
    "        win = sp.signal.windows.hamming(len(inds)) # applies a hamming window\n",
    "        \n",
    "        data_trial = data[:,inds]*win[np.newaxis, :]\n",
    "        data_trial = data_trial[:, int(a*fs):int(b*fs)]\n",
    "        ft = np.fft.fft(data_trial, n=n_fft, axis=1, norm='ortho')[:,:len(f_axis)]\n",
    "        psd = np.abs(ft)**2.\n",
    "        vg_ft[:,:,idx] = ft\n",
    "        vg_psd[:,:,idx] = psd\n",
    "    \n",
    "    return f_axis, vg_psd, vg_ft\n",
    "        \n"
   ]
  },
  {
   "cell_type": "code",
   "execution_count": null,
   "metadata": {
    "collapsed": false
   },
   "outputs": [],
   "source": [
    "fs = 1000\n",
    "f_axis, vg_psd, vg_ft = make_lfpca(data, stims_ecode[1], fs)\n",
    "plt.loglog(f_axis, vg_psd[0,:,:].mean(axis=1))\n",
    "\n",
    "analysis_param = {'nperseg': 0,\n",
    "                  'noverlap': 0,\n",
    "                  'spg_outlierpct': 1.,\n",
    "                  'max_freq': 200}\n",
    "\n",
    "vg_lfpca = lfpca.LFPCA(analysis_param)\n",
    "vg_lfpca.populate_fourier_data(vg_psd, fs, f_axis)"
   ]
  },
  {
   "cell_type": "code",
   "execution_count": null,
   "metadata": {
    "collapsed": true
   },
   "outputs": [],
   "source": [
    "# structure for populating the fourier data [chan x frequency x time]\n",
    "# go by the conditions\n",
    "fs = 1000\n",
    "vg_lfpca_all = np.empty((9,), object)\n",
    "for ind, stim_ecode in enumerate(stims_ecode):\n",
    "    f_axis, vg_psd, vg_ft = make_lfpca(data, stims_ecode, fs)\n",
    "    plt.loglog(f_axis, vg_psd[0,:,:].mean(axis=1))\n",
    "\n",
    "    analysis_param = {'nperseg': 0,\n",
    "                      'noverlap': 0,\n",
    "                      'spg_outlierpct': 1.,\n",
    "                      'max_freq': 200}\n",
    "\n",
    "    vg_lfpca = lfpca.LFPCA(analysis_param)\n",
    "    vg_lfpca_all[ind] = vg_lfpca.populate_fourier_data(vg_psd, fs, f_axis)\n",
    "    \n",
    "saveout_path = \"../results/nt_vg/\"\n",
    "for ind, lf in enumerate(vg_lfpca_all):\n",
    "    # compute fit\n",
    "    lf.compute_KS_expfit()\n",
    "    # save out LFPCA         \n",
    "    lf.save_spec_vars(subj_path+save_files[ind]+'.npz', save_spg=True)"
   ]
  },
  {
   "cell_type": "code",
   "execution_count": null,
   "metadata": {
    "collapsed": false
   },
   "outputs": [],
   "source": [
    "saveout_path = \"../results/nt_vg/\"\n",
    "lfpca_files = sorted([f for f in os.listdir(saveout_path) if 'lfpca_' in f])"
   ]
  },
  {
   "cell_type": "markdown",
   "metadata": {},
   "source": [
    "### Visualizing the data from the saved"
   ]
  },
  {
   "cell_type": "code",
   "execution_count": null,
   "metadata": {
    "collapsed": false,
    "scrolled": false
   },
   "outputs": [],
   "source": [
    "# visualize by separated conditions\n",
    "lfpca_all = []\n",
    "for f in range(len(lfpca_files)):\n",
    "    nt_lfpca = lfpca.lfpca_load_spec(saveout_path+lfpca_files[f])\n",
    "    lfpca_all.append(nt_lfpca)\n",
    "    plt.figure(figsize=(15,4))\n",
    "    nt_lfpca.plot_spectral(plot_mean=False)\n",
    "    plt.subplot(1,3,1)\n",
    "    plt.ylabel(lfpca_files[f][9:-4], fontsize=20)"
   ]
  },
  {
   "cell_type": "code",
   "execution_count": null,
   "metadata": {
    "collapsed": true
   },
   "outputs": [],
   "source": []
  },
  {
   "cell_type": "markdown",
   "metadata": {},
   "source": [
    "#### Data Information\n",
    "**Visual Grating Task**\n",
    "> Monkey was sitting with head fixed. His arm motion was also restrained. \n",
    "ECoG data and eye position were recorded. There was a monitor in front of the monkey. \n",
    "Grating pattern that moves in eight direction was presented on the screen. \n",
    "There was no fixation required. Blank and stimulus pattern were switched alternatively every 2 sec. \n",
    "Stimulus events can be decoded from 129th channel by analog value. \n",
    "ECoG data were sampled at 1KHz.\n",
    "\n",
    "* Data Format\n",
    "\n",
    "    A. ECoG_chN.mat\n",
    "        ECoGData_chN: ECoG signal (μV) recorded from electrodeN (1‐128), sampled at 1kHZ.\n",
    "        The Location of electrode is documented in \"K2.png\".\n",
    "\n",
    "    B. ECoG_time.mat\n",
    "        ECoGTime: ECoGTime is a one row-vector contains Time-stamps with the same length as ECoGData_chN.\n",
    "\n",
    "    C. Event.mat\n",
    "        EventData: EventData is a one row-vector contains analog input.\n",
    "        -Analog input format\n",
    "      Ain indicates event time.\n",
    "      [   0- 100] : preparation time before experiment\n",
    "      [ 300- 400] : ITI\n",
    "      [ 650- 750] : Stimulus 1 ( 45 degree)\n",
    "      [ 950-1050] : Stimulus 2 ( 90 degree)\n",
    "      [1300-1400] : Stimulus 3 (135 degree)\n",
    "      [1600-1700] : Stimulus 4 (180 degree)\n",
    "      [1950-2050] : Stimulus 5 (225 degree)\n",
    "      [2250-2350] : Stimulus 6 (270 degree)\n",
    "      [2600-2700] : Stimulus 7 (315 degree)\n",
    "      [2900-3000] : Stimulus 8 (360 degree)\n",
    "\n",
    "    EventTime: EventTime is a one row-vector contains corresponding time-stamp."
   ]
  },
  {
   "cell_type": "code",
   "execution_count": null,
   "metadata": {
    "collapsed": true
   },
   "outputs": [],
   "source": []
  }
 ],
 "metadata": {
  "kernelspec": {
   "display_name": "Python 3",
   "language": "python",
   "name": "python3"
  },
  "language_info": {
   "codemirror_mode": {
    "name": "ipython",
    "version": 2
   },
   "file_extension": ".py",
   "mimetype": "text/x-python",
   "name": "python",
   "nbconvert_exporter": "python",
   "pygments_lexer": "ipython2",
   "version": "2.7.13"
  }
 },
 "nbformat": 4,
 "nbformat_minor": 2
}
