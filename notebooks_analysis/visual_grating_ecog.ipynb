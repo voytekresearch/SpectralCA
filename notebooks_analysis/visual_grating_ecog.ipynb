{
 "cells": [
  {
   "cell_type": "markdown",
   "metadata": {},
   "source": [
    "# NeuroTycho Visual Grating"
   ]
  },
  {
   "cell_type": "code",
   "execution_count": null,
   "metadata": {
    "collapsed": true
   },
   "outputs": [],
   "source": [
    "import sys\n",
    "sys.path.append('/Users/Lauren/Voytek/spectralCV')"
   ]
  },
  {
   "cell_type": "code",
   "execution_count": null,
   "metadata": {
    "collapsed": true
   },
   "outputs": [],
   "source": [
    "%matplotlib inline\n",
    "\n",
    "# imports\n",
    "from scv_funcs import access_nt as asc\n",
    "import numpy as np\n",
    "import scipy as sp\n",
    "import scipy.io as io\n",
    "import scipy.signal as sig\n",
    "import matplotlib.pyplot as plt\n",
    "import h5py\n",
    "\n",
    "import neurodsp as ndsp\n",
    "from fooof import FOOOFGroup\n",
    "from scv_funcs import lfpca"
   ]
  },
  {
   "cell_type": "markdown",
   "metadata": {},
   "source": [
    "### Accessing data and creating lfpca objects"
   ]
  },
  {
   "cell_type": "code",
   "execution_count": null,
   "metadata": {
    "collapsed": true
   },
   "outputs": [],
   "source": [
    "# getting data\n",
    "# data_path = \"/Users/Lauren/Data/NeuroTycho/VisualGrating/20100723S1_VGT_K2_KazuhitoTakenaka-ToruYanagawa_mat_ECoG128-Event3/\"\n",
    "data_path = \"/Volumes/VLABB/Neurotycho/VisualGrating/20100723S1_VGT_K2_KazuhitoTakenaka-ToruYanagawa_mat_ECoG128-Event3/\"\n",
    "# setting event data into pandas dataframe\n",
    "matfile = io.loadmat(data_path + 'Event.mat', squeeze_me=True)\n",
    "EventData = matfile['EventData']\n",
    "EventIndex = matfile['EventIndex']\n",
    "\n",
    "df = pd.DataFrame(data = [EventData, EventIndex]).T\n",
    "df = df.rename(columns={0: 'EventData', 1: 'EventIndex'})"
   ]
  },
  {
   "cell_type": "code",
   "execution_count": null,
   "metadata": {
    "collapsed": true
   },
   "outputs": [],
   "source": [
    "# blanks\n",
    "ITI = df[(df['EventData'] > 300) & (df['EventData'] < 400)]\n",
    "\n",
    "# different stimulations 1 to 8 according to the boundary edges\n",
    "edges = [(650,750), (950,1050), (1300,1400), (1600,1700), (1950,2050), (2250,2350), (2600,2700), (2900,3000)]\n",
    "stims = np.empty((8,),dtype=object)\n",
    "for i,edge in enumerate(edges):\n",
    "    lower = edge[0]\n",
    "    upper = edge[1]\n",
    "    stims[i]= df[(df['EventData'] > lower) & (df['EventData'] < upper)]\n",
    "    \n",
    "# getting session data\n",
    "session = 0\n",
    "chan = np.arange(1,129).tolist()\n",
    "# chan = [1]\n",
    "data = asc.get_ECoG(data_path, session, chan)\n",
    "\n",
    "# ITI blank data\n",
    "ITIdata = np.vstack((data[0][ITI['EventIndex']], data[1][ITI['EventIndex']]))\n",
    "for c in range(2,128):\n",
    "    ITIdata = np.vstack((ITIdata, data[c][ITI['EventIndex']]))"
   ]
  },
  {
   "cell_type": "code",
   "execution_count": null,
   "metadata": {
    "collapsed": true
   },
   "outputs": [],
   "source": [
    "# example of using LFPCA\n",
    "fs = 1000\n",
    "analysis_param = {'nperseg': 1000,\n",
    "                  'noverlap': 0,\n",
    "                  'spg_outlierpct': 2.,\n",
    "                  'max_freq':200}\n",
    "\n",
    "vg_lfpca = lfpca.LFPCA(analysis_param)\n",
    "vg_lfpca.populate_ts_data(ITIdata, fs)\n",
    "vg_lfpca_objs[8] = vg_lfpca"
   ]
  },
  {
   "cell_type": "code",
   "execution_count": null,
   "metadata": {
    "collapsed": true
   },
   "outputs": [],
   "source": [
    "# different stim data\n",
    "def get_stimdata(data, num):\n",
    "    stimdata = None\n",
    "    stimdata = np.vstack((data[0][stims[num]['EventIndex']], data[1][stims[num]['EventIndex']]))\n",
    "    for c in range(2,128):\n",
    "        stimdata = np.vstack((stimdata, data[c][stims[num]['EventIndex']]))\n",
    "    return stimdata\n",
    "\n",
    "session_labels = np.arange(0,8).tolist()\n",
    "\n",
    "for i in session_labels:\n",
    "    stimdata = get_stimdata(data, i)\n",
    "    # initialize object with data and parameters\n",
    "    vg_lfpca = lfpca.LFPCA(analysis_param)\n",
    "    print(i)\n",
    "    vg_lfpca.populate_ts_data(stimdata, fs)\n",
    "    # compute all spectral attributes\n",
    "    vg_lfpca.compute_all_spectral()\n",
    "    vg_lfpca_objs[i] = vg_lfpca"
   ]
  },
  {
   "cell_type": "code",
   "execution_count": null,
   "metadata": {
    "collapsed": true
   },
   "outputs": [],
   "source": [
    "saveout_path = \"../results/nt_vg/\"\n",
    "lfpca_files = sorted([f for f in os.listdir(saveout_path) if 'lfpca_' in f])"
   ]
  },
  {
   "cell_type": "markdown",
   "metadata": {},
   "source": [
    "### Visualizing the data from the saved"
   ]
  },
  {
   "cell_type": "code",
   "execution_count": null,
   "metadata": {
    "collapsed": true
   },
   "outputs": [],
   "source": [
    "# visualize by separated conditions\n",
    "lfpca_all = []\n",
    "for f in range(len(lfpca_files)):\n",
    "    nt_lfpca = lfpca.lfpca_load_spec(saveout_path+lfpca_files[f])\n",
    "    lfpca_all.append(nt_lfpca)\n",
    "    plt.figure(figsize=(15,4))\n",
    "    nt_lfpca.plot_spectral(plot_mean=False)\n",
    "    plt.subplot(1,4,1)\n",
    "    plt.ylabel(lfpca_files[f][9:-4], fontsize=20)"
   ]
  },
  {
   "cell_type": "code",
   "execution_count": null,
   "metadata": {
    "collapsed": true
   },
   "outputs": [],
   "source": []
  },
  {
   "cell_type": "markdown",
   "metadata": {},
   "source": [
    "#### Data Information\n",
    "**Visual Grating Task**\n",
    "> Monkey was sitting with head fixed. His arm motion was also restrained. \n",
    "ECoG data and eye position were recorded. There was a monitor in front of the monkey. \n",
    "Grating pattern that moves in eight direction was presented on the screen. \n",
    "There was no fixation required. Blank and stimulus pattern were switched alternatively every 2 sec. \n",
    "Stimulus events can be decoded from 129th channel by analog value. \n",
    "ECoG data were sampled at 1KHz.\n",
    "\n",
    "* Data Format\n",
    "\n",
    "    A. ECoG_chN.mat\n",
    "        ECoGData_chN: ECoG signal (μV) recorded from electrodeN (1‐128), sampled at 1kHZ.\n",
    "        The Location of electrode is documented in \"K2.png\".\n",
    "\n",
    "    B. ECoG_time.mat\n",
    "        ECoGTime: ECoGTime is a one row-vector contains Time-stamps with the same length as ECoGData_chN.\n",
    "\n",
    "    C. Event.mat\n",
    "        EventData: EventData is a one row-vector contains analog input.\n",
    "        -Analog input format\n",
    "      Ain indicates event time.\n",
    "      [   0- 100] : preparation time before experiment\n",
    "      [ 300- 400] : ITI\n",
    "      [ 650- 750] : Stimulus 1 ( 45 degree)\n",
    "      [ 950-1050] : Stimulus 2 ( 90 degree)\n",
    "      [1300-1400] : Stimulus 3 (135 degree)\n",
    "      [1600-1700] : Stimulus 4 (180 degree)\n",
    "      [1950-2050] : Stimulus 5 (225 degree)\n",
    "      [2250-2350] : Stimulus 6 (270 degree)\n",
    "      [2600-2700] : Stimulus 7 (315 degree)\n",
    "      [2900-3000] : Stimulus 8 (360 degree)\n",
    "\n",
    "    EventTime: EventTime is a one row-vector contains corresponding time-stamp."
   ]
  }
 ],
 "metadata": {
  "kernelspec": {
   "display_name": "Python [conda env:py36]",
   "language": "python",
   "name": "conda-env-py36-py"
  }
 },
 "nbformat": 4,
 "nbformat_minor": 2
}
