{
 "cells": [
  {
   "cell_type": "markdown",
   "metadata": {},
   "source": [
    "# NeuroTycho Visual Grating"
   ]
  },
  {
   "cell_type": "code",
   "execution_count": 1,
   "metadata": {
    "collapsed": true
   },
   "outputs": [],
   "source": [
    "import sys\n",
    "sys.path.append('/Users/SP/code/spectralCV')"
   ]
  },
  {
   "cell_type": "code",
   "execution_count": 2,
   "metadata": {
    "collapsed": false
   },
   "outputs": [],
   "source": [
    "%matplotlib inline\n",
    "\n",
    "# imports\n",
    "from scv_funcs import access_nt as asc\n",
    "import numpy as np\n",
    "import scipy as sp\n",
    "import scipy.io as io\n",
    "import scipy.signal as sig\n",
    "import matplotlib.pyplot as plt\n",
    "import pandas as pd\n",
    "import h5py\n",
    "import os\n",
    "\n",
    "import neurodsp as ndsp\n",
    "# from fooof import FOOOFGroup\n",
    "from scv_funcs import lfpca"
   ]
  },
  {
   "cell_type": "markdown",
   "metadata": {},
   "source": [
    "### Accessing data and creating lfpca objects"
   ]
  },
  {
   "cell_type": "code",
   "execution_count": 3,
   "metadata": {
    "collapsed": false
   },
   "outputs": [],
   "source": [
    "# getting data\n",
    "# data_path = \"/Users/Lauren/Data/NeuroTycho/VisualGrating/20100723S1_VGT_K2_KazuhitoTakenaka-ToruYanagawa_mat_ECoG128-Event3/\"\n",
    "data_path = \"/Users/SP/Documents/02-Data/Neurotycho/VisualGrating/20100723S1_VGT_K2_KazuhitoTakenaka-ToruYanagawa_mat_ECoG128-Event3/\"\n",
    "# setting event data into pandas dataframe\n",
    "matfile = io.loadmat(data_path + 'Event.mat', squeeze_me=True)\n",
    "EventData = matfile['EventData']\n",
    "EventIndex = matfile['EventIndex']\n",
    "\n",
    "df_ecodes = pd.DataFrame(data=[EventData, EventIndex]).T\n",
    "df_ecodes = df_ecodes.rename(columns={0: 'ecode', 1: 'EventIndex'})"
   ]
  },
  {
   "cell_type": "code",
   "execution_count": 13,
   "metadata": {
    "collapsed": false
   },
   "outputs": [],
   "source": [
    "# different stimulations 1 to 8 according to the boundary edges\n",
    "edges = [(300,400), (650,750), (950,1050), (1300,1400), (1600,1700), (1950,2050), (2250,2350), (2600,2700), (2900,3000)]\n",
    "stims_ecode = np.empty((9,),dtype=object)\n",
    "\n",
    "for i,edge in enumerate(edges):\n",
    "    lower = edge[0]\n",
    "    upper = edge[1]\n",
    "    stims_ecode[i]= df_ecodes[(df_ecodes['ecode'] > lower) & (df_ecodes['ecode'] < upper)]\n",
    "\n",
    "# getting data from all channels\n",
    "session = 0\n",
    "chan = np.arange(1,129).tolist()\n",
    "data = asc.get_ECoG(data_path, session, chan)"
   ]
  },
  {
   "cell_type": "code",
   "execution_count": 5,
   "metadata": {
    "collapsed": false
   },
   "outputs": [
    {
     "data": {
      "text/plain": [
       "[<matplotlib.lines.Line2D at 0x11cafd490>]"
      ]
     },
     "execution_count": 5,
     "metadata": {},
     "output_type": "execute_result"
    },
    {
     "data": {
      "image/png": "[encoded data removed]",
      "text/plain": [
       "<matplotlib.figure.Figure at 0x11522ca50>"
      ]
     },
     "metadata": {},
     "output_type": "display_data"
    }
   ],
   "source": [
    "plt.figure(figsize=(15,3))\n",
    "plt.plot(np.diff(np.array(stims_ecode[1]['EventIndex'])))"
   ]
  },
  {
   "cell_type": "code",
   "execution_count": 6,
   "metadata": {
    "collapsed": false
   },
   "outputs": [],
   "source": [
    "import pdb"
   ]
  },
  {
   "cell_type": "code",
   "execution_count": 9,
   "metadata": {
    "collapsed": true
   },
   "outputs": [],
   "source": [
    "# getting the data from each stim lookup table in event data code\n",
    "def get_stimdata(data, stim_ecode):\n",
    "    stimdata = None\n",
    "    np\n",
    "    stimdata = np.vstack((data[0][stim_ecode['EventIndex']], data[1][stim_ecode['EventIndex']]))\n",
    "    for c in range(2,128):\n",
    "        stimdata = np.vstack((stimdata, data[c][stim_ecode['EventIndex']]))\n",
    "    return stimdata"
   ]
  },
  {
   "cell_type": "code",
   "execution_count": 75,
   "metadata": {
    "collapsed": false
   },
   "outputs": [
    {
     "name": "stdout",
     "output_type": "stream",
     "text": [
      "--Return--\n",
      "> <ipython-input-73-df167a4de0b7>(35)make_lfpca()->None\n",
      "-> pdb.set_trace()\n",
      "(Pdb) vg_fft.shape\n",
      "(128, 19)\n",
      "(Pdb) vg_fft[0]\n",
      "array([ array([  1.81813612e+08,   5.00365546e+08,   3.64784708e+07, ...,\n",
      "         1.11640250e+08,   3.64784708e+07,   5.00365546e+08]),\n",
      "       array([  2.16774967e+09,   1.22750158e+08,   5.82376572e+08, ...,\n",
      "         9.90397255e+08,   5.82376572e+08,   1.22750158e+08]),\n",
      "       array([  5.64278351e+08,   1.74267321e+09,   3.82608559e+08, ...,\n",
      "         2.29907300e+08,   3.82608559e+08,   1.74267321e+09]),\n",
      "       array([  1.35156290e+10,   1.37073417e+10,   6.04986131e+09, ...,\n",
      "         1.19796389e+09,   6.04986131e+09,   1.37073417e+10]),\n",
      "       array([  4.01778291e+08,   3.19231456e+09,   1.49303341e+09, ...,\n",
      "         2.76421705e+08,   1.49303341e+09,   3.19231456e+09]),\n",
      "       array([  7.92637383e+08,   3.00423274e+08,   1.86853231e+08, ...,\n",
      "         5.62924699e+07,   1.86853231e+08,   3.00423274e+08]),\n",
      "       array([  3.90198110e+09,   4.22972502e+09,   8.46804504e+08, ...,\n",
      "         1.17764740e+07,   8.46804504e+08,   4.22972502e+09]),\n",
      "       array([  3.63393588e+09,   1.60750013e+09,   3.23535729e+08, ...,\n",
      "         4.72027624e+08,   3.23535729e+08,   1.60750013e+09]),\n",
      "       array([  3.15577714e+09,   2.45383255e+09,   1.21552548e+09, ...,\n",
      "         3.81872879e+08,   1.21552548e+09,   2.45383255e+09]),\n",
      "       array([  3.60758606e+09,   2.56352539e+09,   1.86567155e+07, ...,\n",
      "         7.88364917e+07,   1.86567155e+07,   2.56352539e+09]),\n",
      "       array([  1.59720976e+08,   2.61619726e+08,   2.33631819e+06, ...,\n",
      "         2.43079482e+07,   2.33631819e+06,   2.61619726e+08]),\n",
      "       array([  1.12061774e+10,   5.41938322e+09,   8.48773385e+08, ...,\n",
      "         2.09139020e+07,   8.48773385e+08,   5.41938322e+09]),\n",
      "       array([  5.82954698e+08,   2.59179971e+09,   1.96519159e+08, ...,\n",
      "         2.03161619e+08,   1.96519159e+08,   2.59179971e+09]),\n",
      "       array([  1.34497076e+10,   2.41297400e+09,   4.59657862e+08, ...,\n",
      "         2.56354117e+08,   4.59657862e+08,   2.41297400e+09]),\n",
      "       array([  2.97491893e+10,   4.97691478e+09,   2.05315280e+08, ...,\n",
      "         5.82921418e+08,   2.05315280e+08,   4.97691478e+09]),\n",
      "       array([  4.85136022e+08,   3.16673129e+09,   2.58648067e+08, ...,\n",
      "         1.26075926e+09,   2.58648067e+08,   3.16673129e+09]),\n",
      "       array([  1.14263154e+09,   2.95916439e+09,   1.85968914e+09, ...,\n",
      "         1.05844803e+09,   1.85968914e+09,   2.95916439e+09]),\n",
      "       array([  8.40551023e+09,   5.37285754e+09,   9.93315505e+08, ...,\n",
      "         7.92474636e+07,   9.93315505e+08,   5.37285754e+09]),\n",
      "       array([  5.62291657e+07,   6.93595647e+06,   2.89501839e+08, ...,\n",
      "         3.79279369e+08,   2.89501839e+08,   6.93595647e+06])], dtype=object)\n",
      "(Pdb) vg_fft[0].shape\n",
      "(19,)\n",
      "(Pdb) vg_fft[0][1].shape\n",
      "(2000,)\n",
      "(Pdb) np.ravel(vg_fft[0])\n",
      "array([ array([  1.81813612e+08,   5.00365546e+08,   3.64784708e+07, ...,\n",
      "         1.11640250e+08,   3.64784708e+07,   5.00365546e+08]),\n",
      "       array([  2.16774967e+09,   1.22750158e+08,   5.82376572e+08, ...,\n",
      "         9.90397255e+08,   5.82376572e+08,   1.22750158e+08]),\n",
      "       array([  5.64278351e+08,   1.74267321e+09,   3.82608559e+08, ...,\n",
      "         2.29907300e+08,   3.82608559e+08,   1.74267321e+09]),\n",
      "       array([  1.35156290e+10,   1.37073417e+10,   6.04986131e+09, ...,\n",
      "         1.19796389e+09,   6.04986131e+09,   1.37073417e+10]),\n",
      "       array([  4.01778291e+08,   3.19231456e+09,   1.49303341e+09, ...,\n",
      "         2.76421705e+08,   1.49303341e+09,   3.19231456e+09]),\n",
      "       array([  7.92637383e+08,   3.00423274e+08,   1.86853231e+08, ...,\n",
      "         5.62924699e+07,   1.86853231e+08,   3.00423274e+08]),\n",
      "       array([  3.90198110e+09,   4.22972502e+09,   8.46804504e+08, ...,\n",
      "         1.17764740e+07,   8.46804504e+08,   4.22972502e+09]),\n",
      "       array([  3.63393588e+09,   1.60750013e+09,   3.23535729e+08, ...,\n",
      "         4.72027624e+08,   3.23535729e+08,   1.60750013e+09]),\n",
      "       array([  3.15577714e+09,   2.45383255e+09,   1.21552548e+09, ...,\n",
      "         3.81872879e+08,   1.21552548e+09,   2.45383255e+09]),\n",
      "       array([  3.60758606e+09,   2.56352539e+09,   1.86567155e+07, ...,\n",
      "         7.88364917e+07,   1.86567155e+07,   2.56352539e+09]),\n",
      "       array([  1.59720976e+08,   2.61619726e+08,   2.33631819e+06, ...,\n",
      "         2.43079482e+07,   2.33631819e+06,   2.61619726e+08]),\n",
      "       array([  1.12061774e+10,   5.41938322e+09,   8.48773385e+08, ...,\n",
      "         2.09139020e+07,   8.48773385e+08,   5.41938322e+09]),\n",
      "       array([  5.82954698e+08,   2.59179971e+09,   1.96519159e+08, ...,\n",
      "         2.03161619e+08,   1.96519159e+08,   2.59179971e+09]),\n",
      "       array([  1.34497076e+10,   2.41297400e+09,   4.59657862e+08, ...,\n",
      "         2.56354117e+08,   4.59657862e+08,   2.41297400e+09]),\n",
      "       array([  2.97491893e+10,   4.97691478e+09,   2.05315280e+08, ...,\n",
      "         5.82921418e+08,   2.05315280e+08,   4.97691478e+09]),\n",
      "       array([  4.85136022e+08,   3.16673129e+09,   2.58648067e+08, ...,\n",
      "         1.26075926e+09,   2.58648067e+08,   3.16673129e+09]),\n",
      "       array([  1.14263154e+09,   2.95916439e+09,   1.85968914e+09, ...,\n",
      "         1.05844803e+09,   1.85968914e+09,   2.95916439e+09]),\n",
      "       array([  8.40551023e+09,   5.37285754e+09,   9.93315505e+08, ...,\n",
      "         7.92474636e+07,   9.93315505e+08,   5.37285754e+09]),\n",
      "       array([  5.62291657e+07,   6.93595647e+06,   2.89501839e+08, ...,\n",
      "         3.79279369e+08,   2.89501839e+08,   6.93595647e+06])], dtype=object)\n",
      "(Pdb) vg_fft[0][1].shape\n",
      "(2000,)\n",
      "(Pdb) vg_fft[0][1][1].shape\n",
      "()\n",
      "(Pdb) vg_fft[0][1].shape\n",
      "(2000,)\n",
      "(Pdb) q\n"
     ]
    },
    {
     "ename": "BdbQuit",
     "evalue": "",
     "output_type": "error",
     "traceback": [
      "\u001b[0;31m---------------------------------------------------------------------------\u001b[0m",
      "\u001b[0;31mBdbQuit\u001b[0m                                   Traceback (most recent call last)",
      "\u001b[0;32m<ipython-input-75-cb1136f51337>\u001b[0m in \u001b[0;36m<module>\u001b[0;34m()\u001b[0m\n\u001b[1;32m      1\u001b[0m \u001b[0mfs\u001b[0m \u001b[0;34m=\u001b[0m \u001b[0;36m2000\u001b[0m\u001b[0;34m\u001b[0m\u001b[0m\n\u001b[0;32m----> 2\u001b[0;31m \u001b[0mmake_lfpca\u001b[0m\u001b[0;34m(\u001b[0m\u001b[0mdata\u001b[0m\u001b[0;34m,\u001b[0m \u001b[0mstims_ecode\u001b[0m\u001b[0;34m[\u001b[0m\u001b[0;36m1\u001b[0m\u001b[0;34m]\u001b[0m\u001b[0;34m,\u001b[0m \u001b[0mfs\u001b[0m\u001b[0;34m)\u001b[0m\u001b[0;34m\u001b[0m\u001b[0m\n\u001b[0m",
      "\u001b[0;32m<ipython-input-73-df167a4de0b7>\u001b[0m in \u001b[0;36mmake_lfpca\u001b[0;34m(data, stim_ecode, fs, chans)\u001b[0m\n\u001b[1;32m     33\u001b[0m             \u001b[0mvg_fft\u001b[0m\u001b[0;34m[\u001b[0m\u001b[0mchan\u001b[0m\u001b[0;34m]\u001b[0m\u001b[0;34m[\u001b[0m\u001b[0midx\u001b[0m\u001b[0;34m]\u001b[0m \u001b[0;34m=\u001b[0m \u001b[0mnp\u001b[0m\u001b[0;34m.\u001b[0m\u001b[0mabs\u001b[0m\u001b[0;34m(\u001b[0m\u001b[0mnp\u001b[0m\u001b[0;34m.\u001b[0m\u001b[0mfft\u001b[0m\u001b[0;34m.\u001b[0m\u001b[0mfft\u001b[0m\u001b[0;34m(\u001b[0m\u001b[0mchan_data\u001b[0m\u001b[0;34m,\u001b[0m \u001b[0mn\u001b[0m\u001b[0;34m=\u001b[0m\u001b[0mint\u001b[0m\u001b[0;34m(\u001b[0m\u001b[0mfs\u001b[0m\u001b[0;34m)\u001b[0m\u001b[0;34m)\u001b[0m\u001b[0;34m)\u001b[0m\u001b[0;34m**\u001b[0m\u001b[0;36m2.\u001b[0m\u001b[0;34m\u001b[0m\u001b[0m\n\u001b[1;32m     34\u001b[0m \u001b[0;34m\u001b[0m\u001b[0m\n\u001b[0;32m---> 35\u001b[0;31m     \u001b[0mpdb\u001b[0m\u001b[0;34m.\u001b[0m\u001b[0mset_trace\u001b[0m\u001b[0;34m(\u001b[0m\u001b[0;34m)\u001b[0m\u001b[0;34m\u001b[0m\u001b[0m\n\u001b[0m\u001b[1;32m     36\u001b[0m \u001b[0;31m#             f_axis = np.fft.fftfreq(int(fs), 1/fs)\u001b[0m\u001b[0;34m\u001b[0m\u001b[0;34m\u001b[0m\u001b[0m\n\u001b[1;32m     37\u001b[0m \u001b[0;34m\u001b[0m\u001b[0m\n",
      "\u001b[0;32m/Users/SP/anaconda/lib/python2.7/bdb.pyc\u001b[0m in \u001b[0;36mtrace_dispatch\u001b[0;34m(self, frame, event, arg)\u001b[0m\n\u001b[1;32m     51\u001b[0m             \u001b[0;32mreturn\u001b[0m \u001b[0mself\u001b[0m\u001b[0;34m.\u001b[0m\u001b[0mdispatch_call\u001b[0m\u001b[0;34m(\u001b[0m\u001b[0mframe\u001b[0m\u001b[0;34m,\u001b[0m \u001b[0marg\u001b[0m\u001b[0;34m)\u001b[0m\u001b[0;34m\u001b[0m\u001b[0m\n\u001b[1;32m     52\u001b[0m         \u001b[0;32mif\u001b[0m \u001b[0mevent\u001b[0m \u001b[0;34m==\u001b[0m \u001b[0;34m'return'\u001b[0m\u001b[0;34m:\u001b[0m\u001b[0;34m\u001b[0m\u001b[0m\n\u001b[0;32m---> 53\u001b[0;31m             \u001b[0;32mreturn\u001b[0m \u001b[0mself\u001b[0m\u001b[0;34m.\u001b[0m\u001b[0mdispatch_return\u001b[0m\u001b[0;34m(\u001b[0m\u001b[0mframe\u001b[0m\u001b[0;34m,\u001b[0m \u001b[0marg\u001b[0m\u001b[0;34m)\u001b[0m\u001b[0;34m\u001b[0m\u001b[0m\n\u001b[0m\u001b[1;32m     54\u001b[0m         \u001b[0;32mif\u001b[0m \u001b[0mevent\u001b[0m \u001b[0;34m==\u001b[0m \u001b[0;34m'exception'\u001b[0m\u001b[0;34m:\u001b[0m\u001b[0;34m\u001b[0m\u001b[0m\n\u001b[1;32m     55\u001b[0m             \u001b[0;32mreturn\u001b[0m \u001b[0mself\u001b[0m\u001b[0;34m.\u001b[0m\u001b[0mdispatch_exception\u001b[0m\u001b[0;34m(\u001b[0m\u001b[0mframe\u001b[0m\u001b[0;34m,\u001b[0m \u001b[0marg\u001b[0m\u001b[0;34m)\u001b[0m\u001b[0;34m\u001b[0m\u001b[0m\n",
      "\u001b[0;32m/Users/SP/anaconda/lib/python2.7/bdb.pyc\u001b[0m in \u001b[0;36mdispatch_return\u001b[0;34m(self, frame, arg)\u001b[0m\n\u001b[1;32m     89\u001b[0m             \u001b[0;32mfinally\u001b[0m\u001b[0;34m:\u001b[0m\u001b[0;34m\u001b[0m\u001b[0m\n\u001b[1;32m     90\u001b[0m                 \u001b[0mself\u001b[0m\u001b[0;34m.\u001b[0m\u001b[0mframe_returning\u001b[0m \u001b[0;34m=\u001b[0m \u001b[0mNone\u001b[0m\u001b[0;34m\u001b[0m\u001b[0m\n\u001b[0;32m---> 91\u001b[0;31m             \u001b[0;32mif\u001b[0m \u001b[0mself\u001b[0m\u001b[0;34m.\u001b[0m\u001b[0mquitting\u001b[0m\u001b[0;34m:\u001b[0m \u001b[0;32mraise\u001b[0m \u001b[0mBdbQuit\u001b[0m\u001b[0;34m\u001b[0m\u001b[0m\n\u001b[0m\u001b[1;32m     92\u001b[0m         \u001b[0;32mreturn\u001b[0m \u001b[0mself\u001b[0m\u001b[0;34m.\u001b[0m\u001b[0mtrace_dispatch\u001b[0m\u001b[0;34m\u001b[0m\u001b[0m\n\u001b[1;32m     93\u001b[0m \u001b[0;34m\u001b[0m\u001b[0m\n",
      "\u001b[0;31mBdbQuit\u001b[0m: "
     ]
    }
   ],
   "source": [
    "fs = 2000\n",
    "make_lfpca(data, stims_ecode[1], fs)"
   ]
  },
  {
   "cell_type": "code",
   "execution_count": 73,
   "metadata": {
    "collapsed": false
   },
   "outputs": [],
   "source": [
    "# because the length is different, making sure each window is 2000\n",
    "def make_lfpca(data, stims_ecode, fs, chans=128):\n",
    "    \n",
    "    # go by the conditions\n",
    "    for stim_ecode in stims_ecode:\n",
    "        \n",
    "        # locations of where the differences occur\n",
    "        diff_inds = list(np.where(np.diff(np.array(stim_ecode['EventIndex'])) != 1)[0]+1)    \n",
    "\n",
    "        #initialize\n",
    "        start_ind = None\n",
    "        end_ind = None\n",
    "\n",
    "        stimdata = get_stimdata(data, stim_ecode)\n",
    "\n",
    "        # 128 channels, all the windows, 2000 in each windows\n",
    "        vg_fft = np.empty((chans,len(diff_inds)),object)\n",
    "\n",
    "        # for every start index, we grab out the chunck \n",
    "        for idx, new_start_ind in enumerate(diff_inds):\n",
    "\n",
    "            # setting the indices of start and end for which we want\n",
    "            if new_start_ind == diff_inds[0]:\n",
    "                start_ind = 0\n",
    "                end_ind = new_start_ind\n",
    "            elif new_start_ind == diff_inds[-1]:\n",
    "                start_ind = new_start_ind\n",
    "                end_ind = len(stim_ecode['ecode'])\n",
    "            else:\n",
    "                start_ind = diff_inds[idx-1]\n",
    "                end_ind = new_start_ind\n",
    "\n",
    "            inds = stim_ecode[start_ind:end_ind]\n",
    "            win = sp.signal.windows.hamming(len(inds)) # applies a hamming window\n",
    "            for chan in range(chans):\n",
    "                chan_data = stimdata[chan][start_ind:end_ind]\n",
    "                chan_data = chan_data*win\n",
    "                vg_fft[chan][idx] = np.abs(np.fft.fft(chan_data, n=int(fs)))**2.\n",
    "            \n",
    "    pdb.set_trace()\n",
    "#             f_axis = np.fft.fftfreq(int(fs), 1/fs)            \n",
    "            \n",
    "    # initialize object with fourier data\n",
    "#     analysis_param = {'nperseg': int(fs),\n",
    "#                       'noverlap': 0,\n",
    "#                       'spg_outlierpct': 2.,\n",
    "#                       'max_freq': 200}\n",
    "#     f_axis = np.fft.fftfreq(int(fs))\n",
    "\n",
    "#     vg_lfpca = lfpca.LFPCA(analysis_param)\n",
    "#     vg_lfpca.populate_fourier_data(vg_fft, fs, f_axis[:200])\n",
    "#     return vg_lfpca\n",
    "\n",
    "        \n",
    "        \n",
    "#         x_sel = inds*win[:, np.newaxis]\n",
    "\n",
    "        # precompute per-trial PSD, use n=fs for FFT to get 1Hz spacing\n",
    "#         P = np.abs(np.fft.fft(x_sel, n=int(fs), axis=1))**2.\n",
    "#         f_axis = np.fft.fftfreq(int(fs), 1/fs)\n",
    "\n",
    "        # initialize object with fourier data\n",
    "#         analysis_param = {'nperseg': 1000,\n",
    "#                           'noverlap': 0,\n",
    "#                           'spg_outlierpct': 2.,\n",
    "#                           'max_freq':200}\n",
    "\n",
    "#         vg_lfpca = lfpca.LFPCA(analysis_param)\n",
    "#         vg_lfpca.populate_fourier_data(P[:4,:,:], fs, f_axis[:300])\n",
    "        \n",
    "        \n",
    "#     kh_lfpca = lfpca.LFPCA(analysis_params=analysis_params)\n",
    "#     kh_lfpca.populate_fourier_data(P[:4,:,:], fs, f_axis[:300])"
   ]
  },
  {
   "cell_type": "code",
   "execution_count": null,
   "metadata": {
    "collapsed": false
   },
   "outputs": [],
   "source": [
    "stimdata_all[0][0].shape"
   ]
  },
  {
   "cell_type": "code",
   "execution_count": null,
   "metadata": {
    "collapsed": true
   },
   "outputs": [],
   "source": [
    "# example of using LFPCA\n",
    "\n",
    "analysis_param = {'nperseg': 1000,\n",
    "                  'noverlap': 0,\n",
    "                  'spg_outlierpct': 2.,\n",
    "                  'max_freq':200}\n",
    "\n",
    "vg_lfpca = lfpca.LFPCA(analysis_param)\n",
    "vg_lfpca.populate_ts_data(ITIdata, fs)\n",
    "vg_lfpca_objs[8] = vg_lfpca"
   ]
  },
  {
   "cell_type": "code",
   "execution_count": null,
   "metadata": {
    "collapsed": true
   },
   "outputs": [],
   "source": [
    "stimdata_all = np.empty(8, object)\n",
    "# different stim data\n",
    "def get_stimdata(data, num):\n",
    "    stimdata = None\n",
    "    stimdata = np.vstack((data[0][stims[num]['EventIndex']], data[1][stims[num]['EventIndex']]))\n",
    "    for c in range(2,128):\n",
    "        stimdata = np.vstack((stimdata, data[c][stims[num]['EventIndex']]))\n",
    "    return stimdata\n",
    "\n",
    "session_labels = np.arange(0,8).tolist()\n",
    "\n",
    "for i in session_labels:\n",
    "    stimdata = get_stimdata(data, i)\n",
    "    stimdata_all[i] = stimdata\n",
    "#     # initialize object with data and parameters\n",
    "#     vg_lfpca = lfpca.LFPCA(analysis_param)\n",
    "#     print(i)\n",
    "#     vg_lfpca.populate_ts_data(stimdata, fs)\n",
    "#     # compute all spectral attributes\n",
    "#     vg_lfpca.compute_all_spectral()\n",
    "#     vg_lfpca_objs[i] = vg_lfpca"
   ]
  },
  {
   "cell_type": "code",
   "execution_count": null,
   "metadata": {
    "collapsed": false
   },
   "outputs": [],
   "source": [
    "saveout_path = \"../results/nt_vg/\"\n",
    "lfpca_files = sorted([f for f in os.listdir(saveout_path) if 'lfpca_' in f])"
   ]
  },
  {
   "cell_type": "markdown",
   "metadata": {},
   "source": [
    "### Visualizing the data from the saved"
   ]
  },
  {
   "cell_type": "code",
   "execution_count": null,
   "metadata": {
    "collapsed": false,
    "scrolled": false
   },
   "outputs": [],
   "source": [
    "# visualize by separated conditions\n",
    "lfpca_all = []\n",
    "for f in range(len(lfpca_files)):\n",
    "    nt_lfpca = lfpca.lfpca_load_spec(saveout_path+lfpca_files[f])\n",
    "    lfpca_all.append(nt_lfpca)\n",
    "    plt.figure(figsize=(15,4))\n",
    "    nt_lfpca.plot_spectral(plot_mean=False)\n",
    "    plt.subplot(1,3,1)\n",
    "    plt.ylabel(lfpca_files[f][9:-4], fontsize=20)"
   ]
  },
  {
   "cell_type": "code",
   "execution_count": null,
   "metadata": {
    "collapsed": true
   },
   "outputs": [],
   "source": []
  },
  {
   "cell_type": "markdown",
   "metadata": {},
   "source": [
    "#### Data Information\n",
    "**Visual Grating Task**\n",
    "> Monkey was sitting with head fixed. His arm motion was also restrained. \n",
    "ECoG data and eye position were recorded. There was a monitor in front of the monkey. \n",
    "Grating pattern that moves in eight direction was presented on the screen. \n",
    "There was no fixation required. Blank and stimulus pattern were switched alternatively every 2 sec. \n",
    "Stimulus events can be decoded from 129th channel by analog value. \n",
    "ECoG data were sampled at 1KHz.\n",
    "\n",
    "* Data Format\n",
    "\n",
    "    A. ECoG_chN.mat\n",
    "        ECoGData_chN: ECoG signal (μV) recorded from electrodeN (1‐128), sampled at 1kHZ.\n",
    "        The Location of electrode is documented in \"K2.png\".\n",
    "\n",
    "    B. ECoG_time.mat\n",
    "        ECoGTime: ECoGTime is a one row-vector contains Time-stamps with the same length as ECoGData_chN.\n",
    "\n",
    "    C. Event.mat\n",
    "        EventData: EventData is a one row-vector contains analog input.\n",
    "        -Analog input format\n",
    "      Ain indicates event time.\n",
    "      [   0- 100] : preparation time before experiment\n",
    "      [ 300- 400] : ITI\n",
    "      [ 650- 750] : Stimulus 1 ( 45 degree)\n",
    "      [ 950-1050] : Stimulus 2 ( 90 degree)\n",
    "      [1300-1400] : Stimulus 3 (135 degree)\n",
    "      [1600-1700] : Stimulus 4 (180 degree)\n",
    "      [1950-2050] : Stimulus 5 (225 degree)\n",
    "      [2250-2350] : Stimulus 6 (270 degree)\n",
    "      [2600-2700] : Stimulus 7 (315 degree)\n",
    "      [2900-3000] : Stimulus 8 (360 degree)\n",
    "\n",
    "    EventTime: EventTime is a one row-vector contains corresponding time-stamp."
   ]
  }
 ],
 "metadata": {
  "kernelspec": {
   "display_name": "Python [default]",
   "language": "python",
   "name": "python2"
  },
  "language_info": {
   "codemirror_mode": {
    "name": "ipython",
    "version": 2
   },
   "file_extension": ".py",
   "mimetype": "text/x-python",
   "name": "python",
   "nbconvert_exporter": "python",
   "pygments_lexer": "ipython2",
   "version": "2.7.13"
  }
 },
 "nbformat": 4,
 "nbformat_minor": 2
}
