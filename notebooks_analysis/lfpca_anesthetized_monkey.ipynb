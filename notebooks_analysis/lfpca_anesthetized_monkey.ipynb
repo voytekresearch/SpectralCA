{
 "cells": [
  {
   "cell_type": "markdown",
   "metadata": {},
   "source": [
    "# LFPCA through all conditions of anesthetized monkey"
   ]
  },
  {
   "cell_type": "markdown",
   "metadata": {},
   "source": [
    "to run the monkey data through the analysis pipeline <br>\n",
    "eyes open, eyes closed, and anesthesized <br>\n",
    "write the code such that running through the notebook ONCE will reproduce all the results for all 3 datasets"
   ]
  },
  {
   "cell_type": "markdown",
   "metadata": {},
   "source": [
    "visualize the results and compare the different conditions"
   ]
  },
  {
   "cell_type": "code",
   "execution_count": 63,
   "metadata": {},
   "outputs": [
    {
     "name": "stdout",
     "output_type": "stream",
     "text": [
      "The autoreload extension is already loaded. To reload it, use:\n",
      "  %reload_ext autoreload\n"
     ]
    }
   ],
   "source": [
    "%load_ext autoreload\n",
    "%autoreload 2\n",
    "\n",
    "import sys\n",
    "sys.path.append('/Users/Lauren/Voytek/spectralCV')\n",
    "sys.path.append('/Users/rdgao/Documents/code/research/spectralCV')\n",
    "sys.path.append('/Users/rdgao/Documents/code/research/neurodsp/')\n",
    "sys.path.append('/Users/rdgao/Documents/code/research/fooof/')"
   ]
  },
  {
   "cell_type": "code",
   "execution_count": 64,
   "metadata": {
    "collapsed": true
   },
   "outputs": [],
   "source": [
    "%matplotlib inline\n",
    "\n",
    "# imports\n",
    "from scv_funcs import access_nt as asc\n",
    "import numpy as np\n",
    "import scipy as sp\n",
    "import matplotlib.pyplot as plt\n",
    "\n",
    "import neurodsp as ndsp\n",
    "from fooof import FOOOFGroup\n",
    "from scv_funcs import lfpca"
   ]
  },
  {
   "cell_type": "code",
   "execution_count": 65,
   "metadata": {
    "collapsed": true
   },
   "outputs": [],
   "source": [
    "#data_path =\"/Users/Lauren/Data/NeuroTycho/anesthesia/20120730PF_Anesthesia+and+Sleep_Chibi_Toru+Yanagawa_mat_ECoG128/Session%d/\"\n",
    "data_path =\"/Users/rdgao/Documents/data/NeuroTycho/Propofol/20120730PF_Anesthesia+and+Sleep_Chibi_Toru+Yanagawa_mat_ECoG128/Session%d/\"\n",
    "saveout_path = \"../results/nt/\""
   ]
  },
  {
   "cell_type": "code",
   "execution_count": 66,
   "metadata": {
    "collapsed": true
   },
   "outputs": [],
   "source": [
    "# fooof wrapper\n",
    "def fooof_lfpca(lfpca, background_mode, freq_range=[3,100]):\n",
    "    fg = FOOOFGroup(background_mode=background_mode, verbose=False)\n",
    "    fg.fit(lfpca.f_axis, lfpca.psd, freq_range)\n",
    "    slopes = np.array([r.background_params[-1] for r in fg.get_results()])\n",
    "    if background_mode is 'knee':\n",
    "        knees = np.array([r.background_params[1] for r in fg.get_results()])\n",
    "    else:\n",
    "        knees = np.ones_like(slopes)\n",
    "    r2s = np.array([r.r_squared for r in fg.get_results()])\n",
    "    return np.array([slopes, knees, r2s]).T"
   ]
  },
  {
   "cell_type": "code",
   "execution_count": 109,
   "metadata": {},
   "outputs": [
    {
     "name": "stdout",
     "output_type": "stream",
     "text": [
      "Anesthetized-Start Anesthetized-End\n",
      "Handling run-time error: Did not fully consume compressed contents of an miCOMPRESSED element. This can indicate that the .mat file is corrupted.\n",
      "Channel 63 is filled in with noise.\n"
     ]
    },
    {
     "name": "stderr",
     "output_type": "stream",
     "text": [
      "/Users/rdgao/Documents/code/research/fooof/fooof/core/funcs.py:65: RuntimeWarning: invalid value encountered in log10\n",
      "  ys = ys + offset - np.log10(knee + xs**exp)\n",
      "/Users/rdgao/Documents/code/research/fooof/fooof/core/funcs.py:65: RuntimeWarning: invalid value encountered in log10\n",
      "  ys = ys + offset - np.log10(knee + xs**exp)\n"
     ]
    },
    {
     "name": "stdout",
     "output_type": "stream",
     "text": [
      "RecoveryEyesClosed-Start RecoveryEyesClosed-End\n",
      "Handling run-time error: Did not fully consume compressed contents of an miCOMPRESSED element. This can indicate that the .mat file is corrupted.\n",
      "Channel 63 is filled in with noise.\n",
      "RecoveryEyesOpened-Start RecoveryEyesOpened-End\n"
     ]
    }
   ],
   "source": [
    "# example of using LFPCA\n",
    "fs = 1000\n",
    "analysis_param = {'nperseg': 1000,\n",
    "                 'noverlap': 0,\n",
    "                 'spg_outlierpct': 2.,\n",
    "                 'max_freq':200}\n",
    "session_indices = [(1,0,1), (1,2,3), (2,1,2), (2,3,4), (3,0,1)]\n",
    "session_labels = ['EyesOpen', 'EyesClosed', 'Anes', 'RecEyesClosed', 'RecEyesOpen']\n",
    "fooof_conds = [('fixed',[3,100]),('knee',[3,100]),('fixed',[40,70])]\n",
    "\n",
    "\n",
    "for i in range(2,len(session_indices)):\n",
    "    session_ind = session_indices[i]\n",
    "    session = session_ind[0]\n",
    "    start_ind = session_ind[1]\n",
    "    end_ind = session_ind[2]\n",
    "    chan = range(1,129)\n",
    "    #chan = [1,2]\n",
    "    \n",
    "    # with specified indices\n",
    "    indices = asc.get_cond(data_path, session, start_ind, end_ind)\n",
    "    data = asc.get_ECoG(data_path, session, chan, indices)\n",
    "\n",
    "    # initialize object with data and parameters\n",
    "    nt_lfpca = lfpca.LFPCA(analysis_param)\n",
    "    nt_lfpca.populate_ts_data(data, fs)\n",
    "\n",
    "    # compute all spectral attributes\n",
    "    nt_lfpca.compute_all_spectral()\n",
    "\n",
    "    # compute KS-test fit against null exponential hypothesis\n",
    "    nt_lfpca.compute_KS_expfit() # this takes a few minutes\n",
    "    # save out\n",
    "    nt_lfpca.save_spec_vars('../results/nt/nt_lfpca%i_'%i+session_labels[i])\n",
    "    \n",
    "    nt_fooof = np.zeros((nt_lfpca.numchan, 3, len(fooof_conds)))\n",
    "    for fc in range(len(fooof_conds)):\n",
    "        nt_fooof[:,:,fc] = fooof_lfpca(nt_lfpca, fooof_conds[fc][0], freq_range=fooof_conds[fc][1])\n",
    "    \n",
    "    np.savez('../results/nt/nt_fooof%i_'%i+session_labels[i], \n",
    "             fooof_res=nt_fooof, \n",
    "             fooof_bg_param=np.array([fooof_conds[fc][0] for fc in range(len(fooof_conds))]),\n",
    "             fooof_freq_range=np.array([fooof_conds[fc][1] for fc in range(len(fooof_conds))])\n",
    "            )"
   ]
  },
  {
   "cell_type": "code",
   "execution_count": 19,
   "metadata": {
    "collapsed": true
   },
   "outputs": [],
   "source": []
  },
  {
   "cell_type": "code",
   "execution_count": null,
   "metadata": {
    "collapsed": true
   },
   "outputs": [],
   "source": []
  },
  {
   "cell_type": "code",
   "execution_count": null,
   "metadata": {
    "collapsed": true
   },
   "outputs": [],
   "source": []
  },
  {
   "cell_type": "code",
   "execution_count": 24,
   "metadata": {
    "collapsed": true
   },
   "outputs": [],
   "source": [
    "# fooof lfpca\n",
    "def fooof_monkey(nt_lfpca_monkey):\n",
    "    all_bg_params = []\n",
    "    all_r2 = []\n",
    "    for i in range(5):\n",
    "        linear_bg_params, linear_r2 = fooof_lfpca(nt_lfpca_monkey[i],'fixed')\n",
    "        lz_bg_params, lz_r2 = fooof_lfpca(nt_lfpca_monkey[i],'knee')\n",
    "        noise_bg_params, noise_r2 = fooof_lfpca(nt_lfpca_monkey[i],'fixed', freq_range=[30,70])\n",
    "        bg_params = (linear_bg_params, lz_bg_params, noise_bg_params)\n",
    "        r2 = (linear_r2, lz_r2, noise_r2)\n",
    "        all_bg_params.append(bg_params)\n",
    "        all_r2.append(r2)\n",
    "    return all_bg_params, all_r2"
   ]
  },
  {
   "cell_type": "code",
   "execution_count": 25,
   "metadata": {},
   "outputs": [
    {
     "name": "stdout",
     "output_type": "stream",
     "text": [
      "\n",
      "FOOOF WARNING: Lower-bound peak width limit is < or ~= the frequency resolution: 1.00 <= 0.50\n",
      "\tLower bounds below frequency-resolution have no effect (effective lower bound is freq-res)\n",
      "\tToo low a limit may lead to overfitting noise as small bandwidth peaks.\n",
      "\tWe recommend a lower bound of approximately 2x the frequency resolution.\n",
      "\n",
      "\n",
      "FOOOF WARNING: Lower-bound peak width limit is < or ~= the frequency resolution: 1.00 <= 0.50\n",
      "\tLower bounds below frequency-resolution have no effect (effective lower bound is freq-res)\n",
      "\tToo low a limit may lead to overfitting noise as small bandwidth peaks.\n",
      "\tWe recommend a lower bound of approximately 2x the frequency resolution.\n",
      "\n",
      "\n",
      "FOOOF WARNING: Lower-bound peak width limit is < or ~= the frequency resolution: 1.00 <= 0.50\n",
      "\tLower bounds below frequency-resolution have no effect (effective lower bound is freq-res)\n",
      "\tToo low a limit may lead to overfitting noise as small bandwidth peaks.\n",
      "\tWe recommend a lower bound of approximately 2x the frequency resolution.\n",
      "\n",
      "\n",
      "FOOOF WARNING: Lower-bound peak width limit is < or ~= the frequency resolution: 1.00 <= 0.50\n",
      "\tLower bounds below frequency-resolution have no effect (effective lower bound is freq-res)\n",
      "\tToo low a limit may lead to overfitting noise as small bandwidth peaks.\n",
      "\tWe recommend a lower bound of approximately 2x the frequency resolution.\n",
      "\n",
      "\n",
      "FOOOF WARNING: Lower-bound peak width limit is < or ~= the frequency resolution: 1.00 <= 0.50\n",
      "\tLower bounds below frequency-resolution have no effect (effective lower bound is freq-res)\n",
      "\tToo low a limit may lead to overfitting noise as small bandwidth peaks.\n",
      "\tWe recommend a lower bound of approximately 2x the frequency resolution.\n",
      "\n",
      "\n",
      "FOOOF WARNING: Lower-bound peak width limit is < or ~= the frequency resolution: 1.00 <= 0.50\n",
      "\tLower bounds below frequency-resolution have no effect (effective lower bound is freq-res)\n",
      "\tToo low a limit may lead to overfitting noise as small bandwidth peaks.\n",
      "\tWe recommend a lower bound of approximately 2x the frequency resolution.\n",
      "\n",
      "\n",
      "FOOOF WARNING: Lower-bound peak width limit is < or ~= the frequency resolution: 1.00 <= 0.50\n",
      "\tLower bounds below frequency-resolution have no effect (effective lower bound is freq-res)\n",
      "\tToo low a limit may lead to overfitting noise as small bandwidth peaks.\n",
      "\tWe recommend a lower bound of approximately 2x the frequency resolution.\n",
      "\n",
      "\n",
      "FOOOF WARNING: Lower-bound peak width limit is < or ~= the frequency resolution: 1.00 <= 0.50\n",
      "\tLower bounds below frequency-resolution have no effect (effective lower bound is freq-res)\n",
      "\tToo low a limit may lead to overfitting noise as small bandwidth peaks.\n",
      "\tWe recommend a lower bound of approximately 2x the frequency resolution.\n",
      "\n",
      "\n",
      "FOOOF WARNING: Lower-bound peak width limit is < or ~= the frequency resolution: 1.00 <= 0.50\n",
      "\tLower bounds below frequency-resolution have no effect (effective lower bound is freq-res)\n",
      "\tToo low a limit may lead to overfitting noise as small bandwidth peaks.\n",
      "\tWe recommend a lower bound of approximately 2x the frequency resolution.\n",
      "\n",
      "\n",
      "FOOOF WARNING: Lower-bound peak width limit is < or ~= the frequency resolution: 1.00 <= 0.50\n",
      "\tLower bounds below frequency-resolution have no effect (effective lower bound is freq-res)\n",
      "\tToo low a limit may lead to overfitting noise as small bandwidth peaks.\n",
      "\tWe recommend a lower bound of approximately 2x the frequency resolution.\n",
      "\n",
      "\n",
      "FOOOF WARNING: Lower-bound peak width limit is < or ~= the frequency resolution: 1.00 <= 0.50\n",
      "\tLower bounds below frequency-resolution have no effect (effective lower bound is freq-res)\n",
      "\tToo low a limit may lead to overfitting noise as small bandwidth peaks.\n",
      "\tWe recommend a lower bound of approximately 2x the frequency resolution.\n",
      "\n",
      "\n",
      "FOOOF WARNING: Lower-bound peak width limit is < or ~= the frequency resolution: 1.00 <= 0.50\n",
      "\tLower bounds below frequency-resolution have no effect (effective lower bound is freq-res)\n",
      "\tToo low a limit may lead to overfitting noise as small bandwidth peaks.\n",
      "\tWe recommend a lower bound of approximately 2x the frequency resolution.\n",
      "\n",
      "\n",
      "FOOOF WARNING: Lower-bound peak width limit is < or ~= the frequency resolution: 1.00 <= 0.50\n",
      "\tLower bounds below frequency-resolution have no effect (effective lower bound is freq-res)\n",
      "\tToo low a limit may lead to overfitting noise as small bandwidth peaks.\n",
      "\tWe recommend a lower bound of approximately 2x the frequency resolution.\n",
      "\n",
      "\n",
      "FOOOF WARNING: Lower-bound peak width limit is < or ~= the frequency resolution: 1.00 <= 0.50\n",
      "\tLower bounds below frequency-resolution have no effect (effective lower bound is freq-res)\n",
      "\tToo low a limit may lead to overfitting noise as small bandwidth peaks.\n",
      "\tWe recommend a lower bound of approximately 2x the frequency resolution.\n",
      "\n",
      "\n",
      "FOOOF WARNING: Lower-bound peak width limit is < or ~= the frequency resolution: 1.00 <= 0.50\n",
      "\tLower bounds below frequency-resolution have no effect (effective lower bound is freq-res)\n",
      "\tToo low a limit may lead to overfitting noise as small bandwidth peaks.\n",
      "\tWe recommend a lower bound of approximately 2x the frequency resolution.\n",
      "\n"
     ]
    }
   ],
   "source": [
    "all_bg_params, all_r2 = fooof_monkey(nt_lfpca_monkey=nt_lfpca_monkey)"
   ]
  }
 ],
 "metadata": {
  "kernelspec": {
   "display_name": "Python 3",
   "language": "python",
   "name": "python3"
  },
  "language_info": {
   "codemirror_mode": {
    "name": "ipython",
    "version": 3
   },
   "file_extension": ".py",
   "mimetype": "text/x-python",
   "name": "python",
   "nbconvert_exporter": "python",
   "pygments_lexer": "ipython3",
   "version": "3.6.3"
  }
 },
 "nbformat": 4,
 "nbformat_minor": 2
}
