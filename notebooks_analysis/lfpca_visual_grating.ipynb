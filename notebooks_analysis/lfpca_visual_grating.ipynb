{
 "cells": [
  {
   "cell_type": "markdown",
   "metadata": {},
   "source": [
    "# LFPCA on Visual Grating\n",
    "### Visual Grating Task\n",
    "> Monkey was sitting with head fixed. His arm motion was also restrained. \n",
    "ECoG data and eye position were recorded. There was a monitor in front of the monkey. \n",
    "Grating pattern that moves in eight direction was presented on the screen. \n",
    "There was no fixation required. Blank and stimulus pattern were switched alternatively every 2 sec. \n",
    "Stimulus events can be decoded from 129th channel by analog value. \n",
    "ECoG data were sampled at 1KHz.\n",
    "\n",
    "* Data Format\n",
    "\n",
    "    A. ECoG_chN.mat\n",
    "        ECoGData_chN: ECoG signal (μV) recorded from electrodeN (1‐128), sampled at 1kHZ.\n",
    "        The Location of electrode is documented in \"K2.png\".\n",
    "\n",
    "    B. ECoG_time.mat\n",
    "        ECoGTime: ECoGTime is a one row-vector contains Time-stamps with the same length as ECoGData_chN.\n",
    "\n",
    "    C. Event.mat\n",
    "        EventData: EventData is a one row-vector contains analog input.\n",
    "        -Analog input format\n",
    "      Ain indicates event time.\n",
    "      [   0- 100] : preparation time before experiment\n",
    "      [ 300- 400] : ITI\n",
    "      [ 650- 750] : Stimulus 1 ( 45 degree)\n",
    "      [ 950-1050] : Stimulus 2 ( 90 degree)\n",
    "      [1300-1400] : Stimulus 3 (135 degree)\n",
    "      [1600-1700] : Stimulus 4 (180 degree)\n",
    "      [1950-2050] : Stimulus 5 (225 degree)\n",
    "      [2250-2350] : Stimulus 6 (270 degree)\n",
    "      [2600-2700] : Stimulus 7 (315 degree)\n",
    "      [2900-3000] : Stimulus 8 (360 degree)\n",
    "\n",
    "    EventTime: EventTime is a one row-vector contains corresponding time-stamp."
   ]
  },
  {
   "cell_type": "code",
   "execution_count": 1,
   "metadata": {
    "collapsed": true
   },
   "outputs": [],
   "source": [
    "import sys\n",
    "# sys.path.append('/Users/Lauren/Voytek/spectralCV')\n",
    "sys.path.append('/Users/SP/code/spectralCV')\n",
    "sys.path.append('/Users/SP/code/neurodsp/')\n",
    "sys.path.append('/Users/SP/code/fooof/')"
   ]
  },
  {
   "cell_type": "code",
   "execution_count": 2,
   "metadata": {
    "collapsed": true
   },
   "outputs": [],
   "source": [
    "%matplotlib inline\n",
    "\n",
    "# imports\n",
    "from scv_funcs import access_nt as asc\n",
    "import numpy as np\n",
    "import scipy as sp\n",
    "import scipy.io as io\n",
    "import scipy.signal as sig\n",
    "import matplotlib.pyplot as plt\n",
    "import pandas as pd\n",
    "import h5py\n",
    "import os\n",
    "from scv_funcs import utils\n",
    "CKEYS = plt.rcParams['axes.prop_cycle'].by_key()['color']\n",
    "\n",
    "import neurodsp as ndsp\n",
    "# from fooof import FOOOFGroup\n",
    "from scv_funcs import lfpca"
   ]
  },
  {
   "cell_type": "code",
   "execution_count": 3,
   "metadata": {
    "collapsed": true
   },
   "outputs": [],
   "source": [
    "# data_path = \"/Users/Lauren/Data/NeuroTycho/VisualGrating/20100723S1_VGT_K2_KazuhitoTakenaka-ToruYanagawa_mat_ECoG128-Event3/\"\n",
    "data_path = \"/Volumes/VLABB/Neurotycho/VisualGrating/20100723S1_VGT_K2_KazuhitoTakenaka-ToruYanagawa_mat_ECoG128-Event3/\"\n",
    "# setting event data into pandas dataframe\n",
    "matfile = io.loadmat(data_path + 'Event.mat', squeeze_me=True)\n",
    "EventData = matfile['EventData']\n",
    "EventIndex = matfile['EventIndex']\n",
    "\n",
    "df = pd.DataFrame(data = [EventData, EventIndex]).T\n",
    "df = df.rename(columns={0: 'EventData', 1: 'EventIndex'})"
   ]
  },
  {
   "cell_type": "code",
   "execution_count": 7,
   "metadata": {
    "collapsed": true
   },
   "outputs": [],
   "source": [
    "# blanks\n",
    "ITI = df[(df['EventData'] >= 300) & (df['EventData'] <= 400)]"
   ]
  },
  {
   "cell_type": "code",
   "execution_count": 53,
   "metadata": {
    "collapsed": false
   },
   "outputs": [],
   "source": [
    "ITI_chunks = []"
   ]
  },
  {
   "cell_type": "code",
   "execution_count": 55,
   "metadata": {
    "collapsed": false
   },
   "outputs": [],
   "source": [
    "i = 0\n",
    "counter = 0\n",
    "while i < ITI.shape[0]-1:\n",
    "    if ITI.iloc[[i]]['EventIndex'].values+1 == ITI.iloc[[i+1]]['EventIndex'].values:\n",
    "        counter += 1\n",
    "        i += 1\n",
    "    else:\n",
    "        ITI_chunks.append((i+1, counter))\n",
    "        counter = 0\n",
    "        i += 1"
   ]
  },
  {
   "cell_type": "code",
   "execution_count": 56,
   "metadata": {
    "collapsed": false
   },
   "outputs": [
    {
     "data": {
      "text/plain": [
       "[(2032, 2031),\n",
       " (4033, 2000),\n",
       " (6034, 2000),\n",
       " (8035, 2000),\n",
       " (10036, 2000),\n",
       " (12037, 2000),\n",
       " (14039, 2001),\n",
       " (16040, 2000),\n",
       " (18042, 2001),\n",
       " (20044, 2001),\n",
       " (22046, 2001),\n",
       " (24048, 2001),\n",
       " (26050, 2001),\n",
       " (28052, 2001),\n",
       " (30054, 2001),\n",
       " (32056, 2001),\n",
       " (34058, 2001),\n",
       " (36060, 2001),\n",
       " (38062, 2001),\n",
       " (40097, 2034),\n",
       " (42131, 2033),\n",
       " (44166, 2034),\n",
       " (46168, 2001),\n",
       " (48170, 2001),\n",
       " (50172, 2001),\n",
       " (52174, 2001),\n",
       " (54176, 2001),\n",
       " (56177, 2000),\n",
       " (58178, 2000),\n",
       " (60179, 2000),\n",
       " (62180, 2000),\n",
       " (64181, 2000),\n",
       " (66183, 2001),\n",
       " (68184, 2000),\n",
       " (70185, 2000),\n",
       " (72187, 2001),\n",
       " (74187, 1999),\n",
       " (76188, 2000),\n",
       " (78189, 2000),\n",
       " (80190, 2000),\n",
       " (82191, 2000),\n",
       " (84193, 2001),\n",
       " (86195, 2001),\n",
       " (88197, 2001),\n",
       " (90199, 2001),\n",
       " (92201, 2001),\n",
       " (94203, 2001),\n",
       " (96205, 2001),\n",
       " (98223, 2017),\n",
       " (100258, 2034),\n",
       " (102293, 2034),\n",
       " (104294, 2000),\n",
       " (106296, 2001),\n",
       " (108298, 2001),\n",
       " (110300, 2001),\n",
       " (112302, 2001),\n",
       " (114303, 2000),\n",
       " (116304, 2000),\n",
       " (118306, 2001),\n",
       " (120308, 2001),\n",
       " (122310, 2001),\n",
       " (124311, 2000),\n",
       " (126312, 2000),\n",
       " (128313, 2000),\n",
       " (130315, 2001),\n",
       " (132316, 2000),\n",
       " (134317, 2000),\n",
       " (136318, 2000),\n",
       " (138319, 2000),\n",
       " (140320, 2000),\n",
       " (142321, 2000),\n",
       " (144323, 2001),\n",
       " (146325, 2001),\n",
       " (148326, 2000),\n",
       " (150328, 2001),\n",
       " (152330, 2001),\n",
       " (154332, 2001),\n",
       " (156334, 2001),\n",
       " (158369, 2034),\n",
       " (160404, 2034),\n",
       " (162405, 2000),\n",
       " (164407, 2001),\n",
       " (166409, 2001),\n",
       " (168411, 2001),\n",
       " (170413, 2001),\n",
       " (172414, 2000),\n",
       " (174415, 2000),\n",
       " (176416, 2000),\n",
       " (178417, 2000),\n",
       " (180418, 2000),\n",
       " (182419, 2000),\n",
       " (184421, 2001),\n",
       " (186422, 2000),\n",
       " (188423, 2000),\n",
       " (190424, 2000),\n",
       " (192426, 2001),\n",
       " (194428, 2001),\n",
       " (196430, 2001),\n",
       " (198432, 2001),\n",
       " (200434, 2001),\n",
       " (202436, 2001),\n",
       " (204438, 2001),\n",
       " (206440, 2001),\n",
       " (208442, 2001),\n",
       " (210444, 2001),\n",
       " (212446, 2001),\n",
       " (214448, 2001),\n",
       " (216483, 2034),\n",
       " (218517, 2033),\n",
       " (220519, 2001),\n",
       " (222520, 2000),\n",
       " (224522, 2001),\n",
       " (226524, 2001),\n",
       " (228525, 2000),\n",
       " (230526, 2000),\n",
       " (232528, 2001),\n",
       " (234529, 2000),\n",
       " (236530, 2000),\n",
       " (238531, 2000),\n",
       " (240533, 2001),\n",
       " (242534, 2000),\n",
       " (244535, 2000),\n",
       " (246536, 2000),\n",
       " (248538, 2001),\n",
       " (250539, 2000),\n",
       " (252540, 2000),\n",
       " (254541, 2000),\n",
       " (256542, 2000),\n",
       " (258543, 2000),\n",
       " (260544, 2000),\n",
       " (262545, 2000),\n",
       " (264546, 2000),\n",
       " (266547, 2000),\n",
       " (268548, 2000),\n",
       " (270549, 2000),\n",
       " (272550, 2000),\n",
       " (274568, 2017),\n",
       " (276602, 2033),\n",
       " (278637, 2034),\n",
       " (280639, 2001),\n",
       " (282641, 2001),\n",
       " (284643, 2001),\n",
       " (286644, 2000),\n",
       " (288645, 2000),\n",
       " (290646, 2000),\n",
       " (292647, 2000),\n",
       " (294647, 1999),\n",
       " (296649, 2001),\n",
       " (298650, 2000),\n",
       " (300651, 2000),\n",
       " (302653, 2001),\n",
       " (304654, 2000),\n",
       " (306655, 2000),\n",
       " (308657, 2001),\n",
       " (310658, 2000),\n",
       " (312659, 2000),\n",
       " (314660, 2000),\n",
       " (316662, 2001),\n",
       " (318664, 2001),\n",
       " (320666, 2001)]"
      ]
     },
     "execution_count": 56,
     "metadata": {},
     "output_type": "execute_result"
    }
   ],
   "source": [
    "ITI_chunks"
   ]
  },
  {
   "cell_type": "code",
   "execution_count": 57,
   "metadata": {
    "collapsed": false
   },
   "outputs": [],
   "source": [
    "# getting session data\n",
    "session = 0\n",
    "chan = np.arange(1,129).tolist()\n",
    "# chan = [1]\n",
    "data = asc.get_ECoG(data_path, session, chan)\n",
    "\n",
    "# ITI blank data\n",
    "ITIdata = np.vstack((data[0][ITI['EventIndex']], data[1][ITI['EventIndex']]))\n",
    "for c in range(2,128):\n",
    "    ITIdata = np.vstack((ITIdata, data[c][ITI['EventIndex']]))"
   ]
  },
  {
   "cell_type": "code",
   "execution_count": null,
   "metadata": {
    "collapsed": true
   },
   "outputs": [],
   "source": [
    "saveout_path = \"../results/nt_vg/\"\n",
    "lfpca_files = sorted([f for f in os.listdir(saveout_path) if 'lfpca_' in f])\n",
    "# fooof_files = sorted([f for f in os.listdir(saveout_path) if 'fooof' in f])"
   ]
  },
  {
   "cell_type": "code",
   "execution_count": null,
   "metadata": {
    "collapsed": true
   },
   "outputs": [],
   "source": [
    "vg_lfpca_objs = np.empty((9,),dtype=object)"
   ]
  },
  {
   "cell_type": "code",
   "execution_count": null,
   "metadata": {
    "collapsed": true
   },
   "outputs": [],
   "source": [
    "data[0][ITI['EventIndex']"
   ]
  },
  {
   "cell_type": "code",
   "execution_count": null,
   "metadata": {
    "collapsed": true
   },
   "outputs": [],
   "source": [
    "# blanks\n",
    "ITI = df[(df['EventData'] > 300) & (df['EventData'] < 400)]\n",
    "\n",
    "# different stimulations 1 to 8 according to the boundary edges\n",
    "edges = [(650,750), (950,1050), (1300,1400), (1600,1700), (1950,2050), (2250,2350), (2600,2700), (2900,3000)]\n",
    "stims = np.empty((8,),dtype=object)\n",
    "for i,edge in enumerate(edges):\n",
    "    lower = edge[0]\n",
    "    upper = edge[1]\n",
    "    stims[i]= df[(df['EventData'] > lower) & (df['EventData'] < upper)]\n",
    "    \n",
    "# getting session data\n",
    "session = 0\n",
    "chan = np.arange(1,129).tolist()\n",
    "# chan = [1]\n",
    "data = asc.get_ECoG(data_path, session, chan)\n",
    "\n",
    "# ITI blank data\n",
    "ITIdata = np.vstack((data[0][ITI['EventIndex']], data[1][ITI['EventIndex']]))\n",
    "for c in range(2,128):\n",
    "    ITIdata = np.vstack((ITIdata, data[c][ITI['EventIndex']]))"
   ]
  },
  {
   "cell_type": "code",
   "execution_count": null,
   "metadata": {
    "collapsed": true
   },
   "outputs": [],
   "source": [
    "# example of using LFPCA\n",
    "fs = 1000\n",
    "analysis_param = {'nperseg': 1000,\n",
    "                  'noverlap': 0,\n",
    "                  'spg_outlierpct': 2.,\n",
    "                  'max_freq':200}\n",
    "\n",
    "vg_lfpca = lfpca.LFPCA(analysis_param)\n",
    "vg_lfpca.populate_ts_data(ITIdata, fs)\n",
    "vg_lfpca_objs[8] = vg_lfpca"
   ]
  }
 ],
 "metadata": {
  "kernelspec": {
   "display_name": "Python [conda env:py36]",
   "language": "python",
   "name": "conda-env-py36-py"
  },
  "language_info": {
   "codemirror_mode": {
    "name": "ipython",
    "version": 3
   },
   "file_extension": ".py",
   "mimetype": "text/x-python",
   "name": "python",
   "nbconvert_exporter": "python",
   "pygments_lexer": "ipython3",
   "version": "3.6.0"
  }
 },
 "nbformat": 4,
 "nbformat_minor": 2
}
