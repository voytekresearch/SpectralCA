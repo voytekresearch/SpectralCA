{
 "cells": [
  {
   "cell_type": "markdown",
   "metadata": {},
   "source": [
    "# LFPCA on Visual Grating\n",
    "### Visual Grating Task\n",
    "> Monkey was sitting with head fixed. His arm motion was also restrained. \n",
    "ECoG data and eye position were recorded. There was a monitor in front of the monkey. \n",
    "Grating pattern that moves in eight direction was presented on the screen. \n",
    "There was no fixation required. Blank and stimulus pattern were switched alternatively every 2 sec. \n",
    "Stimulus events can be decoded from 129th channel by analog value. \n",
    "ECoG data were sampled at 1KHz.\n",
    "\n",
    "* Data Format\n",
    "\n",
    "    A. ECoG_chN.mat\n",
    "        ECoGData_chN: ECoG signal (μV) recorded from electrodeN (1‐128), sampled at 1kHZ.\n",
    "        The Location of electrode is documented in \"K2.png\".\n",
    "\n",
    "    B. ECoG_time.mat\n",
    "        ECoGTime: ECoGTime is a one row-vector contains Time-stamps with the same length as ECoGData_chN.\n",
    "\n",
    "    C. Event.mat\n",
    "        EventData: EventData is a one row-vector contains analog input.\n",
    "        -Analog input format\n",
    "      Ain indicates event time.\n",
    "      [   0- 100] : preparation time before experiment\n",
    "      [ 300- 400] : ITI\n",
    "      [ 650- 750] : Stimulus 1 ( 45 degree)\n",
    "      [ 950-1050] : Stimulus 2 ( 90 degree)\n",
    "      [1300-1400] : Stimulus 3 (135 degree)\n",
    "      [1600-1700] : Stimulus 4 (180 degree)\n",
    "      [1950-2050] : Stimulus 5 (225 degree)\n",
    "      [2250-2350] : Stimulus 6 (270 degree)\n",
    "      [2600-2700] : Stimulus 7 (315 degree)\n",
    "      [2900-3000] : Stimulus 8 (360 degree)\n",
    "\n",
    "    EventTime: EventTime is a one row-vector contains corresponding time-stamp."
   ]
  },
  {
   "cell_type": "code",
   "execution_count": 1,
   "metadata": {
    "collapsed": true
   },
   "outputs": [],
   "source": [
    "import sys\n",
    "# sys.path.append('/Users/Lauren/Voytek/spectralCV')\n",
    "sys.path.append('/Users/SP/code/spectralCV')\n",
    "sys.path.append('/Users/SP/code/neurodsp/')\n",
    "sys.path.append('/Users/SP/code/fooof/')"
   ]
  },
  {
   "cell_type": "code",
   "execution_count": 2,
   "metadata": {
    "collapsed": true
   },
   "outputs": [],
   "source": [
    "%matplotlib inline\n",
    "\n",
    "# imports\n",
    "from scv_funcs import access_nt as asc\n",
    "import numpy as np\n",
    "import scipy as sp\n",
    "import scipy.io as io\n",
    "import scipy.signal as sig\n",
    "import matplotlib.pyplot as plt\n",
    "import pandas as pd\n",
    "import h5py\n",
    "import os\n",
    "from scv_funcs import utils\n",
    "CKEYS = plt.rcParams['axes.prop_cycle'].by_key()['color']\n",
    "\n",
    "import neurodsp as ndsp\n",
    "# from fooof import FOOOFGroup\n",
    "from scv_funcs import lfpca"
   ]
  },
  {
   "cell_type": "markdown",
   "metadata": {},
   "source": [
    "### ITI chunks with the counters"
   ]
  },
  {
   "cell_type": "code",
   "execution_count": 3,
   "metadata": {
    "collapsed": true
   },
   "outputs": [],
   "source": [
    "# data_path = \"/Users/Lauren/Data/NeuroTycho/VisualGrating/20100723S1_VGT_K2_KazuhitoTakenaka-ToruYanagawa_mat_ECoG128-Event3/\"\n",
    "data_path = \"/Volumes/VLABB/Neurotycho/VisualGrating/20100723S1_VGT_K2_KazuhitoTakenaka-ToruYanagawa_mat_ECoG128-Event3/\"\n",
    "# setting event data into pandas dataframe\n",
    "matfile = io.loadmat(data_path + 'Event.mat', squeeze_me=True)\n",
    "EventData = matfile['EventData']\n",
    "EventIndex = matfile['EventIndex']\n",
    "\n",
    "df = pd.DataFrame(data = [EventData, EventIndex]).T\n",
    "df = df.rename(columns={0: 'EventData', 1: 'EventIndex'})"
   ]
  },
  {
   "cell_type": "code",
   "execution_count": 4,
   "metadata": {
    "collapsed": true
   },
   "outputs": [],
   "source": [
    "# blanks\n",
    "ITI = df[(df['EventData'] >= 300) & (df['EventData'] <= 400)]"
   ]
  },
  {
   "cell_type": "code",
   "execution_count": 49,
   "metadata": {
    "collapsed": false
   },
   "outputs": [
    {
     "data": {
      "text/plain": [
       "[<matplotlib.lines.Line2D at 0x11a236668>]"
      ]
     },
     "execution_count": 49,
     "metadata": {},
     "output_type": "execute_result"
    },
    {
     "data": {
      "image/png": "[encoded data removed]",
      "text/plain": [
       "<matplotlib.figure.Figure at 0x11395a400>"
      ]
     },
     "metadata": {},
     "output_type": "display_data"
    }
   ],
   "source": [
    "plt.plot(np.diff(ITI['EventIndex'])[:10000])"
   ]
  },
  {
   "cell_type": "code",
   "execution_count": 36,
   "metadata": {
    "collapsed": false
   },
   "outputs": [],
   "source": [
    "# checking the data and grabbing the indices\n",
    "ITI_chunks = []\n",
    "\n",
    "i = 0\n",
    "counter = 0\n",
    "while i < ITI.shape[0]-1:\n",
    "    if ITI.iloc[[i]]['EventIndex'].values+1 == ITI.iloc[[i+1]]['EventIndex'].values:\n",
    "        counter += 1\n",
    "        i += 1\n",
    "    else:\n",
    "        ITI_chunks.append((i-counter, counter+1))\n",
    "        counter = 0\n",
    "        i += 1"
   ]
  },
  {
   "cell_type": "markdown",
   "metadata": {},
   "source": [
    "#### example"
   ]
  },
  {
   "cell_type": "code",
   "execution_count": 37,
   "metadata": {
    "collapsed": false
   },
   "outputs": [
    {
     "data": {
      "text/plain": [
       "[(0, 2032), (2032, 2001), (4033, 2001), (6034, 2001), (8035, 2001)]"
      ]
     },
     "execution_count": 37,
     "metadata": {},
     "output_type": "execute_result"
    }
   ],
   "source": [
    "ITI_chunks[0:5]"
   ]
  },
  {
   "cell_type": "code",
   "execution_count": 19,
   "metadata": {
    "collapsed": false
   },
   "outputs": [
    {
     "data": {
      "text/plain": [
       "(0, 2031)"
      ]
     },
     "execution_count": 19,
     "metadata": {},
     "output_type": "execute_result"
    }
   ],
   "source": [
    "ITI_chunks[0]"
   ]
  },
  {
   "cell_type": "code",
   "execution_count": 11,
   "metadata": {
    "collapsed": false
   },
   "outputs": [
    {
     "data": {
      "text/html": [
       "<div>\n",
       "<style scoped>\n",
       "    .dataframe tbody tr th:only-of-type {\n",
       "        vertical-align: middle;\n",
       "    }\n",
       "\n",
       "    .dataframe tbody tr th {\n",
       "        vertical-align: top;\n",
       "    }\n",
       "\n",
       "    .dataframe thead th {\n",
       "        text-align: right;\n",
       "    }\n",
       "</style>\n",
       "<table border=\"1\" class=\"dataframe\">\n",
       "  <thead>\n",
       "    <tr style=\"text-align: right;\">\n",
       "      <th></th>\n",
       "      <th>EventData</th>\n",
       "      <th>EventIndex</th>\n",
       "    </tr>\n",
       "  </thead>\n",
       "  <tbody>\n",
       "    <tr>\n",
       "      <th>19867</th>\n",
       "      <td>363</td>\n",
       "      <td>19867</td>\n",
       "    </tr>\n",
       "  </tbody>\n",
       "</table>\n",
       "</div>"
      ],
      "text/plain": [
       "       EventData  EventIndex\n",
       "19867        363       19867"
      ]
     },
     "execution_count": 11,
     "metadata": {},
     "output_type": "execute_result"
    }
   ],
   "source": [
    "ITI.iloc[[0]]"
   ]
  },
  {
   "cell_type": "code",
   "execution_count": 14,
   "metadata": {
    "collapsed": false
   },
   "outputs": [
    {
     "data": {
      "text/html": [
       "<div>\n",
       "<style scoped>\n",
       "    .dataframe tbody tr th:only-of-type {\n",
       "        vertical-align: middle;\n",
       "    }\n",
       "\n",
       "    .dataframe tbody tr th {\n",
       "        vertical-align: top;\n",
       "    }\n",
       "\n",
       "    .dataframe thead th {\n",
       "        text-align: right;\n",
       "    }\n",
       "</style>\n",
       "<table border=\"1\" class=\"dataframe\">\n",
       "  <thead>\n",
       "    <tr style=\"text-align: right;\">\n",
       "      <th></th>\n",
       "      <th>EventData</th>\n",
       "      <th>EventIndex</th>\n",
       "    </tr>\n",
       "  </thead>\n",
       "  <tbody>\n",
       "    <tr>\n",
       "      <th>19868</th>\n",
       "      <td>362</td>\n",
       "      <td>19868</td>\n",
       "    </tr>\n",
       "  </tbody>\n",
       "</table>\n",
       "</div>"
      ],
      "text/plain": [
       "       EventData  EventIndex\n",
       "19868        362       19868"
      ]
     },
     "execution_count": 14,
     "metadata": {},
     "output_type": "execute_result"
    }
   ],
   "source": [
    "ITI.iloc[[1]]"
   ]
  },
  {
   "cell_type": "code",
   "execution_count": 15,
   "metadata": {
    "collapsed": false
   },
   "outputs": [
    {
     "data": {
      "text/html": [
       "<div>\n",
       "<style scoped>\n",
       "    .dataframe tbody tr th:only-of-type {\n",
       "        vertical-align: middle;\n",
       "    }\n",
       "\n",
       "    .dataframe tbody tr th {\n",
       "        vertical-align: top;\n",
       "    }\n",
       "\n",
       "    .dataframe thead th {\n",
       "        text-align: right;\n",
       "    }\n",
       "</style>\n",
       "<table border=\"1\" class=\"dataframe\">\n",
       "  <thead>\n",
       "    <tr style=\"text-align: right;\">\n",
       "      <th></th>\n",
       "      <th>EventData</th>\n",
       "      <th>EventIndex</th>\n",
       "    </tr>\n",
       "  </thead>\n",
       "  <tbody>\n",
       "    <tr>\n",
       "      <th>21897</th>\n",
       "      <td>365</td>\n",
       "      <td>21897</td>\n",
       "    </tr>\n",
       "  </tbody>\n",
       "</table>\n",
       "</div>"
      ],
      "text/plain": [
       "       EventData  EventIndex\n",
       "21897        365       21897"
      ]
     },
     "execution_count": 15,
     "metadata": {},
     "output_type": "execute_result"
    }
   ],
   "source": [
    "ITI.iloc[[2030]]"
   ]
  },
  {
   "cell_type": "code",
   "execution_count": 12,
   "metadata": {
    "collapsed": false
   },
   "outputs": [
    {
     "data": {
      "text/html": [
       "<div>\n",
       "<style scoped>\n",
       "    .dataframe tbody tr th:only-of-type {\n",
       "        vertical-align: middle;\n",
       "    }\n",
       "\n",
       "    .dataframe tbody tr th {\n",
       "        vertical-align: top;\n",
       "    }\n",
       "\n",
       "    .dataframe thead th {\n",
       "        text-align: right;\n",
       "    }\n",
       "</style>\n",
       "<table border=\"1\" class=\"dataframe\">\n",
       "  <thead>\n",
       "    <tr style=\"text-align: right;\">\n",
       "      <th></th>\n",
       "      <th>EventData</th>\n",
       "      <th>EventIndex</th>\n",
       "    </tr>\n",
       "  </thead>\n",
       "  <tbody>\n",
       "    <tr>\n",
       "      <th>21898</th>\n",
       "      <td>363</td>\n",
       "      <td>21898</td>\n",
       "    </tr>\n",
       "  </tbody>\n",
       "</table>\n",
       "</div>"
      ],
      "text/plain": [
       "       EventData  EventIndex\n",
       "21898        363       21898"
      ]
     },
     "execution_count": 12,
     "metadata": {},
     "output_type": "execute_result"
    }
   ],
   "source": [
    "ITI.iloc[[2031]]"
   ]
  },
  {
   "cell_type": "code",
   "execution_count": 13,
   "metadata": {
    "collapsed": false
   },
   "outputs": [
    {
     "data": {
      "text/html": [
       "<div>\n",
       "<style scoped>\n",
       "    .dataframe tbody tr th:only-of-type {\n",
       "        vertical-align: middle;\n",
       "    }\n",
       "\n",
       "    .dataframe tbody tr th {\n",
       "        vertical-align: top;\n",
       "    }\n",
       "\n",
       "    .dataframe thead th {\n",
       "        text-align: right;\n",
       "    }\n",
       "</style>\n",
       "<table border=\"1\" class=\"dataframe\">\n",
       "  <thead>\n",
       "    <tr style=\"text-align: right;\">\n",
       "      <th></th>\n",
       "      <th>EventData</th>\n",
       "      <th>EventIndex</th>\n",
       "    </tr>\n",
       "  </thead>\n",
       "  <tbody>\n",
       "    <tr>\n",
       "      <th>23931</th>\n",
       "      <td>365</td>\n",
       "      <td>23931</td>\n",
       "    </tr>\n",
       "  </tbody>\n",
       "</table>\n",
       "</div>"
      ],
      "text/plain": [
       "       EventData  EventIndex\n",
       "23931        365       23931"
      ]
     },
     "execution_count": 13,
     "metadata": {},
     "output_type": "execute_result"
    }
   ],
   "source": [
    "ITI.iloc[[2032]]"
   ]
  },
  {
   "cell_type": "code",
   "execution_count": 40,
   "metadata": {
    "collapsed": false
   },
   "outputs": [
    {
     "data": {
      "text/plain": [
       "160"
      ]
     },
     "execution_count": 40,
     "metadata": {},
     "output_type": "execute_result"
    }
   ],
   "source": [
    "len(ITI_chunks)"
   ]
  },
  {
   "cell_type": "markdown",
   "metadata": {},
   "source": [
    "### Stim chunks with counters"
   ]
  },
  {
   "cell_type": "code",
   "execution_count": 38,
   "metadata": {
    "collapsed": false
   },
   "outputs": [],
   "source": [
    "edges = [(650,750), (950,1050), (1300,1400), (1600,1700), (1950,2050), (2250,2350), (2600,2700), (2900,3000)]\n",
    "# edges = [(650,750)]\n",
    "stim_chunks = []\n",
    "for i,edge in enumerate(edges):\n",
    "    lower = edge[0]\n",
    "    upper = edge[1]\n",
    "    stim_data = df[(df['EventData'] >= lower) & (df['EventData'] <= upper)]\n",
    "    counter = 0\n",
    "    while i < stim_data.shape[0]-1:\n",
    "        if stim_data.iloc[[i]]['EventIndex'].values+1 == stim_data.iloc[[i+1]]['EventIndex'].values:\n",
    "            counter += 1\n",
    "            i += 1\n",
    "        else:\n",
    "            stim_chunks.append((i-counter, counter+1))\n",
    "            counter = 0\n",
    "            i += 1"
   ]
  },
  {
   "cell_type": "code",
   "execution_count": 39,
   "metadata": {
    "collapsed": false
   },
   "outputs": [
    {
     "data": {
      "text/plain": [
       "[(0, 1998), (1998, 2015), (4013, 1999), (6012, 1998), (8010, 1998)]"
      ]
     },
     "execution_count": 39,
     "metadata": {},
     "output_type": "execute_result"
    }
   ],
   "source": [
    "stim_chunks[0:5]"
   ]
  },
  {
   "cell_type": "code",
   "execution_count": 41,
   "metadata": {
    "collapsed": false
   },
   "outputs": [
    {
     "data": {
      "text/plain": [
       "152"
      ]
     },
     "execution_count": 41,
     "metadata": {},
     "output_type": "execute_result"
    }
   ],
   "source": [
    "len(stim_chunks)"
   ]
  },
  {
   "cell_type": "markdown",
   "metadata": {},
   "source": [
    "### Saving"
   ]
  },
  {
   "cell_type": "code",
   "execution_count": 57,
   "metadata": {
    "collapsed": false
   },
   "outputs": [],
   "source": [
    "# getting session data\n",
    "session = 0\n",
    "chan = np.arange(1,129).tolist()\n",
    "# chan = [1]\n",
    "data = asc.get_ECoG(data_path, session, chan)\n",
    "\n",
    "# ITI blank data\n",
    "ITIdata = np.vstack((data[0][ITI['EventIndex']], data[1][ITI['EventIndex']]))\n",
    "for c in range(2,128):\n",
    "    ITIdata = np.vstack((ITIdata, data[c][ITI['EventIndex']]))"
   ]
  },
  {
   "cell_type": "code",
   "execution_count": null,
   "metadata": {
    "collapsed": true
   },
   "outputs": [],
   "source": [
    "saveout_path = \"../results/nt_vg/\"\n",
    "lfpca_files = sorted([f for f in os.listdir(saveout_path) if 'lfpca_' in f])\n",
    "# fooof_files = sorted([f for f in os.listdir(saveout_path) if 'fooof' in f])"
   ]
  },
  {
   "cell_type": "code",
   "execution_count": null,
   "metadata": {
    "collapsed": true
   },
   "outputs": [],
   "source": [
    "vg_lfpca_objs = np.empty((9,),dtype=object)"
   ]
  },
  {
   "cell_type": "code",
   "execution_count": null,
   "metadata": {
    "collapsed": true
   },
   "outputs": [],
   "source": [
    "data[0][ITI['EventIndex']"
   ]
  },
  {
   "cell_type": "code",
   "execution_count": null,
   "metadata": {
    "collapsed": true
   },
   "outputs": [],
   "source": [
    "# blanks\n",
    "ITI = df[(df['EventData'] > 300) & (df['EventData'] < 400)]\n",
    "\n",
    "# different stimulations 1 to 8 according to the boundary edges\n",
    "edges = [(650,750), (950,1050), (1300,1400), (1600,1700), (1950,2050), (2250,2350), (2600,2700), (2900,3000)]\n",
    "stims = np.empty((8,),dtype=object)\n",
    "for i,edge in enumerate(edges):\n",
    "    lower = edge[0]\n",
    "    upper = edge[1]\n",
    "    stims[i]= df[(df['EventData'] > lower) & (df['EventData'] < upper)]\n",
    "    \n",
    "# getting session data\n",
    "session = 0\n",
    "chan = np.arange(1,129).tolist()\n",
    "# chan = [1]\n",
    "data = asc.get_ECoG(data_path, session, chan)\n",
    "\n",
    "# ITI blank data\n",
    "ITIdata = np.vstack((data[0][ITI['EventIndex']], data[1][ITI['EventIndex']]))\n",
    "for c in range(2,128):\n",
    "    ITIdata = np.vstack((ITIdata, data[c][ITI['EventIndex']]))"
   ]
  },
  {
   "cell_type": "code",
   "execution_count": null,
   "metadata": {
    "collapsed": true
   },
   "outputs": [],
   "source": [
    "# example of using LFPCA\n",
    "fs = 1000\n",
    "analysis_param = {'nperseg': 1000,\n",
    "                  'noverlap': 0,\n",
    "                  'spg_outlierpct': 2.,\n",
    "                  'max_freq':200}\n",
    "\n",
    "vg_lfpca = lfpca.LFPCA(analysis_param)\n",
    "vg_lfpca.populate_ts_data(ITIdata, fs)\n",
    "vg_lfpca_objs[8] = vg_lfpca"
   ]
  }
 ],
 "metadata": {
  "kernelspec": {
   "display_name": "Python [conda env:py36]",
   "language": "python",
   "name": "conda-env-py36-py"
  },
  "language_info": {
   "codemirror_mode": {
    "name": "ipython",
    "version": 3
   },
   "file_extension": ".py",
   "mimetype": "text/x-python",
   "name": "python",
   "nbconvert_exporter": "python",
   "pygments_lexer": "ipython3",
   "version": "3.6.0"
  }
 },
 "nbformat": 4,
 "nbformat_minor": 2
}
