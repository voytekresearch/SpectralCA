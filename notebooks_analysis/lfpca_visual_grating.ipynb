{
 "cells": [
  {
   "cell_type": "markdown",
   "metadata": {},
   "source": [
    "# LFPCA on Visual Grating"
   ]
  },
  {
   "cell_type": "markdown",
   "metadata": {},
   "source": [
    "#### Visual Grating Task\n",
    "\n",
    "    *Task design\n",
    "    Monkey was sitting with head fixed. His arm motion was also restrained. \n",
    "    ECoG data and eye position were recorded. There was a monitor in front of the monkey. \n",
    "    Grating pattern that moves in eight direction was presented on the screen. \n",
    "    There was no fixation required. Blank and stimulus pattern were switched alternatively every 2 sec. \n",
    "    Stimulus events can be decoded from 129th channel by analog value. \n",
    "    ECoG data were sampled at 1KHz.\n",
    "\n",
    "    *Data Format\n",
    "    A. ECoG_chN.mat\n",
    "    ECoGData_chN: ECoG signal (μV) recorded from electrodeN (1‐128), sampled at 1kHZ.\n",
    "    The Location of electrode is documented in \"K2.png\".\n",
    "\n",
    "    B. ECoG_time.mat\n",
    "    ECoGTime: ECoGTime is a one row-vector contains Time-stamps with the same length as ECoGData_chN.\n",
    "\n",
    "    C. Event.mat\n",
    "    EventData: EventData is a one row-vector contains analog input.\n",
    "    -Analog input format\n",
    "          Ain indicates event time.\n",
    "          [   0- 100] : preparation time before experiment\n",
    "          [ 300- 400] : ITI\n",
    "          [ 650- 750] : Stimulus 1 ( 45 degree)\n",
    "          [ 950-1050] : Stimulus 2 ( 90 degree)\n",
    "          [1300-1400] : Stimulus 3 (135 degree)\n",
    "          [1600-1700] : Stimulus 4 (180 degree)\n",
    "          [1950-2050] : Stimulus 5 (225 degree)\n",
    "          [2250-2350] : Stimulus 6 (270 degree)\n",
    "          [2600-2700] : Stimulus 7 (315 degree)\n",
    "          [2900-3000] : Stimulus 8 (360 degree)\n",
    "    EventTime: EventTime is a one row-vector contains corresponding time-stamp.\n",
    "\n"
   ]
  },
  {
   "cell_type": "code",
   "execution_count": 1,
   "metadata": {},
   "outputs": [],
   "source": [
    "import sys\n",
    "sys.path.append('/Users/Lauren/Voytek/spectralCV')"
   ]
  },
  {
   "cell_type": "code",
   "execution_count": 17,
   "metadata": {},
   "outputs": [],
   "source": [
    "%matplotlib inline\n",
    "\n",
    "# imports\n",
    "from scv_funcs import access_nt as asc\n",
    "import numpy as np\n",
    "import scipy as sp\n",
    "import scipy.io as io\n",
    "import scipy.signal as sig\n",
    "import matplotlib.pyplot as plt\n",
    "import pandas as pd\n",
    "import h5py\n",
    "\n",
    "import neurodsp as ndsp\n",
    "from fooof import FOOOFGroup\n",
    "from scv_funcs import lfpca\n",
    "\n",
    "#load data from h5 \n",
    "h5_file = '../Voytek/scv.h5'"
   ]
  },
  {
   "cell_type": "markdown",
   "metadata": {},
   "source": [
    "### Extracting data information based on events"
   ]
  },
  {
   "cell_type": "code",
   "execution_count": 39,
   "metadata": {},
   "outputs": [],
   "source": [
    "data_path = \"/Users/Lauren/Data/NeuroTycho/VisualGrating/20100723S1_VGT_K2_KazuhitoTakenaka-ToruYanagawa_mat_ECoG128-Event3/\"\n",
    "\n",
    "# setting event data into pandas dataframe\n",
    "matfile = io.loadmat(data_path + 'Event', squeeze_me=True)\n",
    "EventData = matfile['EventData']\n",
    "EventIndex = matfile['EventIndex']\n",
    "\n",
    "df = pd.DataFrame(data = [EventData, EventIndex]).T\n",
    "df = df.rename(columns={0: 'EventData', 1: 'EventIndex'})"
   ]
  },
  {
   "cell_type": "code",
   "execution_count": 53,
   "metadata": {},
   "outputs": [],
   "source": [
    "# blanks\n",
    "ITI = df[(df['EventData'] > 300) & (df['EventData'] < 400)]"
   ]
  },
  {
   "cell_type": "code",
   "execution_count": 55,
   "metadata": {},
   "outputs": [],
   "source": [
    "# different stimulations 1 to 8 according to the boundary edges\n",
    "edges = [(650,750), (950,1050), (1300,1400), (1600,1700), (1950,2050), (2250,2350), (2600,2700), (2900,3000)]\n",
    "stims = np.empty((8,),dtype=object)\n",
    "for i,edge in enumerate(edges):\n",
    "    lower = edge[0]\n",
    "    upper = edge[1]\n",
    "    stims[i]= df[(df['EventData'] > lower) & (df['EventData'] < upper)]"
   ]
  },
  {
   "cell_type": "code",
   "execution_count": 57,
   "metadata": {},
   "outputs": [],
   "source": [
    "# accessing data\n",
    "data_path = \"/Users/Lauren/Data/NeuroTycho/VisualGrating/20100723S1_VGT_K2_KazuhitoTakenaka-ToruYanagawa_mat_ECoG128-Event3/\""
   ]
  },
  {
   "cell_type": "code",
   "execution_count": 80,
   "metadata": {},
   "outputs": [],
   "source": [
    "# getting session data\n",
    "session = 0\n",
    "chan = np.arange(1,129).tolist()\n",
    "# chan = [1]\n",
    "data = asc.get_ECoG(data_path, session, chan)"
   ]
  },
  {
   "cell_type": "code",
   "execution_count": 83,
   "metadata": {},
   "outputs": [],
   "source": [
    "# ITI blank data\n",
    "ITIdata = np.vstack((data[0][ITI['EventIndex']], data[1][ITI['EventIndex']]))\n",
    "for c in range(2,128):\n",
    "    ITIdata = np.vstack((ITIdata, data[c][ITI['EventIndex']]))"
   ]
  },
  {
   "cell_type": "code",
   "execution_count": 86,
   "metadata": {},
   "outputs": [],
   "source": [
    "# different stim data\n",
    "def get_stimdata(num):\n",
    "    stimdata = np.vstack((data[0][stims[num]['EventIndex']], data[1][stims[num]['EventIndex']]))\n",
    "    for c in range(2,128):\n",
    "        stimdata = np.vstack((stimdata, data[c][stims[num]['EventIndex']]))"
   ]
  },
  {
   "cell_type": "code",
   "execution_count": 84,
   "metadata": {},
   "outputs": [],
   "source": [
    "# example of using LFPCA\n",
    "fs = 1000\n",
    "analysis_param = {'nperseg': 1000,\n",
    "                 'noverlap': 0,\n",
    "                 'spg_outlierpct': 2.,\n",
    "                 'max_freq':200}\n",
    "\n",
    "# initialize object with data and parameters\n",
    "vg_lfpca = lfpca.LFPCA(analysis_param)\n",
    "vg_lfpca.populate_ts_data(ITIdata, fs)\n",
    "\n",
    "# compute all spectral attributes\n",
    "vg_lfpca.compute_all_spectral()"
   ]
  },
  {
   "cell_type": "code",
   "execution_count": 15,
   "metadata": {},
   "outputs": [],
   "source": [
    "# compute KS-test fit against null exponential hypothesis\n",
    "vg_lfpca.compute_KS_expfit() # this takes a few minutes"
   ]
  },
  {
   "cell_type": "code",
   "execution_count": 85,
   "metadata": {},
   "outputs": [
    {
     "ename": "AttributeError",
     "evalue": "'LFPCA' object has no attribute 'ks_pvals'",
     "output_type": "error",
     "traceback": [
      "\u001b[1;31m---------------------------------------------------------------------------\u001b[0m",
      "\u001b[1;31mAttributeError\u001b[0m                            Traceback (most recent call last)",
      "\u001b[1;32m<ipython-input-85-5280305213c0>\u001b[0m in \u001b[0;36m<module>\u001b[1;34m()\u001b[0m\n\u001b[0;32m      2\u001b[0m \u001b[1;33m\u001b[0m\u001b[0m\n\u001b[0;32m      3\u001b[0m \u001b[0mplt\u001b[0m\u001b[1;33m.\u001b[0m\u001b[0mfigure\u001b[0m\u001b[1;33m(\u001b[0m\u001b[0mfigsize\u001b[0m\u001b[1;33m=\u001b[0m\u001b[1;33m(\u001b[0m\u001b[1;36m15\u001b[0m\u001b[1;33m,\u001b[0m\u001b[1;36m4\u001b[0m\u001b[1;33m)\u001b[0m\u001b[1;33m)\u001b[0m\u001b[1;33m\u001b[0m\u001b[0m\n\u001b[1;32m----> 4\u001b[1;33m \u001b[0mvg_lfpca\u001b[0m\u001b[1;33m.\u001b[0m\u001b[0mplot_spectral\u001b[0m\u001b[1;33m(\u001b[0m\u001b[0mplot_mean\u001b[0m\u001b[1;33m=\u001b[0m\u001b[1;32mFalse\u001b[0m\u001b[1;33m,\u001b[0m \u001b[0mplot_chan\u001b[0m\u001b[1;33m=\u001b[0m\u001b[0mplot_chan\u001b[0m\u001b[1;33m)\u001b[0m\u001b[1;33m\u001b[0m\u001b[0m\n\u001b[0m\u001b[0;32m      5\u001b[0m \u001b[1;33m\u001b[0m\u001b[0m\n\u001b[0;32m      6\u001b[0m \u001b[1;31m# plot_freqs = [7,55,100]\u001b[0m\u001b[1;33m\u001b[0m\u001b[1;33m\u001b[0m\u001b[0m\n",
      "\u001b[1;32m/Users/Lauren/Voytek/spectralCV\\scv_funcs\\lfpca.py\u001b[0m in \u001b[0;36mplot_spectral\u001b[1;34m(self, plot_mean, plot_chan, plot_color)\u001b[0m\n\u001b[0;32m    211\u001b[0m                 \u001b[0mplt\u001b[0m\u001b[1;33m.\u001b[0m\u001b[0mloglog\u001b[0m\u001b[1;33m(\u001b[0m\u001b[0mself\u001b[0m\u001b[1;33m.\u001b[0m\u001b[0mf_axis\u001b[0m\u001b[1;33m,\u001b[0m \u001b[0mm\u001b[0m\u001b[1;33m,\u001b[0m \u001b[0mplot_color\u001b[0m\u001b[1;33m)\u001b[0m\u001b[1;33m\u001b[0m\u001b[0m\n\u001b[0;32m    212\u001b[0m             \u001b[1;32melse\u001b[0m\u001b[1;33m:\u001b[0m\u001b[1;33m\u001b[0m\u001b[0m\n\u001b[1;32m--> 213\u001b[1;33m                 \u001b[0mplt\u001b[0m\u001b[1;33m.\u001b[0m\u001b[0mloglog\u001b[0m\u001b[1;33m(\u001b[0m\u001b[0mself\u001b[0m\u001b[1;33m.\u001b[0m\u001b[0mf_axis\u001b[0m\u001b[1;33m,\u001b[0m \u001b[0mgetattr\u001b[0m\u001b[1;33m(\u001b[0m\u001b[0mself\u001b[0m\u001b[1;33m,\u001b[0m \u001b[0mplot_keys\u001b[0m\u001b[1;33m[\u001b[0m\u001b[0mi\u001b[0m\u001b[1;33m]\u001b[0m\u001b[1;33m)\u001b[0m\u001b[1;33m[\u001b[0m\u001b[0mplot_chan\u001b[0m\u001b[1;33m,\u001b[0m\u001b[1;33m:\u001b[0m\u001b[1;33m]\u001b[0m\u001b[1;33m.\u001b[0m\u001b[0mT\u001b[0m\u001b[1;33m,\u001b[0m \u001b[0mplot_color\u001b[0m\u001b[1;33m,\u001b[0m \u001b[0malpha\u001b[0m\u001b[1;33m=\u001b[0m\u001b[0mnp\u001b[0m\u001b[1;33m.\u001b[0m\u001b[0mmax\u001b[0m\u001b[1;33m(\u001b[0m\u001b[1;33m[\u001b[0m\u001b[1;36m0.1\u001b[0m\u001b[1;33m,\u001b[0m \u001b[1;36m0.75\u001b[0m\u001b[1;33m-\u001b[0m\u001b[1;33m(\u001b[0m\u001b[0mnp\u001b[0m\u001b[1;33m.\u001b[0m\u001b[0msize\u001b[0m\u001b[1;33m(\u001b[0m\u001b[0mplot_chan\u001b[0m\u001b[1;33m)\u001b[0m\u001b[1;33m-\u001b[0m\u001b[1;36m1\u001b[0m\u001b[1;33m)\u001b[0m\u001b[1;33m/\u001b[0m\u001b[1;36m10\u001b[0m\u001b[1;33m]\u001b[0m\u001b[1;33m)\u001b[0m\u001b[1;33m)\u001b[0m\u001b[1;33m\u001b[0m\u001b[0m\n\u001b[0m\u001b[0;32m    214\u001b[0m \u001b[1;33m\u001b[0m\u001b[0m\n\u001b[0;32m    215\u001b[0m             \u001b[0mplt\u001b[0m\u001b[1;33m.\u001b[0m\u001b[0mtitle\u001b[0m\u001b[1;33m(\u001b[0m\u001b[0mtitles\u001b[0m\u001b[1;33m[\u001b[0m\u001b[0mi\u001b[0m\u001b[1;33m]\u001b[0m\u001b[1;33m)\u001b[0m\u001b[1;33m\u001b[0m\u001b[0m\n",
      "\u001b[1;31mAttributeError\u001b[0m: 'LFPCA' object has no attribute 'ks_pvals'"
     ]
    },
    {
     "data": {
      "image/png": "[encoded data removed]",
      "text/plain": [
       "<matplotlib.figure.Figure at 0x291b77c7da0>"
      ]
     },
     "metadata": {},
     "output_type": "display_data"
    }
   ],
   "source": [
    "plot_chan = 2\n",
    "\n",
    "plt.figure(figsize=(15,4))\n",
    "vg_lfpca.plot_spectral(plot_mean=False, plot_chan=plot_chan)\n",
    "\n",
    "# plot_freqs = [7,55,100]\n",
    "# plt.figure(figsize=(15,4))\n",
    "# for i,f in enumerate(plot_freqs):\n",
    "#     plt.subplot(1,3,i+1)\n",
    "#     vg_lfpca.plot_expfit(chan=plot_chan, freq_ind=f)\n",
    "\n",
    "plt.tight_layout()"
   ]
  }
 ],
 "metadata": {
  "kernelspec": {
   "display_name": "Python 3",
   "language": "python",
   "name": "python3"
  },
  "language_info": {
   "codemirror_mode": {
    "name": "ipython",
    "version": 3
   },
   "file_extension": ".py",
   "mimetype": "text/x-python",
   "name": "python",
   "nbconvert_exporter": "python",
   "pygments_lexer": "ipython3",
   "version": "3.6.4"
  }
 },
 "nbformat": 4,
 "nbformat_minor": 2
}
