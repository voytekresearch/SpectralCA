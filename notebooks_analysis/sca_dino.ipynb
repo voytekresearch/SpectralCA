{
 "cells": [
  {
   "cell_type": "markdown",
   "metadata": {},
   "source": [
    "# SCA through Dino LFP data"
   ]
  },
  {
   "cell_type": "code",
   "execution_count": 22,
   "metadata": {},
   "outputs": [
    {
     "name": "stdout",
     "output_type": "stream",
     "text": [
      "The autoreload extension is already loaded. To reload it, use:\n",
      "  %reload_ext autoreload\n"
     ]
    }
   ],
   "source": [
    "%load_ext autoreload\n",
    "%autoreload 2\n",
    "\n",
    "import sys\n",
    "sys.path.append('/Users/ldliao/Research/Projects/spectralCA/')\n",
    "sys.path.append('/Users/ldliao/Research/Projects/spectralCA/notebooks_visualization/')\n",
    "# sys.path.append('/Users/Lauren/Voytek/spectralCV')\n",
    "sys.path.append('/Users/rdgao/Documents/code/research/spectralCA')\n",
    "sys.path.append('/Users/rdgao/Documents/code/research/neurodsp/')\n",
    "# sys.path.append('/Users/rdgao/Documents/code/research/fooof/')"
   ]
  },
  {
   "cell_type": "code",
   "execution_count": 23,
   "metadata": {},
   "outputs": [],
   "source": [
    "import os\n",
    "path = '/Users/ldliao/Research/Projects/spectralCA/results/dino/'\n",
    "\n",
    "os.chdir(path) # DONT CHANGE PATH INSIDE THE NOTEBOOK, YOU\"LL GET LOST. USE FULL PATH\n",
    "import glob\n",
    "from sca import sca\n",
    "import neurodsp as ndsp\n",
    "\n",
    "# the final product to import the visualization\n",
    "from sca import sca_vis"
   ]
  },
  {
   "cell_type": "code",
   "execution_count": 24,
   "metadata": {},
   "outputs": [],
   "source": [
    "%matplotlib inline\n",
    "\n",
    "# imports\n",
    "# from sca import access_nt as asc\n",
    "import numpy as np\n",
    "import scipy as sp\n",
    "import matplotlib.pyplot as plt\n",
    "import scipy.io as io\n",
    "import pandas as pd\n",
    "\n",
    "import neurodsp as ndsp\n",
    "# from fooof import FOOOFGroup\n",
    "# import sca"
   ]
  },
  {
   "cell_type": "code",
   "execution_count": 25,
   "metadata": {},
   "outputs": [],
   "source": [
    "data_path = \"/Users/ldliao/Research/Data/Dino/Dino_072114_mPFC_ephys.mat\"\n",
    "# data_path = \"/Users/rdgao/Documents/data/CRCNS/fcx1/Dino_072114_mPFC/Dino_072114_mPFC_ephys.mat\"\n",
    "dino = io.loadmat(data_path, squeeze_me=True)"
   ]
  },
  {
   "cell_type": "code",
   "execution_count": 26,
   "metadata": {},
   "outputs": [],
   "source": [
    "info_path = \"/Users/ldliao/Research/Data/Dino/Dino_072114_mPFC_wakesleep.csv\"\n",
    "# info_path = \"/Users/rdgao/Documents/data/CRCNS/fcx1/Dino_072114_mPFC/Dino_072114_mPFC_wakesleep.csv\"\n",
    "info = pd.read_csv(info_path,index_col='Unnamed: 0')"
   ]
  },
  {
   "cell_type": "code",
   "execution_count": null,
   "metadata": {},
   "outputs": [],
   "source": [
    "info[-3:]"
   ]
  },
  {
   "cell_type": "code",
   "execution_count": 38,
   "metadata": {},
   "outputs": [],
   "source": [
    "label = 'WakeSleep'\n",
    "duration = list(zip(info[info['Label'] == label]['Start'].values, info[info['Label'] == label]['End'].values))\n",
    "fs = 1250\n",
    "analysis_param = {'nperseg': int(fs),\n",
    "                 'noverlap': 0,\n",
    "                 'spg_outlierpct': 4.,\n",
    "                 'max_freq':200}\n",
    "\n",
    "data = []\n",
    "for dur in duration:\n",
    "    start, end = dur\n",
    "    \n",
    "    # don't append like this because there will be a gap if there are multiple trials\n",
    "    # of the same type. Compute sca separately\n",
    "    data.append(dino['lfp'][:,start*fs:end*fs])\n",
    "    \n",
    "data = np.column_stack(data)"
   ]
  },
  {
   "cell_type": "code",
   "execution_count": 39,
   "metadata": {},
   "outputs": [],
   "source": [
    "# initialize object with data and parameters\n",
    "dino_sca = sca.SCA(analysis_param)\n",
    "dino_sca.populate_ts_data(data, fs)\n",
    "\n",
    "# compute all spectral attributes\n",
    "dino_sca.compute_all_spectral()\n",
    "\n",
    "# compute KS-test fit against null exponential hypothesis\n",
    "dino_sca.compute_KS_expfit() # this takes a few minutes\n",
    "\n",
    "chan_count, freq = dino_sca.psd.shape\n",
    "chan_labels = list(map(str, range(chan_count)))"
   ]
  },
  {
   "cell_type": "code",
   "execution_count": 40,
   "metadata": {},
   "outputs": [],
   "source": [
    "dino_sca.chan_labels = ['chan_'+chan for chan in chan_labels]\n",
    "# save out\n",
    "dino_sca.save_spec_vars('results/dino/'+label.lower(), save_spg=True)"
   ]
  },
  {
   "cell_type": "code",
   "execution_count": 42,
   "metadata": {},
   "outputs": [
    {
     "data": {
      "text/plain": [
       "['chan_0', 'chan_1', 'chan_2', 'chan_3']"
      ]
     },
     "execution_count": 42,
     "metadata": {},
     "output_type": "execute_result"
    }
   ],
   "source": [
    "dino_sca.chan_labels"
   ]
  },
  {
   "cell_type": "code",
   "execution_count": null,
   "metadata": {},
   "outputs": [],
   "source": []
  }
 ],
 "metadata": {
  "kernelspec": {
   "display_name": "Python 3",
   "language": "python",
   "name": "python3"
  },
  "language_info": {
   "codemirror_mode": {
    "name": "ipython",
    "version": 3
   },
   "file_extension": ".py",
   "mimetype": "text/x-python",
   "name": "python",
   "nbconvert_exporter": "python",
   "pygments_lexer": "ipython3",
   "version": "3.6.8"
  }
 },
 "nbformat": 4,
 "nbformat_minor": 2
}
