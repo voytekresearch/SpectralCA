{
 "cells": [
  {
   "cell_type": "markdown",
   "metadata": {},
   "source": [
    "# SCA through Dino LFP data"
   ]
  },
  {
   "cell_type": "code",
   "execution_count": 1,
   "metadata": {
    "collapsed": true
   },
   "outputs": [],
   "source": [
    "%load_ext autoreload\n",
    "%autoreload 2\n",
    "\n",
    "import sys\n",
    "sys.path.append('/Users/ldliao/Research/Projects/spectralCA/')\n",
    "sys.path.append('/Users/ldliao/Research/Projects/spectralCA/notebooks_visualization/')\n",
    "# sys.path.append('/Users/Lauren/Voytek/spectralCV')\n",
    "sys.path.append('/Users/rdgao/Documents/code/research/spectralCA')\n",
    "sys.path.append('/Users/rdgao/Documents/code/research/neurodsp/')\n",
    "# sys.path.append('/Users/rdgao/Documents/code/research/fooof/')"
   ]
  },
  {
   "cell_type": "code",
   "execution_count": 2,
   "metadata": {
    "collapsed": true
   },
   "outputs": [],
   "source": [
    "%matplotlib inline\n",
    "\n",
    "# imports\n",
    "from sca_funcs import access_nt as asc\n",
    "import numpy as np\n",
    "import scipy as sp\n",
    "import matplotlib.pyplot as plt\n",
    "import scipy.io as io\n",
    "import pandas as pd\n",
    "\n",
    "import neurodsp as ndsp\n",
    "# from fooof import FOOOFGroup\n",
    "from sca_funcs import sca"
   ]
  },
  {
   "cell_type": "code",
   "execution_count": 3,
   "metadata": {
    "collapsed": true
   },
   "outputs": [],
   "source": [
    "#data_path = \"/Users/ldliao/Research/Data/Dino/Dino_072114_mPFC_ephys.mat\"\n",
    "data_path = \"/Users/rdgao/Documents/data/CRCNS/fcx1/Dino_072114_mPFC/Dino_072114_mPFC_ephys.mat\"\n",
    "dino = io.loadmat(data_path, squeeze_me=True)"
   ]
  },
  {
   "cell_type": "code",
   "execution_count": 6,
   "metadata": {},
   "outputs": [],
   "source": [
    "#info_path = \"/Users/ldliao/Research/Data/Dino/Dino_072114_mPFC_wakesleep.csv\"\n",
    "info_path = \"/Users/rdgao/Documents/data/CRCNS/fcx1/Dino_072114_mPFC/Dino_072114_mPFC_wakesleep.csv\"\n",
    "info = pd.read_csv(info_path,index_col='Unnamed: 0')"
   ]
  },
  {
   "cell_type": "code",
   "execution_count": 10,
   "metadata": {},
   "outputs": [
    {
     "data": {
      "text/html": [
       "<div>\n",
       "<style>\n",
       "    .dataframe thead tr:only-child th {\n",
       "        text-align: right;\n",
       "    }\n",
       "\n",
       "    .dataframe thead th {\n",
       "        text-align: left;\n",
       "    }\n",
       "\n",
       "    .dataframe tbody tr th {\n",
       "        vertical-align: top;\n",
       "    }\n",
       "</style>\n",
       "<table border=\"1\" class=\"dataframe\">\n",
       "  <thead>\n",
       "    <tr style=\"text-align: right;\">\n",
       "      <th></th>\n",
       "      <th>Label</th>\n",
       "      <th>Start</th>\n",
       "      <th>Inter</th>\n",
       "      <th>End</th>\n",
       "    </tr>\n",
       "  </thead>\n",
       "  <tbody>\n",
       "    <tr>\n",
       "      <th>175</th>\n",
       "      <td>Wake</td>\n",
       "      <td>5</td>\n",
       "      <td>NaN</td>\n",
       "      <td>3361</td>\n",
       "    </tr>\n",
       "    <tr>\n",
       "      <th>176</th>\n",
       "      <td>Sleep</td>\n",
       "      <td>3361</td>\n",
       "      <td>NaN</td>\n",
       "      <td>4992</td>\n",
       "    </tr>\n",
       "    <tr>\n",
       "      <th>177</th>\n",
       "      <td>WakeSleep</td>\n",
       "      <td>5</td>\n",
       "      <td>3361.0</td>\n",
       "      <td>4992</td>\n",
       "    </tr>\n",
       "  </tbody>\n",
       "</table>\n",
       "</div>"
      ],
      "text/plain": [
       "         Label  Start   Inter   End\n",
       "175       Wake      5     NaN  3361\n",
       "176      Sleep   3361     NaN  4992\n",
       "177  WakeSleep      5  3361.0  4992"
      ]
     },
     "execution_count": 10,
     "metadata": {},
     "output_type": "execute_result"
    }
   ],
   "source": [
    "info[-3:]"
   ]
  },
  {
   "cell_type": "code",
   "execution_count": 48,
   "metadata": {
    "collapsed": true
   },
   "outputs": [],
   "source": [
    "label = 'Wake'\n",
    "duration = list(zip(info[info['Label'] == label]['Start'].values, info[info['Label'] == label]['End'].values))\n",
    "fs = 1250\n",
    "analysis_param = {'nperseg': int(fs),\n",
    "                 'noverlap': 0,\n",
    "                 'spg_outlierpct': 4.,\n",
    "                 'max_freq':200}\n",
    "\n",
    "data = []\n",
    "for dur in duration:\n",
    "    start, end = dur\n",
    "    \n",
    "    # don't append like this because there will be a gap if there are multiple trials\n",
    "    # of the same type. Compute sca separately\n",
    "    data.append(dino['lfp'][:,start*fs:end*fs])\n",
    "    \n",
    "data = np.column_stack(data)"
   ]
  },
  {
   "cell_type": "code",
   "execution_count": 49,
   "metadata": {},
   "outputs": [],
   "source": [
    "# initialize object with data and parameters\n",
    "dino_sca = sca.SCA(analysis_param)\n",
    "dino_sca.populate_ts_data(data, fs)\n",
    "\n",
    "# compute all spectral attributes\n",
    "dino_sca.compute_all_spectral()\n",
    "\n",
    "# compute KS-test fit against null exponential hypothesis\n",
    "dino_sca.compute_KS_expfit() # this takes a few minutes\n",
    "\n",
    "# save out\n",
    "dino_sca.save_spec_vars('../results/dino/'+label.lower(), save_spg=True)"
   ]
  },
  {
   "cell_type": "code",
   "execution_count": null,
   "metadata": {
    "collapsed": true
   },
   "outputs": [],
   "source": []
  }
 ],
 "metadata": {
  "kernelspec": {
   "display_name": "Python 3",
   "language": "python",
   "name": "python3"
  },
  "language_info": {
   "codemirror_mode": {
    "name": "ipython",
    "version": 3
   },
   "file_extension": ".py",
   "mimetype": "text/x-python",
   "name": "python",
   "nbconvert_exporter": "python",
   "pygments_lexer": "ipython3",
   "version": "3.6.3"
  }
 },
 "nbformat": 4,
 "nbformat_minor": 2
}
