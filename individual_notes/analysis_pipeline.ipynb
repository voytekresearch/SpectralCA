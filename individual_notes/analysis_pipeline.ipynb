{
 "cells": [
  {
   "cell_type": "markdown",
   "metadata": {},
   "source": [
    "# Analysis Pipeline"
   ]
  },
  {
   "cell_type": "markdown",
   "metadata": {},
   "source": [
    "Given any segment of time-series data:\n",
    "- Compute spectrogram (with window length and step length parameters)\n",
    "- Fit exponential distribution over all frequencies and compute KS test value & p-value\n",
    "- Compute SCV over same period (maybe throw out 1% outliers?)\n",
    "- Compute the PSD from that time period (compute the spectrogram mean over time bins)\n",
    "- Fooof PSD in 3 differe ways (take care to ignore 60Hz power line), and for each, save the fitted slope, offset, and fit error:\n",
    "\n",
    "     1. Fit straight line over all frequencies (2-80Hz)\n",
    "\n",
    "     2. Fit lorentzian over all frequencies (2-80Hz)\n",
    "\n",
    "     3. Fit straight line over only the frequency ranges that are not significant under KS test"
   ]
  },
  {
   "cell_type": "code",
   "execution_count": 1,
   "metadata": {},
   "outputs": [
    {
     "name": "stdout",
     "output_type": "stream",
     "text": [
      "C:\\Users\\Lauren\\Voytek\\spectralCV\n"
     ]
    }
   ],
   "source": [
    "cd .."
   ]
  },
  {
   "cell_type": "code",
   "execution_count": 15,
   "metadata": {
    "collapsed": true
   },
   "outputs": [],
   "source": [
    "# imports\n",
    "from scv_funcs import access_nt as asc\n",
    "import numpy as np\n",
    "import neurodsp as ndsp\n",
    "import matplotlib.pyplot as plt\n",
    "%matplotlib inline\n",
    "from scipy.stats import expon\n",
    "import scipy as sp"
   ]
  },
  {
   "cell_type": "code",
   "execution_count": 31,
   "metadata": {},
   "outputs": [],
   "source": [
    "# object that has attributes for taking any segment/ time-series data\n",
    "class lfpca:\n",
    "    \n",
    "    # segment also include attributes of fs, nperseg, and noverlap\n",
    "    def __init__(self,data,fs,nperseg,noverlap=0):\n",
    "        self.data = data\n",
    "        self.fs = fs\n",
    "        self.nperseg = nperseg\n",
    "        self.noverlap = noverlap\n",
    "                \n",
    "    # calculate the psd\n",
    "    def psd(self):\n",
    "        f, psd_ = ndsp.spectral.psd(data, Fs=fs, nperseg=nperseg, noverlap=noverlap)\n",
    "        return f, psd_\n",
    "    \n",
    "    # plotting histogram for a specific channel and frequency and fitting an exp pdf over it\n",
    "    def plot_expfit(self,chan,freq_ind,num_bins=100):\n",
    "        fig, ax = plt.subplots(1, 1)\n",
    "        f_axis_, t_axis_, spg_ = sp.signal.spectrogram(data[chan-1],fs=fs,nperseg=nperseg,noverlap=noverlap)\n",
    "        _, scale_ = sp.stats.expon.fit(spg_[freq_ind],floc=0)\n",
    "        hists = ax.hist(spg_[freq_ind],normed=True,bins=num_bins)\n",
    "        x = hists[1]\n",
    "        rv = expon(scale = scale_)\n",
    "        ax.plot(x, rv.pdf(x), 'k-', lw=2, label='frozen pdf',)\n",
    "        plt.legend()\n",
    "        plt.title('Frequency=%.1f Hz' %f[freq_ind])\n",
    "        plt.show()\n",
    "    \n",
    "    # calculate spectrogram of a specific channel and fitting against exponential\n",
    "    # calculating against ks test to get the test statistics and p-values\n",
    "    def ks_expfit(self,chan):\n",
    "        f_axis_, t_axis_, spg_ = sp.signal.spectrogram(data[chan-1],fs=fs,nperseg=nperseg,noverlap=noverlap)\n",
    "        pvals = np.zeros((len(spg_)))\n",
    "        statistics = np.zeros((len(spg_)))\n",
    "        for i in range(len(spg_)):\n",
    "            param = sp.stats.expon.fit(spg_[i], floc=0)\n",
    "            stat, pval = sp.stats.kstest(spg_[i], 'expon', args=param)\n",
    "            pvals[i] = pval\n",
    "            statistics[i] = stat\n",
    "        return pvals, statistics\n",
    "    \n",
    "    # calcuating the scv of a specific channel\n",
    "    def scv(self,chan):\n",
    "        f, scv_ = ndsp.spectral.scv(data[chan-1], Fs=fs, nperseg=nperseg, noverlap=noverlap, outlierpct=1)\n",
    "        return f, scv_\n",
    "    \n",
    "   # def "
   ]
  },
  {
   "cell_type": "code",
   "execution_count": 10,
   "metadata": {
    "collapsed": true
   },
   "outputs": [],
   "source": [
    "data_path =\"/Users/Lauren/Data/NeuroTycho/anesthesia/20120730PF_Anesthesia+and+Sleep_Chibi_Toru+Yanagawa_mat_ECoG128/Session%d/\"\n",
    "#data_path =\"/Users/rdgao/Documents/data/NeuroTycho/Propofol/20120730PF_Anesthesia+and+Sleep_Chibi_Toru+Yanagawa_mat_ECoG128/Session%d/\"\n",
    "session = 1\n",
    "chan = [1,2,3,4] # start at 1\n",
    "\n",
    "# with specified indices\n",
    "indices = [0,0]\n",
    "data = asc.get_ECoG(data_path, session, chan, indices)"
   ]
  },
  {
   "cell_type": "code",
   "execution_count": 11,
   "metadata": {},
   "outputs": [],
   "source": [
    "# example of using seg_fit\n",
    "fs = 1000\n",
    "nperseg = 1000\n",
    "noverlap = 0\n",
    "\n",
    "lfpca = lfpca(data,fs,nperseg,noverlap)"
   ]
  },
  {
   "cell_type": "code",
   "execution_count": 13,
   "metadata": {},
   "outputs": [
    {
     "data": {
      "image/png": "[encoded data removed]",
      "text/plain": [
       "<matplotlib.figure.Figure at 0x2df5710>"
      ]
     },
     "metadata": {},
     "output_type": "display_data"
    }
   ],
   "source": [
    "# example of psd\n",
    "f, psd_ = lfpca.psd()\n",
    "plt.loglog(f,psd_[0:,:].T);"
   ]
  },
  {
   "cell_type": "code",
   "execution_count": 37,
   "metadata": {},
   "outputs": [
    {
     "data": {
      "image/png": "[encoded data removed]",
      "text/plain": [
       "<matplotlib.figure.Figure at 0x333a630>"
      ]
     },
     "metadata": {},
     "output_type": "display_data"
    }
   ],
   "source": [
    "# example of plotting fitting exponential over specific frequency\n",
    "lfpca.plot_expfit(self=lfpca,chan=1,freq_ind=10,num_bins=100)"
   ]
  }
 ],
 "metadata": {
  "kernelspec": {
   "display_name": "Python 3",
   "language": "python",
   "name": "python3"
  },
  "language_info": {
   "codemirror_mode": {
    "name": "ipython",
    "version": 3
   },
   "file_extension": ".py",
   "mimetype": "text/x-python",
   "name": "python",
   "nbconvert_exporter": "python",
   "pygments_lexer": "ipython3",
   "version": "3.4.0"
  }
 },
 "nbformat": 4,
 "nbformat_minor": 2
}
