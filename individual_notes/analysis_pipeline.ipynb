{
 "cells": [
  {
   "cell_type": "markdown",
   "metadata": {},
   "source": [
    "# Analysis Pipeline"
   ]
  },
  {
   "cell_type": "markdown",
   "metadata": {},
   "source": [
    "Given any segment of time-series data:\n",
    "- Compute spectrogram (with window length and step length parameters)\n",
    "- Fit exponential distribution over all frequencies and compute KS test value & p-value\n",
    "- Compute SCV over same period (maybe throw out 1% outliers?)\n",
    "- Compute the PSD from that time period (compute the spectrogram mean over time bins)\n",
    "- Fooof PSD in 3 differe ways (take care to ignore 60Hz power line), and for each, save the fitted slope, offset, and fit error:\n",
    "\n",
    "     1. Fit straight line over all frequencies (2-80Hz)\n",
    "\n",
    "     2. Fit lorentzian over all frequencies (2-80Hz)\n",
    "\n",
    "     3. Fit straight line over only the frequency ranges that are not significant under KS test"
   ]
  },
  {
   "cell_type": "code",
   "execution_count": 3,
   "metadata": {},
   "outputs": [
    {
     "name": "stdout",
     "output_type": "stream",
     "text": [
      "The autoreload extension is already loaded. To reload it, use:\n",
      "  %reload_ext autoreload\n"
     ]
    }
   ],
   "source": [
    "%load_ext autoreload\n",
    "%autoreload 2\n",
    "\n",
    "import sys\n",
    "sys.path.append('/Users/Lauren/Voytek/spectralCV')\n",
    "sys.path.append('/Users/rdgao/Documents/code/research/spectralCV/')\n",
    "sys.path.append('/Users/rdgao/Documents/code/research/neurodsp/')\n",
    "sys.path.append('/Users/rdgao/Documents/code/research/fooof/')"
   ]
  },
  {
   "cell_type": "code",
   "execution_count": 4,
   "metadata": {},
   "outputs": [],
   "source": [
    "# imports\n",
    "from scv_funcs import access_nt as asc\n",
    "import numpy as np\n",
    "import neurodsp as ndsp\n",
    "import matplotlib.pyplot as plt\n",
    "%matplotlib inline\n",
    "from scipy.stats import expon\n",
    "import scipy as sp\n",
    "import fooof"
   ]
  },
  {
   "cell_type": "code",
   "execution_count": 5,
   "metadata": {},
   "outputs": [],
   "source": [
    "from scv_funcs import lfpca"
   ]
  },
  {
   "cell_type": "code",
   "execution_count": 6,
   "metadata": {},
   "outputs": [],
   "source": [
    "#data_path =\"/Users/Lauren/Data/NeuroTycho/anesthesia/20120730PF_Anesthesia+and+Sleep_Chibi_Toru+Yanagawa_mat_ECoG128/Session%d/\"\n",
    "data_path =\"/Users/rdgao/Documents/data/NeuroTycho/Propofol/20120730PF_Anesthesia+and+Sleep_Chibi_Toru+Yanagawa_mat_ECoG128/Session%d/\"\n",
    "session = 1\n",
    "chan = [1,2,3,4] # start at 1\n",
    "chan = [1]\n",
    "\n",
    "# with specified indices\n",
    "# print(asc.get_cond(data_path, 0,1))\n",
    "indices = [10000,60000]\n",
    "indices= [0,0]\n",
    "data = asc.get_ECoG(data_path, session, chan, indices)"
   ]
  },
  {
   "cell_type": "code",
   "execution_count": 8,
   "metadata": {},
   "outputs": [],
   "source": [
    "# example of using seg_fit\n",
    "fs = 1000\n",
    "nperseg = 1000\n",
    "noverlap = 0\n",
    "\n",
    "lfpca = lfpca.LFPCA(data,fs,nperseg,noverlap, spg_outlierpct=2., max_freq=200)"
   ]
  },
  {
   "cell_type": "code",
   "execution_count": 9,
   "metadata": {},
   "outputs": [
    {
     "name": "stdout",
     "output_type": "stream",
     "text": [
      "(1, 200, 1929)\n"
     ]
    }
   ],
   "source": [
    "#lfpca.spg_outlierpct = 15.\n",
    "lfpca.compute_spg()\n",
    "print(lfpca.spg.shape)\n",
    "lfpca.compute_psd()\n",
    "lfpca.compute_scv()\n"
   ]
  },
  {
   "cell_type": "code",
   "execution_count": 10,
   "metadata": {},
   "outputs": [
    {
     "data": {
      "image/png": "[encoded data removed]",
      "text/plain": [
       "<matplotlib.figure.Figure at 0x1c17b739e8>"
      ]
     },
     "metadata": {},
     "output_type": "display_data"
    }
   ],
   "source": [
    "lfpca.plot_expfit(0,10)"
   ]
  },
  {
   "cell_type": "code",
   "execution_count": 11,
   "metadata": {},
   "outputs": [],
   "source": [
    "lfpca.compute_KS_expfit()"
   ]
  },
  {
   "cell_type": "code",
   "execution_count": 12,
   "metadata": {},
   "outputs": [
    {
     "data": {
      "text/plain": [
       "[<matplotlib.lines.Line2D at 0x1c24797908>]"
      ]
     },
     "execution_count": 12,
     "metadata": {},
     "output_type": "execute_result"
    },
    {
     "data": {
      "image/png": "[encoded data removed]",
      "text/plain": [
       "<matplotlib.figure.Figure at 0x1c24797940>"
      ]
     },
     "metadata": {},
     "output_type": "display_data"
    }
   ],
   "source": [
    "plt.loglog(lfpca.f_axis, lfpca.ks_pvals.T, '.')\n",
    "plt.plot(lfpca.f_axis, np.ones_like(lfpca.f_axis)*0.01/len(lfpca.f_axis), 'r--')"
   ]
  },
  {
   "cell_type": "code",
   "execution_count": null,
   "metadata": {
    "collapsed": true
   },
   "outputs": [],
   "source": []
  }
 ],
 "metadata": {
  "kernelspec": {
   "display_name": "Python 3",
   "language": "python",
   "name": "python3"
  },
  "language_info": {
   "codemirror_mode": {
    "name": "ipython",
    "version": 3
   },
   "file_extension": ".py",
   "mimetype": "text/x-python",
   "name": "python",
   "nbconvert_exporter": "python",
   "pygments_lexer": "ipython3",
   "version": "3.6.3"
  }
 },
 "nbformat": 4,
 "nbformat_minor": 2
}
