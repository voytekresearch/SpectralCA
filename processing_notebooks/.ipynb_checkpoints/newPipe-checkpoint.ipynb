{
 "cells": [
  {
   "cell_type": "markdown",
   "metadata": {},
   "source": [
    "# New ECoG pipeline for accessing NeuroTycho"
   ]
  },
  {
   "cell_type": "code",
   "execution_count": 2,
   "metadata": {},
   "outputs": [],
   "source": [
    "from codes import access_nt as asc"
   ]
  },
  {
   "cell_type": "code",
   "execution_count": 15,
   "metadata": {},
   "outputs": [
    {
     "name": "stdout",
     "output_type": "stream",
     "text": [
      "[[ 139  153  119  101   78   96  117  121  107  107   73   51   23   20\n",
      "    56   38  -17  -70 -132]\n",
      " [ 261  257  255  246  249  245  232  233  239  216  205  180  167  157\n",
      "   176  125   41  -48 -115]]\n"
     ]
    }
   ],
   "source": [
    "data_path =\"/Users/Lauren/Data/NeuroTycho/20120730PF_Anesthesia+and+Sleep_Chibi_Toru+Yanagawa_mat_ECoG128/Session%d/\"\n",
    "session = 1\n",
    "chan = [1,2]\n",
    "\n",
    "# with specified indices\n",
    "indices = [1,20]\n",
    "data, timefile = asc.get_ECoG(data_path, session, chan, indices)\n",
    "print(data)"
   ]
  },
  {
   "cell_type": "code",
   "execution_count": 14,
   "metadata": {},
   "outputs": [
    {
     "name": "stdout",
     "output_type": "stream",
     "text": [
      "[[119 139 153 ...,  30  54  61]\n",
      " [261 261 257 ..., 106 126 156]]\n"
     ]
    }
   ],
   "source": [
    "# without specified indices\n",
    "data, timefile = asc.get_ECoG(data_path, session, chan)\n",
    "print(data)"
   ]
  }
 ],
 "metadata": {
  "kernelspec": {
   "display_name": "Python 3",
   "language": "python",
   "name": "python3"
  },
  "language_info": {
   "codemirror_mode": {
    "name": "ipython",
    "version": 3
   },
   "file_extension": ".py",
   "mimetype": "text/x-python",
   "name": "python",
   "nbconvert_exporter": "python",
   "pygments_lexer": "ipython3",
   "version": "3.4.0"
  }
 },
 "nbformat": 4,
 "nbformat_minor": 2
}
