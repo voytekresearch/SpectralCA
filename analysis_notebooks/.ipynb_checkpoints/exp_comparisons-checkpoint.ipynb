{
 "cells": [
  {
   "cell_type": "markdown",
   "metadata": {},
   "source": [
    "# Exponential Comparisons\n",
    "step1: pds(emp power)\n",
    "step2: theoretical exp. dist\n",
    "step3: compare two distributions"
   ]
  },
  {
   "cell_type": "code",
   "execution_count": 1,
   "metadata": {},
   "outputs": [
    {
     "name": "stdout",
     "output_type": "stream",
     "text": [
      "C:\\Users\\Lauren\\Voytek\\spectralCV\n"
     ]
    }
   ],
   "source": [
    "cd .."
   ]
  },
  {
   "cell_type": "code",
   "execution_count": 2,
   "metadata": {
    "collapsed": true
   },
   "outputs": [],
   "source": [
    "from scv_funcs import access_nt as asc\n",
    "import numpy as np"
   ]
  },
  {
   "cell_type": "code",
   "execution_count": 3,
   "metadata": {
    "collapsed": true
   },
   "outputs": [],
   "source": [
    "data_path =\"/Users/Lauren/Data/NeuroTycho/anesthesia/20120730PF_Anesthesia+and+Sleep_Chibi_Toru+Yanagawa_mat_ECoG128/Session%d/\"\n",
    "session = 1\n",
    "chan = [1,2]\n",
    "\n",
    "# with specified indices\n",
    "indices = [0,0]\n",
    "data = asc.get_ECoG(data_path, session, chan, indices)"
   ]
  },
  {
   "cell_type": "code",
   "execution_count": 4,
   "metadata": {
    "collapsed": true
   },
   "outputs": [],
   "source": [
    "import neurodsp as ndsp\n",
    "import matplotlib.pyplot as plt\n",
    "%matplotlib inline"
   ]
  },
  {
   "cell_type": "code",
   "execution_count": 5,
   "metadata": {
    "collapsed": true
   },
   "outputs": [],
   "source": [
    "fs = 1000\n",
    "nperseg = 1000\n",
    "noverlap = nperseg/2\n",
    "f, psd_ = ndsp.spectral.psd(data, Fs=fs, nperseg=nperseg, noverlap=noverlap)"
   ]
  },
  {
   "cell_type": "code",
   "execution_count": 9,
   "metadata": {},
   "outputs": [
    {
     "data": {
      "image/png": "[encoded data removed]",
      "text/plain": [
       "<matplotlib.figure.Figure at 0xdd5b0b8>"
      ]
     },
     "metadata": {},
     "output_type": "display_data"
    }
   ],
   "source": [
    "_ = plt.plot(psd_[0])"
   ]
  },
  {
   "cell_type": "code",
   "execution_count": 15,
   "metadata": {},
   "outputs": [
    {
     "data": {
      "image/png": "[encoded data removed]",
      "text/plain": [
       "<matplotlib.figure.Figure at 0x756f0b8>"
      ]
     },
     "metadata": {},
     "output_type": "display_data"
    }
   ],
   "source": [
    "x = np.linspace(0, 500, 500)\n",
    "#x = np.random.rand(500)*500\n",
    "y = np.exp(x)\n",
    "_ = plt.plot(-x,y)\n",
    "_ = plt.plot(psd_[0])\n",
    "_= plt.xlim([0,501])\n",
    "_= plt.ylim([0,2500])"
   ]
  },
  {
   "cell_type": "code",
   "execution_count": 57,
   "metadata": {},
   "outputs": [
    {
     "data": {
      "image/png": "[encoded data removed]",
      "text/plain": [
       "<matplotlib.figure.Figure at 0x10af8438>"
      ]
     },
     "metadata": {},
     "output_type": "display_data"
    }
   ],
   "source": [
    "from scipy.stats import expon\n",
    "import matplotlib.pyplot as plt\n",
    "fig, ax = plt.subplots(1, 1)\n",
    "mean, var, skew, kurt = expon.stats(moments='mvsk')\n",
    "x = np.linspace(expon.ppf(0.01), expon.ppf(0.99), 501)\n",
    "#ax.plot(x, expon.pdf(x),'r-', lw=5, alpha=0.6, label='expon pdf')\n",
    "_ = ax.plot(psd_[0])\n",
    "_ = ax.plot(psd_[1])"
   ]
  },
  {
   "cell_type": "code",
   "execution_count": 45,
   "metadata": {},
   "outputs": [
    {
     "data": {
      "text/plain": [
       "array([  4.64489380e+02,   2.42469922e+03,   2.29797925e+03,\n",
       "         1.91677405e+03,   1.58345142e+03,   1.34452710e+03,\n",
       "         1.25086096e+03,   1.21011230e+03,   1.35896155e+03,\n",
       "         1.61066089e+03,   1.69276404e+03,   1.69679211e+03,\n",
       "         1.59939832e+03,   1.50817480e+03,   1.43016101e+03,\n",
       "         1.47891895e+03,   1.47795398e+03,   1.41323047e+03,\n",
       "         1.24493274e+03,   1.04055225e+03,   8.41815247e+02,\n",
       "         6.36636841e+02,   4.74073029e+02,   3.59027679e+02,\n",
       "         2.87511383e+02,   2.39838791e+02,   2.04228104e+02,\n",
       "         1.77255325e+02,   1.53237656e+02,   1.33877609e+02,\n",
       "         1.21035851e+02,   1.10364067e+02,   1.00073280e+02,\n",
       "         9.19725113e+01,   7.89400787e+01,   6.94221954e+01,\n",
       "         6.32200584e+01,   5.62885780e+01,   5.00305443e+01,\n",
       "         4.48373947e+01,   3.99211845e+01,   3.64009666e+01,\n",
       "         3.38842392e+01,   3.04158306e+01,   2.73988667e+01,\n",
       "         2.51832390e+01,   2.39469280e+01,   2.23761101e+01,\n",
       "         2.12034454e+01,   2.01830959e+01,   2.00509739e+01,\n",
       "         1.75215874e+01,   1.59937048e+01,   1.48233519e+01,\n",
       "         1.39488230e+01,   1.31758661e+01,   1.26313610e+01,\n",
       "         1.21433477e+01,   1.16713171e+01,   1.09920015e+01,\n",
       "         1.05789537e+01,   1.02761374e+01,   9.79303551e+00,\n",
       "         9.06450462e+00,   8.78852749e+00,   8.52662182e+00,\n",
       "         8.21119976e+00,   7.99600840e+00,   7.46841002e+00,\n",
       "         7.30546093e+00,   7.12125921e+00,   6.65517139e+00,\n",
       "         6.20336342e+00,   6.07616329e+00,   5.81329441e+00,\n",
       "         5.64556837e+00,   5.47178888e+00,   5.48152304e+00,\n",
       "         5.19494343e+00,   5.09665442e+00,   4.91480398e+00,\n",
       "         4.77734900e+00,   4.79684877e+00,   4.63740969e+00,\n",
       "         4.36950636e+00,   4.20839500e+00,   4.21624517e+00,\n",
       "         4.30990028e+00,   4.23033905e+00,   4.29327488e+00,\n",
       "         4.30816841e+00,   4.09650373e+00,   4.08426428e+00,\n",
       "         4.04559994e+00,   4.07231283e+00,   3.94951582e+00,\n",
       "         3.91984797e+00,   3.82322836e+00,   3.64883876e+00,\n",
       "         3.57802963e+00,   3.54378247e+00,   3.45450497e+00,\n",
       "         3.46761894e+00,   3.46460009e+00,   3.39421487e+00,\n",
       "         3.27382445e+00,   3.38321209e+00,   3.27404618e+00,\n",
       "         3.44566131e+00,   3.31115270e+00,   3.30783653e+00,\n",
       "         3.14072251e+00,   3.18119621e+00,   3.24377060e+00,\n",
       "         3.13205028e+00,   2.99358559e+00,   2.86629725e+00,\n",
       "         2.76079535e+00,   2.57691169e+00,   2.55423045e+00,\n",
       "         2.45088315e+00,   2.40917730e+00,   2.44133925e+00,\n",
       "         2.38432741e+00,   2.50456119e+00,   2.31979752e+00,\n",
       "         2.26007342e+00,   2.20168781e+00,   2.13900876e+00,\n",
       "         2.02954769e+00,   1.90345454e+00,   1.93584836e+00,\n",
       "         1.83901250e+00,   1.77143276e+00,   1.73426831e+00,\n",
       "         1.67318177e+00,   1.64010894e+00,   1.64495075e+00,\n",
       "         1.55791926e+00,   1.58003175e+00,   1.57047153e+00,\n",
       "         1.59448862e+00,   1.59436524e+00,   1.56132817e+00,\n",
       "         1.49354231e+00,   1.50643468e+00,   1.46594453e+00,\n",
       "         1.40838158e+00,   1.45903504e+00,   1.38488638e+00,\n",
       "         1.34466052e+00,   1.37714159e+00,   1.24932504e+00,\n",
       "         1.27994871e+00,   1.26702440e+00,   1.30810809e+00,\n",
       "         1.26179838e+00,   1.25228143e+00,   1.25791204e+00,\n",
       "         1.26990783e+00,   1.19729471e+00,   1.11798799e+00,\n",
       "         1.02655733e+00,   1.05553997e+00,   9.93786991e-01,\n",
       "         1.01087606e+00,   9.99969900e-01,   9.88303661e-01,\n",
       "         9.71691310e-01,   1.01974201e+00,   9.49793220e-01,\n",
       "         9.40064847e-01,   9.37617898e-01,   8.58188212e-01,\n",
       "         8.00642550e-01,   7.77322710e-01,   7.69401073e-01,\n",
       "         7.79618561e-01,   7.72613168e-01,   7.92882025e-01,\n",
       "         7.59563327e-01,   7.57286727e-01,   7.85286784e-01,\n",
       "         7.97122538e-01,   8.12676251e-01,   8.38460922e-01,\n",
       "         8.18423390e-01,   8.14870358e-01,   7.82184482e-01,\n",
       "         7.39978731e-01,   7.89696455e-01,   7.83392489e-01,\n",
       "         7.73928046e-01,   7.67170072e-01,   7.29269624e-01,\n",
       "         7.09384441e-01,   6.37566924e-01,   6.33903623e-01,\n",
       "         6.30991757e-01,   5.89615226e-01,   5.96206427e-01,\n",
       "         5.83776534e-01,   5.93433559e-01,   5.83330631e-01,\n",
       "         5.75599253e-01,   5.52803278e-01,   5.54577351e-01,\n",
       "         5.40440500e-01,   5.31455159e-01,   4.99999017e-01,\n",
       "         4.78747308e-01,   4.76279110e-01,   4.62298065e-01,\n",
       "         4.71874624e-01,   4.71013278e-01,   4.44700271e-01,\n",
       "         4.78244811e-01,   4.78268296e-01,   4.66012567e-01,\n",
       "         4.38479990e-01,   4.56862301e-01,   4.60232645e-01,\n",
       "         4.16941464e-01,   4.44757193e-01,   4.58381742e-01,\n",
       "         4.29502070e-01,   4.03070867e-01,   4.24581677e-01,\n",
       "         4.47108358e-01,   4.37913686e-01,   4.15877283e-01,\n",
       "         4.22305763e-01,   4.18499500e-01,   3.85850310e-01,\n",
       "         3.86159033e-01,   3.72304231e-01,   3.63340914e-01,\n",
       "         3.82849425e-01,   3.72331589e-01,   3.51331413e-01,\n",
       "         3.37451249e-01,   3.27985495e-01,   3.36452842e-01,\n",
       "         3.19865435e-01,   3.08258265e-01,   2.92268604e-01,\n",
       "         3.02148461e-01,   3.11295509e-01,   2.93836087e-01,\n",
       "         2.91421086e-01,   3.00664097e-01,   3.12579840e-01,\n",
       "         2.91796207e-01,   2.79161602e-01,   2.67921805e-01,\n",
       "         2.65769362e-01,   2.48185575e-01,   2.40096301e-01,\n",
       "         2.48373583e-01,   2.56359518e-01,   2.59007901e-01,\n",
       "         2.45929584e-01,   2.45913789e-01,   2.66566545e-01,\n",
       "         2.46446490e-01,   2.37864792e-01,   2.36459985e-01,\n",
       "         2.22303286e-01,   2.13888973e-01,   2.10118368e-01,\n",
       "         2.14065447e-01,   2.13141724e-01,   2.10127443e-01,\n",
       "         2.19308630e-01,   2.17091352e-01,   2.11813435e-01,\n",
       "         2.13075101e-01,   2.10314080e-01,   2.09668681e-01,\n",
       "         2.09889472e-01,   2.17011452e-01,   2.08306909e-01,\n",
       "         2.01425508e-01,   2.04228252e-01,   1.99184135e-01,\n",
       "         1.97548673e-01,   1.99817136e-01,   1.97168276e-01,\n",
       "         1.92391574e-01,   1.93889365e-01,   1.93632022e-01,\n",
       "         1.89842790e-01,   1.88316703e-01,   1.90174058e-01,\n",
       "         1.90228924e-01,   1.83592945e-01,   1.78968847e-01,\n",
       "         1.85770109e-01,   1.84778124e-01,   1.81779057e-01,\n",
       "         1.86723173e-01,   1.78638831e-01,   1.83122337e-01,\n",
       "         1.85099274e-01,   1.82400882e-01,   1.85182571e-01,\n",
       "         1.82828903e-01,   1.86227247e-01,   1.80537850e-01,\n",
       "         1.82624146e-01,   1.81558788e-01,   1.79268911e-01,\n",
       "         1.72050223e-01,   1.70159131e-01,   1.72976598e-01,\n",
       "         1.77843422e-01,   1.70516327e-01,   1.68086335e-01,\n",
       "         1.70714676e-01,   1.66255146e-01,   1.60854667e-01,\n",
       "         1.60855725e-01,   1.62450314e-01,   1.59989446e-01,\n",
       "         1.58779338e-01,   1.61025703e-01,   1.58777431e-01,\n",
       "         1.59622267e-01,   1.62745997e-01,   1.60697564e-01,\n",
       "         1.56265497e-01,   1.57399341e-01,   1.61947235e-01,\n",
       "         1.62918970e-01,   1.49763376e-01,   1.46024212e-01,\n",
       "         1.47402555e-01,   1.51652455e-01,   1.36967063e-01,\n",
       "         1.40782863e-01,   1.41834453e-01,   1.34239912e-01,\n",
       "         1.36363462e-01,   1.42666042e-01,   1.37011528e-01,\n",
       "         1.36695117e-01,   1.42304644e-01,   1.45803168e-01,\n",
       "         1.48872957e-01,   1.55227646e-01,   1.57957718e-01,\n",
       "         1.52832046e-01,   1.55222416e-01,   1.50124207e-01,\n",
       "         1.45971522e-01,   1.40882611e-01,   1.46174267e-01,\n",
       "         1.35482118e-01,   1.38608932e-01,   1.39700368e-01,\n",
       "         1.39206827e-01,   1.40374303e-01,   1.36295274e-01,\n",
       "         1.33682534e-01,   1.37144551e-01,   1.40167922e-01,\n",
       "         1.36373758e-01,   1.31808072e-01,   1.32796377e-01,\n",
       "         1.32196367e-01,   1.38007298e-01,   1.30449504e-01,\n",
       "         1.27215475e-01,   1.32879078e-01,   1.28814846e-01,\n",
       "         1.32356554e-01,   1.30482554e-01,   1.25423536e-01,\n",
       "         1.28957242e-01,   1.29872963e-01,   1.30480096e-01,\n",
       "         1.23470686e-01,   1.33850545e-01,   1.30674720e-01,\n",
       "         1.28306478e-01,   1.28965095e-01,   1.27219304e-01,\n",
       "         1.26373723e-01,   1.27801642e-01,   1.26185179e-01,\n",
       "         1.28202677e-01,   1.29379392e-01,   1.27390131e-01,\n",
       "         1.28771365e-01,   1.26133353e-01,   1.18284129e-01,\n",
       "         1.19009726e-01,   1.19038813e-01,   1.17506705e-01,\n",
       "         1.16110988e-01,   1.19881250e-01,   1.15544684e-01,\n",
       "         1.18262619e-01,   1.18544102e-01,   1.10761434e-01,\n",
       "         1.09742723e-01,   1.06405340e-01,   1.08632758e-01,\n",
       "         1.07058547e-01,   1.07511953e-01,   1.06529281e-01,\n",
       "         1.03263780e-01,   1.05005011e-01,   1.03724159e-01,\n",
       "         1.06959149e-01,   1.09594353e-01,   1.10950954e-01,\n",
       "         1.13413066e-01,   1.13334507e-01,   1.10561967e-01,\n",
       "         1.03264622e-01,   1.05771378e-01,   1.10875450e-01,\n",
       "         1.04408249e-01,   1.01899087e-01,   1.03866659e-01,\n",
       "         1.06389523e-01,   1.04428872e-01,   1.02799632e-01,\n",
       "         1.02610163e-01,   9.92645994e-02,   9.68747959e-02,\n",
       "         1.00799732e-01,   1.00054994e-01,   9.77459624e-02,\n",
       "         9.54207107e-02,   9.62699130e-02,   1.02225929e-01,\n",
       "         1.04822099e-01,   1.00718819e-01,   9.98915434e-02,\n",
       "         1.01659551e-01,   1.04234658e-01,   1.04901314e-01,\n",
       "         9.73033682e-02,   9.83256400e-02,   1.03409410e-01,\n",
       "         9.72982422e-02,   9.58257839e-02,   9.65813696e-02,\n",
       "         9.73804221e-02,   9.31249261e-02,   9.45459753e-02,\n",
       "         9.34005305e-02,   9.51701254e-02,   9.68062952e-02,\n",
       "         9.71945971e-02,   9.63323861e-02,   9.50205401e-02,\n",
       "         9.47959572e-02,   9.75081250e-02,   9.19393376e-02,\n",
       "         8.98808837e-02,   9.36910883e-02,   9.39309299e-02,\n",
       "         9.13515389e-02,   8.85442570e-02,   9.05613005e-02,\n",
       "         9.21091884e-02,   8.74106660e-02,   8.79557729e-02,\n",
       "         8.83714482e-02,   8.78550112e-02,   9.01411548e-02,\n",
       "         8.86345580e-02,   9.07484591e-02,   9.42455679e-02,\n",
       "         9.36542079e-02,   9.38270241e-02,   9.03494507e-02,\n",
       "         8.93308148e-02,   9.02164727e-02,   9.14982483e-02,\n",
       "         9.34784114e-02,   9.18448642e-02,   8.88643861e-02,\n",
       "         8.59335065e-02,   9.09103677e-02,   9.20563862e-02,\n",
       "         9.22905058e-02,   9.38774869e-02,   9.74086970e-02,\n",
       "         9.75234956e-02,   9.34122652e-02,   8.82750079e-02,\n",
       "         8.82244259e-02,   8.86393636e-02,   8.43033791e-02,\n",
       "         8.54615867e-02,   8.67474526e-02,   4.20008078e-02], dtype=float32)"
      ]
     },
     "execution_count": 45,
     "metadata": {},
     "output_type": "execute_result"
    }
   ],
   "source": [
    "psd_[1]"
   ]
  },
  {
   "cell_type": "code",
   "execution_count": 35,
   "metadata": {},
   "outputs": [
    {
     "data": {
      "text/plain": [
       "(501, 501)"
      ]
     },
     "execution_count": 35,
     "metadata": {},
     "output_type": "execute_result"
    }
   ],
   "source": [
    "len(psd_[0]), len(x)"
   ]
  },
  {
   "cell_type": "code",
   "execution_count": 36,
   "metadata": {},
   "outputs": [
    {
     "data": {
      "text/plain": [
       "array([ 0.01005034,  0.01924058,  0.02843082,  0.03762105,  0.04681129,\n",
       "        0.05600153,  0.06519177,  0.07438201,  0.08357225,  0.09276249,\n",
       "        0.10195273,  0.11114297,  0.12033321,  0.12952345,  0.13871369,\n",
       "        0.14790393,  0.15709417,  0.16628441,  0.17547465,  0.18466489,\n",
       "        0.19385513,  0.20304537,  0.21223561,  0.22142585,  0.23061609,\n",
       "        0.23980633,  0.24899657,  0.25818681,  0.26737705,  0.27656729,\n",
       "        0.28575753,  0.29494777,  0.30413801,  0.31332825,  0.32251849,\n",
       "        0.33170873,  0.34089897,  0.3500892 ,  0.35927944,  0.36846968,\n",
       "        0.37765992,  0.38685016,  0.3960404 ,  0.40523064,  0.41442088,\n",
       "        0.42361112,  0.43280136,  0.4419916 ,  0.45118184,  0.46037208,\n",
       "        0.46956232,  0.47875256,  0.4879428 ,  0.49713304,  0.50632328,\n",
       "        0.51551352,  0.52470376,  0.533894  ,  0.54308424,  0.55227448,\n",
       "        0.56146472,  0.57065496,  0.5798452 ,  0.58903544,  0.59822568,\n",
       "        0.60741592,  0.61660616,  0.6257964 ,  0.63498664,  0.64417688,\n",
       "        0.65336711,  0.66255735,  0.67174759,  0.68093783,  0.69012807,\n",
       "        0.69931831,  0.70850855,  0.71769879,  0.72688903,  0.73607927,\n",
       "        0.74526951,  0.75445975,  0.76364999,  0.77284023,  0.78203047,\n",
       "        0.79122071,  0.80041095,  0.80960119,  0.81879143,  0.82798167,\n",
       "        0.83717191,  0.84636215,  0.85555239,  0.86474263,  0.87393287,\n",
       "        0.88312311,  0.89231335,  0.90150359,  0.91069383,  0.91988407,\n",
       "        0.92907431,  0.93826455,  0.94745479,  0.95664502,  0.96583526,\n",
       "        0.9750255 ,  0.98421574,  0.99340598,  1.00259622,  1.01178646,\n",
       "        1.0209767 ,  1.03016694,  1.03935718,  1.04854742,  1.05773766,\n",
       "        1.0669279 ,  1.07611814,  1.08530838,  1.09449862,  1.10368886,\n",
       "        1.1128791 ,  1.12206934,  1.13125958,  1.14044982,  1.14964006,\n",
       "        1.1588303 ,  1.16802054,  1.17721078,  1.18640102,  1.19559126,\n",
       "        1.2047815 ,  1.21397174,  1.22316198,  1.23235222,  1.24154246,\n",
       "        1.2507327 ,  1.25992294,  1.26911317,  1.27830341,  1.28749365,\n",
       "        1.29668389,  1.30587413,  1.31506437,  1.32425461,  1.33344485,\n",
       "        1.34263509,  1.35182533,  1.36101557,  1.37020581,  1.37939605,\n",
       "        1.38858629,  1.39777653,  1.40696677,  1.41615701,  1.42534725,\n",
       "        1.43453749,  1.44372773,  1.45291797,  1.46210821,  1.47129845,\n",
       "        1.48048869,  1.48967893,  1.49886917,  1.50805941,  1.51724965,\n",
       "        1.52643989,  1.53563013,  1.54482037,  1.55401061,  1.56320085,\n",
       "        1.57239108,  1.58158132,  1.59077156,  1.5999618 ,  1.60915204,\n",
       "        1.61834228,  1.62753252,  1.63672276,  1.645913  ,  1.65510324,\n",
       "        1.66429348,  1.67348372,  1.68267396,  1.6918642 ,  1.70105444,\n",
       "        1.71024468,  1.71943492,  1.72862516,  1.7378154 ,  1.74700564,\n",
       "        1.75619588,  1.76538612,  1.77457636,  1.7837666 ,  1.79295684,\n",
       "        1.80214708,  1.81133732,  1.82052756,  1.8297178 ,  1.83890804,\n",
       "        1.84809828,  1.85728852,  1.86647876,  1.875669  ,  1.88485923,\n",
       "        1.89404947,  1.90323971,  1.91242995,  1.92162019,  1.93081043,\n",
       "        1.94000067,  1.94919091,  1.95838115,  1.96757139,  1.97676163,\n",
       "        1.98595187,  1.99514211,  2.00433235,  2.01352259,  2.02271283,\n",
       "        2.03190307,  2.04109331,  2.05028355,  2.05947379,  2.06866403,\n",
       "        2.07785427,  2.08704451,  2.09623475,  2.10542499,  2.11461523,\n",
       "        2.12380547,  2.13299571,  2.14218595,  2.15137619,  2.16056643,\n",
       "        2.16975667,  2.17894691,  2.18813714,  2.19732738,  2.20651762,\n",
       "        2.21570786,  2.2248981 ,  2.23408834,  2.24327858,  2.25246882,\n",
       "        2.26165906,  2.2708493 ,  2.28003954,  2.28922978,  2.29842002,\n",
       "        2.30761026,  2.3168005 ,  2.32599074,  2.33518098,  2.34437122,\n",
       "        2.35356146,  2.3627517 ,  2.37194194,  2.38113218,  2.39032242,\n",
       "        2.39951266,  2.4087029 ,  2.41789314,  2.42708338,  2.43627362,\n",
       "        2.44546386,  2.4546541 ,  2.46384434,  2.47303458,  2.48222482,\n",
       "        2.49141505,  2.50060529,  2.50979553,  2.51898577,  2.52817601,\n",
       "        2.53736625,  2.54655649,  2.55574673,  2.56493697,  2.57412721,\n",
       "        2.58331745,  2.59250769,  2.60169793,  2.61088817,  2.62007841,\n",
       "        2.62926865,  2.63845889,  2.64764913,  2.65683937,  2.66602961,\n",
       "        2.67521985,  2.68441009,  2.69360033,  2.70279057,  2.71198081,\n",
       "        2.72117105,  2.73036129,  2.73955153,  2.74874177,  2.75793201,\n",
       "        2.76712225,  2.77631249,  2.78550273,  2.79469297,  2.8038832 ,\n",
       "        2.81307344,  2.82226368,  2.83145392,  2.84064416,  2.8498344 ,\n",
       "        2.85902464,  2.86821488,  2.87740512,  2.88659536,  2.8957856 ,\n",
       "        2.90497584,  2.91416608,  2.92335632,  2.93254656,  2.9417368 ,\n",
       "        2.95092704,  2.96011728,  2.96930752,  2.97849776,  2.987688  ,\n",
       "        2.99687824,  3.00606848,  3.01525872,  3.02444896,  3.0336392 ,\n",
       "        3.04282944,  3.05201968,  3.06120992,  3.07040016,  3.0795904 ,\n",
       "        3.08878064,  3.09797088,  3.10716111,  3.11635135,  3.12554159,\n",
       "        3.13473183,  3.14392207,  3.15311231,  3.16230255,  3.17149279,\n",
       "        3.18068303,  3.18987327,  3.19906351,  3.20825375,  3.21744399,\n",
       "        3.22663423,  3.23582447,  3.24501471,  3.25420495,  3.26339519,\n",
       "        3.27258543,  3.28177567,  3.29096591,  3.30015615,  3.30934639,\n",
       "        3.31853663,  3.32772687,  3.33691711,  3.34610735,  3.35529759,\n",
       "        3.36448783,  3.37367807,  3.38286831,  3.39205855,  3.40124879,\n",
       "        3.41043902,  3.41962926,  3.4288195 ,  3.43800974,  3.44719998,\n",
       "        3.45639022,  3.46558046,  3.4747707 ,  3.48396094,  3.49315118,\n",
       "        3.50234142,  3.51153166,  3.5207219 ,  3.52991214,  3.53910238,\n",
       "        3.54829262,  3.55748286,  3.5666731 ,  3.57586334,  3.58505358,\n",
       "        3.59424382,  3.60343406,  3.6126243 ,  3.62181454,  3.63100478,\n",
       "        3.64019502,  3.64938526,  3.6585755 ,  3.66776574,  3.67695598,\n",
       "        3.68614622,  3.69533646,  3.7045267 ,  3.71371694,  3.72290717,\n",
       "        3.73209741,  3.74128765,  3.75047789,  3.75966813,  3.76885837,\n",
       "        3.77804861,  3.78723885,  3.79642909,  3.80561933,  3.81480957,\n",
       "        3.82399981,  3.83319005,  3.84238029,  3.85157053,  3.86076077,\n",
       "        3.86995101,  3.87914125,  3.88833149,  3.89752173,  3.90671197,\n",
       "        3.91590221,  3.92509245,  3.93428269,  3.94347293,  3.95266317,\n",
       "        3.96185341,  3.97104365,  3.98023389,  3.98942413,  3.99861437,\n",
       "        4.00780461,  4.01699485,  4.02618508,  4.03537532,  4.04456556,\n",
       "        4.0537558 ,  4.06294604,  4.07213628,  4.08132652,  4.09051676,\n",
       "        4.099707  ,  4.10889724,  4.11808748,  4.12727772,  4.13646796,\n",
       "        4.1456582 ,  4.15484844,  4.16403868,  4.17322892,  4.18241916,\n",
       "        4.1916094 ,  4.20079964,  4.20998988,  4.21918012,  4.22837036,\n",
       "        4.2375606 ,  4.24675084,  4.25594108,  4.26513132,  4.27432156,\n",
       "        4.2835118 ,  4.29270204,  4.30189228,  4.31108252,  4.32027276,\n",
       "        4.32946299,  4.33865323,  4.34784347,  4.35703371,  4.36622395,\n",
       "        4.37541419,  4.38460443,  4.39379467,  4.40298491,  4.41217515,\n",
       "        4.42136539,  4.43055563,  4.43974587,  4.44893611,  4.45812635,\n",
       "        4.46731659,  4.47650683,  4.48569707,  4.49488731,  4.50407755,\n",
       "        4.51326779,  4.52245803,  4.53164827,  4.54083851,  4.55002875,\n",
       "        4.55921899,  4.56840923,  4.57759947,  4.58678971,  4.59597995,\n",
       "        4.60517019])"
      ]
     },
     "execution_count": 36,
     "metadata": {},
     "output_type": "execute_result"
    }
   ],
   "source": [
    "x"
   ]
  }
 ],
 "metadata": {
  "kernelspec": {
   "display_name": "Python 3",
   "language": "python",
   "name": "python3"
  },
  "language_info": {
   "codemirror_mode": {
    "name": "ipython",
    "version": 3
   },
   "file_extension": ".py",
   "mimetype": "text/x-python",
   "name": "python",
   "nbconvert_exporter": "python",
   "pygments_lexer": "ipython3",
   "version": "3.4.0"
  }
 },
 "nbformat": 4,
 "nbformat_minor": 2
}
