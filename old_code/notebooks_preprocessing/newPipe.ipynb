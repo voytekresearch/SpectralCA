{
 "cells": [
  {
   "cell_type": "markdown",
   "metadata": {},
   "source": [
    "# New ECoG pipeline for accessing NeuroTycho"
   ]
  },
  {
   "cell_type": "code",
   "execution_count": 3,
   "metadata": {},
   "outputs": [],
   "source": [
    "import sys\n",
    "sys.path.append('/Users/ldliao/Research/Projects/spectralCA/')\n",
    "from sca_funcs import access_nt as asc\n",
    "import scipy.io as io"
   ]
  },
  {
   "cell_type": "code",
   "execution_count": 18,
   "metadata": {},
   "outputs": [
    {
     "name": "stdout",
     "output_type": "stream",
     "text": [
      "[[-20 -26 -50 ... -58 -56 -47]\n",
      " [ 91 101  85 ...   1   6  25]]\n"
     ]
    }
   ],
   "source": [
    "data_path =\"/Users/ldliao/Research/Data/NeuroTycho/anesthesia/20120730PF_Anesthesia+and+Sleep_Chibi_Toru+Yanagawa_mat_ECoG128/Session%d/\"\n",
    "session = 1\n",
    "chan = [1,2]\n",
    "\n",
    "# with specified indices\n",
    "# indices = []\n",
    "data = asc.get_ECoG(data_path, session, chan, indices)\n",
    "print(data)"
   ]
  },
  {
   "cell_type": "code",
   "execution_count": 7,
   "metadata": {},
   "outputs": [
    {
     "name": "stdout",
     "output_type": "stream",
     "text": [
      "[119 139 153 ...  30  54  61]\n"
     ]
    }
   ],
   "source": [
    "# without specified indices\n",
    "data, timefile = asc.get_ECoG(data_path, session, chan)\n",
    "print(data)"
   ]
  },
  {
   "cell_type": "code",
   "execution_count": 17,
   "metadata": {},
   "outputs": [
    {
     "name": "stdout",
     "output_type": "stream",
     "text": [
      "AwakeEyesOpened-End to AwakeEyesClosed-Start\n"
     ]
    }
   ],
   "source": [
    "session = 1\n",
    "start_ind = 1\n",
    "end_ind = 2\n",
    "indices = asc.get_cond(data_path, session, start_ind, end_ind)"
   ]
  },
  {
   "cell_type": "code",
   "execution_count": 11,
   "metadata": {},
   "outputs": [
    {
     "data": {
      "text/plain": [
       "array([119, 139, 153, ...,  30,  54,  61], dtype=int16)"
      ]
     },
     "execution_count": 11,
     "metadata": {},
     "output_type": "execute_result"
    }
   ],
   "source": []
  },
  {
   "cell_type": "code",
   "execution_count": null,
   "metadata": {},
   "outputs": [],
   "source": []
  }
 ],
 "metadata": {
  "kernelspec": {
   "display_name": "Python 3",
   "language": "python",
   "name": "python3"
  },
  "language_info": {
   "codemirror_mode": {
    "name": "ipython",
    "version": 3
   },
   "file_extension": ".py",
   "mimetype": "text/x-python",
   "name": "python",
   "nbconvert_exporter": "python",
   "pygments_lexer": "ipython3",
   "version": "3.6.6"
  }
 },
 "nbformat": 4,
 "nbformat_minor": 2
}
