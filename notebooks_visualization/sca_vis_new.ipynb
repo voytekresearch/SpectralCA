{
 "cells": [
  {
   "cell_type": "markdown",
   "metadata": {},
   "source": [
    "# Creating the Tools with Standalone Callbacks \n",
    "Goal: create the tools so that people can use them as a python script"
   ]
  },
  {
   "cell_type": "markdown",
   "metadata": {},
   "source": [
    "Steps to complete the main tool:\n",
    "1. set up changeable channels with the most basic barebone example\n",
    "2. link the two plots together\n",
    "3. link to the frequency slider (mind the javacall back: callback_policy=\"mouseup\")\n",
    "4. set up histogram and bin changer\n",
    "5. link histogram data. make sure it can be updated\n",
    "6. fix minor details such as plot labels etc."
   ]
  },
  {
   "cell_type": "code",
   "execution_count": 1,
   "metadata": {},
   "outputs": [],
   "source": [
    "import sys\n",
    "# locate your spectralCV so we have scv_funcs to use\n",
    "sys.path.append('/Users/ldliao/Research/Projects/spectralCV/')\n",
    "sys.path.append('/Users/ldliao/Research/Projects/spectralCV/notebooks_visualization/')"
   ]
  },
  {
   "cell_type": "code",
   "execution_count": 22,
   "metadata": {},
   "outputs": [],
   "source": [
    "import os\n",
    "# the only lines you need to change to inspect different saved data\n",
    "path = '/Users/ldliao/Research/Projects/spectralCV/results/kjm_digits/bp/'\n",
    "os.chdir(path)\n",
    "import glob\n",
    "from scv_funcs import lfpca"
   ]
  },
  {
   "cell_type": "code",
   "execution_count": 23,
   "metadata": {},
   "outputs": [],
   "source": [
    "# the final product to import the visualization\n",
    "import lfpca_vis"
   ]
  },
  {
   "cell_type": "code",
   "execution_count": 24,
   "metadata": {},
   "outputs": [],
   "source": [
    "lf = lfpca.lfpca_load_spec('whole.npz')"
   ]
  },
  {
   "cell_type": "code",
   "execution_count": 25,
   "metadata": {},
   "outputs": [
    {
     "data": {
      "text/html": [
       "\n",
       "\n",
       "\n",
       "\n",
       "\n",
       "\n",
       "  <div class=\"bk-root\" id=\"baffc78e-b909-4f7f-b9d8-0030eecd8941\"></div>\n"
      ]
     },
     "metadata": {},
     "output_type": "display_data"
    },
    {
     "data": {
      "application/javascript": [
       "(function(root) {\n",
       "  function embed_document(root) {\n",
       "    \n",
       "  var docs_json = {\"97d02335-65dc-47fc-9dd3-e7cd78712ed6\":{\"roots\":{\"references\":[{\"attributes\":{\"line_color\":\"#1f77b4\",\"x\":{\"field\":\"freq_vals\"},\"y\":{\"field\":\"psd_vals\"}},\"id\":\"4c3454ce-7f10-4f73-a39c-900b121deff9\",\"type\":\"Line\"},{\"attributes\":{},\"id\":\"9ef7c907-2ba1-41d1-b2f8-17c5f9218247\",\"type\":\"LogScale\"},{\"attributes\":{\"num_minor_ticks\":10},\"id\":\"23f51d92-05be-4a81-8582-656b078e0edf\",\"type\":\"LogTicker\"},{\"attributes\":{\"dimension\":1,\"grid_line_alpha\":{\"value\":0.3},\"plot\":{\"id\":\"e6bf9c2d-bef8-4cf9-8dcf-5e8a2dad43f8\",\"subtype\":\"Figure\",\"type\":\"Plot\"},\"ticker\":{\"id\":\"23f51d92-05be-4a81-8582-656b078e0edf\",\"type\":\"LogTicker\"}},\"id\":\"c4a4783b-82f2-49b3-a786-894ccfbee02b\",\"type\":\"Grid\"},{\"attributes\":{\"data_source\":{\"id\":\"234c1336-7c9e-4a89-81e6-0047fc9cbd94\",\"type\":\"ColumnDataSource\"},\"glyph\":{\"id\":\"592693b2-8ab1-4e96-863e-b4c1ba411d09\",\"type\":\"Line\"},\"hover_glyph\":null,\"muted_glyph\":null,\"view\":{\"id\":\"fb339d85-522b-448d-9953-5f6d6e8a29cc\",\"type\":\"CDSView\"}},\"id\":\"ef739142-e731-4651-a4f2-2c96bc94113f\",\"type\":\"GlyphRenderer\"},{\"attributes\":{},\"id\":\"30e8aa44-ce72-4dfc-ad8e-62c9561e7b3a\",\"type\":\"SaveTool\"},{\"attributes\":{\"source\":{\"id\":\"da545257-d4ad-449d-833a-66c39242d9a1\",\"type\":\"ColumnDataSource\"}},\"id\":\"2f420b0a-1427-4899-a8fb-803aff751b77\",\"type\":\"CDSView\"},{\"attributes\":{},\"id\":\"a5de3f79-a73e-4ba9-9690-2c6003c9cd1c\",\"type\":\"LogScale\"},{\"attributes\":{\"below\":[{\"id\":\"f3364f07-20a3-445e-a9dc-8a29dfac6176\",\"type\":\"LogAxis\"}],\"left\":[{\"id\":\"504e3763-98fe-4b93-8a30-b8015f5101c9\",\"type\":\"LogAxis\"}],\"plot_height\":300,\"plot_width\":300,\"renderers\":[{\"id\":\"f3364f07-20a3-445e-a9dc-8a29dfac6176\",\"type\":\"LogAxis\"},{\"id\":\"6b9a5bf5-061a-4246-a5e2-1ee8ef2bb461\",\"type\":\"Grid\"},{\"id\":\"504e3763-98fe-4b93-8a30-b8015f5101c9\",\"type\":\"LogAxis\"},{\"id\":\"7d71ac4c-a578-4fd6-9194-9fca6d38995f\",\"type\":\"Grid\"},{\"id\":\"5763c364-ba27-46f9-8544-4f3d4dc80723\",\"type\":\"BoxAnnotation\"},{\"id\":\"ef739142-e731-4651-a4f2-2c96bc94113f\",\"type\":\"GlyphRenderer\"},{\"id\":\"af8f7940-bb17-44e7-8228-c81a0b4b8c60\",\"type\":\"GlyphRenderer\"},{\"id\":\"81218872-6360-45c6-bbd0-15197dac8317\",\"type\":\"Span\"}],\"title\":{\"id\":\"abf33b01-99f3-4e8a-a250-caae3380f41b\",\"type\":\"Title\"},\"toolbar\":{\"id\":\"56084905-ed83-4279-b679-e56b7341b331\",\"type\":\"Toolbar\"},\"x_range\":{\"id\":\"07dd183d-55da-4c74-9d18-b1a066e0a4d0\",\"type\":\"DataRange1d\"},\"x_scale\":{\"id\":\"7936ef1e-7c71-44f1-977b-8b7a424803bd\",\"type\":\"LogScale\"},\"y_range\":{\"id\":\"bbab1e87-7603-4c04-92ca-34918f31ec5a\",\"type\":\"DataRange1d\"},\"y_scale\":{\"id\":\"9ef7c907-2ba1-41d1-b2f8-17c5f9218247\",\"type\":\"LogScale\"}},\"id\":\"5ea4a8bb-8667-4cad-87ad-3d851f6b8048\",\"subtype\":\"Figure\",\"type\":\"Plot\"},{\"attributes\":{},\"id\":\"6a3ebe53-573b-4a21-8313-bf083b75a028\",\"type\":\"UnionRenderers\"},{\"attributes\":{\"plot\":{\"id\":\"d02e4b11-b283-422d-8cf1-8eacb835c286\",\"subtype\":\"Figure\",\"type\":\"Plot\"},\"ticker\":{\"id\":\"301267e2-9fe3-49f0-b125-b1f74ed3833b\",\"type\":\"BasicTicker\"}},\"id\":\"bb84ae10-4ea1-401d-9041-4a597059ac2d\",\"type\":\"Grid\"},{\"attributes\":{\"bottom_units\":\"screen\",\"fill_alpha\":{\"value\":0.5},\"fill_color\":{\"value\":\"lightgrey\"},\"left_units\":\"screen\",\"level\":\"overlay\",\"line_alpha\":{\"value\":1.0},\"line_color\":{\"value\":\"black\"},\"line_dash\":[4,4],\"line_width\":{\"value\":2},\"plot\":null,\"render_mode\":\"css\",\"right_units\":\"screen\",\"top_units\":\"screen\"},\"id\":\"7a7a8c78-e3c1-4ded-a7f4-bb36320cddde\",\"type\":\"BoxAnnotation\"},{\"attributes\":{\"bottom\":{\"value\":0},\"fill_alpha\":{\"value\":0.1},\"fill_color\":{\"value\":\"#1f77b4\"},\"left\":{\"field\":\"left\"},\"line_alpha\":{\"value\":0.1},\"line_color\":{\"value\":\"#1f77b4\"},\"right\":{\"field\":\"right\"},\"top\":{\"field\":\"top\"}},\"id\":\"fda74701-7295-4255-89aa-34864d366a1f\",\"type\":\"Quad\"},{\"attributes\":{\"line_alpha\":0.7,\"line_color\":\"#D53B54\",\"line_width\":8,\"x\":{\"field\":\"x\"},\"y\":{\"field\":\"y\"}},\"id\":\"ac4318f8-c7a7-4f71-8f61-7e195fff05aa\",\"type\":\"Line\"},{\"attributes\":{\"overlay\":{\"id\":\"7a7a8c78-e3c1-4ded-a7f4-bb36320cddde\",\"type\":\"BoxAnnotation\"}},\"id\":\"b80c05d0-b3b0-4c21-8b1e-4f0cbc780d69\",\"type\":\"BoxZoomTool\"},{\"attributes\":{\"data_source\":{\"id\":\"6ff37ed5-2c71-480f-b325-7b9dd6d21118\",\"type\":\"ColumnDataSource\"},\"glyph\":{\"id\":\"ac4318f8-c7a7-4f71-8f61-7e195fff05aa\",\"type\":\"Line\"},\"hover_glyph\":null,\"muted_glyph\":null,\"nonselection_glyph\":{\"id\":\"a453e068-021d-49b2-bffa-77087d95eae8\",\"type\":\"Line\"},\"selection_glyph\":null,\"view\":{\"id\":\"5d18d3c3-279d-4b55-a575-c16a90a8aafb\",\"type\":\"CDSView\"}},\"id\":\"281ba89c-c182-48b5-9853-adb945a452f7\",\"type\":\"GlyphRenderer\"},{\"attributes\":{},\"id\":\"3a9ece02-a91d-41a0-81fe-8977e7d0f26d\",\"type\":\"ResetTool\"},{\"attributes\":{\"line_alpha\":0.1,\"line_color\":\"#1f77b4\",\"x\":{\"field\":\"freq_vals\"},\"y\":{\"field\":\"scv_vals\"}},\"id\":\"61416f2e-c80a-44b0-899b-f79c7dad2304\",\"type\":\"Line\"},{\"attributes\":{},\"id\":\"2d86233d-c93e-43e1-8703-901e37e0ac40\",\"type\":\"PanTool\"},{\"attributes\":{},\"id\":\"7936ef1e-7c71-44f1-977b-8b7a424803bd\",\"type\":\"LogScale\"},{\"attributes\":{\"callback\":null,\"data\":{\"left\":{\"__ndarray__\":\"Bc1FEWhWKUBDJWGrDHjoQBSbIPhBd/hAw1FIzT5ZAkH9VYCe3HYIQTdauG96lA5BOC94IAxZEkFVMRQJ22cVQXIzsPGpdhhBjzVM2niFG0GsN+jCR5QeQeQcwlWL0SBB8h0QyvJYIkEBH14+WuAjQQ8grLLBZyVBHiH6JinvJkEsIkibkHYoQTojlg/4/SlBSSTkg1+FK0FXJTL4xgwtQQ==\",\"dtype\":\"float64\",\"shape\":[20]},\"right\":{\"__ndarray__\":\"QyVhqwx46EAUmyD4QXf4QMNRSM0+WQJB/VWAntx2CEE3WrhvepQOQTgveCAMWRJBVTEUCdtnFUFyM7DxqXYYQY81TNp4hRtBrDfowkeUHkHkHMJVi9EgQfIdEMryWCJBAR9ePlrgI0EPIKyywWclQR4h+iYp7yZBLCJIm5B2KEE6I5YP+P0pQUkk5INfhStBVyUy+MYMLUFlJoBsLpQuQQ==\",\"dtype\":\"float64\",\"shape\":[20]},\"top\":{\"__ndarray__\":\"pmntY8dB7D6PGxcqh5vMPhD9e8eK/7Y+s2cPHFoSoz4zhqp+Vq6YPgN6bIrxb4Y+/3lsivFvhj6ZYfChJ/NxPmaS6HK77Ho+mWHwoSfzYT6fYfChJ/NhPgAAAAAAAAAAk2HwoSfzcT4AAAAAAAAAAJNh8KEn82E+n2HwoSfzYT4AAAAAAAAAAAAAAAAAAAAAn2HwoSfzYT6fYfChJ/NhPg==\",\"dtype\":\"float64\",\"shape\":[20]}},\"selected\":{\"id\":\"28c763a9-94aa-41c5-9262-9cc09a98d729\",\"type\":\"Selection\"},\"selection_policy\":{\"id\":\"bc90260c-c4b8-491f-b9fd-c3d973a754be\",\"type\":\"UnionRenderers\"}},\"id\":\"da545257-d4ad-449d-833a-66c39242d9a1\",\"type\":\"ColumnDataSource\"},{\"attributes\":{\"label\":{\"value\":\"Fit PDF\"},\"renderers\":[{\"id\":\"281ba89c-c182-48b5-9853-adb945a452f7\",\"type\":\"GlyphRenderer\"}]},\"id\":\"ec83ff8e-48bd-4b72-88ba-8913e8cd54f6\",\"type\":\"LegendItem\"},{\"attributes\":{\"line_alpha\":0.1,\"line_color\":\"#1f77b4\",\"line_width\":8,\"x\":{\"field\":\"x\"},\"y\":{\"field\":\"y\"}},\"id\":\"a453e068-021d-49b2-bffa-77087d95eae8\",\"type\":\"Line\"},{\"attributes\":{\"callback\":null},\"id\":\"9b9c711d-c4cb-46a5-80f7-d00326a700a1\",\"type\":\"DataRange1d\"},{\"attributes\":{},\"id\":\"f6a6fc58-039e-4a17-8402-306f0dfa0eb9\",\"type\":\"HelpTool\"},{\"attributes\":{\"items\":[{\"id\":\"ec83ff8e-48bd-4b72-88ba-8913e8cd54f6\",\"type\":\"LegendItem\"}],\"plot\":{\"id\":\"d02e4b11-b283-422d-8cf1-8eacb835c286\",\"subtype\":\"Figure\",\"type\":\"Plot\"}},\"id\":\"8f076284-8326-4d9c-8dc1-00662cf45731\",\"type\":\"Legend\"},{\"attributes\":{},\"id\":\"b4d4eb96-270f-414e-b675-b260ed908e2c\",\"type\":\"SaveTool\"},{\"attributes\":{\"children\":[{\"id\":\"ecea1a00-666e-40c3-a9a1-6fb69f0487cf\",\"type\":\"Row\"}]},\"id\":\"f2f2eda5-1f38-4b75-9531-92831279b912\",\"type\":\"Column\"},{\"attributes\":{\"data_source\":{\"id\":\"da545257-d4ad-449d-833a-66c39242d9a1\",\"type\":\"ColumnDataSource\"},\"glyph\":{\"id\":\"52b5b328-6169-4948-b594-6ad097aaa4d2\",\"type\":\"Quad\"},\"hover_glyph\":null,\"muted_glyph\":null,\"nonselection_glyph\":{\"id\":\"fda74701-7295-4255-89aa-34864d366a1f\",\"type\":\"Quad\"},\"selection_glyph\":null,\"view\":{\"id\":\"2f420b0a-1427-4899-a8fb-803aff751b77\",\"type\":\"CDSView\"}},\"id\":\"42470df9-d380-4e04-b49b-e6cac79eddf5\",\"type\":\"GlyphRenderer\"},{\"attributes\":{\"dimension\":\"height\",\"line_color\":{\"value\":\"red\"},\"line_dash\":[6],\"line_width\":{\"value\":3},\"location\":10,\"plot\":{\"id\":\"5ea4a8bb-8667-4cad-87ad-3d851f6b8048\",\"subtype\":\"Figure\",\"type\":\"Plot\"}},\"id\":\"81218872-6360-45c6-bbd0-15197dac8317\",\"type\":\"Span\"},{\"attributes\":{\"axis_label\":\"(Unitless)\",\"formatter\":{\"id\":\"a6d66cfd-149a-4948-b1bf-b9c2662ebe8f\",\"type\":\"LogTickFormatter\"},\"plot\":{\"id\":\"5ea4a8bb-8667-4cad-87ad-3d851f6b8048\",\"subtype\":\"Figure\",\"type\":\"Plot\"},\"ticker\":{\"id\":\"dcc6d975-662a-408f-8a71-1f2d2c444257\",\"type\":\"LogTicker\"}},\"id\":\"504e3763-98fe-4b93-8a30-b8015f5101c9\",\"type\":\"LogAxis\"},{\"attributes\":{},\"id\":\"224b0bea-f38c-4b6f-bbc2-f7c3e4194684\",\"type\":\"WheelZoomTool\"},{\"attributes\":{\"axis_label\":\"Probability\",\"formatter\":{\"id\":\"30c62264-17b0-47e3-94fc-926e9f78850b\",\"type\":\"BasicTickFormatter\"},\"major_label_text_font_size\":{\"value\":\"0pt\"},\"plot\":{\"id\":\"d02e4b11-b283-422d-8cf1-8eacb835c286\",\"subtype\":\"Figure\",\"type\":\"Plot\"},\"ticker\":{\"id\":\"6741c7e8-084f-4fcf-9865-ad65c958e3c3\",\"type\":\"BasicTicker\"},\"visible\":false},\"id\":\"e9e109c1-530e-4113-8cf2-7ad7d5d7aacf\",\"type\":\"LinearAxis\"},{\"attributes\":{},\"id\":\"28c763a9-94aa-41c5-9262-9cc09a98d729\",\"type\":\"Selection\"},{\"attributes\":{\"line_color\":\"navy\",\"x\":{\"field\":\"freq_vals\"},\"y\":{\"field\":\"scv_vals\"}},\"id\":\"674b6f04-ef3c-4ad8-ba3f-9f5ab707eac4\",\"type\":\"Line\"},{\"attributes\":{\"bottom\":{\"value\":0},\"fill_color\":{\"value\":\"#295B99\"},\"left\":{\"field\":\"left\"},\"line_color\":{\"value\":\"#033649\"},\"right\":{\"field\":\"right\"},\"top\":{\"field\":\"top\"}},\"id\":\"52b5b328-6169-4948-b594-6ad097aaa4d2\",\"type\":\"Quad\"},{\"attributes\":{\"dimension\":1,\"plot\":{\"id\":\"d02e4b11-b283-422d-8cf1-8eacb835c286\",\"subtype\":\"Figure\",\"type\":\"Plot\"},\"ticker\":{\"id\":\"6741c7e8-084f-4fcf-9865-ad65c958e3c3\",\"type\":\"BasicTicker\"}},\"id\":\"c208ca74-5591-48e9-830c-627d03caa049\",\"type\":\"Grid\"},{\"attributes\":{\"children\":[{\"id\":\"e6bf9c2d-bef8-4cf9-8dcf-5e8a2dad43f8\",\"subtype\":\"Figure\",\"type\":\"Plot\"},{\"id\":\"5ea4a8bb-8667-4cad-87ad-3d851f6b8048\",\"subtype\":\"Figure\",\"type\":\"Plot\"},{\"id\":\"d02e4b11-b283-422d-8cf1-8eacb835c286\",\"subtype\":\"Figure\",\"type\":\"Plot\"}]},\"id\":\"ecea1a00-666e-40c3-a9a1-6fb69f0487cf\",\"type\":\"Row\"},{\"attributes\":{\"axis_label\":\"Power/Frequency (dB/Hz)\",\"formatter\":{\"id\":\"9260db16-9e97-442c-9337-9480cb7ffecf\",\"type\":\"LogTickFormatter\"},\"plot\":{\"id\":\"e6bf9c2d-bef8-4cf9-8dcf-5e8a2dad43f8\",\"subtype\":\"Figure\",\"type\":\"Plot\"},\"ticker\":{\"id\":\"23f51d92-05be-4a81-8582-656b078e0edf\",\"type\":\"LogTicker\"}},\"id\":\"381962b4-3a13-48d2-ae51-e0f9deac0c69\",\"type\":\"LogAxis\"},{\"attributes\":{\"dimension\":1,\"grid_line_alpha\":{\"value\":0.3},\"plot\":{\"id\":\"5ea4a8bb-8667-4cad-87ad-3d851f6b8048\",\"subtype\":\"Figure\",\"type\":\"Plot\"},\"ticker\":{\"id\":\"dcc6d975-662a-408f-8a71-1f2d2c444257\",\"type\":\"LogTicker\"}},\"id\":\"7d71ac4c-a578-4fd6-9194-9fca6d38995f\",\"type\":\"Grid\"},{\"attributes\":{},\"id\":\"000deb57-3414-47bc-ad49-803d0544df89\",\"type\":\"HelpTool\"},{\"attributes\":{\"data_source\":{\"id\":\"234c1336-7c9e-4a89-81e6-0047fc9cbd94\",\"type\":\"ColumnDataSource\"},\"glyph\":{\"id\":\"674b6f04-ef3c-4ad8-ba3f-9f5ab707eac4\",\"type\":\"Line\"},\"hover_glyph\":null,\"muted_glyph\":null,\"nonselection_glyph\":{\"id\":\"61416f2e-c80a-44b0-899b-f79c7dad2304\",\"type\":\"Line\"},\"selection_glyph\":null,\"view\":{\"id\":\"318ba8b2-9cca-4363-a949-f0570ea24219\",\"type\":\"CDSView\"}},\"id\":\"af8f7940-bb17-44e7-8228-c81a0b4b8c60\",\"type\":\"GlyphRenderer\"},{\"attributes\":{\"bottom_units\":\"screen\",\"fill_alpha\":{\"value\":0.5},\"fill_color\":{\"value\":\"lightgrey\"},\"left_units\":\"screen\",\"level\":\"overlay\",\"line_alpha\":{\"value\":1.0},\"line_color\":{\"value\":\"black\"},\"line_dash\":[4,4],\"line_width\":{\"value\":2},\"plot\":null,\"render_mode\":\"css\",\"right_units\":\"screen\",\"top_units\":\"screen\"},\"id\":\"aa49e018-7bb8-4bae-a8aa-ce8fcca22b8d\",\"type\":\"BoxAnnotation\"},{\"attributes\":{\"ticker\":null},\"id\":\"9260db16-9e97-442c-9337-9480cb7ffecf\",\"type\":\"LogTickFormatter\"},{\"attributes\":{\"plot\":null,\"text\":\"PSD\"},\"id\":\"ada0131c-29c5-4664-8c9d-df218ee2381c\",\"type\":\"Title\"},{\"attributes\":{\"ticker\":null},\"id\":\"84f29e64-63ba-4a63-b912-c53050aa3150\",\"type\":\"LogTickFormatter\"},{\"attributes\":{\"callback\":null},\"id\":\"07dd183d-55da-4c74-9d18-b1a066e0a4d0\",\"type\":\"DataRange1d\"},{\"attributes\":{},\"id\":\"53c263c4-5420-4c00-940a-a183f7211b23\",\"type\":\"Selection\"},{\"attributes\":{\"below\":[{\"id\":\"edc7dec6-b380-4003-b861-6f927146143f\",\"type\":\"LogAxis\"}],\"left\":[{\"id\":\"381962b4-3a13-48d2-ae51-e0f9deac0c69\",\"type\":\"LogAxis\"}],\"plot_height\":300,\"plot_width\":300,\"renderers\":[{\"id\":\"edc7dec6-b380-4003-b861-6f927146143f\",\"type\":\"LogAxis\"},{\"id\":\"f99bdc6d-e20e-482e-bfb0-e8751f9820a9\",\"type\":\"Grid\"},{\"id\":\"381962b4-3a13-48d2-ae51-e0f9deac0c69\",\"type\":\"LogAxis\"},{\"id\":\"c4a4783b-82f2-49b3-a786-894ccfbee02b\",\"type\":\"Grid\"},{\"id\":\"aa49e018-7bb8-4bae-a8aa-ce8fcca22b8d\",\"type\":\"BoxAnnotation\"},{\"id\":\"4e2ce5e8-b50c-49b2-badc-562e18d45689\",\"type\":\"GlyphRenderer\"},{\"id\":\"5492e2db-a3c5-48e9-8a9a-872af28ed322\",\"type\":\"Span\"}],\"title\":{\"id\":\"ada0131c-29c5-4664-8c9d-df218ee2381c\",\"type\":\"Title\"},\"toolbar\":{\"id\":\"941eabc0-511b-4329-bf5a-12490422290b\",\"type\":\"Toolbar\"},\"x_range\":{\"id\":\"fab31b0e-c21b-4ceb-bf50-f7a1e6e847e3\",\"type\":\"DataRange1d\"},\"x_scale\":{\"id\":\"c5105a9a-a706-4aa2-a303-357965017d06\",\"type\":\"LogScale\"},\"y_range\":{\"id\":\"9b9c711d-c4cb-46a5-80f7-d00326a700a1\",\"type\":\"DataRange1d\"},\"y_scale\":{\"id\":\"a5de3f79-a73e-4ba9-9690-2c6003c9cd1c\",\"type\":\"LogScale\"}},\"id\":\"e6bf9c2d-bef8-4cf9-8dcf-5e8a2dad43f8\",\"subtype\":\"Figure\",\"type\":\"Plot\"},{\"attributes\":{},\"id\":\"bc90260c-c4b8-491f-b9fd-c3d973a754be\",\"type\":\"UnionRenderers\"},{\"attributes\":{\"dimension\":\"height\",\"line_color\":{\"value\":\"red\"},\"line_dash\":[6],\"line_width\":{\"value\":3},\"location\":10,\"plot\":{\"id\":\"e6bf9c2d-bef8-4cf9-8dcf-5e8a2dad43f8\",\"subtype\":\"Figure\",\"type\":\"Plot\"}},\"id\":\"5492e2db-a3c5-48e9-8a9a-872af28ed322\",\"type\":\"Span\"},{\"attributes\":{},\"id\":\"2953d4cf-4a1f-4d47-8738-520a60a136d3\",\"type\":\"BasicTickFormatter\"},{\"attributes\":{},\"id\":\"ae241295-f7ba-4054-aa26-3dae919cb0cf\",\"type\":\"LinearScale\"},{\"attributes\":{\"callback\":null},\"id\":\"bbab1e87-7603-4c04-92ca-34918f31ec5a\",\"type\":\"DataRange1d\"},{\"attributes\":{},\"id\":\"37ae045d-b227-4e93-a6cc-e90e90beb1f2\",\"type\":\"SaveTool\"},{\"attributes\":{\"source\":{\"id\":\"234c1336-7c9e-4a89-81e6-0047fc9cbd94\",\"type\":\"ColumnDataSource\"}},\"id\":\"318ba8b2-9cca-4363-a949-f0570ea24219\",\"type\":\"CDSView\"},{\"attributes\":{\"active_drag\":\"auto\",\"active_inspect\":\"auto\",\"active_multi\":null,\"active_scroll\":\"auto\",\"active_tap\":\"auto\",\"tools\":[{\"id\":\"32be5b56-0b8c-4e3d-a9f3-8d8cd16a2bab\",\"type\":\"PanTool\"},{\"id\":\"896f5f41-b3ad-4d8a-88ef-12721865feeb\",\"type\":\"WheelZoomTool\"},{\"id\":\"8296bfaa-f398-4cfc-9aed-9527d2b6896d\",\"type\":\"BoxZoomTool\"},{\"id\":\"30e8aa44-ce72-4dfc-ad8e-62c9561e7b3a\",\"type\":\"SaveTool\"},{\"id\":\"a6917c50-1ce0-44f6-9675-683f0a795501\",\"type\":\"ResetTool\"},{\"id\":\"000deb57-3414-47bc-ad49-803d0544df89\",\"type\":\"HelpTool\"}]},\"id\":\"56084905-ed83-4279-b679-e56b7341b331\",\"type\":\"Toolbar\"},{\"attributes\":{},\"id\":\"896f5f41-b3ad-4d8a-88ef-12721865feeb\",\"type\":\"WheelZoomTool\"},{\"attributes\":{\"grid_line_alpha\":{\"value\":0.3},\"plot\":{\"id\":\"5ea4a8bb-8667-4cad-87ad-3d851f6b8048\",\"subtype\":\"Figure\",\"type\":\"Plot\"},\"ticker\":{\"id\":\"cc3aa471-b94e-42eb-91ff-67e6eb56e333\",\"type\":\"LogTicker\"}},\"id\":\"6b9a5bf5-061a-4246-a5e2-1ee8ef2bb461\",\"type\":\"Grid\"},{\"attributes\":{},\"id\":\"a36d120e-2d5a-4a51-897d-2fefec3ef300\",\"type\":\"HelpTool\"},{\"attributes\":{\"source\":{\"id\":\"234c1336-7c9e-4a89-81e6-0047fc9cbd94\",\"type\":\"ColumnDataSource\"}},\"id\":\"fb339d85-522b-448d-9953-5f6d6e8a29cc\",\"type\":\"CDSView\"},{\"attributes\":{},\"id\":\"2fd771f9-4bae-405c-9988-e71d19fab1ea\",\"type\":\"UnionRenderers\"},{\"attributes\":{\"ticker\":null},\"id\":\"a6d66cfd-149a-4948-b1bf-b9c2662ebe8f\",\"type\":\"LogTickFormatter\"},{\"attributes\":{\"line_alpha\":0.5,\"line_color\":\"darkgrey\",\"line_width\":5,\"x\":{\"field\":\"freq_vals\"},\"y\":{\"value\":1}},\"id\":\"592693b2-8ab1-4e96-863e-b4c1ba411d09\",\"type\":\"Line\"},{\"attributes\":{\"num_minor_ticks\":10},\"id\":\"cc3aa471-b94e-42eb-91ff-67e6eb56e333\",\"type\":\"LogTicker\"},{\"attributes\":{\"plot\":null,\"text\":\"Freq = 10.0Hz, p-value = 0.0000\"},\"id\":\"e8aac2b4-e725-4b90-ac0d-61daf23a854e\",\"type\":\"Title\"},{\"attributes\":{\"source\":{\"id\":\"234c1336-7c9e-4a89-81e6-0047fc9cbd94\",\"type\":\"ColumnDataSource\"}},\"id\":\"c5cd24af-eff4-4614-9b6f-85746a1c0c84\",\"type\":\"CDSView\"},{\"attributes\":{\"grid_line_alpha\":{\"value\":0.3},\"plot\":{\"id\":\"e6bf9c2d-bef8-4cf9-8dcf-5e8a2dad43f8\",\"subtype\":\"Figure\",\"type\":\"Plot\"},\"ticker\":{\"id\":\"f4f1c7d9-77f3-4abf-abbd-d0866f02a5dc\",\"type\":\"LogTicker\"}},\"id\":\"f99bdc6d-e20e-482e-bfb0-e8751f9820a9\",\"type\":\"Grid\"},{\"attributes\":{},\"id\":\"275b68ab-e22c-4d5e-b0de-d5d6c9613775\",\"type\":\"Selection\"},{\"attributes\":{},\"id\":\"65fd3954-ba50-4cf2-a0a1-5eb073c12307\",\"type\":\"WheelZoomTool\"},{\"attributes\":{\"callback\":null},\"id\":\"fab31b0e-c21b-4ceb-bf50-f7a1e6e847e3\",\"type\":\"DataRange1d\"},{\"attributes\":{\"active_drag\":\"auto\",\"active_inspect\":\"auto\",\"active_multi\":null,\"active_scroll\":\"auto\",\"active_tap\":\"auto\",\"tools\":[{\"id\":\"2d86233d-c93e-43e1-8703-901e37e0ac40\",\"type\":\"PanTool\"},{\"id\":\"224b0bea-f38c-4b6f-bbc2-f7c3e4194684\",\"type\":\"WheelZoomTool\"},{\"id\":\"b80c05d0-b3b0-4c21-8b1e-4f0cbc780d69\",\"type\":\"BoxZoomTool\"},{\"id\":\"b4d4eb96-270f-414e-b675-b260ed908e2c\",\"type\":\"SaveTool\"},{\"id\":\"c7c5f05c-7d12-4612-b095-5ad6121bc11d\",\"type\":\"ResetTool\"},{\"id\":\"f6a6fc58-039e-4a17-8402-306f0dfa0eb9\",\"type\":\"HelpTool\"}]},\"id\":\"3062a89d-06b1-4695-9486-f5df75f70e2a\",\"type\":\"Toolbar\"},{\"attributes\":{\"plot\":null,\"text\":\"SCV\"},\"id\":\"abf33b01-99f3-4e8a-a250-caae3380f41b\",\"type\":\"Title\"},{\"attributes\":{},\"id\":\"30c62264-17b0-47e3-94fc-926e9f78850b\",\"type\":\"BasicTickFormatter\"},{\"attributes\":{},\"id\":\"27ffb9cb-3cd0-4440-80ed-81a6fecf4369\",\"type\":\"PanTool\"},{\"attributes\":{\"line_alpha\":0.1,\"line_color\":\"#1f77b4\",\"x\":{\"field\":\"freq_vals\"},\"y\":{\"field\":\"psd_vals\"}},\"id\":\"cd53cbd0-32c9-4d3a-8a76-98106c29366b\",\"type\":\"Line\"},{\"attributes\":{\"source\":{\"id\":\"6ff37ed5-2c71-480f-b325-7b9dd6d21118\",\"type\":\"ColumnDataSource\"}},\"id\":\"5d18d3c3-279d-4b55-a575-c16a90a8aafb\",\"type\":\"CDSView\"},{\"attributes\":{},\"id\":\"32be5b56-0b8c-4e3d-a9f3-8d8cd16a2bab\",\"type\":\"PanTool\"},{\"attributes\":{\"callback\":null,\"data\":{\"x\":{\"__ndarray__\":\"Bc1FEWhWKUBDJWGrDHjoQBSbIPhBd/hAw1FIzT5ZAkH9VYCe3HYIQTdauG96lA5BOC94IAxZEkFVMRQJ22cVQXIzsPGpdhhBjzVM2niFG0GsN+jCR5QeQeQcwlWL0SBB8h0QyvJYIkEBH14+WuAjQQ8grLLBZyVBHiH6JinvJkEsIkibkHYoQTojlg/4/SlBSSTkg1+FK0FXJTL4xgwtQQ==\",\"dtype\":\"float64\",\"shape\":[20]},\"y\":{\"__ndarray__\":\"pmntY8dB7D6PGxcqh5vMPhD9e8eK/7Y+s2cPHFoSoz4zhqp+Vq6YPgN6bIrxb4Y+/3lsivFvhj6ZYfChJ/NxPmaS6HK77Ho+mWHwoSfzYT6fYfChJ/NhPgAAAAAAAAAAk2HwoSfzcT4AAAAAAAAAAJNh8KEn82E+n2HwoSfzYT4AAAAAAAAAAAAAAAAAAAAAn2HwoSfzYT6fYfChJ/NhPg==\",\"dtype\":\"float64\",\"shape\":[20]}},\"selected\":{\"id\":\"53c263c4-5420-4c00-940a-a183f7211b23\",\"type\":\"Selection\"},\"selection_policy\":{\"id\":\"6a3ebe53-573b-4a21-8313-bf083b75a028\",\"type\":\"UnionRenderers\"}},\"id\":\"6ff37ed5-2c71-480f-b325-7b9dd6d21118\",\"type\":\"ColumnDataSource\"},{\"attributes\":{},\"id\":\"c5105a9a-a706-4aa2-a303-357965017d06\",\"type\":\"LogScale\"},{\"attributes\":{\"num_minor_ticks\":10},\"id\":\"dcc6d975-662a-408f-8a71-1f2d2c444257\",\"type\":\"LogTicker\"},{\"attributes\":{\"callback\":null},\"id\":\"d2f3db07-004c-4f0b-980a-4b53370bf4aa\",\"type\":\"DataRange1d\"},{\"attributes\":{},\"id\":\"6741c7e8-084f-4fcf-9865-ad65c958e3c3\",\"type\":\"BasicTicker\"},{\"attributes\":{},\"id\":\"c7c5f05c-7d12-4612-b095-5ad6121bc11d\",\"type\":\"ResetTool\"},{\"attributes\":{\"overlay\":{\"id\":\"5763c364-ba27-46f9-8544-4f3d4dc80723\",\"type\":\"BoxAnnotation\"}},\"id\":\"8296bfaa-f398-4cfc-9aed-9527d2b6896d\",\"type\":\"BoxZoomTool\"},{\"attributes\":{\"axis_label\":\"Frequency (Hz)\",\"formatter\":{\"id\":\"84f29e64-63ba-4a63-b912-c53050aa3150\",\"type\":\"LogTickFormatter\"},\"plot\":{\"id\":\"5ea4a8bb-8667-4cad-87ad-3d851f6b8048\",\"subtype\":\"Figure\",\"type\":\"Plot\"},\"ticker\":{\"id\":\"cc3aa471-b94e-42eb-91ff-67e6eb56e333\",\"type\":\"LogTicker\"}},\"id\":\"f3364f07-20a3-445e-a9dc-8a29dfac6176\",\"type\":\"LogAxis\"},{\"attributes\":{\"callback\":null,\"data\":{\"freq_vals\":{\"__ndarray__\":\"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\",\"dtype\":\"float64\",\"shape\":[199]},\"psd_vals\":{\"__ndarray__\":\"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\",\"dtype\":\"float64\",\"shape\":[199]},\"scv_vals\":{\"__ndarray__\":\"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\",\"dtype\":\"float64\",\"shape\":[199]}},\"selected\":{\"id\":\"275b68ab-e22c-4d5e-b0de-d5d6c9613775\",\"type\":\"Selection\"},\"selection_policy\":{\"id\":\"2fd771f9-4bae-405c-9988-e71d19fab1ea\",\"type\":\"UnionRenderers\"}},\"id\":\"234c1336-7c9e-4a89-81e6-0047fc9cbd94\",\"type\":\"ColumnDataSource\"},{\"attributes\":{\"axis_label\":\"Frequency (Hz)\",\"formatter\":{\"id\":\"751a6da7-d891-4e3d-8724-f521f451772b\",\"type\":\"LogTickFormatter\"},\"plot\":{\"id\":\"e6bf9c2d-bef8-4cf9-8dcf-5e8a2dad43f8\",\"subtype\":\"Figure\",\"type\":\"Plot\"},\"ticker\":{\"id\":\"f4f1c7d9-77f3-4abf-abbd-d0866f02a5dc\",\"type\":\"LogTicker\"}},\"id\":\"edc7dec6-b380-4003-b861-6f927146143f\",\"type\":\"LogAxis\"},{\"attributes\":{\"axis_label\":\"Power\",\"formatter\":{\"id\":\"2953d4cf-4a1f-4d47-8738-520a60a136d3\",\"type\":\"BasicTickFormatter\"},\"major_label_text_font_size\":{\"value\":\"0pt\"},\"plot\":{\"id\":\"d02e4b11-b283-422d-8cf1-8eacb835c286\",\"subtype\":\"Figure\",\"type\":\"Plot\"},\"ticker\":{\"id\":\"301267e2-9fe3-49f0-b125-b1f74ed3833b\",\"type\":\"BasicTicker\"},\"visible\":false},\"id\":\"417d373c-650a-40c7-bd8c-0af2a715e65b\",\"type\":\"LinearAxis\"},{\"attributes\":{\"active_drag\":\"auto\",\"active_inspect\":\"auto\",\"active_multi\":null,\"active_scroll\":\"auto\",\"active_tap\":\"auto\",\"tools\":[{\"id\":\"27ffb9cb-3cd0-4440-80ed-81a6fecf4369\",\"type\":\"PanTool\"},{\"id\":\"65fd3954-ba50-4cf2-a0a1-5eb073c12307\",\"type\":\"WheelZoomTool\"},{\"id\":\"f2f3cbba-e1f8-4992-ad0f-77d4c705474c\",\"type\":\"BoxZoomTool\"},{\"id\":\"37ae045d-b227-4e93-a6cc-e90e90beb1f2\",\"type\":\"SaveTool\"},{\"id\":\"3a9ece02-a91d-41a0-81fe-8977e7d0f26d\",\"type\":\"ResetTool\"},{\"id\":\"a36d120e-2d5a-4a51-897d-2fefec3ef300\",\"type\":\"HelpTool\"}]},\"id\":\"941eabc0-511b-4329-bf5a-12490422290b\",\"type\":\"Toolbar\"},{\"attributes\":{\"bottom_units\":\"screen\",\"fill_alpha\":{\"value\":0.5},\"fill_color\":{\"value\":\"lightgrey\"},\"left_units\":\"screen\",\"level\":\"overlay\",\"line_alpha\":{\"value\":1.0},\"line_color\":{\"value\":\"black\"},\"line_dash\":[4,4],\"line_width\":{\"value\":2},\"plot\":null,\"render_mode\":\"css\",\"right_units\":\"screen\",\"top_units\":\"screen\"},\"id\":\"5763c364-ba27-46f9-8544-4f3d4dc80723\",\"type\":\"BoxAnnotation\"},{\"attributes\":{\"ticker\":null},\"id\":\"751a6da7-d891-4e3d-8724-f521f451772b\",\"type\":\"LogTickFormatter\"},{\"attributes\":{},\"id\":\"3c869aae-b557-40a0-9f66-ad6caa5254b0\",\"type\":\"LinearScale\"},{\"attributes\":{\"num_minor_ticks\":10},\"id\":\"f4f1c7d9-77f3-4abf-abbd-d0866f02a5dc\",\"type\":\"LogTicker\"},{\"attributes\":{\"callback\":null},\"id\":\"72fc5c30-846e-41b3-ab00-33cb91a5dcc3\",\"type\":\"DataRange1d\"},{\"attributes\":{\"below\":[{\"id\":\"417d373c-650a-40c7-bd8c-0af2a715e65b\",\"type\":\"LinearAxis\"}],\"left\":[{\"id\":\"e9e109c1-530e-4113-8cf2-7ad7d5d7aacf\",\"type\":\"LinearAxis\"}],\"plot_height\":300,\"plot_width\":300,\"renderers\":[{\"id\":\"417d373c-650a-40c7-bd8c-0af2a715e65b\",\"type\":\"LinearAxis\"},{\"id\":\"bb84ae10-4ea1-401d-9041-4a597059ac2d\",\"type\":\"Grid\"},{\"id\":\"e9e109c1-530e-4113-8cf2-7ad7d5d7aacf\",\"type\":\"LinearAxis\"},{\"id\":\"c208ca74-5591-48e9-830c-627d03caa049\",\"type\":\"Grid\"},{\"id\":\"7a7a8c78-e3c1-4ded-a7f4-bb36320cddde\",\"type\":\"BoxAnnotation\"},{\"id\":\"42470df9-d380-4e04-b49b-e6cac79eddf5\",\"type\":\"GlyphRenderer\"},{\"id\":\"8f076284-8326-4d9c-8dc1-00662cf45731\",\"type\":\"Legend\"},{\"id\":\"281ba89c-c182-48b5-9853-adb945a452f7\",\"type\":\"GlyphRenderer\"}],\"title\":{\"id\":\"e8aac2b4-e725-4b90-ac0d-61daf23a854e\",\"type\":\"Title\"},\"toolbar\":{\"id\":\"3062a89d-06b1-4695-9486-f5df75f70e2a\",\"type\":\"Toolbar\"},\"x_range\":{\"id\":\"d2f3db07-004c-4f0b-980a-4b53370bf4aa\",\"type\":\"DataRange1d\"},\"x_scale\":{\"id\":\"ae241295-f7ba-4054-aa26-3dae919cb0cf\",\"type\":\"LinearScale\"},\"y_range\":{\"id\":\"72fc5c30-846e-41b3-ab00-33cb91a5dcc3\",\"type\":\"DataRange1d\"},\"y_scale\":{\"id\":\"3c869aae-b557-40a0-9f66-ad6caa5254b0\",\"type\":\"LinearScale\"}},\"id\":\"d02e4b11-b283-422d-8cf1-8eacb835c286\",\"subtype\":\"Figure\",\"type\":\"Plot\"},{\"attributes\":{\"overlay\":{\"id\":\"aa49e018-7bb8-4bae-a8aa-ce8fcca22b8d\",\"type\":\"BoxAnnotation\"}},\"id\":\"f2f3cbba-e1f8-4992-ad0f-77d4c705474c\",\"type\":\"BoxZoomTool\"},{\"attributes\":{},\"id\":\"a6917c50-1ce0-44f6-9675-683f0a795501\",\"type\":\"ResetTool\"},{\"attributes\":{},\"id\":\"301267e2-9fe3-49f0-b125-b1f74ed3833b\",\"type\":\"BasicTicker\"},{\"attributes\":{\"data_source\":{\"id\":\"234c1336-7c9e-4a89-81e6-0047fc9cbd94\",\"type\":\"ColumnDataSource\"},\"glyph\":{\"id\":\"4c3454ce-7f10-4f73-a39c-900b121deff9\",\"type\":\"Line\"},\"hover_glyph\":null,\"muted_glyph\":null,\"nonselection_glyph\":{\"id\":\"cd53cbd0-32c9-4d3a-8a76-98106c29366b\",\"type\":\"Line\"},\"selection_glyph\":null,\"view\":{\"id\":\"c5cd24af-eff4-4614-9b6f-85746a1c0c84\",\"type\":\"CDSView\"}},\"id\":\"4e2ce5e8-b50c-49b2-badc-562e18d45689\",\"type\":\"GlyphRenderer\"}],\"root_ids\":[\"f2f2eda5-1f38-4b75-9531-92831279b912\"]},\"title\":\"Bokeh Application\",\"version\":\"0.13.0\"}};\n",
       "  var render_items = [{\"docid\":\"97d02335-65dc-47fc-9dd3-e7cd78712ed6\",\"notebook_comms_target\":\"a795435a-ed0b-4021-9c6d-ffd6cb1e83fb\",\"roots\":{\"f2f2eda5-1f38-4b75-9531-92831279b912\":\"baffc78e-b909-4f7f-b9d8-0030eecd8941\"}}];\n",
       "  root.Bokeh.embed.embed_items_notebook(docs_json, render_items);\n",
       "\n",
       "  }\n",
       "  if (root.Bokeh !== undefined) {\n",
       "    embed_document(root);\n",
       "  } else {\n",
       "    var attempts = 0;\n",
       "    var timer = setInterval(function(root) {\n",
       "      if (root.Bokeh !== undefined) {\n",
       "        embed_document(root);\n",
       "        clearInterval(timer);\n",
       "      }\n",
       "      attempts++;\n",
       "      if (attempts > 100) {\n",
       "        console.log(\"Bokeh: ERROR: Unable to run BokehJS code because BokehJS library is missing\")\n",
       "        clearInterval(timer);\n",
       "      }\n",
       "    }, 10, root)\n",
       "  }\n",
       "})(window);"
      ],
      "application/vnd.bokehjs_exec.v0+json": ""
     },
     "metadata": {
      "application/vnd.bokehjs_exec.v0+json": {
       "id": "f2f2eda5-1f38-4b75-9531-92831279b912"
      }
     },
     "output_type": "display_data"
    },
    {
     "data": {
      "application/vnd.jupyter.widget-view+json": {
       "model_id": "21c2e1f83be54e17af77ceebfb7e2628",
       "version_major": 2,
       "version_minor": 0
      },
      "text/plain": [
       "HBox(children=(Dropdown(description='channel', options=(1, 2, 3, 4, 5, 6, 7, 8, 9, 10, 11, 12, 13, 14, 15, 16,…"
      ]
     },
     "metadata": {},
     "output_type": "display_data"
    }
   ],
   "source": [
    "# ignore bokeh warnings\n",
    "import warnings\n",
    "warnings.filterwarnings('ignore')\n",
    "\n",
    "lfpca_vis.plot_vis(lf=lf)"
   ]
  },
  {
   "cell_type": "markdown",
   "metadata": {},
   "source": [
    "### Imports"
   ]
  },
  {
   "cell_type": "code",
   "execution_count": null,
   "metadata": {},
   "outputs": [],
   "source": [
    "# imports\n",
    "import numpy as np\n",
    "import scipy as sp\n",
    "from scipy.stats import expon\n",
    "import glob\n",
    "\n",
    "# import neurodsp as ndsp\n",
    "# from scv_funcs import lfpca\n",
    "import warnings\n",
    "warnings.filterwarnings('ignore')"
   ]
  },
  {
   "cell_type": "code",
   "execution_count": null,
   "metadata": {},
   "outputs": [],
   "source": [
    "# bokeh imports\n",
    "import bokeh\n",
    "from bokeh.io import push_notebook, show, output_notebook\n",
    "from bokeh.plotting import figure, output_file, show\n",
    "from bokeh.layouts import row, column\n",
    "from bokeh.models import ColumnDataSource, Slider, Span\n",
    "from bokeh.models.widgets import Select, Slider\n",
    "from ipywidgets import interact\n",
    "\n",
    "output_notebook()"
   ]
  },
  {
   "cell_type": "markdown",
   "metadata": {},
   "source": [
    "### Defaults"
   ]
  },
  {
   "cell_type": "code",
   "execution_count": null,
   "metadata": {},
   "outputs": [],
   "source": [
    "# setting up the defaults\n",
    "chan = 0\n",
    "select_freq = 10\n",
    "select_bin = 20\n",
    "\n",
    "freq_vals = lf.f_axis[1:]\n",
    "psd_vals = lf.psd[chan].T[1:]\n",
    "scv_vals = lf.scv[chan].T[1:]\n",
    "\n",
    "source = ColumnDataSource(data=dict(freq_vals=freq_vals, \n",
    "                                    psd_vals=psd_vals, \n",
    "                                    scv_vals=scv_vals))\n",
    "# grabbing channel count from psd\n",
    "chan_count, freq = lf.psd.shape\n",
    "DEFAULT_TICKERS = list(map(str, range(chan_count)))"
   ]
  },
  {
   "cell_type": "markdown",
   "metadata": {},
   "source": [
    "### Sliders and updates"
   ]
  },
  {
   "cell_type": "code",
   "execution_count": null,
   "metadata": {},
   "outputs": [],
   "source": [
    "# create interact\n",
    "def update_spct_hist(channel=1, f=10, numbins=20):\n",
    "    plot_chan = int(channel)\n",
    "    plot_freq = np.where(lf.f_axis==f)[0][0]\n",
    "    y, x = np.histogram(lf.spg[plot_chan,plot_freq,:], bins=numbins, density=True)\n",
    "    \n",
    "    # create a column data source for the plots to share\n",
    "    data_source = {\n",
    "                   'freq_vals': lf.f_axis[1:],\n",
    "                   'psd_vals': lf.psd[channel].T[1:],\n",
    "                   'scv_vals': lf.scv[channel].T[1:]\n",
    "                   }   \n",
    "    source.data = data_source\n",
    "    vline_psd.location = f\n",
    "    vline_scv.location = f\n",
    "    # update histogram with data from frequency f\n",
    "    hist_plot.data_source.data['left'] = x[:-1]\n",
    "    hist_plot.data_source.data['right'] = x[1:]\n",
    "    hist_plot.data_source.data['top'] = y    \n",
    "    # update fitted\n",
    "    rv = expon(scale=sp.stats.expon.fit(lf.spg[plot_chan,plot_freq,:],floc=0)[1])\n",
    "    fit_plot.data_source.data['x'] = x\n",
    "    fit_plot.data_source.data['y'] = rv.pdf(x)\n",
    "    \n",
    "    hist_fig.title.text = 'Freq = %.1fHz, p-value = %.4f'%(f, lf.ks_pvals[int(channel), f])\n",
    "    push_notebook()"
   ]
  },
  {
   "cell_type": "markdown",
   "metadata": {},
   "source": [
    "### Set up the plots"
   ]
  },
  {
   "cell_type": "code",
   "execution_count": null,
   "metadata": {},
   "outputs": [],
   "source": [
    "# set up histogram\n",
    "y, x = np.histogram(lf.spg[0,10,:], bins=20, density=True)\n",
    "hist_fig = figure(plot_height=300, plot_width=300, x_axis_label='Power', y_axis_label='Probability')\n",
    "hist_plot = hist_fig.quad(top=y, bottom=0, left=x[:-1], right=x[1:], fill_color='#295B99', line_color=\"#033649\", )\n",
    "hist_fig.title.text = 'Freq = %.1fHz, p-value = %.4f'%(10, lf.ks_pvals[int(1), 10])\n",
    "hist_fig.axis.major_label_text_font_size= '0pt'\n",
    "\n",
    "fit_plot = hist_fig.line(x[:-1],y, line_width=8,alpha=0.7,line_color=\"#D53B54\",legend='Fit PDF')\n",
    "\n",
    "# set up psd plot\n",
    "psd_plot = figure(title='PSD', x_axis_type='log', y_axis_type='log', plot_width=300, plot_height=300)\n",
    "psd_plot.legend.location = 'top_left'\n",
    "psd_plot.xaxis.axis_label = 'Frequency (Hz)'\n",
    "psd_plot.yaxis.axis_label = 'Power/Frequency (dB/Hz)'\n",
    "psd_plot.grid.grid_line_alpha=0.3\n",
    "psd_plot.line('freq_vals', 'psd_vals', source=source)    \n",
    "\n",
    "# set up scv plot\n",
    "scv_plot = figure(title='SCV', x_axis_type='log', y_axis_type='log', plot_width=300, plot_height=300)\n",
    "scv_plot.legend.location='top_left'\n",
    "scv_plot.xaxis.axis_label = 'Frequency (Hz)'\n",
    "scv_plot.yaxis.axis_label = '(Unitless)'\n",
    "scv_plot.grid.grid_line_alpha=0.3\n",
    "fit_line = bokeh.models.glyphs.Line(x='freq_vals', y=1, line_width=5, line_alpha=0.5, line_color='darkgrey')\n",
    "scv_plot.add_glyph(source, fit_line)\n",
    "scv_plot.line('freq_vals', 'scv_vals', source=source, color='navy')\n",
    "\n",
    "# add in frequency slider vertical lines\n",
    "vline_psd = Span(location=select_freq, dimension='height', line_color='red', line_dash='dashed', line_width=3)\n",
    "vline_scv = Span(location=select_freq, dimension='height', line_color='red', line_dash='dashed', line_width=3)\n",
    "psd_plot.add_layout(vline_psd)\n",
    "scv_plot.add_layout(vline_scv)\n",
    "\n",
    "# set up layout and interact toola\n",
    "layout = column(row(psd_plot, scv_plot, hist_fig))\n",
    "show(layout, notebook_handle=True)\n",
    "\n",
    "import warnings\n",
    "from ipywidgets import Layout, HBox, interactive\n",
    "\n",
    "warnings.filterwarnings('ignore')\n",
    "widget = interactive(update_spct_hist, channel=range(1,len(DEFAULT_TICKERS)-1), f=(1,199), numbins=(10,55,5))\n",
    "items = [kid for kid in widget.children]\n",
    "# box_layout = Layout(display='flex',\n",
    "#                     flex_flow='row',\n",
    "#                     align_items='stretch',\n",
    "#                     width='100%')\n",
    "display(HBox(children=items))\n",
    "#box = Box(children=items, layout=box_layout)\n",
    "#box"
   ]
  },
  {
   "cell_type": "code",
   "execution_count": null,
   "metadata": {},
   "outputs": [],
   "source": [
    "widget.children[1].description = 'f'\n",
    "# HBox([kid for kid in widget.children].append(widget.children[1]) )"
   ]
  },
  {
   "cell_type": "code",
   "execution_count": null,
   "metadata": {},
   "outputs": [],
   "source": [
    "items = [kid for kid in widget.children]\n",
    "box_layout = Layout(display='flex',\n",
    "                    flex_flow='row',\n",
    "                    align_items='stretch',\n",
    "                    width='100%')\n",
    "box = Box(children=items, layout=box_layout)\n",
    "box"
   ]
  },
  {
   "cell_type": "code",
   "execution_count": null,
   "metadata": {},
   "outputs": [],
   "source": [
    "from ipywidgets import Layout, Button, Box, HBox\n",
    "\n",
    "\n",
    "box_layout = Layout(display='flex',\n",
    "                    flex_flow='row',\n",
    "                    align_items='stretch',\n",
    "                    width='70%')\n",
    "box_auto = Box(children=widget.children, layout=box_layout)\n",
    "HBox([box_auto])\n",
    "\n",
    "display(widget)"
   ]
  },
  {
   "cell_type": "code",
   "execution_count": null,
   "metadata": {},
   "outputs": [],
   "source": []
  }
 ],
 "metadata": {
  "kernelspec": {
   "display_name": "Python 3",
   "language": "python",
   "name": "python3"
  },
  "language_info": {
   "codemirror_mode": {
    "name": "ipython",
    "version": 3
   },
   "file_extension": ".py",
   "mimetype": "text/x-python",
   "name": "python",
   "nbconvert_exporter": "python",
   "pygments_lexer": "ipython3",
   "version": "3.6.6"
  }
 },
 "nbformat": 4,
 "nbformat_minor": 2
}
