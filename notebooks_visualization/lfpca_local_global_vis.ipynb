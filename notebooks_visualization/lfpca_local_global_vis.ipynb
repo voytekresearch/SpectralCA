{
 "cells": [
  {
   "cell_type": "code",
   "execution_count": 1,
   "metadata": {
    "collapsed": false
   },
   "outputs": [
    {
     "name": "stdout",
     "output_type": "stream",
     "text": [
      "/Users/SP/code/spectralCV\n"
     ]
    }
   ],
   "source": [
    "cd .."
   ]
  },
  {
   "cell_type": "code",
   "execution_count": 2,
   "metadata": {
    "collapsed": false
   },
   "outputs": [],
   "source": [
    "%matplotlib inline\n",
    "\n",
    "# imports\n",
    "import numpy as np\n",
    "import scipy as sp\n",
    "import matplotlib.pyplot as plt\n",
    "import os\n",
    "\n",
    "import neurodsp as ndsp\n",
    "from scv_funcs import lfpca\n",
    "from scv_funcs import utils\n",
    "\n",
    "CKEYS = plt.rcParams['axes.prop_cycle'].by_key()['color']\n",
    "font = {'family' : 'arial',\n",
    "        'weight' : 'regular',\n",
    "        'size'   : 15}\n",
    "import matplotlib\n",
    "matplotlib.rc('font', **font)"
   ]
  },
  {
   "cell_type": "code",
   "execution_count": null,
   "metadata": {
    "collapsed": false
   },
   "outputs": [],
   "source": [
    "from bokeh.plotting import figure, output_file, save\n",
    "output_file(\"kjm_bp.html\")"
   ]
  },
  {
   "cell_type": "code",
   "execution_count": 3,
   "metadata": {
    "collapsed": true
   },
   "outputs": [],
   "source": [
    "# electrode location\n",
    "elec_def = {\n",
    "    '1': 'dorsal M1',\n",
    "    '3': 'dorsal S1',\n",
    "    '4': 'ventral S1+M1',\n",
    "    '6': 'frontal (non-R)',\n",
    "    '7': 'parietal (non-R)',\n",
    "    '8': 'temporal',\n",
    "    '9': 'occipital'\n",
    "}\n",
    "fs = 1000."
   ]
  },
  {
   "cell_type": "code",
   "execution_count": 4,
   "metadata": {
    "collapsed": false
   },
   "outputs": [
    {
     "data": {
      "text/html": [
       "\n",
       "    <div class=\"bk-root\">\n",
       "        <a href=\"http://bokeh.pydata.org\" target=\"_blank\" class=\"bk-logo bk-logo-small bk-logo-notebook\"></a>\n",
       "        <span id=\"29914069-24bf-4221-ac41-3d14ba33dfb8\">Loading BokehJS ...</span>\n",
       "    </div>"
      ]
     },
     "metadata": {},
     "output_type": "display_data"
    },
    {
     "data": {
      "application/javascript": [
       "\n",
       "(function(global) {\n",
       "  function now() {\n",
       "    return new Date();\n",
       "  }\n",
       "\n",
       "  var force = true;\n",
       "\n",
       "  if (typeof (window._bokeh_onload_callbacks) === \"undefined\" || force === true) {\n",
       "    window._bokeh_onload_callbacks = [];\n",
       "    window._bokeh_is_loading = undefined;\n",
       "  }\n",
       "\n",
       "\n",
       "  \n",
       "  if (typeof (window._bokeh_timeout) === \"undefined\" || force === true) {\n",
       "    window._bokeh_timeout = Date.now() + 5000;\n",
       "    window._bokeh_failed_load = false;\n",
       "  }\n",
       "\n",
       "  var NB_LOAD_WARNING = {'data': {'text/html':\n",
       "     \"<div style='background-color: #fdd'>\\n\"+\n",
       "     \"<p>\\n\"+\n",
       "     \"BokehJS does not appear to have successfully loaded. If loading BokehJS from CDN, this \\n\"+\n",
       "     \"may be due to a slow or bad network connection. Possible fixes:\\n\"+\n",
       "     \"</p>\\n\"+\n",
       "     \"<ul>\\n\"+\n",
       "     \"<li>re-rerun `output_notebook()` to attempt to load from CDN again, or</li>\\n\"+\n",
       "     \"<li>use INLINE resources instead, as so:</li>\\n\"+\n",
       "     \"</ul>\\n\"+\n",
       "     \"<code>\\n\"+\n",
       "     \"from bokeh.resources import INLINE\\n\"+\n",
       "     \"output_notebook(resources=INLINE)\\n\"+\n",
       "     \"</code>\\n\"+\n",
       "     \"</div>\"}};\n",
       "\n",
       "  function display_loaded() {\n",
       "    if (window.Bokeh !== undefined) {\n",
       "      document.getElementById(\"29914069-24bf-4221-ac41-3d14ba33dfb8\").textContent = \"BokehJS successfully loaded.\";\n",
       "    } else if (Date.now() < window._bokeh_timeout) {\n",
       "      setTimeout(display_loaded, 100)\n",
       "    }\n",
       "  }\n",
       "\n",
       "  function run_callbacks() {\n",
       "    window._bokeh_onload_callbacks.forEach(function(callback) { callback() });\n",
       "    delete window._bokeh_onload_callbacks\n",
       "    console.info(\"Bokeh: all callbacks have finished\");\n",
       "  }\n",
       "\n",
       "  function load_libs(js_urls, callback) {\n",
       "    window._bokeh_onload_callbacks.push(callback);\n",
       "    if (window._bokeh_is_loading > 0) {\n",
       "      console.log(\"Bokeh: BokehJS is being loaded, scheduling callback at\", now());\n",
       "      return null;\n",
       "    }\n",
       "    if (js_urls == null || js_urls.length === 0) {\n",
       "      run_callbacks();\n",
       "      return null;\n",
       "    }\n",
       "    console.log(\"Bokeh: BokehJS not loaded, scheduling load and callback at\", now());\n",
       "    window._bokeh_is_loading = js_urls.length;\n",
       "    for (var i = 0; i < js_urls.length; i++) {\n",
       "      var url = js_urls[i];\n",
       "      var s = document.createElement('script');\n",
       "      s.src = url;\n",
       "      s.async = false;\n",
       "      s.onreadystatechange = s.onload = function() {\n",
       "        window._bokeh_is_loading--;\n",
       "        if (window._bokeh_is_loading === 0) {\n",
       "          console.log(\"Bokeh: all BokehJS libraries loaded\");\n",
       "          run_callbacks()\n",
       "        }\n",
       "      };\n",
       "      s.onerror = function() {\n",
       "        console.warn(\"failed to load library \" + url);\n",
       "      };\n",
       "      console.log(\"Bokeh: injecting script tag for BokehJS library: \", url);\n",
       "      document.getElementsByTagName(\"head\")[0].appendChild(s);\n",
       "    }\n",
       "  };var element = document.getElementById(\"29914069-24bf-4221-ac41-3d14ba33dfb8\");\n",
       "  if (element == null) {\n",
       "    console.log(\"Bokeh: ERROR: autoload.js configured with elementid '29914069-24bf-4221-ac41-3d14ba33dfb8' but no matching script tag was found. \")\n",
       "    return false;\n",
       "  }\n",
       "\n",
       "  var js_urls = [\"https://cdn.pydata.org/bokeh/release/bokeh-0.12.4.min.js\", \"https://cdn.pydata.org/bokeh/release/bokeh-widgets-0.12.4.min.js\"];\n",
       "\n",
       "  var inline_js = [\n",
       "    function(Bokeh) {\n",
       "      Bokeh.set_log_level(\"info\");\n",
       "    },\n",
       "    \n",
       "    function(Bokeh) {\n",
       "      \n",
       "      document.getElementById(\"29914069-24bf-4221-ac41-3d14ba33dfb8\").textContent = \"BokehJS is loading...\";\n",
       "    },\n",
       "    function(Bokeh) {\n",
       "      console.log(\"Bokeh: injecting CSS: https://cdn.pydata.org/bokeh/release/bokeh-0.12.4.min.css\");\n",
       "      Bokeh.embed.inject_css(\"https://cdn.pydata.org/bokeh/release/bokeh-0.12.4.min.css\");\n",
       "      console.log(\"Bokeh: injecting CSS: https://cdn.pydata.org/bokeh/release/bokeh-widgets-0.12.4.min.css\");\n",
       "      Bokeh.embed.inject_css(\"https://cdn.pydata.org/bokeh/release/bokeh-widgets-0.12.4.min.css\");\n",
       "    }\n",
       "  ];\n",
       "\n",
       "  function run_inline_js() {\n",
       "    \n",
       "    if ((window.Bokeh !== undefined) || (force === true)) {\n",
       "      for (var i = 0; i < inline_js.length; i++) {\n",
       "        inline_js[i](window.Bokeh);\n",
       "      }if (force === true) {\n",
       "        display_loaded();\n",
       "      }} else if (Date.now() < window._bokeh_timeout) {\n",
       "      setTimeout(run_inline_js, 100);\n",
       "    } else if (!window._bokeh_failed_load) {\n",
       "      console.log(\"Bokeh: BokehJS failed to load within specified timeout.\");\n",
       "      window._bokeh_failed_load = true;\n",
       "    } else if (force !== true) {\n",
       "      var cell = $(document.getElementById(\"29914069-24bf-4221-ac41-3d14ba33dfb8\")).parents('.cell').data().cell;\n",
       "      cell.output_area.append_execute_result(NB_LOAD_WARNING)\n",
       "    }\n",
       "\n",
       "  }\n",
       "\n",
       "  if (window._bokeh_is_loading === 0) {\n",
       "    console.log(\"Bokeh: BokehJS loaded, going straight to plotting\");\n",
       "    run_inline_js();\n",
       "  } else {\n",
       "    load_libs(js_urls, function() {\n",
       "      console.log(\"Bokeh: BokehJS plotting callback run at\", now());\n",
       "      run_inline_js();\n",
       "    });\n",
       "  }\n",
       "}(this));"
      ]
     },
     "metadata": {},
     "output_type": "display_data"
    }
   ],
   "source": [
    "from ipywidgets import interact\n",
    "from bokeh.io import push_notebook, show, output_notebook\n",
    "from bokeh.plotting import figure\n",
    "from scipy.stats import expon\n",
    "output_notebook()"
   ]
  },
  {
   "cell_type": "code",
   "execution_count": 5,
   "metadata": {
    "collapsed": false
   },
   "outputs": [
    {
     "name": "stdout",
     "output_type": "stream",
     "text": [
      "/Users/SP/code/spectralCV/results/kjm_digits/bp\n"
     ]
    }
   ],
   "source": [
    "cd results/kjm_digits/bp/"
   ]
  },
  {
   "cell_type": "code",
   "execution_count": 6,
   "metadata": {
    "collapsed": false
   },
   "outputs": [],
   "source": [
    "trial_data = np.load('trial_info.npz')"
   ]
  },
  {
   "cell_type": "code",
   "execution_count": 7,
   "metadata": {
    "collapsed": true
   },
   "outputs": [],
   "source": [
    "trial_info = trial_data['trial_info']\n",
    "elec_regions = trial_data['elec_regions']"
   ]
  },
  {
   "cell_type": "code",
   "execution_count": 8,
   "metadata": {
    "collapsed": false
   },
   "outputs": [],
   "source": [
    "lfpca_all = []\n",
    "lfpca_all.append(lfpca.lfpca_load_spec('pre.npz'))\n",
    "lf = lfpca_all[0]"
   ]
  },
  {
   "cell_type": "code",
   "execution_count": null,
   "metadata": {
    "collapsed": false
   },
   "outputs": [],
   "source": [
    "chan_sel = []\n",
    "for plot_chan in range(lf.numchan):\n",
    "    try:\n",
    "        ele_name = elec_def[elec_regions[plot_chan].astype(str)]\n",
    "    except:\n",
    "        ele_name = 'others'\n",
    "    chan_sel.append('%i: '%plot_chan+ele_name)\n",
    "    \n",
    "def update_spct_hist(x, y, f=10, channel=0, numbins=20):\n",
    "    plot_chan = int(channel.split(':')[0])\n",
    "    plot_freq = np.where(lf.f_axis==f)[0][0]\n",
    "    y, x = np.histogram(lf.spg[plot_chan,plot_freq,:], bins=numbins, density=True)\n",
    "    # update histogram with data from frequency f\n",
    "    hist_plot.data_source.data['left'] = x[:-1]\n",
    "    hist_plot.data_source.data['right'] = x[1:]\n",
    "    hist_plot.data_source.data['top'] = y    \n",
    "    # update fitted\n",
    "    rv = expon(scale=sp.stats.expon.fit(lf.spg[plot_chan,plot_freq,:],floc=0)[1])\n",
    "    fit_plot.data_source.data['x'] = x\n",
    "    fit_plot.data_source.data['y'] = rv.pdf(x)\n",
    "    \n",
    "    hist_fig.title.text = elec_def[elec_regions[plot_chan].astype(str)] + ': f=%.1fHz, p=%.4f '%(f,lf.ks_pvals[plot_chan,plot_freq])\n",
    "    push_notebook()"
   ]
  },
  {
   "cell_type": "code",
   "execution_count": null,
   "metadata": {
    "collapsed": false
   },
   "outputs": [],
   "source": [
    "y, x = np.histogram(lf.spg[0,10,:], bins=20, density=True)\n",
    "hist_fig = figure(plot_height=400, plot_width=400, x_axis_label='Power', y_axis_label='Probability',background_fill_color=\"#E8DDCB\")\n",
    "hist_plot = hist_fig.quad(top=y, bottom=0, left=x[:-1], right=x[1:], fill_color=\"#036564\", line_color=\"#033649\")\n",
    "fit_plot = hist_fig.line(x[:-1],y, line_width=8,alpha=0.7,line_color=\"#D95B43\",legend='Fit PDF')\n",
    "show(hist_fig, notebook_handle=True)\n",
    "interact(update_spct_hist, x=x, y=y, f=(1,100), numbins=(10,55,5), channel=chan_sel)"
   ]
  },
  {
   "cell_type": "code",
   "execution_count": 9,
   "metadata": {
    "collapsed": false
   },
   "outputs": [
    {
     "data": {
      "image/png": "[encoded data removed]",
      "text/plain": [
       "<matplotlib.figure.Figure at 0x112d29a58>"
      ]
     },
     "metadata": {},
     "output_type": "display_data"
    }
   ],
   "source": [
    "lf.plot_spectral()"
   ]
  },
  {
   "cell_type": "code",
   "execution_count": 10,
   "metadata": {
    "collapsed": false
   },
   "outputs": [
    {
     "data": {
      "text/plain": [
       "[<matplotlib.lines.Line2D at 0x116bc8438>]"
      ]
     },
     "execution_count": 10,
     "metadata": {},
     "output_type": "execute_result"
    },
    {
     "data": {
      "image/png": "[encoded data removed]",
      "text/plain": [
       "<matplotlib.figure.Figure at 0x116d100f0>"
      ]
     },
     "metadata": {},
     "output_type": "display_data"
    }
   ],
   "source": [
    "plt.loglog(lf.f_axis,lf.scv[0].T)"
   ]
  },
  {
   "cell_type": "code",
   "execution_count": 11,
   "metadata": {
    "collapsed": false
   },
   "outputs": [
    {
     "name": "stderr",
     "output_type": "stream",
     "text": [
      "/Users/SP/anaconda/envs/py36/lib/python3.6/site-packages/ipykernel/__main__.py:2: RuntimeWarning: divide by zero encountered in log\n",
      "  from ipykernel import kernelapp as app\n"
     ]
    },
    {
     "data": {
      "text/plain": [
       "[<matplotlib.lines.Line2D at 0x1134b62e8>]"
      ]
     },
     "execution_count": 11,
     "metadata": {},
     "output_type": "execute_result"
    },
    {
     "data": {
      "image/png": "[encoded data removed]",
      "text/plain": [
       "<matplotlib.figure.Figure at 0x116e13978>"
      ]
     },
     "metadata": {},
     "output_type": "display_data"
    }
   ],
   "source": [
    "# plotting psd\n",
    "plt.loglog(np.log(lf.f_axis),np.log(lf.psd[0].T))"
   ]
  },
  {
   "cell_type": "code",
   "execution_count": 12,
   "metadata": {
    "collapsed": false
   },
   "outputs": [
    {
     "data": {
      "text/plain": [
       "array([   1.,    2.,    3.,    4.,    5.,    6.,    7.,    8.,    9.,\n",
       "         10.,   11.,   12.,   13.,   14.,   15.,   16.,   17.,   18.,\n",
       "         19.,   20.,   21.,   22.,   23.,   24.,   25.,   26.,   27.,\n",
       "         28.,   29.,   30.,   31.,   32.,   33.,   34.,   35.,   36.,\n",
       "         37.,   38.,   39.,   40.,   41.,   42.,   43.,   44.,   45.,\n",
       "         46.,   47.,   48.,   49.,   50.,   51.,   52.,   53.,   54.,\n",
       "         55.,   56.,   57.,   58.,   59.,   60.,   61.,   62.,   63.,\n",
       "         64.,   65.,   66.,   67.,   68.,   69.,   70.,   71.,   72.,\n",
       "         73.,   74.,   75.,   76.,   77.,   78.,   79.,   80.,   81.,\n",
       "         82.,   83.,   84.,   85.,   86.,   87.,   88.,   89.,   90.,\n",
       "         91.,   92.,   93.,   94.,   95.,   96.,   97.,   98.,   99.,\n",
       "        100.,  101.,  102.,  103.,  104.,  105.,  106.,  107.,  108.,\n",
       "        109.,  110.,  111.,  112.,  113.,  114.,  115.,  116.,  117.,\n",
       "        118.,  119.,  120.,  121.,  122.,  123.,  124.,  125.,  126.,\n",
       "        127.,  128.,  129.,  130.,  131.,  132.,  133.,  134.,  135.,\n",
       "        136.,  137.,  138.,  139.,  140.,  141.,  142.,  143.,  144.,\n",
       "        145.,  146.,  147.,  148.,  149.,  150.,  151.,  152.,  153.,\n",
       "        154.,  155.,  156.,  157.,  158.,  159.,  160.,  161.,  162.,\n",
       "        163.,  164.,  165.,  166.,  167.,  168.,  169.,  170.,  171.,\n",
       "        172.,  173.,  174.,  175.,  176.,  177.,  178.,  179.,  180.,\n",
       "        181.,  182.,  183.,  184.,  185.,  186.,  187.,  188.,  189.,\n",
       "        190.,  191.,  192.,  193.,  194.,  195.,  196.,  197.,  198.,  199.])"
      ]
     },
     "execution_count": 12,
     "metadata": {},
     "output_type": "execute_result"
    }
   ],
   "source": [
    "lf.f_axis[1:]"
   ]
  },
  {
   "cell_type": "code",
   "execution_count": null,
   "metadata": {
    "collapsed": true
   },
   "outputs": [],
   "source": []
  },
  {
   "cell_type": "code",
   "execution_count": 18,
   "metadata": {
    "collapsed": false
   },
   "outputs": [
    {
     "data": {
      "text/html": [
       "\n",
       "\n",
       "    <div class=\"bk-root\">\n",
       "        <div class=\"bk-plotdiv\" id=\"80fe4556-33cd-46d7-98aa-d302565f8047\"></div>\n",
       "    </div>\n",
       "<script type=\"text/javascript\">\n",
       "  \n",
       "  (function(global) {\n",
       "    function now() {\n",
       "      return new Date();\n",
       "    }\n",
       "  \n",
       "    var force = false;\n",
       "  \n",
       "    if (typeof (window._bokeh_onload_callbacks) === \"undefined\" || force === true) {\n",
       "      window._bokeh_onload_callbacks = [];\n",
       "      window._bokeh_is_loading = undefined;\n",
       "    }\n",
       "  \n",
       "  \n",
       "    \n",
       "    if (typeof (window._bokeh_timeout) === \"undefined\" || force === true) {\n",
       "      window._bokeh_timeout = Date.now() + 0;\n",
       "      window._bokeh_failed_load = false;\n",
       "    }\n",
       "  \n",
       "    var NB_LOAD_WARNING = {'data': {'text/html':\n",
       "       \"<div style='background-color: #fdd'>\\n\"+\n",
       "       \"<p>\\n\"+\n",
       "       \"BokehJS does not appear to have successfully loaded. If loading BokehJS from CDN, this \\n\"+\n",
       "       \"may be due to a slow or bad network connection. Possible fixes:\\n\"+\n",
       "       \"</p>\\n\"+\n",
       "       \"<ul>\\n\"+\n",
       "       \"<li>re-rerun `output_notebook()` to attempt to load from CDN again, or</li>\\n\"+\n",
       "       \"<li>use INLINE resources instead, as so:</li>\\n\"+\n",
       "       \"</ul>\\n\"+\n",
       "       \"<code>\\n\"+\n",
       "       \"from bokeh.resources import INLINE\\n\"+\n",
       "       \"output_notebook(resources=INLINE)\\n\"+\n",
       "       \"</code>\\n\"+\n",
       "       \"</div>\"}};\n",
       "  \n",
       "    function display_loaded() {\n",
       "      if (window.Bokeh !== undefined) {\n",
       "        document.getElementById(\"80fe4556-33cd-46d7-98aa-d302565f8047\").textContent = \"BokehJS successfully loaded.\";\n",
       "      } else if (Date.now() < window._bokeh_timeout) {\n",
       "        setTimeout(display_loaded, 100)\n",
       "      }\n",
       "    }\n",
       "  \n",
       "    function run_callbacks() {\n",
       "      window._bokeh_onload_callbacks.forEach(function(callback) { callback() });\n",
       "      delete window._bokeh_onload_callbacks\n",
       "      console.info(\"Bokeh: all callbacks have finished\");\n",
       "    }\n",
       "  \n",
       "    function load_libs(js_urls, callback) {\n",
       "      window._bokeh_onload_callbacks.push(callback);\n",
       "      if (window._bokeh_is_loading > 0) {\n",
       "        console.log(\"Bokeh: BokehJS is being loaded, scheduling callback at\", now());\n",
       "        return null;\n",
       "      }\n",
       "      if (js_urls == null || js_urls.length === 0) {\n",
       "        run_callbacks();\n",
       "        return null;\n",
       "      }\n",
       "      console.log(\"Bokeh: BokehJS not loaded, scheduling load and callback at\", now());\n",
       "      window._bokeh_is_loading = js_urls.length;\n",
       "      for (var i = 0; i < js_urls.length; i++) {\n",
       "        var url = js_urls[i];\n",
       "        var s = document.createElement('script');\n",
       "        s.src = url;\n",
       "        s.async = false;\n",
       "        s.onreadystatechange = s.onload = function() {\n",
       "          window._bokeh_is_loading--;\n",
       "          if (window._bokeh_is_loading === 0) {\n",
       "            console.log(\"Bokeh: all BokehJS libraries loaded\");\n",
       "            run_callbacks()\n",
       "          }\n",
       "        };\n",
       "        s.onerror = function() {\n",
       "          console.warn(\"failed to load library \" + url);\n",
       "        };\n",
       "        console.log(\"Bokeh: injecting script tag for BokehJS library: \", url);\n",
       "        document.getElementsByTagName(\"head\")[0].appendChild(s);\n",
       "      }\n",
       "    };var element = document.getElementById(\"80fe4556-33cd-46d7-98aa-d302565f8047\");\n",
       "    if (element == null) {\n",
       "      console.log(\"Bokeh: ERROR: autoload.js configured with elementid '80fe4556-33cd-46d7-98aa-d302565f8047' but no matching script tag was found. \")\n",
       "      return false;\n",
       "    }\n",
       "  \n",
       "    var js_urls = [];\n",
       "  \n",
       "    var inline_js = [\n",
       "      function(Bokeh) {\n",
       "        (function() {\n",
       "          var fn = function() {\n",
       "            var docs_json = {\"7afb4a73-729f-4c11-aa82-f5ef395b43fa\":{\"roots\":{\"references\":[{\"attributes\":{},\"id\":\"3d59bdf5-022d-4df7-8c48-d6b6678bdace\",\"type\":\"BasicTickFormatter\"},{\"attributes\":{},\"id\":\"9facccfb-eceb-4c48-b7b3-edfb021b7c48\",\"type\":\"BasicTickFormatter\"},{\"attributes\":{\"fill_alpha\":{\"value\":0.1},\"fill_color\":{\"value\":\"#1f77b4\"},\"line_alpha\":{\"value\":0.1},\"line_color\":{\"value\":\"#1f77b4\"},\"x\":{\"field\":\"x\"},\"y\":{\"field\":\"y1\"}},\"id\":\"1bbafa2c-6168-4931-90fe-7397048b3ecc\",\"type\":\"Circle\"},{\"attributes\":{\"sizing_mode\":\"scale_width\",\"toolbar_location\":\"above\",\"tools\":[{\"id\":\"a9cc58bc-bcfe-4876-87ea-5dcd734257b1\",\"type\":\"BoxSelectTool\"},{\"id\":\"7da9ae96-1e1c-4146-b3c3-80264a9649ff\",\"type\":\"LassoSelectTool\"},{\"id\":\"4ba84f6f-32a1-4488-a56d-e4ab652a5e0c\",\"type\":\"HelpTool\"},{\"id\":\"396bae7b-37dd-4819-886f-58b49fd92dda\",\"type\":\"BoxSelectTool\"},{\"id\":\"fbb5c79d-3119-4b39-8c63-6600bc448de7\",\"type\":\"LassoSelectTool\"},{\"id\":\"a692add7-7bf3-480a-b652-23bd924960ea\",\"type\":\"HelpTool\"}]},\"id\":\"72eb783d-551a-484c-903d-231ea394c156\",\"type\":\"ToolbarBox\"},{\"attributes\":{\"fill_alpha\":{\"value\":0.2},\"fill_color\":{\"value\":\"darkgrey\"},\"line_alpha\":{\"value\":0.2},\"line_color\":{\"value\":\"darkgrey\"},\"x\":{\"field\":\"x\"},\"y\":{\"field\":\"y1\"}},\"id\":\"e5e9df40-0098-4d4a-ae2b-1f95178a1f30\",\"type\":\"Circle\"},{\"attributes\":{\"data_source\":{\"id\":\"cba5265f-fd40-4a49-93ab-8fc96ad041af\",\"type\":\"ColumnDataSource\"},\"glyph\":{\"id\":\"e5e9df40-0098-4d4a-ae2b-1f95178a1f30\",\"type\":\"Circle\"},\"hover_glyph\":null,\"nonselection_glyph\":{\"id\":\"1bbafa2c-6168-4931-90fe-7397048b3ecc\",\"type\":\"Circle\"},\"selection_glyph\":null},\"id\":\"e80a095b-2412-4a80-974f-300fe2b8711b\",\"type\":\"GlyphRenderer\"},{\"attributes\":{\"children\":[{\"id\":\"5710685a-4b75-47da-9123-1a137fdc5395\",\"type\":\"Column\"}]},\"id\":\"3a387ce9-de56-4ae3-ab7e-2c5beba5dab0\",\"type\":\"Row\"},{\"attributes\":{\"children\":[{\"id\":\"a86bbfad-d1bd-4877-9cb4-f3ad7cfc9882\",\"subtype\":\"Figure\",\"type\":\"Plot\"},{\"id\":\"9c2ac47a-7abc-47ea-956c-bd575599428e\",\"subtype\":\"Figure\",\"type\":\"Plot\"}]},\"id\":\"fdede4de-eb4c-4ba3-8b86-825c39c37af6\",\"type\":\"Row\"},{\"attributes\":{\"children\":[{\"id\":\"72eb783d-551a-484c-903d-231ea394c156\",\"type\":\"ToolbarBox\"},{\"id\":\"69924479-0c53-4d20-a0a5-40d1e17213c6\",\"type\":\"Column\"}]},\"id\":\"5be367d3-184c-4cfc-8a79-61fb51043262\",\"type\":\"Column\"},{\"attributes\":{\"children\":[{\"id\":\"e782883a-a2b0-4af1-9c22-dc9ea5ac6994\",\"type\":\"WidgetBox\"}]},\"id\":\"5710685a-4b75-47da-9123-1a137fdc5395\",\"type\":\"Column\"},{\"attributes\":{\"children\":[{\"id\":\"33765ddc-c8fa-468d-8ed0-e127730fef4c\",\"type\":\"Select\"}]},\"id\":\"e782883a-a2b0-4af1-9c22-dc9ea5ac6994\",\"type\":\"WidgetBox\"},{\"attributes\":{\"children\":[{\"id\":\"3a387ce9-de56-4ae3-ab7e-2c5beba5dab0\",\"type\":\"Row\"},{\"id\":\"5be367d3-184c-4cfc-8a79-61fb51043262\",\"type\":\"Column\"}]},\"id\":\"dc21885d-bd70-47ab-8e94-955eeb6279ef\",\"type\":\"Column\"},{\"attributes\":{\"line_color\":{\"value\":\"navy\"},\"x\":{\"field\":\"x\"},\"y\":{\"field\":\"y0\"}},\"id\":\"99765ab1-d82f-44f9-8ec0-b2dfae9b78f5\",\"type\":\"Line\"},{\"attributes\":{\"active_drag\":\"auto\",\"active_scroll\":\"auto\",\"active_tap\":\"auto\",\"tools\":[{\"id\":\"396bae7b-37dd-4819-886f-58b49fd92dda\",\"type\":\"BoxSelectTool\"},{\"id\":\"fbb5c79d-3119-4b39-8c63-6600bc448de7\",\"type\":\"LassoSelectTool\"},{\"id\":\"a692add7-7bf3-480a-b652-23bd924960ea\",\"type\":\"HelpTool\"}]},\"id\":\"5e99ff44-ed29-4900-b96c-45a4f18a034b\",\"type\":\"Toolbar\"},{\"attributes\":{\"plot\":null,\"text\":\"SCV\"},\"id\":\"bfaec22b-3c17-4098-866f-98feb6fbb14e\",\"type\":\"Title\"},{\"attributes\":{\"bottom_units\":\"screen\",\"fill_alpha\":{\"value\":0.5},\"fill_color\":{\"value\":\"lightgrey\"},\"left_units\":\"screen\",\"level\":\"overlay\",\"line_alpha\":{\"value\":1.0},\"line_color\":{\"value\":\"black\"},\"line_dash\":[4,4],\"line_width\":{\"value\":2},\"plot\":null,\"render_mode\":\"css\",\"right_units\":\"screen\",\"top_units\":\"screen\"},\"id\":\"ca7f790e-577f-431e-954b-aebb924a6a5d\",\"type\":\"BoxAnnotation\"},{\"attributes\":{\"below\":[{\"id\":\"84ed6bf7-2a34-4cbb-918c-9986b62d1d60\",\"type\":\"LinearAxis\"}],\"left\":[{\"id\":\"c1332988-a3fa-440c-ad39-a229610f1b09\",\"type\":\"LinearAxis\"}],\"plot_height\":400,\"plot_width\":400,\"renderers\":[{\"id\":\"84ed6bf7-2a34-4cbb-918c-9986b62d1d60\",\"type\":\"LinearAxis\"},{\"id\":\"a631401d-d43e-4103-a446-2cb573462f8a\",\"type\":\"Grid\"},{\"id\":\"c1332988-a3fa-440c-ad39-a229610f1b09\",\"type\":\"LinearAxis\"},{\"id\":\"75f31d46-9878-4346-a04e-af16499cab84\",\"type\":\"Grid\"},{\"id\":\"bdc3603e-487d-455c-9e2f-1c0fc25c7bee\",\"type\":\"BoxAnnotation\"},{\"id\":\"f2aec555-4fd7-4e06-a73c-821bd9b0f5ad\",\"type\":\"PolyAnnotation\"},{\"id\":\"13095cae-3f1a-4f43-ad4b-500bc6e84aa5\",\"type\":\"GlyphRenderer\"},{\"id\":\"e1be0793-36d8-4cb9-a929-3973a1e06ec0\",\"type\":\"GlyphRenderer\"}],\"title\":{\"id\":\"ec822b8e-4344-4ce6-9f0f-dc092c03a7cd\",\"type\":\"Title\"},\"tool_events\":{\"id\":\"34a08a72-5765-4d5a-b2eb-0c5cbcef019a\",\"type\":\"ToolEvents\"},\"toolbar\":{\"id\":\"07d9a0e0-f5a6-49a5-a895-38d7b781846d\",\"type\":\"Toolbar\"},\"toolbar_location\":null,\"x_range\":{\"id\":\"26c9ee96-6826-4200-a58e-04ae6022d60b\",\"type\":\"DataRange1d\"},\"y_range\":{\"id\":\"291603e3-2b7f-4a1e-a5b8-c64c34802c9a\",\"type\":\"DataRange1d\"}},\"id\":\"a86bbfad-d1bd-4877-9cb4-f3ad7cfc9882\",\"subtype\":\"Figure\",\"type\":\"Plot\"},{\"attributes\":{\"line_alpha\":{\"value\":0.1},\"line_color\":{\"value\":\"#1f77b4\"},\"x\":{\"field\":\"x\"},\"y\":{\"field\":\"y0\"}},\"id\":\"8b7c44c0-7bfa-4cd0-b7d3-6475dc71e283\",\"type\":\"Line\"},{\"attributes\":{\"plot\":null,\"text\":\"PSD\"},\"id\":\"ec822b8e-4344-4ce6-9f0f-dc092c03a7cd\",\"type\":\"Title\"},{\"attributes\":{\"callback\":null},\"id\":\"26c9ee96-6826-4200-a58e-04ae6022d60b\",\"type\":\"DataRange1d\"},{\"attributes\":{},\"id\":\"34a08a72-5765-4d5a-b2eb-0c5cbcef019a\",\"type\":\"ToolEvents\"},{\"attributes\":{\"active_drag\":\"auto\",\"active_scroll\":\"auto\",\"active_tap\":\"auto\",\"tools\":[{\"id\":\"a9cc58bc-bcfe-4876-87ea-5dcd734257b1\",\"type\":\"BoxSelectTool\"},{\"id\":\"7da9ae96-1e1c-4146-b3c3-80264a9649ff\",\"type\":\"LassoSelectTool\"},{\"id\":\"4ba84f6f-32a1-4488-a56d-e4ab652a5e0c\",\"type\":\"HelpTool\"}]},\"id\":\"07d9a0e0-f5a6-49a5-a895-38d7b781846d\",\"type\":\"Toolbar\"},{\"attributes\":{\"bottom_units\":\"screen\",\"fill_alpha\":{\"value\":0.5},\"fill_color\":{\"value\":\"lightgrey\"},\"left_units\":\"screen\",\"level\":\"overlay\",\"line_alpha\":{\"value\":1.0},\"line_color\":{\"value\":\"black\"},\"line_dash\":[4,4],\"line_width\":{\"value\":2},\"plot\":null,\"render_mode\":\"css\",\"right_units\":\"screen\",\"top_units\":\"screen\"},\"id\":\"bdc3603e-487d-455c-9e2f-1c0fc25c7bee\",\"type\":\"BoxAnnotation\"},{\"attributes\":{\"axis_label\":\"Frequency (Hz)\",\"formatter\":{\"id\":\"74402503-b540-42dc-a146-859f9b91829a\",\"type\":\"BasicTickFormatter\"},\"plot\":{\"id\":\"a86bbfad-d1bd-4877-9cb4-f3ad7cfc9882\",\"subtype\":\"Figure\",\"type\":\"Plot\"},\"ticker\":{\"id\":\"5647ce96-c51e-44f4-8e20-10ff3c24d3ce\",\"type\":\"BasicTicker\"}},\"id\":\"84ed6bf7-2a34-4cbb-918c-9986b62d1d60\",\"type\":\"LinearAxis\"},{\"attributes\":{\"callback\":null},\"id\":\"291603e3-2b7f-4a1e-a5b8-c64c34802c9a\",\"type\":\"DataRange1d\"},{\"attributes\":{},\"id\":\"5647ce96-c51e-44f4-8e20-10ff3c24d3ce\",\"type\":\"BasicTicker\"},{\"attributes\":{\"grid_line_alpha\":{\"value\":0.3},\"plot\":{\"id\":\"a86bbfad-d1bd-4877-9cb4-f3ad7cfc9882\",\"subtype\":\"Figure\",\"type\":\"Plot\"},\"ticker\":{\"id\":\"5647ce96-c51e-44f4-8e20-10ff3c24d3ce\",\"type\":\"BasicTicker\"}},\"id\":\"a631401d-d43e-4103-a446-2cb573462f8a\",\"type\":\"Grid\"},{\"attributes\":{\"axis_label\":\"Power/Frequency (dB/Hz)\",\"formatter\":{\"id\":\"29465ca8-25e0-45a8-aae3-f7bddc848784\",\"type\":\"BasicTickFormatter\"},\"plot\":{\"id\":\"a86bbfad-d1bd-4877-9cb4-f3ad7cfc9882\",\"subtype\":\"Figure\",\"type\":\"Plot\"},\"ticker\":{\"id\":\"4f10c349-23bc-49b4-b302-441b0d54eb99\",\"type\":\"BasicTicker\"}},\"id\":\"c1332988-a3fa-440c-ad39-a229610f1b09\",\"type\":\"LinearAxis\"},{\"attributes\":{},\"id\":\"4f10c349-23bc-49b4-b302-441b0d54eb99\",\"type\":\"BasicTicker\"},{\"attributes\":{\"dimension\":1,\"grid_line_alpha\":{\"value\":0.3},\"plot\":{\"id\":\"a86bbfad-d1bd-4877-9cb4-f3ad7cfc9882\",\"subtype\":\"Figure\",\"type\":\"Plot\"},\"ticker\":{\"id\":\"4f10c349-23bc-49b4-b302-441b0d54eb99\",\"type\":\"BasicTicker\"}},\"id\":\"75f31d46-9878-4346-a04e-af16499cab84\",\"type\":\"Grid\"},{\"attributes\":{\"callback\":null,\"overlay\":{\"id\":\"bdc3603e-487d-455c-9e2f-1c0fc25c7bee\",\"type\":\"BoxAnnotation\"},\"plot\":{\"id\":\"a86bbfad-d1bd-4877-9cb4-f3ad7cfc9882\",\"subtype\":\"Figure\",\"type\":\"Plot\"},\"renderers\":[{\"id\":\"13095cae-3f1a-4f43-ad4b-500bc6e84aa5\",\"type\":\"GlyphRenderer\"},{\"id\":\"e1be0793-36d8-4cb9-a929-3973a1e06ec0\",\"type\":\"GlyphRenderer\"}]},\"id\":\"a9cc58bc-bcfe-4876-87ea-5dcd734257b1\",\"type\":\"BoxSelectTool\"},{\"attributes\":{\"fill_alpha\":{\"value\":0.5},\"fill_color\":{\"value\":\"lightgrey\"},\"level\":\"overlay\",\"line_alpha\":{\"value\":1.0},\"line_color\":{\"value\":\"black\"},\"line_dash\":[4,4],\"line_width\":{\"value\":2},\"plot\":null,\"xs_units\":\"screen\",\"ys_units\":\"screen\"},\"id\":\"f2aec555-4fd7-4e06-a73c-821bd9b0f5ad\",\"type\":\"PolyAnnotation\"},{\"attributes\":{\"callback\":null,\"overlay\":{\"id\":\"f2aec555-4fd7-4e06-a73c-821bd9b0f5ad\",\"type\":\"PolyAnnotation\"},\"plot\":{\"id\":\"a86bbfad-d1bd-4877-9cb4-f3ad7cfc9882\",\"subtype\":\"Figure\",\"type\":\"Plot\"}},\"id\":\"7da9ae96-1e1c-4146-b3c3-80264a9649ff\",\"type\":\"LassoSelectTool\"},{\"attributes\":{\"plot\":{\"id\":\"a86bbfad-d1bd-4877-9cb4-f3ad7cfc9882\",\"subtype\":\"Figure\",\"type\":\"Plot\"}},\"id\":\"4ba84f6f-32a1-4488-a56d-e4ab652a5e0c\",\"type\":\"HelpTool\"},{\"attributes\":{\"line_color\":{\"value\":\"navy\"},\"x\":{\"field\":\"x\"},\"y\":{\"field\":\"y1\"}},\"id\":\"97887ae1-e779-4b8e-b939-00e32665d5b0\",\"type\":\"Line\"},{\"attributes\":{},\"id\":\"a33da32a-0065-42cc-9f37-f54db855c5a1\",\"type\":\"ToolEvents\"},{\"attributes\":{\"callback\":null},\"id\":\"ca15e7fb-1ae2-418f-acc9-c406d5247a14\",\"type\":\"DataRange1d\"},{\"attributes\":{\"axis_label\":\"Frequency (Hz)\",\"formatter\":{\"id\":\"3d59bdf5-022d-4df7-8c48-d6b6678bdace\",\"type\":\"BasicTickFormatter\"},\"plot\":{\"id\":\"9c2ac47a-7abc-47ea-956c-bd575599428e\",\"subtype\":\"Figure\",\"type\":\"Plot\"},\"ticker\":{\"id\":\"88fce92a-3b6c-4f4b-b0ee-2a2a186591e7\",\"type\":\"BasicTicker\"}},\"id\":\"d2ddd84f-149b-4059-a784-6b1b98e0d345\",\"type\":\"LinearAxis\"},{\"attributes\":{\"callback\":null,\"options\":[\"0\",\"1\",\"2\",\"3\",\"4\",\"5\",\"6\",\"7\",\"8\",\"9\",\"10\",\"11\",\"12\",\"13\",\"14\",\"15\",\"16\",\"17\",\"18\",\"19\",\"20\",\"21\",\"22\",\"23\",\"24\",\"25\",\"26\",\"27\",\"28\",\"29\",\"30\",\"31\",\"32\",\"33\",\"34\",\"35\",\"36\",\"37\",\"38\",\"39\",\"40\",\"41\",\"42\",\"43\",\"44\",\"45\"],\"title\":\"channel\",\"value\":\"0\"},\"id\":\"33765ddc-c8fa-468d-8ed0-e127730fef4c\",\"type\":\"Select\"},{\"attributes\":{\"callback\":null},\"id\":\"922cab15-9430-4d4f-8c23-bab6464dddd6\",\"type\":\"DataRange1d\"},{\"attributes\":{},\"id\":\"88fce92a-3b6c-4f4b-b0ee-2a2a186591e7\",\"type\":\"BasicTicker\"},{\"attributes\":{\"grid_line_alpha\":{\"value\":0.3},\"plot\":{\"id\":\"9c2ac47a-7abc-47ea-956c-bd575599428e\",\"subtype\":\"Figure\",\"type\":\"Plot\"},\"ticker\":{\"id\":\"88fce92a-3b6c-4f4b-b0ee-2a2a186591e7\",\"type\":\"BasicTicker\"}},\"id\":\"0124861a-c4b3-4b80-b7d4-68a158a7bb70\",\"type\":\"Grid\"},{\"attributes\":{\"axis_label\":\"Unitless\",\"formatter\":{\"id\":\"9facccfb-eceb-4c48-b7b3-edfb021b7c48\",\"type\":\"BasicTickFormatter\"},\"plot\":{\"id\":\"9c2ac47a-7abc-47ea-956c-bd575599428e\",\"subtype\":\"Figure\",\"type\":\"Plot\"},\"ticker\":{\"id\":\"d7d5b319-7d7f-410a-903b-e8854d6e5e19\",\"type\":\"BasicTicker\"}},\"id\":\"6c8008c6-e856-4af9-8604-f9a7408ff67b\",\"type\":\"LinearAxis\"},{\"attributes\":{},\"id\":\"d7d5b319-7d7f-410a-903b-e8854d6e5e19\",\"type\":\"BasicTicker\"},{\"attributes\":{\"callback\":null,\"column_names\":[\"x\",\"y0\",\"y1\"],\"data\":{\"x\":{\"__ndarray__\":\"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\",\"dtype\":\"float64\",\"shape\":[199]},\"y0\":{\"__ndarray__\":\"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\",\"dtype\":\"float64\",\"shape\":[199]},\"y1\":{\"__ndarray__\":\"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\",\"dtype\":\"float64\",\"shape\":[199]}}},\"id\":\"cba5265f-fd40-4a49-93ab-8fc96ad041af\",\"type\":\"ColumnDataSource\"},{\"attributes\":{\"dimension\":1,\"grid_line_alpha\":{\"value\":0.3},\"plot\":{\"id\":\"9c2ac47a-7abc-47ea-956c-bd575599428e\",\"subtype\":\"Figure\",\"type\":\"Plot\"},\"ticker\":{\"id\":\"d7d5b319-7d7f-410a-903b-e8854d6e5e19\",\"type\":\"BasicTicker\"}},\"id\":\"5483b4cb-d34e-498a-b0e6-26cf102d9d66\",\"type\":\"Grid\"},{\"attributes\":{\"callback\":null,\"overlay\":{\"id\":\"ca7f790e-577f-431e-954b-aebb924a6a5d\",\"type\":\"BoxAnnotation\"},\"plot\":{\"id\":\"9c2ac47a-7abc-47ea-956c-bd575599428e\",\"subtype\":\"Figure\",\"type\":\"Plot\"},\"renderers\":[{\"id\":\"527b4e14-341e-4cc4-ab63-edb5c95df1e0\",\"type\":\"GlyphRenderer\"},{\"id\":\"e80a095b-2412-4a80-974f-300fe2b8711b\",\"type\":\"GlyphRenderer\"}]},\"id\":\"396bae7b-37dd-4819-886f-58b49fd92dda\",\"type\":\"BoxSelectTool\"},{\"attributes\":{\"fill_alpha\":{\"value\":0.5},\"fill_color\":{\"value\":\"lightgrey\"},\"level\":\"overlay\",\"line_alpha\":{\"value\":1.0},\"line_color\":{\"value\":\"black\"},\"line_dash\":[4,4],\"line_width\":{\"value\":2},\"plot\":null,\"xs_units\":\"screen\",\"ys_units\":\"screen\"},\"id\":\"477341f2-356a-48e5-b378-370f476e4b3a\",\"type\":\"PolyAnnotation\"},{\"attributes\":{\"callback\":null,\"overlay\":{\"id\":\"477341f2-356a-48e5-b378-370f476e4b3a\",\"type\":\"PolyAnnotation\"},\"plot\":{\"id\":\"9c2ac47a-7abc-47ea-956c-bd575599428e\",\"subtype\":\"Figure\",\"type\":\"Plot\"}},\"id\":\"fbb5c79d-3119-4b39-8c63-6600bc448de7\",\"type\":\"LassoSelectTool\"},{\"attributes\":{\"below\":[{\"id\":\"d2ddd84f-149b-4059-a784-6b1b98e0d345\",\"type\":\"LinearAxis\"}],\"left\":[{\"id\":\"6c8008c6-e856-4af9-8604-f9a7408ff67b\",\"type\":\"LinearAxis\"}],\"plot_height\":400,\"plot_width\":400,\"renderers\":[{\"id\":\"d2ddd84f-149b-4059-a784-6b1b98e0d345\",\"type\":\"LinearAxis\"},{\"id\":\"0124861a-c4b3-4b80-b7d4-68a158a7bb70\",\"type\":\"Grid\"},{\"id\":\"6c8008c6-e856-4af9-8604-f9a7408ff67b\",\"type\":\"LinearAxis\"},{\"id\":\"5483b4cb-d34e-498a-b0e6-26cf102d9d66\",\"type\":\"Grid\"},{\"id\":\"ca7f790e-577f-431e-954b-aebb924a6a5d\",\"type\":\"BoxAnnotation\"},{\"id\":\"477341f2-356a-48e5-b378-370f476e4b3a\",\"type\":\"PolyAnnotation\"},{\"id\":\"527b4e14-341e-4cc4-ab63-edb5c95df1e0\",\"type\":\"GlyphRenderer\"},{\"id\":\"e80a095b-2412-4a80-974f-300fe2b8711b\",\"type\":\"GlyphRenderer\"}],\"title\":{\"id\":\"bfaec22b-3c17-4098-866f-98feb6fbb14e\",\"type\":\"Title\"},\"tool_events\":{\"id\":\"a33da32a-0065-42cc-9f37-f54db855c5a1\",\"type\":\"ToolEvents\"},\"toolbar\":{\"id\":\"5e99ff44-ed29-4900-b96c-45a4f18a034b\",\"type\":\"Toolbar\"},\"toolbar_location\":null,\"x_range\":{\"id\":\"ca15e7fb-1ae2-418f-acc9-c406d5247a14\",\"type\":\"DataRange1d\"},\"y_range\":{\"id\":\"922cab15-9430-4d4f-8c23-bab6464dddd6\",\"type\":\"DataRange1d\"}},\"id\":\"9c2ac47a-7abc-47ea-956c-bd575599428e\",\"subtype\":\"Figure\",\"type\":\"Plot\"},{\"attributes\":{\"plot\":{\"id\":\"9c2ac47a-7abc-47ea-956c-bd575599428e\",\"subtype\":\"Figure\",\"type\":\"Plot\"}},\"id\":\"a692add7-7bf3-480a-b652-23bd924960ea\",\"type\":\"HelpTool\"},{\"attributes\":{},\"id\":\"29465ca8-25e0-45a8-aae3-f7bddc848784\",\"type\":\"BasicTickFormatter\"},{\"attributes\":{},\"id\":\"74402503-b540-42dc-a146-859f9b91829a\",\"type\":\"BasicTickFormatter\"},{\"attributes\":{\"data_source\":{\"id\":\"cba5265f-fd40-4a49-93ab-8fc96ad041af\",\"type\":\"ColumnDataSource\"},\"glyph\":{\"id\":\"99765ab1-d82f-44f9-8ec0-b2dfae9b78f5\",\"type\":\"Line\"},\"hover_glyph\":null,\"nonselection_glyph\":{\"id\":\"8b7c44c0-7bfa-4cd0-b7d3-6475dc71e283\",\"type\":\"Line\"},\"selection_glyph\":null},\"id\":\"13095cae-3f1a-4f43-ad4b-500bc6e84aa5\",\"type\":\"GlyphRenderer\"},{\"attributes\":{\"fill_alpha\":{\"value\":0.1},\"fill_color\":{\"value\":\"#1f77b4\"},\"line_alpha\":{\"value\":0.1},\"line_color\":{\"value\":\"#1f77b4\"},\"x\":{\"field\":\"x\"},\"y\":{\"field\":\"y0\"}},\"id\":\"f1981381-7e55-49a6-9569-79e060d7f9e1\",\"type\":\"Circle\"},{\"attributes\":{\"data_source\":{\"id\":\"cba5265f-fd40-4a49-93ab-8fc96ad041af\",\"type\":\"ColumnDataSource\"},\"glyph\":{\"id\":\"97887ae1-e779-4b8e-b939-00e32665d5b0\",\"type\":\"Line\"},\"hover_glyph\":null,\"nonselection_glyph\":{\"id\":\"27566a0c-df97-44b2-8e30-3bada0b90d89\",\"type\":\"Line\"},\"selection_glyph\":null},\"id\":\"527b4e14-341e-4cc4-ab63-edb5c95df1e0\",\"type\":\"GlyphRenderer\"},{\"attributes\":{\"fill_alpha\":{\"value\":0.2},\"fill_color\":{\"value\":\"darkgrey\"},\"line_alpha\":{\"value\":0.2},\"line_color\":{\"value\":\"darkgrey\"},\"x\":{\"field\":\"x\"},\"y\":{\"field\":\"y0\"}},\"id\":\"edcaf1b6-f56a-4ad9-ad28-8814455a945b\",\"type\":\"Circle\"},{\"attributes\":{\"data_source\":{\"id\":\"cba5265f-fd40-4a49-93ab-8fc96ad041af\",\"type\":\"ColumnDataSource\"},\"glyph\":{\"id\":\"edcaf1b6-f56a-4ad9-ad28-8814455a945b\",\"type\":\"Circle\"},\"hover_glyph\":null,\"nonselection_glyph\":{\"id\":\"f1981381-7e55-49a6-9569-79e060d7f9e1\",\"type\":\"Circle\"},\"selection_glyph\":null},\"id\":\"e1be0793-36d8-4cb9-a929-3973a1e06ec0\",\"type\":\"GlyphRenderer\"},{\"attributes\":{\"children\":[{\"id\":\"fdede4de-eb4c-4ba3-8b86-825c39c37af6\",\"type\":\"Row\"}]},\"id\":\"69924479-0c53-4d20-a0a5-40d1e17213c6\",\"type\":\"Column\"},{\"attributes\":{\"line_alpha\":{\"value\":0.1},\"line_color\":{\"value\":\"#1f77b4\"},\"x\":{\"field\":\"x\"},\"y\":{\"field\":\"y1\"}},\"id\":\"27566a0c-df97-44b2-8e30-3bada0b90d89\",\"type\":\"Line\"}],\"root_ids\":[\"dc21885d-bd70-47ab-8e94-955eeb6279ef\"]},\"title\":\"Bokeh Application\",\"version\":\"0.12.4\"}};\n",
       "            var render_items = [{\"docid\":\"7afb4a73-729f-4c11-aa82-f5ef395b43fa\",\"elementid\":\"80fe4556-33cd-46d7-98aa-d302565f8047\",\"modelid\":\"dc21885d-bd70-47ab-8e94-955eeb6279ef\"}];\n",
       "            \n",
       "            Bokeh.embed.embed_items(docs_json, render_items);\n",
       "          };\n",
       "          if (document.readyState != \"loading\") fn();\n",
       "          else document.addEventListener(\"DOMContentLoaded\", fn);\n",
       "        })();\n",
       "      },\n",
       "      function(Bokeh) {\n",
       "      }\n",
       "    ];\n",
       "  \n",
       "    function run_inline_js() {\n",
       "      \n",
       "      if ((window.Bokeh !== undefined) || (force === true)) {\n",
       "        for (var i = 0; i < inline_js.length; i++) {\n",
       "          inline_js[i](window.Bokeh);\n",
       "        }if (force === true) {\n",
       "          display_loaded();\n",
       "        }} else if (Date.now() < window._bokeh_timeout) {\n",
       "        setTimeout(run_inline_js, 100);\n",
       "      } else if (!window._bokeh_failed_load) {\n",
       "        console.log(\"Bokeh: BokehJS failed to load within specified timeout.\");\n",
       "        window._bokeh_failed_load = true;\n",
       "      } else if (force !== true) {\n",
       "        var cell = $(document.getElementById(\"80fe4556-33cd-46d7-98aa-d302565f8047\")).parents('.cell').data().cell;\n",
       "        cell.output_area.append_execute_result(NB_LOAD_WARNING)\n",
       "      }\n",
       "  \n",
       "    }\n",
       "  \n",
       "    if (window._bokeh_is_loading === 0) {\n",
       "      console.log(\"Bokeh: BokehJS loaded, going straight to plotting\");\n",
       "      run_inline_js();\n",
       "    } else {\n",
       "      load_libs(js_urls, function() {\n",
       "        console.log(\"Bokeh: BokehJS plotting callback run at\", now());\n",
       "        run_inline_js();\n",
       "      });\n",
       "    }\n",
       "  }(this));\n",
       "</script>"
      ]
     },
     "metadata": {},
     "output_type": "display_data"
    }
   ],
   "source": [
    "from bokeh.io import output_file, show\n",
    "from bokeh.layouts import gridplot\n",
    "from bokeh.models import ColumnDataSource\n",
    "from bokeh.plotting import figure\n",
    "from bokeh.models.widgets import PreText, Select\n",
    "from bokeh.io import curdoc\n",
    "from bokeh.layouts import row, column\n",
    "\n",
    "chan_count, freq = lf.psd.shape\n",
    "\n",
    "DEFAULT_TICKERS = list(map(str, range(chan_count)))\n",
    "ticker = Select(value='0', title='channel', options=DEFAULT_TICKERS)\n",
    "\n",
    "x = np.log(lf.f_axis[1:])\n",
    "y0 = np.log(lf.psd[1].T[1:])\n",
    "y1 = np.log(lf.scv[1].T[1:])\n",
    "\n",
    "# create a column data source for the plots to share\n",
    "source = ColumnDataSource(data=dict(x=x, y0=y0, y1=y1))\n",
    "\n",
    "TOOLS = \"box_select,lasso_select,help\"\n",
    "\n",
    "left = figure(tools=TOOLS, plot_width=300, plot_height=300, title='PSD')\n",
    "right = figure(tools=TOOLS, plot_width=300, plot_height=300, title='SCV')\n",
    "\n",
    "def left_psd_plot(source):\n",
    "    # create a new plot and add a renderer\n",
    "    left.line('x', 'y0', source=source, color='navy')\n",
    "    left.circle('x', 'y0', source=source, size=4, color='darkgrey', alpha=0.2)\n",
    "    left.legend.location = 'top_left'\n",
    "    left.xaxis.axis_label = 'Frequency (Hz)'\n",
    "    left.yaxis.axis_label = 'Power/Frequency (dB/Hz)'\n",
    "    left.grid.grid_line_alpha=0.3\n",
    "\n",
    "def right_scv_plot(source):\n",
    "    # create another new plot and add a renderer\n",
    "    right.line('x', 'y1', source=source, color='navy')\n",
    "    right.circle('x', 'y1', source=source, size=4, color='darkgrey', alpha=0.2)\n",
    "    right.legend.location='top_left'\n",
    "    right.xaxis.axis_label = 'Frequency (Hz)'\n",
    "    right.yaxis.axis_label = 'Unitless'\n",
    "    right.grid.grid_line_alpha=0.3\n",
    "\n",
    "def selection_change(attr, old, new):\n",
    "    left = left\n",
    "    right = right\n",
    "    chan = int(ticker.value)\n",
    "    x = np.log(lf.f_axis[1:])\n",
    "    y0 = np.log(lf.psd[chan].T[1:])\n",
    "    y1 = np.log(lf.scv[chan].T[1:])\n",
    "    data = dict(x=x, y0=y0, y1=y1)\n",
    "    # create a column data source for the plots to share\n",
    "    source.data = data\n",
    "    left_psd_plot(source=data)\n",
    "    right_scv_plot(source=data)\n",
    "\n",
    "left_psd_plot(source)\n",
    "right_scv_plot(source)\n",
    "p = gridplot([[left, right]], plot_width=400, plot_height=400)\n",
    "\n",
    "ticker.on_change('value', selection_change)\n",
    "\n",
    "widgets = column(ticker)\n",
    "main_row = row(widgets)\n",
    "layout = column(main_row, p)\n",
    "\n",
    "# show(widgetbox(select))\n",
    "curdoc().add_root(layout)\n",
    "\n",
    "show(layout)"
   ]
  },
  {
   "cell_type": "code",
   "execution_count": null,
   "metadata": {
    "collapsed": false
   },
   "outputs": [],
   "source": [
    "int('44')"
   ]
  },
  {
   "cell_type": "code",
   "execution_count": null,
   "metadata": {
    "collapsed": true
   },
   "outputs": [],
   "source": [
    "interact(update_spct_hist, f=(1,100), numbins=(10,55,5), channel=chan_sel)"
   ]
  },
  {
   "cell_type": "code",
   "execution_count": null,
   "metadata": {
    "collapsed": false
   },
   "outputs": [],
   "source": [
    "type(range(10,15))"
   ]
  },
  {
   "cell_type": "code",
   "execution_count": null,
   "metadata": {
    "collapsed": true
   },
   "outputs": [],
   "source": []
  }
 ],
 "metadata": {
  "kernelspec": {
   "display_name": "Python [conda env:py36]",
   "language": "python",
   "name": "conda-env-py36-py"
  },
  "language_info": {
   "codemirror_mode": {
    "name": "ipython",
    "version": 3
   },
   "file_extension": ".py",
   "mimetype": "text/x-python",
   "name": "python",
   "nbconvert_exporter": "python",
   "pygments_lexer": "ipython3",
   "version": "3.6.0"
  }
 },
 "nbformat": 4,
 "nbformat_minor": 2
}
