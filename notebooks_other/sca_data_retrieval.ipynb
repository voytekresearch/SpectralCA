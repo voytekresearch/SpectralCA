{
 "cells": [
  {
   "cell_type": "code",
   "execution_count": 2,
   "metadata": {},
   "outputs": [],
   "source": [
    "%matplotlib inline\n",
    "\n",
    "import sys\n",
    "# locate your spectralCV so we have scv_funcs to use\n",
    "sys.path.append('/Users/ldliao/Research/Projects/spectralCA/')"
   ]
  },
  {
   "cell_type": "code",
   "execution_count": 3,
   "metadata": {},
   "outputs": [],
   "source": [
    "# imports\n",
    "import os\n",
    "import numpy as np\n",
    "import scipy as sp\n",
    "import scipy.io as io\n",
    "import matplotlib.pyplot as plt\n",
    "import pandas as pd\n",
    "import mne\n",
    "\n",
    "from sca import sca"
   ]
  },
  {
   "cell_type": "markdown",
   "metadata": {},
   "source": [
    "## KJM data"
   ]
  },
  {
   "cell_type": "code",
   "execution_count": 3,
   "metadata": {},
   "outputs": [],
   "source": [
    "def get_trial_info(cue_sig, move_sig, L_win=1000, L_lag=2000, alpha=0.95):\n",
    "    # stim_info vector: [trial onset, movement onset, trial type, RT, premove duration, move duration]\n",
    "    trial_init = np.where(np.diff((cue_sig>0).astype(int))==1)[0]+1\n",
    "    move_init = np.where(np.diff((move_sig>0).astype(int))==1)[0]+1 \n",
    "    trial_info = []\n",
    "    for i, tr_onset in enumerate(trial_init):\n",
    "        # pre-movement length\n",
    "        L_premove = np.sum(move_sig[tr_onset-L_win:tr_onset]<=0)    \n",
    "        # find corresponding movement onset time\n",
    "        try:\n",
    "            # if this fails, it means there was no response on the last trial\n",
    "            mv_onset = move_init[np.where(move_init>tr_onset)[0][0]]        \n",
    "            L_move = np.sum(move_sig[mv_onset:mv_onset+L_win]>0)\n",
    "            # if 3 conditions are satisfied, add trial\n",
    "            if L_premove/L_win>alpha and L_move/L_win>alpha and (mv_onset-tr_onset)<L_lag:\n",
    "                RT = mv_onset-tr_onset\n",
    "                trial_info.append([tr_onset, mv_onset, move_sig[mv_onset], RT, L_premove, L_move])\n",
    "        except:\n",
    "            print('Skipped last trial.')\n",
    "    return np.array(trial_info)\n",
    "\n",
    "def sca_kjm(data_path, subj, fs, analysis_param):\n",
    "    # load data & trial info\n",
    "    stim_info = io.loadmat(data_path+'data/'+subj+'/'+subj+'_stim.mat', squeeze_me=True)\n",
    "    data = io.loadmat(data_path+'data/'+subj+'/'+subj+'_fingerflex.mat', squeeze_me=True)\n",
    "    ecog = data['data'].T\n",
    "    \n",
    "    # set parameters\n",
    "    win_len = int(fs)\n",
    "    num_chan = ecog.shape[0]\n",
    "    max_freq = analysis_param['max_freq']\n",
    "    \n",
    "    # sort out trial info\n",
    "    trial_info = get_trial_info(data['cue'], stim_info['stim'], L_win=win_len, L_lag=1500, alpha=0.9)\n",
    "    num_trials = trial_info.shape[0]\n",
    "    print('%i included trials.'%num_trials)\n",
    "        \n",
    "    if num_trials>20:\n",
    "        # pre-initialize arrays\n",
    "        psd_precomp = np.zeros((num_chan, max_freq, num_trials, 2))\n",
    "\n",
    "        # precompute trial PSDs\n",
    "        for tr in range(num_trials):\n",
    "            tr_onset = trial_info[tr,0]\n",
    "            mv_onset = trial_info[tr,1]\n",
    "            # pre-movement\n",
    "            f_axis, t_axis, spg = sp.signal.spectrogram(ecog[:,tr_onset-win_len:tr_onset],fs=fs,nperseg=win_len)\n",
    "            p_ = np.mean(spg,axis=-1)      \n",
    "            psd_precomp[:,:,tr,0] = p_[:,:max_freq]\n",
    "            # movement\n",
    "            f_axis, t_axis, spg = sp.signal.spectrogram(ecog[:,mv_onset:mv_onset+win_len],fs=fs,nperseg=win_len)\n",
    "            p_ = np.mean(spg,axis=-1)   \n",
    "            psd_precomp[:,:,tr,1] = p_[:,:max_freq]\n",
    "\n",
    "        sca_all = []\n",
    "        for i in range(2):\n",
    "            mov_sca = sca.SCA(analysis_param)\n",
    "            mov_sca.populate_fourier_data(psd_precomp[:,:,:,i], fs, f_axis)\n",
    "            mov_sca.compute_psd()\n",
    "            mov_sca.compute_scv()\n",
    "            sca_all.append(mov_sca)\n",
    "\n",
    "        # return the pre- and during-movement sca data, and trial info\n",
    "        return sca_all, trial_info\n",
    "    else:\n",
    "        return None, None"
   ]
  },
  {
   "cell_type": "code",
   "execution_count": 4,
   "metadata": {},
   "outputs": [],
   "source": [
    "# define data folder\n",
    "data_path = '/Users/ldliao/Research/Data/ECoG_KJM/digit/'\n",
    "saveout_path = '../results/kjm_digits/'\n",
    "save_files = ['pre','move','whole']\n",
    "subjs = ['bp', 'cc', 'ht', 'jc', 'jp', 'mv', 'wc', 'wm', 'zt']\n",
    "\n",
    "# electrode location\n",
    "elec_def = [('0', 'dorsal_M1'),\n",
    "            ('1', 'dorsal_S1'),\n",
    "            ('2', 'ventral_S1+M1'),\n",
    "            ('3', 'frontal_(non-R)'),\n",
    "            ('4', 'parietal_(non-R)'),\n",
    "            ('5', 'temporal'),\n",
    "            ('6', 'occipital')]"
   ]
  },
  {
   "cell_type": "code",
   "execution_count": 5,
   "metadata": {},
   "outputs": [
    {
     "name": "stdout",
     "output_type": "stream",
     "text": [
      "bp\n",
      "103 included trials.\n",
      "Computing exponential KS test...\n",
      "cc\n",
      "63 included trials.\n",
      "Computing exponential KS test...\n",
      "ht\n",
      "84 included trials.\n",
      "Computing exponential KS test...\n",
      "jc\n",
      "Skipped last trial.\n",
      "107 included trials.\n",
      "Computing exponential KS test...\n",
      "jp\n",
      "Skipped last trial.\n",
      "Skipped last trial.\n",
      "7 included trials.\n",
      "Skipped subject.\n",
      "mv\n",
      "0 included trials.\n",
      "Skipped subject.\n",
      "wc\n",
      "39 included trials.\n",
      "Computing exponential KS test...\n",
      "wm\n",
      "Skipped last trial.\n",
      "Skipped last trial.\n",
      "29 included trials.\n",
      "Computing exponential KS test...\n",
      "zt\n",
      "33 included trials.\n",
      "Computing exponential KS test...\n"
     ]
    }
   ],
   "source": [
    "fs = 1000.\n",
    "# sca params\n",
    "analysis_param = {'nperseg': 1000,\n",
    "                 'noverlap': 0,\n",
    "                 'spg_outlierpct': 2.,\n",
    "                 'max_freq':200}\n",
    "\n",
    "for subj in subjs:\n",
    "    print(subj)\n",
    "    # get the trial-separated sca\n",
    "    sca_all, trial_info = sca_kjm(data_path,subj,fs,analysis_param)\n",
    "    if sca_all is not None:\n",
    "        # get sca for whole recording\n",
    "        data = io.loadmat(data_path+'data/'+subj+'/'+subj+'_fingerflex.mat', squeeze_me=True)    \n",
    "        sca_all.append(sca.SCA(analysis_param))\n",
    "        sca_all[-1].populate_ts_data(data['data'].T, fs)\n",
    "        sca_all[-1].compute_all_spectral()\n",
    "\n",
    "        # make dir\n",
    "        subj_path = saveout_path+subj+'/'\n",
    "        if not os.path.isdir(subj_path):\n",
    "            os.mkdir(subj_path)\n",
    "\n",
    "        print('Computing exponential KS test...')\n",
    "        for ind, sc in enumerate(sca_all):\n",
    "            # compute fit\n",
    "            sc.compute_KS_expfit()\n",
    "            # save channel labels\n",
    "            sc.chan_labels = ['chan_' + key + '_' + val for (key, val) in elec_def]\n",
    "#             print(ind)\n",
    "#             sc.cross_freq_corr()\n",
    "            # save out sca         \n",
    "            sc.save_spec_vars(subj_path+save_files[ind]+'.npz', save_spg=True)\n",
    "\n",
    "        # save trial info and plot contrast\n",
    "        np.savez(subj_path+'trial_info.npz', trial_info=trial_info, elec_regions=data['elec_regions'])\n",
    "    else:\n",
    "        print('Skipped subject.')"
   ]
  },
  {
   "cell_type": "markdown",
   "metadata": {},
   "source": [
    "## Hermes Data"
   ]
  },
  {
   "cell_type": "code",
   "execution_count": 6,
   "metadata": {},
   "outputs": [
    {
     "name": "stderr",
     "output_type": "stream",
     "text": [
      "/anaconda3/envs/voytek/lib/python3.6/site-packages/bids/layout/layout.py:665: UserWarning: In pybids 0.9.0, the 'extensions' filter was deprecated in favor of 'extension'. The former will stop working in 0.11.0.\n",
      "  warnings.warn(\"In pybids 0.9.0, the 'extensions' filter was \"\n"
     ]
    }
   ],
   "source": [
    "import bids\n",
    "\n",
    "\n",
    "subj, sess, run = '01', '01', 1\n",
    "layout = bids.layout.BIDSLayout('/Users/ldliao/Research/Data/Hermes_VCECoG/')\n",
    "f_raw = layout.get(return_type='object', suffix='ieeg', subject=subj, session=sess, run=run, extensions='.vhdr')[0]\n",
    "f_events = layout.get(return_type='object', suffix='events', subject=subj, session=sess, run=run)[0]\n",
    "f_channels = layout.get(return_type='object', suffix='channels', subject=subj, session=sess, run=run)[0]\n",
    "f_elec = layout.get(return_type='object', suffix='electrodes', subject=subj, session=sess)[0]\n",
    "\n",
    "events = pd.read_csv(f_events.path, delimiter='\\t')\n",
    "chan_info = pd.read_csv(f_channels.path, delimiter='\\t')\n",
    "elec_loc = pd.read_csv(f_elec.path, delimiter='\\t').apply(pd.to_numeric, errors='coerce')"
   ]
  },
  {
   "cell_type": "code",
   "execution_count": 7,
   "metadata": {},
   "outputs": [
    {
     "data": {
      "text/plain": [
       "{'ECGChannelCount': 0,\n",
       " 'ECOGChannelCount': 118,\n",
       " 'EEGChannelCount': 0,\n",
       " 'EMGChannelCount': 0,\n",
       " 'EOGChannelCount': 0,\n",
       " 'ElectrodeManufacturer': 'AdTech',\n",
       " 'EpochLength': 0,\n",
       " 'HardwareFilters': ['highpass', '0.5', 'lowpass', '300'],\n",
       " 'InstitutionAddress': '300 Pasteur Dr, Stanford, CA 94305',\n",
       " 'InstitutionName': 'Stanford Hospital and Clinics',\n",
       " 'Instructions': 'look at the dot in the center of the screen and press the button when it changes color',\n",
       " 'Manufacturer': 'Tucker Davis Technologies',\n",
       " 'MiscChannelCount': 0,\n",
       " 'PowerLineFrequency': 60,\n",
       " 'RecordingDuration': 233.639,\n",
       " 'RecordingType': 'continuous',\n",
       " 'SEEGChannelCount': 0,\n",
       " 'SamplingFrequency': 3051.76,\n",
       " 'SoftwareFilters': 'n/a',\n",
       " 'TaskDescription': 'visual gratings and noise patterns',\n",
       " 'TaskName': 'visual',\n",
       " 'TriggerChannelCount': 0,\n",
       " 'iEEGPlacementScheme': 'right occipital temporal surface',\n",
       " 'iEEGReferenceScheme': 'intracranial channel not included with data'}"
      ]
     },
     "execution_count": 7,
     "metadata": {},
     "output_type": "execute_result"
    }
   ],
   "source": [
    "layout.get_metadata(f_raw.path)"
   ]
  },
  {
   "cell_type": "code",
   "execution_count": 8,
   "metadata": {},
   "outputs": [
    {
     "data": {
      "text/plain": [
       "['/Users/ldliao/Research/Data/Hermes_VCECoG/CHANGES',\n",
       " '/Users/ldliao/Research/Data/Hermes_VCECoG/dataset_description.json',\n",
       " '/Users/ldliao/Research/Data/Hermes_VCECoG/participants.tsv',\n",
       " '/Users/ldliao/Research/Data/Hermes_VCECoG/README',\n",
       " '/Users/ldliao/Research/Data/Hermes_VCECoG/stimuli/.DS_Store',\n",
       " '/Users/ldliao/Research/Data/Hermes_VCECoG/stimuli/sub-01_png/stim_1.png',\n",
       " '/Users/ldliao/Research/Data/Hermes_VCECoG/stimuli/sub-01_png/stim_2.png',\n",
       " '/Users/ldliao/Research/Data/Hermes_VCECoG/stimuli/sub-01_png/stim_3.png',\n",
       " '/Users/ldliao/Research/Data/Hermes_VCECoG/stimuli/sub-01_png/stim_4.png',\n",
       " '/Users/ldliao/Research/Data/Hermes_VCECoG/stimuli/sub-01_png/stim_5.png',\n",
       " '/Users/ldliao/Research/Data/Hermes_VCECoG/stimuli/sub-01_png/stim_6.png',\n",
       " '/Users/ldliao/Research/Data/Hermes_VCECoG/stimuli/sub-01_png/stim_7.png',\n",
       " '/Users/ldliao/Research/Data/Hermes_VCECoG/stimuli/sub-01_png/stim_8.png',\n",
       " '/Users/ldliao/Research/Data/Hermes_VCECoG/stimuli/sub-01_png/stim_9.png',\n",
       " '/Users/ldliao/Research/Data/Hermes_VCECoG/stimuli/sub-01_png/stim_10.png',\n",
       " '/Users/ldliao/Research/Data/Hermes_VCECoG/stimuli/sub-01_png/stim_11.png',\n",
       " '/Users/ldliao/Research/Data/Hermes_VCECoG/stimuli/sub-01_png/stim_12.png',\n",
       " '/Users/ldliao/Research/Data/Hermes_VCECoG/stimuli/sub-01_png/stim_13.png',\n",
       " '/Users/ldliao/Research/Data/Hermes_VCECoG/stimuli/sub-01_png/stim_14.png',\n",
       " '/Users/ldliao/Research/Data/Hermes_VCECoG/stimuli/sub-01_png/stim_15.png',\n",
       " '/Users/ldliao/Research/Data/Hermes_VCECoG/stimuli/sub-01_png/stim_16.png',\n",
       " '/Users/ldliao/Research/Data/Hermes_VCECoG/stimuli/sub-01_png/stim_17.png',\n",
       " '/Users/ldliao/Research/Data/Hermes_VCECoG/stimuli/sub-01_png/stim_18.png',\n",
       " '/Users/ldliao/Research/Data/Hermes_VCECoG/stimuli/sub-01_png/stim_19.png',\n",
       " '/Users/ldliao/Research/Data/Hermes_VCECoG/stimuli/sub-01_png/stim_20.png',\n",
       " '/Users/ldliao/Research/Data/Hermes_VCECoG/stimuli/sub-01_png/stim_21.png',\n",
       " '/Users/ldliao/Research/Data/Hermes_VCECoG/stimuli/sub-01_png/stim_22.png',\n",
       " '/Users/ldliao/Research/Data/Hermes_VCECoG/stimuli/sub-01_png/stim_23.png',\n",
       " '/Users/ldliao/Research/Data/Hermes_VCECoG/stimuli/sub-01_png/stim_24.png',\n",
       " '/Users/ldliao/Research/Data/Hermes_VCECoG/stimuli/sub-01_png/stim_25.png',\n",
       " '/Users/ldliao/Research/Data/Hermes_VCECoG/stimuli/sub-01_png/stim_26.png',\n",
       " '/Users/ldliao/Research/Data/Hermes_VCECoG/stimuli/sub-01_png/stim_27.png',\n",
       " '/Users/ldliao/Research/Data/Hermes_VCECoG/stimuli/sub-01_png/stim_28.png',\n",
       " '/Users/ldliao/Research/Data/Hermes_VCECoG/stimuli/sub-01_png/stim_29.png',\n",
       " '/Users/ldliao/Research/Data/Hermes_VCECoG/stimuli/sub-01_png/stim_30.png',\n",
       " '/Users/ldliao/Research/Data/Hermes_VCECoG/stimuli/sub-01_png/stim_31.png',\n",
       " '/Users/ldliao/Research/Data/Hermes_VCECoG/stimuli/sub-01_png/stim_32.png',\n",
       " '/Users/ldliao/Research/Data/Hermes_VCECoG/stimuli/sub-01_png/stim_33.png',\n",
       " '/Users/ldliao/Research/Data/Hermes_VCECoG/stimuli/sub-01_png/stim_34.png',\n",
       " '/Users/ldliao/Research/Data/Hermes_VCECoG/stimuli/sub-01_png/stim_35.png',\n",
       " '/Users/ldliao/Research/Data/Hermes_VCECoG/stimuli/sub-01_png/stim_36.png',\n",
       " '/Users/ldliao/Research/Data/Hermes_VCECoG/stimuli/sub-01_png/stim_37.png',\n",
       " '/Users/ldliao/Research/Data/Hermes_VCECoG/stimuli/sub-01_png/stim_38.png',\n",
       " '/Users/ldliao/Research/Data/Hermes_VCECoG/stimuli/sub-01_png/stim_39.png',\n",
       " '/Users/ldliao/Research/Data/Hermes_VCECoG/stimuli/sub-01_png/stim_40.png',\n",
       " '/Users/ldliao/Research/Data/Hermes_VCECoG/stimuli/sub-01_png/stim_41.png',\n",
       " '/Users/ldliao/Research/Data/Hermes_VCECoG/stimuli/sub-01_png/stim_42.png',\n",
       " '/Users/ldliao/Research/Data/Hermes_VCECoG/stimuli/sub-01_png/stim_43.png',\n",
       " '/Users/ldliao/Research/Data/Hermes_VCECoG/stimuli/sub-01_png/stim_44.png',\n",
       " '/Users/ldliao/Research/Data/Hermes_VCECoG/stimuli/sub-01_png/stim_45.png',\n",
       " '/Users/ldliao/Research/Data/Hermes_VCECoG/stimuli/sub-01_png/stim_46.png',\n",
       " '/Users/ldliao/Research/Data/Hermes_VCECoG/stimuli/sub-01_png/stim_47.png',\n",
       " '/Users/ldliao/Research/Data/Hermes_VCECoG/stimuli/sub-01_png/stim_48.png',\n",
       " '/Users/ldliao/Research/Data/Hermes_VCECoG/stimuli/sub-01_png/stim_49.png',\n",
       " '/Users/ldliao/Research/Data/Hermes_VCECoG/stimuli/sub-01_png/stim_50.png',\n",
       " '/Users/ldliao/Research/Data/Hermes_VCECoG/stimuli/sub-01_png/stim_51.png',\n",
       " '/Users/ldliao/Research/Data/Hermes_VCECoG/stimuli/sub-01_png/stim_52.png',\n",
       " '/Users/ldliao/Research/Data/Hermes_VCECoG/stimuli/sub-01_png/stim_53.png',\n",
       " '/Users/ldliao/Research/Data/Hermes_VCECoG/stimuli/sub-01_png/stim_54.png',\n",
       " '/Users/ldliao/Research/Data/Hermes_VCECoG/stimuli/sub-01_png/stim_55.png',\n",
       " '/Users/ldliao/Research/Data/Hermes_VCECoG/stimuli/sub-01_png/stim_56.png',\n",
       " '/Users/ldliao/Research/Data/Hermes_VCECoG/stimuli/sub-01_png/stim_57.png',\n",
       " '/Users/ldliao/Research/Data/Hermes_VCECoG/stimuli/sub-01_png/stim_58.png',\n",
       " '/Users/ldliao/Research/Data/Hermes_VCECoG/stimuli/sub-01_png/stim_59.png',\n",
       " '/Users/ldliao/Research/Data/Hermes_VCECoG/stimuli/sub-01_png/stim_60.png',\n",
       " '/Users/ldliao/Research/Data/Hermes_VCECoG/stimuli/sub-01_png/stim_61.png',\n",
       " '/Users/ldliao/Research/Data/Hermes_VCECoG/stimuli/sub-01_png/stim_62.png',\n",
       " '/Users/ldliao/Research/Data/Hermes_VCECoG/stimuli/sub-01_png/stim_63.png',\n",
       " '/Users/ldliao/Research/Data/Hermes_VCECoG/stimuli/sub-01_png/stim_64.png',\n",
       " '/Users/ldliao/Research/Data/Hermes_VCECoG/stimuli/sub-01_png/stim_65.png',\n",
       " '/Users/ldliao/Research/Data/Hermes_VCECoG/stimuli/sub-01_png/stim_66.png',\n",
       " '/Users/ldliao/Research/Data/Hermes_VCECoG/stimuli/sub-01_png/stim_67.png',\n",
       " '/Users/ldliao/Research/Data/Hermes_VCECoG/stimuli/sub-01_png/stim_68.png',\n",
       " '/Users/ldliao/Research/Data/Hermes_VCECoG/stimuli/sub-01_png/stim_69.png',\n",
       " '/Users/ldliao/Research/Data/Hermes_VCECoG/stimuli/sub-01_png/stim_70.png',\n",
       " '/Users/ldliao/Research/Data/Hermes_VCECoG/stimuli/sub-01_png/stim_71.png',\n",
       " '/Users/ldliao/Research/Data/Hermes_VCECoG/stimuli/sub-01_png/stim_72.png',\n",
       " '/Users/ldliao/Research/Data/Hermes_VCECoG/stimuli/sub-01_png/stim_73.png',\n",
       " '/Users/ldliao/Research/Data/Hermes_VCECoG/stimuli/sub-01_png/stim_74.png',\n",
       " '/Users/ldliao/Research/Data/Hermes_VCECoG/stimuli/sub-01_png/stim_75.png',\n",
       " '/Users/ldliao/Research/Data/Hermes_VCECoG/stimuli/sub-01_png/stim_76.png',\n",
       " '/Users/ldliao/Research/Data/Hermes_VCECoG/stimuli/sub-01_png/stim_77.png',\n",
       " '/Users/ldliao/Research/Data/Hermes_VCECoG/stimuli/sub-01_png/stim_78.png',\n",
       " '/Users/ldliao/Research/Data/Hermes_VCECoG/stimuli/sub-01_png/stim_79.png',\n",
       " '/Users/ldliao/Research/Data/Hermes_VCECoG/stimuli/sub-01_png/stim_80.png',\n",
       " '/Users/ldliao/Research/Data/Hermes_VCECoG/stimuli/sub-01_png/stim_81.png',\n",
       " '/Users/ldliao/Research/Data/Hermes_VCECoG/stimuli/sub-01_png/stim_82.png',\n",
       " '/Users/ldliao/Research/Data/Hermes_VCECoG/stimuli/sub-01_png/stim_83.png',\n",
       " '/Users/ldliao/Research/Data/Hermes_VCECoG/stimuli/sub-01_png/stim_84.png',\n",
       " '/Users/ldliao/Research/Data/Hermes_VCECoG/stimuli/sub-01_png/stim_85.png',\n",
       " '/Users/ldliao/Research/Data/Hermes_VCECoG/stimuli/sub-01_png/stim_86.png',\n",
       " '/Users/ldliao/Research/Data/Hermes_VCECoG/stimuli/sub-01_png/stim_87.png',\n",
       " '/Users/ldliao/Research/Data/Hermes_VCECoG/stimuli/sub-01_png/stim_88.png',\n",
       " '/Users/ldliao/Research/Data/Hermes_VCECoG/stimuli/sub-01_png/stim_89.png',\n",
       " '/Users/ldliao/Research/Data/Hermes_VCECoG/stimuli/sub-01_png/stim_90.png',\n",
       " '/Users/ldliao/Research/Data/Hermes_VCECoG/stimuli/sub-01_png/stim_91.png',\n",
       " '/Users/ldliao/Research/Data/Hermes_VCECoG/stimuli/sub-01_png/stim_92.png',\n",
       " '/Users/ldliao/Research/Data/Hermes_VCECoG/stimuli/sub-01_png/stim_93.png',\n",
       " '/Users/ldliao/Research/Data/Hermes_VCECoG/stimuli/sub-01_png/stim_94.png',\n",
       " '/Users/ldliao/Research/Data/Hermes_VCECoG/stimuli/sub-01_png/stim_95.png',\n",
       " '/Users/ldliao/Research/Data/Hermes_VCECoG/stimuli/sub-01_png/stim_96.png',\n",
       " '/Users/ldliao/Research/Data/Hermes_VCECoG/stimuli/sub-01_png/stim_97.png',\n",
       " '/Users/ldliao/Research/Data/Hermes_VCECoG/stimuli/sub-01_png/stim_98.png',\n",
       " '/Users/ldliao/Research/Data/Hermes_VCECoG/stimuli/sub-01_png/stim_99.png',\n",
       " '/Users/ldliao/Research/Data/Hermes_VCECoG/stimuli/sub-01_png/stim_100.png',\n",
       " '/Users/ldliao/Research/Data/Hermes_VCECoG/stimuli/sub-01_png/stim_101.png',\n",
       " '/Users/ldliao/Research/Data/Hermes_VCECoG/stimuli/sub-01_png/stim_102.png',\n",
       " '/Users/ldliao/Research/Data/Hermes_VCECoG/stimuli/sub-01_png/stim_103.png',\n",
       " '/Users/ldliao/Research/Data/Hermes_VCECoG/stimuli/sub-01_png/stim_104.png',\n",
       " '/Users/ldliao/Research/Data/Hermes_VCECoG/stimuli/sub-01_png/stim_105.png',\n",
       " '/Users/ldliao/Research/Data/Hermes_VCECoG/stimuli/sub-01_png/stim_106.png',\n",
       " '/Users/ldliao/Research/Data/Hermes_VCECoG/stimuli/sub-01_png/stim_107.png',\n",
       " '/Users/ldliao/Research/Data/Hermes_VCECoG/stimuli/sub-01_png/stim_108.png',\n",
       " '/Users/ldliao/Research/Data/Hermes_VCECoG/stimuli/sub-01_png/stim_109.png',\n",
       " '/Users/ldliao/Research/Data/Hermes_VCECoG/stimuli/sub-01_png/stim_110.png',\n",
       " '/Users/ldliao/Research/Data/Hermes_VCECoG/stimuli/sub-01_png/stim_111.png',\n",
       " '/Users/ldliao/Research/Data/Hermes_VCECoG/stimuli/sub-01_png/stim_112.png',\n",
       " '/Users/ldliao/Research/Data/Hermes_VCECoG/stimuli/sub-01_png/stim_113.png',\n",
       " '/Users/ldliao/Research/Data/Hermes_VCECoG/stimuli/sub-01_png/stim_114.png',\n",
       " '/Users/ldliao/Research/Data/Hermes_VCECoG/stimuli/sub-01_png/stim_115.png',\n",
       " '/Users/ldliao/Research/Data/Hermes_VCECoG/stimuli/sub-01_png/stim_116.png',\n",
       " '/Users/ldliao/Research/Data/Hermes_VCECoG/stimuli/sub-01_png/stim_117.png',\n",
       " '/Users/ldliao/Research/Data/Hermes_VCECoG/stimuli/sub-01_png/stim_118.png',\n",
       " '/Users/ldliao/Research/Data/Hermes_VCECoG/stimuli/sub-01_png/stim_119.png',\n",
       " '/Users/ldliao/Research/Data/Hermes_VCECoG/stimuli/sub-01_png/stim_120.png',\n",
       " '/Users/ldliao/Research/Data/Hermes_VCECoG/stimuli/sub-01_png/stim_121.png',\n",
       " '/Users/ldliao/Research/Data/Hermes_VCECoG/stimuli/sub-01_png/stim_122.png',\n",
       " '/Users/ldliao/Research/Data/Hermes_VCECoG/stimuli/sub-01_png/stim_123.png',\n",
       " '/Users/ldliao/Research/Data/Hermes_VCECoG/stimuli/sub-01_png/stim_124.png',\n",
       " '/Users/ldliao/Research/Data/Hermes_VCECoG/stimuli/sub-01_png/stim_125.png',\n",
       " '/Users/ldliao/Research/Data/Hermes_VCECoG/stimuli/sub-01_png/stim_126.png',\n",
       " '/Users/ldliao/Research/Data/Hermes_VCECoG/stimuli/sub-01_png/stim_127.png',\n",
       " '/Users/ldliao/Research/Data/Hermes_VCECoG/stimuli/sub-01_png/stim_128.png',\n",
       " '/Users/ldliao/Research/Data/Hermes_VCECoG/stimuli/sub-01_png/stim_129.png',\n",
       " '/Users/ldliao/Research/Data/Hermes_VCECoG/stimuli/sub-01_png/stim_130.png',\n",
       " '/Users/ldliao/Research/Data/Hermes_VCECoG/stimuli/sub-01_png/stim_131.png',\n",
       " '/Users/ldliao/Research/Data/Hermes_VCECoG/stimuli/sub-01_png/stim_132.png',\n",
       " '/Users/ldliao/Research/Data/Hermes_VCECoG/stimuli/sub-01_png/stim_133.png',\n",
       " '/Users/ldliao/Research/Data/Hermes_VCECoG/stimuli/sub-01_png/stim_134.png',\n",
       " '/Users/ldliao/Research/Data/Hermes_VCECoG/stimuli/sub-01_png/stim_135.png',\n",
       " '/Users/ldliao/Research/Data/Hermes_VCECoG/stimuli/sub-01_png/stim_136.png',\n",
       " '/Users/ldliao/Research/Data/Hermes_VCECoG/stimuli/sub-01_png/stim_137.png',\n",
       " '/Users/ldliao/Research/Data/Hermes_VCECoG/stimuli/sub-01_png/stim_138.png',\n",
       " '/Users/ldliao/Research/Data/Hermes_VCECoG/stimuli/sub-01_png/stim_139.png',\n",
       " '/Users/ldliao/Research/Data/Hermes_VCECoG/stimuli/sub-01_png/stim_140.png',\n",
       " '/Users/ldliao/Research/Data/Hermes_VCECoG/stimuli/sub-01_png/stim_141.png',\n",
       " '/Users/ldliao/Research/Data/Hermes_VCECoG/stimuli/sub-01_png/stim_142.png',\n",
       " '/Users/ldliao/Research/Data/Hermes_VCECoG/stimuli/sub-01_png/stim_143.png',\n",
       " '/Users/ldliao/Research/Data/Hermes_VCECoG/stimuli/sub-01_png/stim_144.png',\n",
       " '/Users/ldliao/Research/Data/Hermes_VCECoG/stimuli/sub-01_png/stim_145.png',\n",
       " '/Users/ldliao/Research/Data/Hermes_VCECoG/stimuli/sub-01_png/stim_146.png',\n",
       " '/Users/ldliao/Research/Data/Hermes_VCECoG/stimuli/sub-01_png/stim_147.png',\n",
       " '/Users/ldliao/Research/Data/Hermes_VCECoG/stimuli/sub-01_png/stim_148.png',\n",
       " '/Users/ldliao/Research/Data/Hermes_VCECoG/stimuli/sub-01_png/stim_149.png',\n",
       " '/Users/ldliao/Research/Data/Hermes_VCECoG/stimuli/sub-01_png/stim_150.png',\n",
       " '/Users/ldliao/Research/Data/Hermes_VCECoG/stimuli/sub-01_png/stim_151.png',\n",
       " '/Users/ldliao/Research/Data/Hermes_VCECoG/stimuli/sub-01_png/stim_152.png',\n",
       " '/Users/ldliao/Research/Data/Hermes_VCECoG/stimuli/sub-01_png/stim_153.png',\n",
       " '/Users/ldliao/Research/Data/Hermes_VCECoG/stimuli/sub-01_png/stim_154.png',\n",
       " '/Users/ldliao/Research/Data/Hermes_VCECoG/stimuli/sub-01_png/stim_155.png',\n",
       " '/Users/ldliao/Research/Data/Hermes_VCECoG/stimuli/sub-01_png/stim_156.png',\n",
       " '/Users/ldliao/Research/Data/Hermes_VCECoG/stimuli/sub-01_png/stim_157.png',\n",
       " '/Users/ldliao/Research/Data/Hermes_VCECoG/stimuli/sub-01_png/stim_158.png',\n",
       " '/Users/ldliao/Research/Data/Hermes_VCECoG/stimuli/sub-01_png/stim_159.png',\n",
       " '/Users/ldliao/Research/Data/Hermes_VCECoG/stimuli/sub-01_png/stim_160.png',\n",
       " '/Users/ldliao/Research/Data/Hermes_VCECoG/stimuli/sub-01_png/stim_161.png',\n",
       " '/Users/ldliao/Research/Data/Hermes_VCECoG/stimuli/sub-01_png/stim_162.png',\n",
       " '/Users/ldliao/Research/Data/Hermes_VCECoG/stimuli/sub-01_png/stim_163.png',\n",
       " '/Users/ldliao/Research/Data/Hermes_VCECoG/stimuli/sub-01_png/stim_164.png',\n",
       " '/Users/ldliao/Research/Data/Hermes_VCECoG/stimuli/sub-01_png/stim_165.png',\n",
       " '/Users/ldliao/Research/Data/Hermes_VCECoG/stimuli/sub-01_png/stim_166.png',\n",
       " '/Users/ldliao/Research/Data/Hermes_VCECoG/stimuli/sub-01_png/stim_167.png',\n",
       " '/Users/ldliao/Research/Data/Hermes_VCECoG/stimuli/sub-01_png/stim_168.png',\n",
       " '/Users/ldliao/Research/Data/Hermes_VCECoG/stimuli/sub-01_png/stim_169.png',\n",
       " '/Users/ldliao/Research/Data/Hermes_VCECoG/stimuli/sub-01_png/stim_170.png',\n",
       " '/Users/ldliao/Research/Data/Hermes_VCECoG/stimuli/sub-01_png/stim_171.png',\n",
       " '/Users/ldliao/Research/Data/Hermes_VCECoG/stimuli/sub-01_png/stim_172.png',\n",
       " '/Users/ldliao/Research/Data/Hermes_VCECoG/stimuli/sub-01_png/stim_173.png',\n",
       " '/Users/ldliao/Research/Data/Hermes_VCECoG/stimuli/sub-01_png/stim_174.png',\n",
       " '/Users/ldliao/Research/Data/Hermes_VCECoG/stimuli/sub-01_png/stim_175.png',\n",
       " '/Users/ldliao/Research/Data/Hermes_VCECoG/stimuli/sub-01_png/stim_176.png',\n",
       " '/Users/ldliao/Research/Data/Hermes_VCECoG/stimuli/sub-01_png/stim_177.png',\n",
       " '/Users/ldliao/Research/Data/Hermes_VCECoG/stimuli/sub-01_png/stim_178.png',\n",
       " '/Users/ldliao/Research/Data/Hermes_VCECoG/stimuli/sub-01_png/stim_179.png',\n",
       " '/Users/ldliao/Research/Data/Hermes_VCECoG/stimuli/sub-01_png/stim_180.png',\n",
       " '/Users/ldliao/Research/Data/Hermes_VCECoG/stimuli/sub-01_png/stim_181.png',\n",
       " '/Users/ldliao/Research/Data/Hermes_VCECoG/stimuli/sub-01_png/stim_182.png',\n",
       " '/Users/ldliao/Research/Data/Hermes_VCECoG/stimuli/sub-01_png/stim_183.png',\n",
       " '/Users/ldliao/Research/Data/Hermes_VCECoG/stimuli/sub-01_png/stim_184.png',\n",
       " '/Users/ldliao/Research/Data/Hermes_VCECoG/stimuli/sub-01_png/stim_185.png',\n",
       " '/Users/ldliao/Research/Data/Hermes_VCECoG/stimuli/sub-01_png/stim_186.png',\n",
       " '/Users/ldliao/Research/Data/Hermes_VCECoG/stimuli/sub-01_png/stim_187.png',\n",
       " '/Users/ldliao/Research/Data/Hermes_VCECoG/stimuli/sub-01_png/stim_188.png',\n",
       " '/Users/ldliao/Research/Data/Hermes_VCECoG/stimuli/sub-01_png/stim_189.png',\n",
       " '/Users/ldliao/Research/Data/Hermes_VCECoG/stimuli/sub-01_png/stim_190.png',\n",
       " '/Users/ldliao/Research/Data/Hermes_VCECoG/stimuli/sub-01_png/stim_191.png',\n",
       " '/Users/ldliao/Research/Data/Hermes_VCECoG/stimuli/sub-01_png/stim_192.png',\n",
       " '/Users/ldliao/Research/Data/Hermes_VCECoG/stimuli/sub-01_png/stim_193.png',\n",
       " '/Users/ldliao/Research/Data/Hermes_VCECoG/stimuli/sub-01_png/stim_194.png',\n",
       " '/Users/ldliao/Research/Data/Hermes_VCECoG/stimuli/sub-01_png/stim_195.png',\n",
       " '/Users/ldliao/Research/Data/Hermes_VCECoG/stimuli/sub-01_png/stim_196.png',\n",
       " '/Users/ldliao/Research/Data/Hermes_VCECoG/stimuli/sub-01_png/stim_197.png',\n",
       " '/Users/ldliao/Research/Data/Hermes_VCECoG/stimuli/sub-01_png/stim_198.png',\n",
       " '/Users/ldliao/Research/Data/Hermes_VCECoG/stimuli/sub-01_png/stim_199.png',\n",
       " '/Users/ldliao/Research/Data/Hermes_VCECoG/stimuli/sub-01_png/stim_200.png',\n",
       " '/Users/ldliao/Research/Data/Hermes_VCECoG/stimuli/sub-01_png/stim_201.png',\n",
       " '/Users/ldliao/Research/Data/Hermes_VCECoG/stimuli/sub-01_png/stim_202.png',\n",
       " '/Users/ldliao/Research/Data/Hermes_VCECoG/stimuli/sub-01_png/stim_203.png',\n",
       " '/Users/ldliao/Research/Data/Hermes_VCECoG/stimuli/sub-01_png/stim_204.png',\n",
       " '/Users/ldliao/Research/Data/Hermes_VCECoG/stimuli/sub-01_png/stim_205.png',\n",
       " '/Users/ldliao/Research/Data/Hermes_VCECoG/stimuli/sub-01_png/stim_206.png',\n",
       " '/Users/ldliao/Research/Data/Hermes_VCECoG/stimuli/sub-01_png/stim_207.png',\n",
       " '/Users/ldliao/Research/Data/Hermes_VCECoG/stimuli/sub-01_png/stim_208.png',\n",
       " '/Users/ldliao/Research/Data/Hermes_VCECoG/stimuli/sub-01_png/stim_209.png',\n",
       " '/Users/ldliao/Research/Data/Hermes_VCECoG/stimuli/sub-01_png/stim_210.png',\n",
       " '/Users/ldliao/Research/Data/Hermes_VCECoG/stimuli/sub-01_png/stim_211.png',\n",
       " '/Users/ldliao/Research/Data/Hermes_VCECoG/stimuli/sub-01_ses-01_task-visual_run-01_stimuli.mat',\n",
       " '/Users/ldliao/Research/Data/Hermes_VCECoG/stimuli/sub-02_task-visual_run-01_stimuli.mat',\n",
       " '/Users/ldliao/Research/Data/Hermes_VCECoG/stimuli/sub-02_task-visual_run-02_stimuli.mat',\n",
       " '/Users/ldliao/Research/Data/Hermes_VCECoG/sub-01/ses-01/ieeg/sub-01_ses-01_coordsystem.json',\n",
       " '/Users/ldliao/Research/Data/Hermes_VCECoG/sub-01/ses-01/ieeg/sub-01_ses-01_electrodes.tsv',\n",
       " '/Users/ldliao/Research/Data/Hermes_VCECoG/sub-01/ses-01/ieeg/sub-01_ses-01_task-visual_run-01_channels.tsv',\n",
       " '/Users/ldliao/Research/Data/Hermes_VCECoG/sub-01/ses-01/ieeg/sub-01_ses-01_task-visual_run-01_events.tsv',\n",
       " '/Users/ldliao/Research/Data/Hermes_VCECoG/sub-01/ses-01/ieeg/sub-01_ses-01_task-visual_run-01_ieeg.eeg',\n",
       " '/Users/ldliao/Research/Data/Hermes_VCECoG/sub-01/ses-01/ieeg/sub-01_ses-01_task-visual_run-01_ieeg.json',\n",
       " '/Users/ldliao/Research/Data/Hermes_VCECoG/sub-01/ses-01/ieeg/sub-01_ses-01_task-visual_run-01_ieeg.vhdr',\n",
       " '/Users/ldliao/Research/Data/Hermes_VCECoG/sub-01/ses-01/ieeg/sub-01_ses-01_task-visual_run-01_ieeg.vmrk',\n",
       " '/Users/ldliao/Research/Data/Hermes_VCECoG/sub-02/ses-01/ieeg/sub-02_ses-01_coordsystem.json',\n",
       " '/Users/ldliao/Research/Data/Hermes_VCECoG/sub-02/ses-01/ieeg/sub-02_ses-01_electrodes.tsv',\n",
       " '/Users/ldliao/Research/Data/Hermes_VCECoG/sub-02/ses-01/ieeg/sub-02_ses-01_task-visual_run-01_channels.tsv',\n",
       " '/Users/ldliao/Research/Data/Hermes_VCECoG/sub-02/ses-01/ieeg/sub-02_ses-01_task-visual_run-01_events.tsv',\n",
       " '/Users/ldliao/Research/Data/Hermes_VCECoG/sub-02/ses-01/ieeg/sub-02_ses-01_task-visual_run-01_ieeg.eeg',\n",
       " '/Users/ldliao/Research/Data/Hermes_VCECoG/sub-02/ses-01/ieeg/sub-02_ses-01_task-visual_run-01_ieeg.json',\n",
       " '/Users/ldliao/Research/Data/Hermes_VCECoG/sub-02/ses-01/ieeg/sub-02_ses-01_task-visual_run-01_ieeg.vhdr',\n",
       " '/Users/ldliao/Research/Data/Hermes_VCECoG/sub-02/ses-01/ieeg/sub-02_ses-01_task-visual_run-01_ieeg.vmrk',\n",
       " '/Users/ldliao/Research/Data/Hermes_VCECoG/sub-02/ses-01/ieeg/sub-02_ses-01_task-visual_run-02_channels.tsv',\n",
       " '/Users/ldliao/Research/Data/Hermes_VCECoG/sub-02/ses-01/ieeg/sub-02_ses-01_task-visual_run-02_events.tsv',\n",
       " '/Users/ldliao/Research/Data/Hermes_VCECoG/sub-02/ses-01/ieeg/sub-02_ses-01_task-visual_run-02_ieeg.eeg',\n",
       " '/Users/ldliao/Research/Data/Hermes_VCECoG/sub-02/ses-01/ieeg/sub-02_ses-01_task-visual_run-02_ieeg.json',\n",
       " '/Users/ldliao/Research/Data/Hermes_VCECoG/sub-02/ses-01/ieeg/sub-02_ses-01_task-visual_run-02_ieeg.vhdr',\n",
       " '/Users/ldliao/Research/Data/Hermes_VCECoG/sub-02/ses-01/ieeg/sub-02_ses-01_task-visual_run-02_ieeg.vmrk']"
      ]
     },
     "execution_count": 8,
     "metadata": {},
     "output_type": "execute_result"
    }
   ],
   "source": [
    "layout.get(return_type='filename')"
   ]
  },
  {
   "cell_type": "code",
   "execution_count": 9,
   "metadata": {},
   "outputs": [
    {
     "data": {
      "text/plain": [
       "'0.18.2'"
      ]
     },
     "execution_count": 9,
     "metadata": {},
     "output_type": "execute_result"
    }
   ],
   "source": [
    "mne.__version__"
   ]
  },
  {
   "cell_type": "code",
   "execution_count": 10,
   "metadata": {},
   "outputs": [
    {
     "data": {
      "text/plain": [
       "<module 'mne' from '/anaconda3/envs/voytek/lib/python3.6/site-packages/mne/__init__.py'>"
      ]
     },
     "execution_count": 10,
     "metadata": {},
     "output_type": "execute_result"
    }
   ],
   "source": [
    "mne"
   ]
  },
  {
   "cell_type": "code",
   "execution_count": 11,
   "metadata": {},
   "outputs": [
    {
     "name": "stdout",
     "output_type": "stream",
     "text": [
      "Extracting parameters from /Users/ldliao/Research/Data/Hermes_VCECoG/sub-01/ses-01/ieeg/sub-01_ses-01_task-visual_run-01_ieeg.vhdr...\n",
      "Setting channel info structure...\n"
     ]
    },
    {
     "ename": "AttributeError",
     "evalue": "'NoneType' object has no attribute 'strip'",
     "output_type": "error",
     "traceback": [
      "\u001b[0;31m---------------------------------------------------------------------------\u001b[0m",
      "\u001b[0;31mAttributeError\u001b[0m                            Traceback (most recent call last)",
      "\u001b[0;32m<ipython-input-11-73df787ac97b>\u001b[0m in \u001b[0;36m<module>\u001b[0;34m()\u001b[0m\n\u001b[0;32m----> 1\u001b[0;31m \u001b[0mraw\u001b[0m \u001b[0;34m=\u001b[0m \u001b[0mmne\u001b[0m\u001b[0;34m.\u001b[0m\u001b[0mio\u001b[0m\u001b[0;34m.\u001b[0m\u001b[0mread_raw_brainvision\u001b[0m\u001b[0;34m(\u001b[0m\u001b[0mf_raw\u001b[0m\u001b[0;34m.\u001b[0m\u001b[0mpath\u001b[0m\u001b[0;34m)\u001b[0m\u001b[0;34m\u001b[0m\u001b[0;34m\u001b[0m\u001b[0m\n\u001b[0m\u001b[1;32m      2\u001b[0m \u001b[0mraw\u001b[0m\u001b[0;34m.\u001b[0m\u001b[0minfo\u001b[0m\u001b[0;34m\u001b[0m\u001b[0;34m\u001b[0m\u001b[0m\n\u001b[1;32m      3\u001b[0m \u001b[0mdata\u001b[0m\u001b[0;34m,\u001b[0m \u001b[0mt\u001b[0m \u001b[0;34m=\u001b[0m \u001b[0mraw\u001b[0m\u001b[0;34m[\u001b[0m\u001b[0;34m:\u001b[0m\u001b[0;34m,\u001b[0m\u001b[0;34m:\u001b[0m\u001b[0;34m]\u001b[0m\u001b[0;34m\u001b[0m\u001b[0;34m\u001b[0m\u001b[0m\n\u001b[1;32m      4\u001b[0m \u001b[0mdata\u001b[0m \u001b[0;34m=\u001b[0m \u001b[0mdata\u001b[0m\u001b[0;34m[\u001b[0m\u001b[0;34m:\u001b[0m\u001b[0;34m-\u001b[0m\u001b[0;36m1\u001b[0m\u001b[0;34m,\u001b[0m\u001b[0;34m:\u001b[0m\u001b[0;34m]\u001b[0m\u001b[0;34m\u001b[0m\u001b[0;34m\u001b[0m\u001b[0m\n",
      "\u001b[0;32m/anaconda3/envs/voytek/lib/python3.6/site-packages/mne/io/brainvision/brainvision.py\u001b[0m in \u001b[0;36mread_raw_brainvision\u001b[0;34m(vhdr_fname, montage, eog, misc, scale, preload, stim_channel, verbose)\u001b[0m\n\u001b[1;32m    831\u001b[0m     return RawBrainVision(vhdr_fname=vhdr_fname, montage=montage, eog=eog,\n\u001b[1;32m    832\u001b[0m                           \u001b[0mmisc\u001b[0m\u001b[0;34m=\u001b[0m\u001b[0mmisc\u001b[0m\u001b[0;34m,\u001b[0m \u001b[0mscale\u001b[0m\u001b[0;34m=\u001b[0m\u001b[0mscale\u001b[0m\u001b[0;34m,\u001b[0m \u001b[0mpreload\u001b[0m\u001b[0;34m=\u001b[0m\u001b[0mpreload\u001b[0m\u001b[0;34m,\u001b[0m\u001b[0;34m\u001b[0m\u001b[0;34m\u001b[0m\u001b[0m\n\u001b[0;32m--> 833\u001b[0;31m                           stim_channel=stim_channel, verbose=verbose)\n\u001b[0m\u001b[1;32m    834\u001b[0m \u001b[0;34m\u001b[0m\u001b[0m\n\u001b[1;32m    835\u001b[0m \u001b[0;34m\u001b[0m\u001b[0m\n",
      "\u001b[0;32m</anaconda3/envs/voytek/lib/python3.6/site-packages/mne/externals/decorator.py:decorator-gen-146>\u001b[0m in \u001b[0;36m__init__\u001b[0;34m(self, vhdr_fname, montage, eog, misc, scale, preload, stim_channel, verbose)\u001b[0m\n",
      "\u001b[0;32m/anaconda3/envs/voytek/lib/python3.6/site-packages/mne/utils/_logging.py\u001b[0m in \u001b[0;36mwrapper\u001b[0;34m(*args, **kwargs)\u001b[0m\n\u001b[1;32m     87\u001b[0m             \u001b[0;32mwith\u001b[0m \u001b[0muse_log_level\u001b[0m\u001b[0;34m(\u001b[0m\u001b[0mverbose_level\u001b[0m\u001b[0;34m)\u001b[0m\u001b[0;34m:\u001b[0m\u001b[0;34m\u001b[0m\u001b[0;34m\u001b[0m\u001b[0m\n\u001b[1;32m     88\u001b[0m                 \u001b[0;32mreturn\u001b[0m \u001b[0mfunction\u001b[0m\u001b[0;34m(\u001b[0m\u001b[0;34m*\u001b[0m\u001b[0margs\u001b[0m\u001b[0;34m,\u001b[0m \u001b[0;34m**\u001b[0m\u001b[0mkwargs\u001b[0m\u001b[0;34m)\u001b[0m\u001b[0;34m\u001b[0m\u001b[0;34m\u001b[0m\u001b[0m\n\u001b[0;32m---> 89\u001b[0;31m         \u001b[0;32mreturn\u001b[0m \u001b[0mfunction\u001b[0m\u001b[0;34m(\u001b[0m\u001b[0;34m*\u001b[0m\u001b[0margs\u001b[0m\u001b[0;34m,\u001b[0m \u001b[0;34m**\u001b[0m\u001b[0mkwargs\u001b[0m\u001b[0;34m)\u001b[0m\u001b[0;34m\u001b[0m\u001b[0;34m\u001b[0m\u001b[0m\n\u001b[0m\u001b[1;32m     90\u001b[0m     return FunctionMaker.create(\n\u001b[1;32m     91\u001b[0m         \u001b[0mfunction\u001b[0m\u001b[0;34m,\u001b[0m \u001b[0;34m'return decfunc(%(signature)s)'\u001b[0m\u001b[0;34m,\u001b[0m\u001b[0;34m\u001b[0m\u001b[0;34m\u001b[0m\u001b[0m\n",
      "\u001b[0;32m/anaconda3/envs/voytek/lib/python3.6/site-packages/mne/io/brainvision/brainvision.py\u001b[0m in \u001b[0;36m__init__\u001b[0;34m(self, vhdr_fname, montage, eog, misc, scale, preload, stim_channel, verbose)\u001b[0m\n\u001b[1;32m    109\u001b[0m \u001b[0;34m\u001b[0m\u001b[0m\n\u001b[1;32m    110\u001b[0m         \u001b[0;31m# Get annotations from vmrk file\u001b[0m\u001b[0;34m\u001b[0m\u001b[0;34m\u001b[0m\u001b[0;34m\u001b[0m\u001b[0m\n\u001b[0;32m--> 111\u001b[0;31m         \u001b[0mannots\u001b[0m \u001b[0;34m=\u001b[0m \u001b[0mread_annotations\u001b[0m\u001b[0;34m(\u001b[0m\u001b[0mmrk_fname\u001b[0m\u001b[0;34m,\u001b[0m \u001b[0minfo\u001b[0m\u001b[0;34m[\u001b[0m\u001b[0;34m'sfreq'\u001b[0m\u001b[0;34m]\u001b[0m\u001b[0;34m)\u001b[0m\u001b[0;34m\u001b[0m\u001b[0;34m\u001b[0m\u001b[0m\n\u001b[0m\u001b[1;32m    112\u001b[0m         \u001b[0mself\u001b[0m\u001b[0;34m.\u001b[0m\u001b[0mset_annotations\u001b[0m\u001b[0;34m(\u001b[0m\u001b[0mannots\u001b[0m\u001b[0;34m)\u001b[0m\u001b[0;34m\u001b[0m\u001b[0;34m\u001b[0m\u001b[0m\n\u001b[1;32m    113\u001b[0m \u001b[0;34m\u001b[0m\u001b[0m\n",
      "\u001b[0;32m/anaconda3/envs/voytek/lib/python3.6/site-packages/mne/annotations.py\u001b[0m in \u001b[0;36mread_annotations\u001b[0;34m(fname, sfreq, uint16_codec)\u001b[0m\n\u001b[1;32m    607\u001b[0m \u001b[0;34m\u001b[0m\u001b[0m\n\u001b[1;32m    608\u001b[0m     \u001b[0;32melif\u001b[0m \u001b[0mname\u001b[0m\u001b[0;34m.\u001b[0m\u001b[0mendswith\u001b[0m\u001b[0;34m(\u001b[0m\u001b[0;34m'vmrk'\u001b[0m\u001b[0;34m)\u001b[0m\u001b[0;34m:\u001b[0m\u001b[0;34m\u001b[0m\u001b[0;34m\u001b[0m\u001b[0m\n\u001b[0;32m--> 609\u001b[0;31m         \u001b[0mannotations\u001b[0m \u001b[0;34m=\u001b[0m \u001b[0m_read_annotations_brainvision\u001b[0m\u001b[0;34m(\u001b[0m\u001b[0mfname\u001b[0m\u001b[0;34m,\u001b[0m \u001b[0msfreq\u001b[0m\u001b[0;34m=\u001b[0m\u001b[0msfreq\u001b[0m\u001b[0;34m)\u001b[0m\u001b[0;34m\u001b[0m\u001b[0;34m\u001b[0m\u001b[0m\n\u001b[0m\u001b[1;32m    610\u001b[0m \u001b[0;34m\u001b[0m\u001b[0m\n\u001b[1;32m    611\u001b[0m     \u001b[0;32melif\u001b[0m \u001b[0mname\u001b[0m\u001b[0;34m.\u001b[0m\u001b[0mendswith\u001b[0m\u001b[0;34m(\u001b[0m\u001b[0;34m'csv'\u001b[0m\u001b[0;34m)\u001b[0m\u001b[0;34m:\u001b[0m\u001b[0;34m\u001b[0m\u001b[0;34m\u001b[0m\u001b[0m\n",
      "\u001b[0;32m/anaconda3/envs/voytek/lib/python3.6/site-packages/mne/io/brainvision/brainvision.py\u001b[0m in \u001b[0;36m_read_annotations_brainvision\u001b[0;34m(fname, sfreq)\u001b[0m\n\u001b[1;32m    259\u001b[0m     \"\"\"\n\u001b[1;32m    260\u001b[0m     \u001b[0monset\u001b[0m\u001b[0;34m,\u001b[0m \u001b[0mduration\u001b[0m\u001b[0;34m,\u001b[0m \u001b[0mdescription\u001b[0m\u001b[0;34m,\u001b[0m \u001b[0mdate_str\u001b[0m \u001b[0;34m=\u001b[0m \u001b[0m_read_vmrk\u001b[0m\u001b[0;34m(\u001b[0m\u001b[0mfname\u001b[0m\u001b[0;34m)\u001b[0m\u001b[0;34m\u001b[0m\u001b[0;34m\u001b[0m\u001b[0m\n\u001b[0;32m--> 261\u001b[0;31m     \u001b[0morig_time\u001b[0m \u001b[0;34m=\u001b[0m \u001b[0;32mNone\u001b[0m \u001b[0;32mif\u001b[0m \u001b[0mdate_str\u001b[0m \u001b[0;34m==\u001b[0m \u001b[0;34m''\u001b[0m \u001b[0;32melse\u001b[0m \u001b[0m_str_to_meas_date\u001b[0m\u001b[0;34m(\u001b[0m\u001b[0mdate_str\u001b[0m\u001b[0;34m)\u001b[0m\u001b[0;34m\u001b[0m\u001b[0;34m\u001b[0m\u001b[0m\n\u001b[0m\u001b[1;32m    262\u001b[0m \u001b[0;34m\u001b[0m\u001b[0m\n\u001b[1;32m    263\u001b[0m     \u001b[0;32mif\u001b[0m \u001b[0msfreq\u001b[0m \u001b[0;34m==\u001b[0m \u001b[0;34m'auto'\u001b[0m\u001b[0;34m:\u001b[0m\u001b[0;34m\u001b[0m\u001b[0;34m\u001b[0m\u001b[0m\n",
      "\u001b[0;32m/anaconda3/envs/voytek/lib/python3.6/site-packages/mne/io/brainvision/brainvision.py\u001b[0m in \u001b[0;36m_str_to_meas_date\u001b[0;34m(date_str)\u001b[0m\n\u001b[1;32m    322\u001b[0m \u001b[0;34m\u001b[0m\u001b[0m\n\u001b[1;32m    323\u001b[0m \u001b[0;32mdef\u001b[0m \u001b[0m_str_to_meas_date\u001b[0m\u001b[0;34m(\u001b[0m\u001b[0mdate_str\u001b[0m\u001b[0;34m)\u001b[0m\u001b[0;34m:\u001b[0m\u001b[0;34m\u001b[0m\u001b[0;34m\u001b[0m\u001b[0m\n\u001b[0;32m--> 324\u001b[0;31m     \u001b[0mdate_str\u001b[0m \u001b[0;34m=\u001b[0m \u001b[0mdate_str\u001b[0m\u001b[0;34m.\u001b[0m\u001b[0mstrip\u001b[0m\u001b[0;34m(\u001b[0m\u001b[0;34m)\u001b[0m\u001b[0;34m\u001b[0m\u001b[0;34m\u001b[0m\u001b[0m\n\u001b[0m\u001b[1;32m    325\u001b[0m \u001b[0;34m\u001b[0m\u001b[0m\n\u001b[1;32m    326\u001b[0m     \u001b[0;32mif\u001b[0m \u001b[0mdate_str\u001b[0m \u001b[0;32min\u001b[0m \u001b[0;34m[\u001b[0m\u001b[0;34m'0'\u001b[0m\u001b[0;34m,\u001b[0m \u001b[0;34m'00000000000000000000'\u001b[0m\u001b[0;34m]\u001b[0m\u001b[0;34m:\u001b[0m\u001b[0;34m\u001b[0m\u001b[0;34m\u001b[0m\u001b[0m\n",
      "\u001b[0;31mAttributeError\u001b[0m: 'NoneType' object has no attribute 'strip'"
     ]
    }
   ],
   "source": [
    "raw = mne.io.read_raw_brainvision(f_raw.path)\n",
    "raw.info\n",
    "data, t = raw[:,:]\n",
    "data = data[:-1,:]"
   ]
  },
  {
   "cell_type": "markdown",
   "metadata": {},
   "source": [
    "## MNI rest ECoG data"
   ]
  },
  {
   "cell_type": "code",
   "execution_count": 4,
   "metadata": {},
   "outputs": [],
   "source": [
    "data_path = '/Users/ldliao/Research/Data/MNI_rest_ECoG/WakefulnessMatlabFile.mat'\n",
    "data = io.loadmat(data_path, squeeze_me=True)    \n",
    "saveout_path = '/Users/ldliao/Research/Projects/spectralCA/results/mni_rest/'\n",
    "\n",
    "fs = data['SamplingFrequency']\n",
    "# sca params\n",
    "analysis_param = {'nperseg': 200,\n",
    "                 'noverlap': 0,\n",
    "                 'spg_outlierpct': 2.,\n",
    "                 'max_freq':200}"
   ]
  },
  {
   "cell_type": "code",
   "execution_count": 5,
   "metadata": {},
   "outputs": [],
   "source": [
    "import scipy as sp"
   ]
  },
  {
   "cell_type": "code",
   "execution_count": 85,
   "metadata": {},
   "outputs": [
    {
     "name": "stderr",
     "output_type": "stream",
     "text": [
      "/anaconda3/envs/voytek/lib/python3.6/site-packages/scipy/signal/spectral.py:1773: UserWarning: nperseg = 200 is greater than input length  = 13, using nperseg = 13\n",
      "  .format(nperseg, input_length))\n"
     ]
    },
    {
     "name": "stdout",
     "output_type": "stream",
     "text": [
      "Computing exponential KS test...\n"
     ]
    },
    {
     "name": "stderr",
     "output_type": "stream",
     "text": [
      "/anaconda3/envs/voytek/lib/python3.6/site-packages/scipy/stats/stats.py:3010: RuntimeWarning: invalid value encountered in double_scalars\n",
      "  r = r_num / r_den\n"
     ]
    }
   ],
   "source": [
    "data_path = '/Users/ldliao/Research/Data/MNI_rest_ECoG/WakefulnessMatlabFile.mat'\n",
    "data = io.loadmat(data_path, squeeze_me=True)    \n",
    "saveout_path = '/Users/ldliao/Research/Projects/spectralCA/results/mni_rest/'\n",
    "\n",
    "fs = data['SamplingFrequency']\n",
    "# sca params\n",
    "analysis_param = {'nperseg': 200,\n",
    "                 'noverlap': 0,\n",
    "                 'spg_outlierpct': 2.,\n",
    "                 'max_freq':200}\n",
    "\n",
    "patient = data['Patient']\n",
    "\n",
    "# getting the different indices start\n",
    "ind = [ind for ind in np.where(patient[:-1] != patient[1:])[0]]\n",
    "ind.insert(0,0) \n",
    "\n",
    "# make dir\n",
    "subj_path = saveout_path\n",
    "if not os.path.isdir(subj_path):\n",
    "    os.mkdir(subj_path)\n",
    "\n",
    "\n",
    "for idx in range(1):#(len(ind)-1):\n",
    "    sub_data = data['Data'][ind[idx]:ind[idx+1]].T\n",
    "    sub_chanlab = data['ChannelName'][ind[idx]:ind[idx+1]].T\n",
    "    sub_chanlab = ['chan_'+str(i)+'_'+ch for i, ch in enumerate(sub_chanlab)]\n",
    "            \n",
    "    sub_sc = sca.SCA(analysis_param)\n",
    "    sub_sc.populate_ts_data(sub_data, fs)\n",
    "    sub_f_axis, sub_t_axis, sub_spg = sp.signal.spectrogram(sub_data, sub_sc.fs, 'hann', \n",
    "                                                            sub_sc.nperseg, sub_sc.noverlap, mode='complex')\n",
    "    sub_sc.populate_spg(sub_f_axis, sub_t_axis, sub_spg)\n",
    "    sub_sc.compute_all_spectral()\n",
    "\n",
    "    \n",
    "    print('Computing exponential KS test...')\n",
    "\n",
    "    sub_sc.compute_KS_expfit()\n",
    "    # save channel labels\n",
    "    sub_sc.chan_labels = sub_chanlab\n",
    "    sub_sc.cross_freq_corr()\n",
    "        \n",
    "    # save out sca      \n",
    "    #sub_path = saveout_path+'patient_'+str(data['Patient'][ind[idx]])\n",
    "    #sub_sc.save_spec_vars(sub_path+'.npz', save_spg=True)"
   ]
  },
  {
   "cell_type": "code",
   "execution_count": 86,
   "metadata": {},
   "outputs": [
    {
     "data": {
      "text/plain": [
       "(1772, 13)"
      ]
     },
     "execution_count": 86,
     "metadata": {},
     "output_type": "execute_result"
    }
   ],
   "source": [
    "sub_data.shape"
   ]
  },
  {
   "cell_type": "code",
   "execution_count": 79,
   "metadata": {},
   "outputs": [
    {
     "name": "stdout",
     "output_type": "stream",
     "text": [
      "['chan_0_GD001Lc_11', 'chan_1_GD001Lc_12', 'chan_2_GD001Lc_13', 'chan_3_GD001Lc_14', 'chan_4_GD001Lo_1', 'chan_5_GD001Lo_2', 'chan_6_GD001Lo_3', 'chan_7_GD001Lo_4', 'chan_8_GD001Lv_1', 'chan_9_GD001Lv_2', 'chan_10_GD001Lv_3', 'chan_11_GD001Lv_4', 'chan_12_GD001Lv_5']\n"
     ]
    }
   ],
   "source": [
    "print(sub_chanlab)"
   ]
  },
  {
   "cell_type": "code",
   "execution_count": 89,
   "metadata": {},
   "outputs": [
    {
     "data": {
      "text/plain": [
       "[<matplotlib.lines.Line2D at 0x1c1e288940>,\n",
       " <matplotlib.lines.Line2D at 0x1c1e288a90>,\n",
       " <matplotlib.lines.Line2D at 0x1c1e288be0>,\n",
       " <matplotlib.lines.Line2D at 0x1c1e288d30>,\n",
       " <matplotlib.lines.Line2D at 0x1c1e288e80>,\n",
       " <matplotlib.lines.Line2D at 0x1c1e288fd0>,\n",
       " <matplotlib.lines.Line2D at 0x1c1e292160>]"
      ]
     },
     "execution_count": 89,
     "metadata": {},
     "output_type": "execute_result"
    },
    {
     "data": {
      "image/png": "[encoded data removed]",
      "text/plain": [
       "<Figure size 432x288 with 1 Axes>"
      ]
     },
     "metadata": {
      "needs_background": "light"
     },
     "output_type": "display_data"
    }
   ],
   "source": [
    "import matplotlib.pyplot as plt\n",
    "plt.plot(sub_sc.psd)"
   ]
  },
  {
   "cell_type": "code",
   "execution_count": 8,
   "metadata": {},
   "outputs": [],
   "source": [
    "fs = data['SamplingFrequency']"
   ]
  },
  {
   "cell_type": "code",
   "execution_count": 9,
   "metadata": {},
   "outputs": [
    {
     "data": {
      "text/plain": [
       "200"
      ]
     },
     "execution_count": 9,
     "metadata": {},
     "output_type": "execute_result"
    }
   ],
   "source": [
    "fs"
   ]
  },
  {
   "cell_type": "code",
   "execution_count": 12,
   "metadata": {},
   "outputs": [
    {
     "data": {
      "text/plain": [
       "array([  1,   1,   1, ..., 110, 110, 110], dtype=uint8)"
      ]
     },
     "execution_count": 12,
     "metadata": {},
     "output_type": "execute_result"
    }
   ],
   "source": []
  },
  {
   "cell_type": "code",
   "execution_count": null,
   "metadata": {},
   "outputs": [],
   "source": []
  }
 ],
 "metadata": {
  "kernelspec": {
   "display_name": "Python 3",
   "language": "python",
   "name": "python3"
  },
  "language_info": {
   "codemirror_mode": {
    "name": "ipython",
    "version": 3
   },
   "file_extension": ".py",
   "mimetype": "text/x-python",
   "name": "python",
   "nbconvert_exporter": "python",
   "pygments_lexer": "ipython3",
   "version": "3.6.8"
  }
 },
 "nbformat": 4,
 "nbformat_minor": 2
}
