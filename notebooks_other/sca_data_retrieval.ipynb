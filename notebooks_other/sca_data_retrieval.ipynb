{
 "cells": [
  {
   "cell_type": "code",
   "execution_count": 1,
   "metadata": {},
   "outputs": [],
   "source": [
    "%matplotlib inline\n",
    "\n",
    "import sys\n",
    "# locate your spectralCV so we have scv_funcs to use\n",
    "sys.path.append('/Users/ldliao/Research/Projects/spectralCA/')"
   ]
  },
  {
   "cell_type": "code",
   "execution_count": 2,
   "metadata": {},
   "outputs": [],
   "source": [
    "# imports\n",
    "import os\n",
    "import numpy as np\n",
    "import scipy as sp\n",
    "import scipy.io as io\n",
    "import matplotlib.pyplot as plt\n",
    "import pandas as pd\n",
    "import mne\n",
    "\n",
    "from sca import sca"
   ]
  },
  {
   "cell_type": "markdown",
   "metadata": {},
   "source": [
    "## KJM data"
   ]
  },
  {
   "cell_type": "code",
   "execution_count": null,
   "metadata": {},
   "outputs": [],
   "source": [
    "def get_trial_info(cue_sig, move_sig, L_win=1000, L_lag=2000, alpha=0.95):\n",
    "    # stim_info vector: [trial onset, movement onset, trial type, RT, premove duration, move duration]\n",
    "    trial_init = np.where(np.diff((cue_sig>0).astype(int))==1)[0]+1\n",
    "    move_init = np.where(np.diff((move_sig>0).astype(int))==1)[0]+1 \n",
    "    trial_info = []\n",
    "    for i, tr_onset in enumerate(trial_init):\n",
    "        # pre-movement length\n",
    "        L_premove = np.sum(move_sig[tr_onset-L_win:tr_onset]<=0)    \n",
    "        # find corresponding movement onset time\n",
    "        try:\n",
    "            # if this fails, it means there was no response on the last trial\n",
    "            mv_onset = move_init[np.where(move_init>tr_onset)[0][0]]        \n",
    "            L_move = np.sum(move_sig[mv_onset:mv_onset+L_win]>0)\n",
    "            # if 3 conditions are satisfied, add trial\n",
    "            if L_premove/L_win>alpha and L_move/L_win>alpha and (mv_onset-tr_onset)<L_lag:\n",
    "                RT = mv_onset-tr_onset\n",
    "                trial_info.append([tr_onset, mv_onset, move_sig[mv_onset], RT, L_premove, L_move])\n",
    "        except:\n",
    "            print('Skipped last trial.')\n",
    "    return np.array(trial_info)\n",
    "\n",
    "def sca_kjm(data_path, subj, fs, analysis_param):\n",
    "    # load data & trial info\n",
    "    stim_info = io.loadmat(data_path+'data/'+subj+'/'+subj+'_stim.mat', squeeze_me=True)\n",
    "    data = io.loadmat(data_path+'data/'+subj+'/'+subj+'_fingerflex.mat', squeeze_me=True)\n",
    "    ecog = data['data'].T\n",
    "    \n",
    "    # set parameters\n",
    "    win_len = int(fs)\n",
    "    num_chan = ecog.shape[0]\n",
    "    max_freq = analysis_param['max_freq']\n",
    "    \n",
    "    # sort out trial info\n",
    "    trial_info = get_trial_info(data['cue'], stim_info['stim'], L_win=win_len, L_lag=1500, alpha=0.9)\n",
    "    num_trials = trial_info.shape[0]\n",
    "    print('%i included trials.'%num_trials)\n",
    "        \n",
    "    if num_trials>20:\n",
    "        # pre-initialize arrays\n",
    "        psd_precomp = np.zeros((num_chan, max_freq, num_trials, 2))\n",
    "\n",
    "        # precompute trial PSDs\n",
    "        for tr in range(num_trials):\n",
    "            tr_onset = trial_info[tr,0]\n",
    "            mv_onset = trial_info[tr,1]\n",
    "            # pre-movement\n",
    "            f_axis, t_axis, spg = sp.signal.spectrogram(ecog[:,tr_onset-win_len:tr_onset],fs=fs,nperseg=win_len)\n",
    "            p_ = np.mean(spg,axis=-1)      \n",
    "            psd_precomp[:,:,tr,0] = p_[:,:max_freq]\n",
    "            # movement\n",
    "            f_axis, t_axis, spg = sp.signal.spectrogram(ecog[:,mv_onset:mv_onset+win_len],fs=fs,nperseg=win_len)\n",
    "            p_ = np.mean(spg,axis=-1)   \n",
    "            psd_precomp[:,:,tr,1] = p_[:,:max_freq]\n",
    "\n",
    "        sca_all = []\n",
    "        for i in range(2):\n",
    "            mov_sca = sca.SCA(analysis_param)\n",
    "            mov_sca.populate_fourier_data(psd_precomp[:,:,:,i], fs, f_axis)\n",
    "            mov_sca.compute_psd()\n",
    "            mov_sca.compute_scv()\n",
    "            sca_all.append(mov_sca)\n",
    "\n",
    "        # return the pre- and during-movement sca data, and trial info\n",
    "        return sca_all, trial_info\n",
    "    else:\n",
    "        return None, None"
   ]
  },
  {
   "cell_type": "code",
   "execution_count": null,
   "metadata": {},
   "outputs": [],
   "source": [
    "# define data folder\n",
    "data_path = '/Users/ldliao/Research/Data/ECoG_KJM/digit/'\n",
    "saveout_path = '../results/kjm_digits/'\n",
    "save_files = ['pre','move','whole']\n",
    "subjs = ['bp', 'cc', 'ht', 'jc', 'jp', 'mv', 'wc', 'wm', 'zt']\n",
    "\n",
    "# electrode location\n",
    "elec_def = [('0', 'dorsal_M1'),\n",
    "            ('1', 'dorsal_S1'),\n",
    "            ('2', 'ventral_S1+M1'),\n",
    "            ('3', 'frontal_(non-R)'),\n",
    "            ('4', 'parietal_(non-R)'),\n",
    "            ('5', 'temporal'),\n",
    "            ('6', 'occipital')]"
   ]
  },
  {
   "cell_type": "code",
   "execution_count": null,
   "metadata": {},
   "outputs": [],
   "source": [
    "fs = 1000.\n",
    "# sca params\n",
    "analysis_param = {'nperseg': 1000,\n",
    "                 'noverlap': 0,\n",
    "                 'spg_outlierpct': 2.,\n",
    "                 'max_freq':200}\n",
    "\n",
    "for subj in subjs:\n",
    "    print(subj)\n",
    "    # get the trial-separated sca\n",
    "    sca_all, trial_info = sca_kjm(data_path,subj,fs,analysis_param)\n",
    "    if sca_all is not None:\n",
    "        # get sca for whole recording\n",
    "        data = io.loadmat(data_path+'data/'+subj+'/'+subj+'_fingerflex.mat', squeeze_me=True)    \n",
    "        sca_all.append(sca.SCA(analysis_param))\n",
    "        sca_all[-1].populate_ts_data(data['data'].T, fs)\n",
    "        sca_all[-1].compute_all_spectral()\n",
    "\n",
    "        # make dir\n",
    "        subj_path = saveout_path+subj+'/'\n",
    "        if not os.path.isdir(subj_path):\n",
    "            os.mkdir(subj_path)\n",
    "\n",
    "        print('Computing exponential KS test...')\n",
    "        for ind, sc in enumerate(sca_all):\n",
    "            # compute fit\n",
    "            sc.compute_KS_expfit()\n",
    "            # save channel labels\n",
    "            sc.chan_labels = ['chan_' + key + '_' + val for (key, val) in elec_def]\n",
    "#             print(ind)\n",
    "#             sc.cross_freq_corr()\n",
    "            # save out sca         \n",
    "            sc.save_spec_vars(subj_path+save_files[ind]+'.npz', save_spg=True)\n",
    "\n",
    "        # save trial info and plot contrast\n",
    "        np.savez(subj_path+'trial_info.npz', trial_info=trial_info, elec_regions=data['elec_regions'])\n",
    "    else:\n",
    "        print('Skipped subject.')"
   ]
  },
  {
   "cell_type": "markdown",
   "metadata": {},
   "source": [
    "## Hermes Data"
   ]
  },
  {
   "cell_type": "code",
   "execution_count": null,
   "metadata": {},
   "outputs": [],
   "source": [
    "import bids\n",
    "\n",
    "\n",
    "subj, sess, run = '01', '01', 1\n",
    "layout = bids.layout.BIDSLayout('/Users/ldliao/Research/Data/Hermes_VCECoG/')\n",
    "f_raw = layout.get(return_type='object', suffix='ieeg', subject=subj, session=sess, run=run, extensions='.vhdr')[0]\n",
    "f_events = layout.get(return_type='object', suffix='events', subject=subj, session=sess, run=run)[0]\n",
    "f_channels = layout.get(return_type='object', suffix='channels', subject=subj, session=sess, run=run)[0]\n",
    "f_elec = layout.get(return_type='object', suffix='electrodes', subject=subj, session=sess)[0]\n",
    "\n",
    "events = pd.read_csv(f_events.path, delimiter='\\t')\n",
    "chan_info = pd.read_csv(f_channels.path, delimiter='\\t')\n",
    "elec_loc = pd.read_csv(f_elec.path, delimiter='\\t').apply(pd.to_numeric, errors='coerce')"
   ]
  },
  {
   "cell_type": "code",
   "execution_count": null,
   "metadata": {},
   "outputs": [],
   "source": [
    "layout.get_metadata(f_raw.path)"
   ]
  },
  {
   "cell_type": "code",
   "execution_count": null,
   "metadata": {},
   "outputs": [],
   "source": [
    "layout.get(return_type='filename')"
   ]
  },
  {
   "cell_type": "code",
   "execution_count": null,
   "metadata": {},
   "outputs": [],
   "source": [
    "mne.__version__"
   ]
  },
  {
   "cell_type": "code",
   "execution_count": null,
   "metadata": {},
   "outputs": [],
   "source": [
    "mne"
   ]
  },
  {
   "cell_type": "code",
   "execution_count": null,
   "metadata": {},
   "outputs": [],
   "source": [
    "raw = mne.io.read_raw_brainvision(f_raw.path)\n",
    "raw.info\n",
    "data, t = raw[:,:]\n",
    "data = data[:-1,:]"
   ]
  },
  {
   "cell_type": "markdown",
   "metadata": {},
   "source": [
    "## MNI rest ECoG data"
   ]
  },
  {
   "cell_type": "code",
   "execution_count": 10,
   "metadata": {},
   "outputs": [],
   "source": [
    "data_path = '/Users/ldliao/Research/Data/MNI_rest_ECoG/WakefulnessMatlabFile.mat'\n",
    "data = io.loadmat(data_path, squeeze_me=True)    \n",
    "saveout_path = '/Users/ldliao/Research/Projects/spectralCA/results/mni_rest/'\n",
    "\n",
    "fs = data['SamplingFrequency']\n",
    "# sca params\n",
    "analysis_param = {'nperseg': 200,\n",
    "                 'noverlap': 0,\n",
    "                 'spg_outlierpct': 2.,\n",
    "                 'max_freq':200}"
   ]
  },
  {
   "cell_type": "code",
   "execution_count": null,
   "metadata": {},
   "outputs": [],
   "source": [
    "import scipy as sp"
   ]
  },
  {
   "cell_type": "code",
   "execution_count": 31,
   "metadata": {},
   "outputs": [
    {
     "name": "stdout",
     "output_type": "stream",
     "text": [
      "(13, 101, 8)\n",
      "Computing exponential KS test...\n"
     ]
    }
   ],
   "source": [
    "data_path = '/Users/ldliao/Research/Data/MNI_rest_ECoG/WakefulnessMatlabFile.mat'\n",
    "data = io.loadmat(data_path, squeeze_me=True)    \n",
    "saveout_path = '/Users/ldliao/Research/Projects/spectralCA/results/mni_rest/'\n",
    "\n",
    "fs = data['SamplingFrequency']\n",
    "# sca params\n",
    "analysis_param = {'nperseg': 200,\n",
    "                 'noverlap': 0,\n",
    "                 'spg_outlierpct': 2.,\n",
    "                 'max_freq':200}\n",
    "\n",
    "patient = data['Patient']\n",
    "\n",
    "# getting the different indices start\n",
    "ind = [ind for ind in np.where(patient[:-1] != patient[1:])[0]]\n",
    "ind.insert(0,0) \n",
    "\n",
    "# make dir\n",
    "subj_path = saveout_path\n",
    "if not os.path.isdir(subj_path):\n",
    "    os.mkdir(subj_path)\n",
    "\n",
    "\n",
    "for idx in range(len(ind)-1):\n",
    "    sub_data = data['Data'][ind[idx]:ind[idx+1]]\n",
    "    sub_chanlab = data['ChannelName'][ind[idx]:ind[idx+1]]\n",
    "    ch_num, ch_datalen = sub_data.shape\n",
    "    \n",
    "    for i in range(ch_num):\n",
    "        sub_chanlab = [ch+'_'+str(i) for ch in sub_chanlab]\n",
    "            \n",
    "    sub_sc = sca.SCA(analysis_param)\n",
    "    sub_sc.populate_ts_data(sub_data, fs)\n",
    "    sub_f_axis, sub_t_axis, sub_spg = sp.signal.spectrogram(sub_data, sub_sc.fs, 'hann', \n",
    "                                                            sub_sc.nperseg, sub_sc.noverlap, mode='complex')\n",
    "    sub_sc.populate_spg(sub_f_axis, sub_t_axis, sub_spg)\n",
    "    sub_sc.compute_all_spectral()\n",
    "\n",
    "    \n",
    "    print('Computing exponential KS test...')\n",
    "\n",
    "    sub_sc.compute_KS_expfit()\n",
    "    # save channel labels\n",
    "    sub_sc.chan_labels = sub_chanlab\n",
    "    sub_sc.cross_freq_corr()\n",
    "        \n",
    "    # save out sca      \n",
    "    sub_path = saveout_path+'patient_'+str(data['Patient'][ind[idx]])\n",
    "    sub_sc.save_spec_vars(sub_path+'.npz', save_spg=True)"
   ]
  },
  {
   "cell_type": "code",
   "execution_count": 33,
   "metadata": {},
   "outputs": [
    {
     "data": {
      "text/plain": [
       "True"
      ]
     },
     "execution_count": 33,
     "metadata": {},
     "output_type": "execute_result"
    }
   ],
   "source": [
    "sub_sc.spg.shape != 0"
   ]
  },
  {
   "cell_type": "code",
   "execution_count": 8,
   "metadata": {},
   "outputs": [],
   "source": [
    "fs = data['SamplingFrequency']"
   ]
  },
  {
   "cell_type": "code",
   "execution_count": 9,
   "metadata": {},
   "outputs": [
    {
     "data": {
      "text/plain": [
       "200"
      ]
     },
     "execution_count": 9,
     "metadata": {},
     "output_type": "execute_result"
    }
   ],
   "source": [
    "fs"
   ]
  },
  {
   "cell_type": "code",
   "execution_count": 12,
   "metadata": {},
   "outputs": [
    {
     "data": {
      "text/plain": [
       "array([  1,   1,   1, ..., 110, 110, 110], dtype=uint8)"
      ]
     },
     "execution_count": 12,
     "metadata": {},
     "output_type": "execute_result"
    }
   ],
   "source": []
  },
  {
   "cell_type": "code",
   "execution_count": null,
   "metadata": {},
   "outputs": [],
   "source": []
  }
 ],
 "metadata": {
  "kernelspec": {
   "display_name": "Python 3",
   "language": "python",
   "name": "python3"
  },
  "language_info": {
   "codemirror_mode": {
    "name": "ipython",
    "version": 3
   },
   "file_extension": ".py",
   "mimetype": "text/x-python",
   "name": "python",
   "nbconvert_exporter": "python",
   "pygments_lexer": "ipython3",
   "version": "3.6.8"
  }
 },
 "nbformat": 4,
 "nbformat_minor": 2
}
