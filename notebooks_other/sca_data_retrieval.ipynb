{
 "cells": [
  {
   "cell_type": "code",
   "execution_count": 1,
   "metadata": {},
   "outputs": [],
   "source": [
    "%matplotlib inline\n",
    "\n",
    "import sys\n",
    "# locate your spectralCV so we have scv_funcs to use\n",
    "sys.path.append('/Users/ldliao/Research/Projects/spectralCA/')"
   ]
  },
  {
   "cell_type": "code",
   "execution_count": 2,
   "metadata": {},
   "outputs": [],
   "source": [
    "# imports\n",
    "import os\n",
    "import numpy as np\n",
    "import scipy as sp\n",
    "import scipy.io as io\n",
    "import matplotlib.pyplot as plt\n",
    "\n",
    "import neurodsp as ndsp\n",
    "from sca import sca"
   ]
  },
  {
   "cell_type": "code",
   "execution_count": 3,
   "metadata": {},
   "outputs": [],
   "source": [
    "def get_trial_info(cue_sig, move_sig, L_win=1000, L_lag=2000, alpha=0.95):\n",
    "    # stim_info vector: [trial onset, movement onset, trial type, RT, premove duration, move duration]\n",
    "    trial_init = np.where(np.diff((cue_sig>0).astype(int))==1)[0]+1\n",
    "    move_init = np.where(np.diff((move_sig>0).astype(int))==1)[0]+1 \n",
    "    trial_info = []\n",
    "    for i, tr_onset in enumerate(trial_init):\n",
    "        # pre-movement length\n",
    "        L_premove = np.sum(move_sig[tr_onset-L_win:tr_onset]<=0)    \n",
    "        # find corresponding movement onset time\n",
    "        try:\n",
    "            # if this fails, it means there was no response on the last trial\n",
    "            mv_onset = move_init[np.where(move_init>tr_onset)[0][0]]        \n",
    "            L_move = np.sum(move_sig[mv_onset:mv_onset+L_win]>0)\n",
    "            # if 3 conditions are satisfied, add trial\n",
    "            if L_premove/L_win>alpha and L_move/L_win>alpha and (mv_onset-tr_onset)<L_lag:\n",
    "                RT = mv_onset-tr_onset\n",
    "                trial_info.append([tr_onset, mv_onset, move_sig[mv_onset], RT, L_premove, L_move])\n",
    "        except:\n",
    "            print('Skipped last trial.')\n",
    "    return np.array(trial_info)\n",
    "\n",
    "def sca_kjm(data_path, subj, fs, analysis_param):\n",
    "    # load data & trial info\n",
    "    stim_info = io.loadmat(data_path+'data/'+subj+'/'+subj+'_stim.mat', squeeze_me=True)\n",
    "    data = io.loadmat(data_path+'data/'+subj+'/'+subj+'_fingerflex.mat', squeeze_me=True)\n",
    "    ecog = data['data'].T\n",
    "    \n",
    "    # set parameters\n",
    "    win_len = int(fs)\n",
    "    num_chan = ecog.shape[0]\n",
    "    max_freq = analysis_param['max_freq']\n",
    "    \n",
    "    # sort out trial info\n",
    "    trial_info = get_trial_info(data['cue'], stim_info['stim'], L_win=win_len, L_lag=1500, alpha=0.9)\n",
    "    num_trials = trial_info.shape[0]\n",
    "    print('%i included trials.'%num_trials)\n",
    "        \n",
    "    if num_trials>20:\n",
    "        # pre-initialize arrays\n",
    "        psd_precomp = np.zeros((num_chan, max_freq, num_trials, 2))\n",
    "\n",
    "        # precompute trial PSDs\n",
    "        for tr in range(num_trials):\n",
    "            tr_onset = trial_info[tr,0]\n",
    "            mv_onset = trial_info[tr,1]\n",
    "            # pre-movement\n",
    "            f_axis, t_axis, spg = sp.signal.spectrogram(ecog[:,tr_onset-win_len:tr_onset],fs=fs,nperseg=win_len)\n",
    "            p_ = np.mean(spg,axis=-1)      \n",
    "            psd_precomp[:,:,tr,0] = p_[:,:max_freq]\n",
    "            # movement\n",
    "            f_axis, t_axis, spg = sp.signal.spectrogram(ecog[:,mv_onset:mv_onset+win_len],fs=fs,nperseg=win_len)\n",
    "            p_ = np.mean(spg,axis=-1)   \n",
    "            psd_precomp[:,:,tr,1] = p_[:,:max_freq]\n",
    "\n",
    "        sca_all = []\n",
    "        for i in range(2):\n",
    "            mov_sca = sca.SCA(analysis_param)\n",
    "            mov_sca.populate_fourier_data(psd_precomp[:,:,:,i], fs, f_axis)\n",
    "            mov_sca.compute_psd()\n",
    "            mov_sca.compute_scv()\n",
    "            sca_all.append(mov_sca)\n",
    "\n",
    "        # return the pre- and during-movement sca data, and trial info\n",
    "        return sca_all, trial_info\n",
    "    else:\n",
    "        return None, None"
   ]
  },
  {
   "cell_type": "code",
   "execution_count": 4,
   "metadata": {},
   "outputs": [],
   "source": [
    "# define data folder\n",
    "data_path = '/Users/ldliao/Research/Data/ECoG_KJM/digit/'\n",
    "saveout_path = '../results/kjm_digits/'\n",
    "save_files = ['pre','move','whole']\n",
    "subjs = ['bp', 'cc', 'ht', 'jc', 'jp', 'mv', 'wc', 'wm', 'zt']\n",
    "\n",
    "# electrode location\n",
    "elec_def = [('0', 'dorsal_M1'),\n",
    "            ('1', 'dorsal_S1'),\n",
    "            ('2', 'ventral_S1+M1'),\n",
    "            ('3', 'frontal_(non-R)'),\n",
    "            ('4', 'parietal_(non-R)'),\n",
    "            ('5', 'temporal'),\n",
    "            ('6', 'occipital')]"
   ]
  },
  {
   "cell_type": "code",
   "execution_count": 5,
   "metadata": {},
   "outputs": [
    {
     "data": {
      "text/plain": [
       "['chan_0_dorsal_M1',\n",
       " 'chan_1_dorsal_S1',\n",
       " 'chan_2_ventral_S1+M1',\n",
       " 'chan_3_frontal_(non-R)',\n",
       " 'chan_4_parietal_(non-R)',\n",
       " 'chan_5_temporal',\n",
       " 'chan_6_occipital']"
      ]
     },
     "execution_count": 5,
     "metadata": {},
     "output_type": "execute_result"
    }
   ],
   "source": []
  },
  {
   "cell_type": "code",
   "execution_count": 11,
   "metadata": {},
   "outputs": [
    {
     "name": "stdout",
     "output_type": "stream",
     "text": [
      "bp\n",
      "103 included trials.\n",
      "Computing exponential KS test...\n",
      "0\n",
      "1\n",
      "2\n",
      "cc\n",
      "63 included trials.\n",
      "Computing exponential KS test...\n",
      "0\n",
      "1\n",
      "2\n",
      "ht\n",
      "84 included trials.\n",
      "Computing exponential KS test...\n",
      "0\n"
     ]
    },
    {
     "ename": "KeyboardInterrupt",
     "evalue": "",
     "output_type": "error",
     "traceback": [
      "\u001b[0;31m---------------------------------------------------------------------------\u001b[0m",
      "\u001b[0;31mKeyboardInterrupt\u001b[0m                         Traceback (most recent call last)",
      "\u001b[0;32m<ipython-input-11-09083fb4ea78>\u001b[0m in \u001b[0;36m<module>\u001b[0;34m()\u001b[0m\n\u001b[1;32m     29\u001b[0m             \u001b[0msc\u001b[0m\u001b[0;34m.\u001b[0m\u001b[0mchan_labels\u001b[0m \u001b[0;34m=\u001b[0m \u001b[0;34m[\u001b[0m\u001b[0;34m'chan_'\u001b[0m \u001b[0;34m+\u001b[0m \u001b[0mkey\u001b[0m \u001b[0;34m+\u001b[0m \u001b[0;34m'_'\u001b[0m \u001b[0;34m+\u001b[0m \u001b[0mval\u001b[0m \u001b[0;32mfor\u001b[0m \u001b[0;34m(\u001b[0m\u001b[0mkey\u001b[0m\u001b[0;34m,\u001b[0m \u001b[0mval\u001b[0m\u001b[0;34m)\u001b[0m \u001b[0;32min\u001b[0m \u001b[0melec_def\u001b[0m\u001b[0;34m]\u001b[0m\u001b[0;34m\u001b[0m\u001b[0;34m\u001b[0m\u001b[0m\n\u001b[1;32m     30\u001b[0m             \u001b[0mprint\u001b[0m\u001b[0;34m(\u001b[0m\u001b[0mind\u001b[0m\u001b[0;34m)\u001b[0m\u001b[0;34m\u001b[0m\u001b[0;34m\u001b[0m\u001b[0m\n\u001b[0;32m---> 31\u001b[0;31m             \u001b[0msc\u001b[0m\u001b[0;34m.\u001b[0m\u001b[0mcross_freq_corr\u001b[0m\u001b[0;34m(\u001b[0m\u001b[0;34m)\u001b[0m\u001b[0;34m\u001b[0m\u001b[0;34m\u001b[0m\u001b[0m\n\u001b[0m\u001b[1;32m     32\u001b[0m             \u001b[0;31m# save out sca\u001b[0m\u001b[0;34m\u001b[0m\u001b[0;34m\u001b[0m\u001b[0;34m\u001b[0m\u001b[0m\n\u001b[1;32m     33\u001b[0m             \u001b[0msc\u001b[0m\u001b[0;34m.\u001b[0m\u001b[0msave_spec_vars\u001b[0m\u001b[0;34m(\u001b[0m\u001b[0msubj_path\u001b[0m\u001b[0;34m+\u001b[0m\u001b[0msave_files\u001b[0m\u001b[0;34m[\u001b[0m\u001b[0mind\u001b[0m\u001b[0;34m]\u001b[0m\u001b[0;34m+\u001b[0m\u001b[0;34m'.npz'\u001b[0m\u001b[0;34m,\u001b[0m \u001b[0msave_spg\u001b[0m\u001b[0;34m=\u001b[0m\u001b[0;32mTrue\u001b[0m\u001b[0;34m)\u001b[0m\u001b[0;34m\u001b[0m\u001b[0;34m\u001b[0m\u001b[0m\n",
      "\u001b[0;32m~/Research/Projects/spectralCA/sca/sca.py\u001b[0m in \u001b[0;36mcross_freq_corr\u001b[0;34m(self, log_pow_vals)\u001b[0m\n\u001b[1;32m    172\u001b[0m                 \u001b[0;32mfor\u001b[0m \u001b[0mcol\u001b[0m \u001b[0;32min\u001b[0m \u001b[0mrange\u001b[0m\u001b[0;34m(\u001b[0m\u001b[0mfreq_num\u001b[0m\u001b[0;34m)\u001b[0m\u001b[0;34m:\u001b[0m\u001b[0;34m\u001b[0m\u001b[0;34m\u001b[0m\u001b[0m\n\u001b[1;32m    173\u001b[0m                     pow_corrmat[chan][row][col], pow_pvmat[chan][row][col] = pearsonr(pow_vals[chan][row],\n\u001b[0;32m--> 174\u001b[0;31m                                                                                       pow_vals[chan][col])\n\u001b[0m\u001b[1;32m    175\u001b[0m \u001b[0;34m\u001b[0m\u001b[0m\n\u001b[1;32m    176\u001b[0m         \u001b[0mself\u001b[0m\u001b[0;34m.\u001b[0m\u001b[0mpow_corrmat\u001b[0m \u001b[0;34m=\u001b[0m \u001b[0mpow_corrmat\u001b[0m \u001b[0;31m# correlation matrix\u001b[0m\u001b[0;34m\u001b[0m\u001b[0;34m\u001b[0m\u001b[0m\n",
      "\u001b[0;32m/anaconda3/envs/voytek/lib/python3.6/site-packages/scipy/stats/stats.py\u001b[0m in \u001b[0;36mpearsonr\u001b[0;34m(x, y)\u001b[0m\n\u001b[1;32m   3005\u001b[0m     \u001b[0mmx\u001b[0m \u001b[0;34m=\u001b[0m \u001b[0mx\u001b[0m\u001b[0;34m.\u001b[0m\u001b[0mmean\u001b[0m\u001b[0;34m(\u001b[0m\u001b[0;34m)\u001b[0m\u001b[0;34m\u001b[0m\u001b[0;34m\u001b[0m\u001b[0m\n\u001b[1;32m   3006\u001b[0m     \u001b[0mmy\u001b[0m \u001b[0;34m=\u001b[0m \u001b[0my\u001b[0m\u001b[0;34m.\u001b[0m\u001b[0mmean\u001b[0m\u001b[0;34m(\u001b[0m\u001b[0;34m)\u001b[0m\u001b[0;34m\u001b[0m\u001b[0;34m\u001b[0m\u001b[0m\n\u001b[0;32m-> 3007\u001b[0;31m     \u001b[0mxm\u001b[0m\u001b[0;34m,\u001b[0m \u001b[0mym\u001b[0m \u001b[0;34m=\u001b[0m \u001b[0mx\u001b[0m \u001b[0;34m-\u001b[0m \u001b[0mmx\u001b[0m\u001b[0;34m,\u001b[0m \u001b[0my\u001b[0m \u001b[0;34m-\u001b[0m \u001b[0mmy\u001b[0m\u001b[0;34m\u001b[0m\u001b[0;34m\u001b[0m\u001b[0m\n\u001b[0m\u001b[1;32m   3008\u001b[0m     \u001b[0mr_num\u001b[0m \u001b[0;34m=\u001b[0m \u001b[0mnp\u001b[0m\u001b[0;34m.\u001b[0m\u001b[0madd\u001b[0m\u001b[0;34m.\u001b[0m\u001b[0mreduce\u001b[0m\u001b[0;34m(\u001b[0m\u001b[0mxm\u001b[0m \u001b[0;34m*\u001b[0m \u001b[0mym\u001b[0m\u001b[0;34m)\u001b[0m\u001b[0;34m\u001b[0m\u001b[0;34m\u001b[0m\u001b[0m\n\u001b[1;32m   3009\u001b[0m     \u001b[0mr_den\u001b[0m \u001b[0;34m=\u001b[0m \u001b[0mnp\u001b[0m\u001b[0;34m.\u001b[0m\u001b[0msqrt\u001b[0m\u001b[0;34m(\u001b[0m\u001b[0m_sum_of_squares\u001b[0m\u001b[0;34m(\u001b[0m\u001b[0mxm\u001b[0m\u001b[0;34m)\u001b[0m \u001b[0;34m*\u001b[0m \u001b[0m_sum_of_squares\u001b[0m\u001b[0;34m(\u001b[0m\u001b[0mym\u001b[0m\u001b[0;34m)\u001b[0m\u001b[0;34m)\u001b[0m\u001b[0;34m\u001b[0m\u001b[0;34m\u001b[0m\u001b[0m\n",
      "\u001b[0;31mKeyboardInterrupt\u001b[0m: "
     ]
    }
   ],
   "source": [
    "fs = 1000.\n",
    "# sca params\n",
    "analysis_param = {'nperseg': 1000,\n",
    "                 'noverlap': 0,\n",
    "                 'spg_outlierpct': 2.,\n",
    "                 'max_freq':200}\n",
    "\n",
    "for subj in subjs:\n",
    "    print(subj)\n",
    "    # get the trial-separated sca\n",
    "    sca_all, trial_info = sca_kjm(data_path,subj,fs,analysis_param)\n",
    "    if sca_all is not None:\n",
    "        # get sca for whole recording\n",
    "        data = io.loadmat(data_path+'data/'+subj+'/'+subj+'_fingerflex.mat', squeeze_me=True)    \n",
    "        sca_all.append(sca.SCA(analysis_param))\n",
    "        sca_all[-1].populate_ts_data(data['data'].T, fs)\n",
    "        sca_all[-1].compute_all_spectral()\n",
    "\n",
    "        # make dir\n",
    "        subj_path = saveout_path+subj+'/'\n",
    "        if not os.path.isdir(subj_path):\n",
    "            os.mkdir(subj_path)\n",
    "\n",
    "        print('Computing exponential KS test...')\n",
    "        for ind, sc in enumerate(sca_all):\n",
    "            # compute fit\n",
    "            sc.compute_KS_expfit()\n",
    "            # save channel labels\n",
    "            sc.chan_labels = ['chan_' + key + '_' + val for (key, val) in elec_def]\n",
    "            print(ind)\n",
    "            sc.cross_freq_corr()\n",
    "            # save out sca         \n",
    "            sc.save_spec_vars(subj_path+save_files[ind]+'.npz', save_spg=True)\n",
    "\n",
    "        # save trial info and plot contrast\n",
    "        np.savez(subj_path+'trial_info.npz', trial_info=trial_info, elec_regions=data['elec_regions'])\n",
    "    else:\n",
    "        print('Skipped subject.')"
   ]
  },
  {
   "cell_type": "code",
   "execution_count": 9,
   "metadata": {},
   "outputs": [
    {
     "data": {
      "text/plain": [
       "[<sca.sca.SCA at 0x105f6fe48>,\n",
       " <sca.sca.SCA at 0x105f6fe80>,\n",
       " <sca.sca.SCA at 0x105f682e8>]"
      ]
     },
     "execution_count": 9,
     "metadata": {},
     "output_type": "execute_result"
    }
   ],
   "source": [
    "sca_all"
   ]
  },
  {
   "cell_type": "code",
   "execution_count": null,
   "metadata": {},
   "outputs": [],
   "source": []
  }
 ],
 "metadata": {
  "kernelspec": {
   "display_name": "Python 3",
   "language": "python",
   "name": "python3"
  },
  "language_info": {
   "codemirror_mode": {
    "name": "ipython",
    "version": 3
   },
   "file_extension": ".py",
   "mimetype": "text/x-python",
   "name": "python",
   "nbconvert_exporter": "python",
   "pygments_lexer": "ipython3",
   "version": "3.6.8"
  }
 },
 "nbformat": 4,
 "nbformat_minor": 2
}
