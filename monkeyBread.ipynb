{
 "cells": [
  {
   "cell_type": "markdown",
   "metadata": {},
   "source": [
    "# Monkey Bread"
   ]
  },
  {
   "cell_type": "code",
   "execution_count": 99,
   "metadata": {},
   "outputs": [],
   "source": [
    "from SpectralCV import ecog_pipe as ep\n",
    "import numpy as np\n",
    "import scipy as sp\n",
    "import scipy.io as io\n",
    "import scipy.signal as sig\n",
    "import math as math\n",
    "import random \n",
    "from scipy import integrate\n",
    "import matplotlib.pyplot as plt\n",
    "from mpl_toolkits.mplot3d import Axes3D\n",
    "%matplotlib inline\n",
    "plt.style.use('seaborn-colorblind')\n",
    "plt.rcParams['image.cmap'] = 'RdBu'"
   ]
  },
  {
   "cell_type": "markdown",
   "metadata": {},
   "source": [
    "## Baking all 4 loaves"
   ]
  },
  {
   "cell_type": "code",
   "execution_count": 100,
   "metadata": {
    "collapsed": true
   },
   "outputs": [],
   "source": [
    "data_path1 =\"\\\\Users\\\\Lauren\\\\Data\\\\NeuroTycho\\\\20120730PF_Anesthesia+and+Sleep_Chibi_Toru+Yanagawa_mat_ECoG128\\\\Session%d\\\\\"\n",
    "data_path2 =\"\\\\Users\\\\Lauren\\\\Data\\\\NeuroTycho\\\\20120802PF_Anesthesia+and+Sleep_Chibi_Toru+Yanagawa_mat_ECoG128\\\\Session%d\\\\\"\n",
    "data_path3 =\"\\\\Users\\\\Lauren\\\\Data\\\\NeuroTycho\\\\20120731PF_Anesthesia+and+Sleep_George_Toru+Yanagawa_mat_ECoG128\\\\Session%d\\\\\"\n",
    "data_path4 =\"\\\\Users\\\\Lauren\\\\Data\\\\NeuroTycho\\\\20120803PF_Anesthesia+and+Sleep_George_Toru+Yanagawa_mat_ECoG128\\\\Session%d\\\\\""
   ]
  },
  {
   "cell_type": "code",
   "execution_count": 119,
   "metadata": {},
   "outputs": [],
   "source": [
    "chan = 129\n",
    "fs = 1000\n",
    "nperseg = 500\n",
    "noverlap = nperseg/2\n",
    "#data1 = ep.monkeyBread(data_path1, chan, fs, nperseg, noverlap)"
   ]
  },
  {
   "cell_type": "code",
   "execution_count": 102,
   "metadata": {},
   "outputs": [],
   "source": [
    "#create h5py path to chibi bread\n",
    "import h5py\n",
    "scvh5 = h5py.File('scv.h5', 'a')\n",
    "monkey = scvh5['monkey']\n",
    "monkey.create_dataset('chibiPF0730_2', data=ep.monkeyBread(data_path1, chan, fs, nperseg, noverlap))\n",
    "monkey.create_dataset('chibiPF0802_2', data=ep.monkeyBread(data_path2, chan, fs, nperseg, noverlap))\n",
    "monkey.create_dataset('georgePF0731_2', data=ep.monkeyBread(data_path3, chan, fs, nperseg, noverlap))\n",
    "monkey.create_dataset('georgePF0803_2', data=ep.monkeyBread(data_path4, chan, fs, nperseg, noverlap))\n",
    "scvh5.close()"
   ]
  },
  {
   "cell_type": "code",
   "execution_count": null,
   "metadata": {
    "collapsed": true
   },
   "outputs": [],
   "source": []
  },
  {
   "cell_type": "markdown",
   "metadata": {},
   "source": [
    "## Using the data"
   ]
  },
  {
   "cell_type": "code",
   "execution_count": 103,
   "metadata": {
    "collapsed": true
   },
   "outputs": [],
   "source": [
    "import matplotlib.pyplot as plt\n",
    "import h5py\n",
    "from SpectralCV import ecog_pipe as ep\n",
    "#load data from h5 \n",
    "h5_file = '../Voytek/scv.h5'"
   ]
  },
  {
   "cell_type": "code",
   "execution_count": 120,
   "metadata": {
    "collapsed": true
   },
   "outputs": [],
   "source": [
    "def addattrs(dset, fs, nperseg, noverlap):   \n",
    "    dset.attrs['fs'] = fs\n",
    "    dset.attrs['nperseg'] = nperseg\n",
    "    dset.attrs['noverlap'] = noverlap"
   ]
  },
  {
   "cell_type": "code",
   "execution_count": 121,
   "metadata": {},
   "outputs": [],
   "source": [
    "with h5py.File(h5_file, 'a') as h5:\n",
    "    dset = h5['monkey/chibiPF0730_05']\n",
    "    addattrs(dset, fs, nperseg, noverlap)\n",
    "    dset = h5['monkey/chibiPF0802_05']    \n",
    "    addattrs(dset, fs, nperseg, noverlap)\n",
    "    dset = h5['monkey/georgePF0731_05']    \n",
    "    addattrs(dset, fs, nperseg, noverlap)\n",
    "    dset = h5['monkey/georgePF0803_05']    \n",
    "    addattrs(dset, fs, nperseg, noverlap)"
   ]
  },
  {
   "cell_type": "code",
   "execution_count": 125,
   "metadata": {},
   "outputs": [
    {
     "name": "stdout",
     "output_type": "stream",
     "text": [
      "2000\n"
     ]
    }
   ],
   "source": [
    "with h5py.File(h5_file, 'a') as h5:\n",
    "    print(h5['monkey/georgePF0803_2'].attrs['nperseg'])"
   ]
  },
  {
   "cell_type": "code",
   "execution_count": 72,
   "metadata": {},
   "outputs": [
    {
     "name": "stdout",
     "output_type": "stream",
     "text": [
      "(5, 128, 251)\n",
      "[ 2.07159328  2.32641602  2.6348362   2.24325752  1.8303138   1.51239908\n",
      "  1.43079174  1.35915792  1.50583577  1.31677473  1.2357893   1.18293655\n",
      "  1.14319181  1.14440358  1.13819468  1.13123834  1.18081522  1.08855855\n",
      "  1.10696208  1.08618367  1.15794647  1.19535553  1.17544794  1.23241615\n",
      "  1.23962498  1.28535306  1.27493143  1.20390749  1.22701943  1.23839033\n",
      "  1.34634078  1.54149091  1.58394909  1.82852244  1.78163803  1.66287148\n",
      "  1.81829941  1.65559757  1.48487008  1.82379079  2.11648798  2.33252239\n",
      "  2.50709677  2.75842142  3.40319157  4.02137184  4.63065338  4.99670935\n",
      "  4.9493165   4.83459663  4.80006647  4.99601889  4.99030733  5.1104598\n",
      "  5.00041342  5.1277504   5.48031425  5.47539854  5.31708145  4.91009045\n",
      "  4.81947613  5.28039694  5.3178916   5.36617279  5.23789454  5.1850338\n",
      "  4.77781343  4.29390287  4.03282833  4.11637831  4.48965979  4.78044462\n",
      "  4.916605    4.7432189   4.67312813  4.64520645  4.8399353   4.96417904\n",
      "  5.30356646  5.40249729  5.26410103  4.67372561  4.58299017  4.78235292\n",
      "  4.86245298  4.78719902  4.92991304  4.43288422  4.53725624  4.77584982\n",
      "  5.45659447  5.4535675   5.25420952  4.83007431  5.13339376  5.57112646\n",
      "  5.56049347  5.55669069  4.8374815   4.56188774  4.93328762  4.78941774\n",
      "  4.77087927  4.45348167  4.5453229   4.16621494  4.65902328  5.13694334\n",
      "  5.77131605  6.01162386  5.53890467  5.26735067  5.38772726  5.36769629\n",
      "  5.13659286  4.79069376  4.94875431  5.31592894  5.09246397  5.64969301\n",
      "  4.97763538  4.79511166  4.83956289  4.74172163  4.67512321  4.76507282\n",
      "  4.79884624  4.70808744  4.20480824  3.92114639  4.10820532  4.27976036\n",
      "  3.99970746  4.22301483  3.74930763  3.68855953  3.56965137  3.59379864\n",
      "  3.72017026  3.82681012  3.99365115  4.40490103  4.05840683  4.16408587\n",
      "  3.48060513  3.73314142  3.62520099  3.67835569  3.31014085  3.56807351\n",
      "  3.71413374  4.14010668  3.69988084  4.10427046  4.15193224  3.88577795\n",
      "  3.81740999  3.88114023  3.77751136  4.23778343  4.35181952  3.84003282\n",
      "  4.20186377  3.58870983  3.97605443  3.76102614  4.56737566  4.65357494\n",
      "  4.71563244  3.78043032  3.67743802  3.72084284  3.67014098  4.18996191\n",
      "  4.30685663  4.57815266  4.69735813  4.59907198  3.93854332  3.9394834\n",
      "  3.69148874  3.72601008  3.91138601  4.3898735   4.78218651  4.30394173\n",
      "  4.53344965  4.32198429  3.9812901   5.23530912  3.96174765  3.54950809\n",
      "  3.76992512  3.42011929  3.73473668  3.86832857  3.85905743  3.91533995\n",
      "  3.56106019  4.17492437  3.6211257   3.57806325  3.30177069  3.11325216\n",
      "  3.16529822  3.18724895  3.31395555  2.92716861  3.82101393  3.70591116\n",
      "  3.74383473  3.91499686  3.71632981  3.84286118  3.24546814  3.06157041\n",
      "  3.53515029  3.18580151  3.0273385   3.3818562   3.51970673  3.9052968\n",
      "  3.65116191  3.60995603  3.30160093  3.25581694  2.9402194   3.10579872\n",
      "  3.76011992  3.75044823  3.80663896  3.30263519  3.56720018  2.7861135\n",
      "  3.72299075  3.01846457  3.08807635  2.96391153  3.19962478  3.37141299\n",
      "  3.08844709  3.28395295  3.12938023  3.06810403  3.25434923  3.0864861\n",
      "  4.03288937  2.85116792  3.32570362  3.60339212  3.09994388]\n"
     ]
    }
   ],
   "source": [
    "# plotting\n",
    "with h5py.File(h5_file, 'r') as h5:\n",
    "    bread = h5['monkey/chibiPF0730_05k']\n",
    "    print(bread.shape)\n",
    "    print(bread[0][1][:])\n",
    "    #for i in range(5):\n",
    "     #   plt.figure(i+1)\n",
    "     #   xaxis = np.arange(0,501,2)\n",
    "     #   plt.loglog(xaxis, bread[i][:][:].T)"
   ]
  },
  {
   "cell_type": "code",
   "execution_count": 126,
   "metadata": {},
   "outputs": [
    {
     "name": "stdout",
     "output_type": "stream",
     "text": [
      "[('chibiPF0730_05', <HDF5 dataset \"chibiPF0730_05\": shape (5, 128, 251), type \"<f8\">), ('chibiPF0730_1', <HDF5 dataset \"chibiPF0730_1\": shape (5, 128, 501), type \"<f8\">), ('chibiPF0730_2', <HDF5 dataset \"chibiPF0730_2\": shape (5, 128, 1001), type \"<f8\">), ('chibiPF0802_05', <HDF5 dataset \"chibiPF0802_05\": shape (5, 128, 251), type \"<f8\">), ('chibiPF0802_1', <HDF5 dataset \"chibiPF0802_1\": shape (5, 128, 501), type \"<f8\">), ('chibiPF0802_2', <HDF5 dataset \"chibiPF0802_2\": shape (5, 128, 1001), type \"<f8\">), ('georgePF0731_05', <HDF5 dataset \"georgePF0731_05\": shape (5, 128, 251), type \"<f8\">), ('georgePF0731_1', <HDF5 dataset \"georgePF0731_1\": shape (5, 128, 501), type \"<f8\">), ('georgePF0731_2', <HDF5 dataset \"georgePF0731_2\": shape (5, 128, 1001), type \"<f8\">), ('georgePF0803_05', <HDF5 dataset \"georgePF0803_05\": shape (5, 128, 251), type \"<f8\">), ('georgePF0803_1', <HDF5 dataset \"georgePF0803_1\": shape (5, 128, 501), type \"<f8\">), ('georgePF0803_2', <HDF5 dataset \"georgePF0803_2\": shape (5, 128, 1001), type \"<f8\">)]\n"
     ]
    }
   ],
   "source": [
    "with h5py.File(h5_file, 'a') as h5:\n",
    "    print([k for k in h5['monkey'].items()])"
   ]
  },
  {
   "cell_type": "code",
   "execution_count": 97,
   "metadata": {},
   "outputs": [],
   "source": [
    "with h5py.File(h5_file, 'a') as h5:\n",
    "    #del h5['monkey/georgePF0731_2']\n",
    "    #del h5['monkey/georgePF0731_05']\n",
    "    h5['monkey/georgePF0803_05'] = h5['monkey/georgePF0803_05k']\n",
    "    del h5['monkey/georgePF0803_05k']\n"
   ]
  },
  {
   "cell_type": "code",
   "execution_count": null,
   "metadata": {
    "collapsed": true
   },
   "outputs": [],
   "source": []
  }
 ],
 "metadata": {
  "kernelspec": {
   "display_name": "Python 3",
   "language": "python",
   "name": "python3"
  },
  "language_info": {
   "codemirror_mode": {
    "name": "ipython",
    "version": 3
   },
   "file_extension": ".py",
   "mimetype": "text/x-python",
   "name": "python",
   "nbconvert_exporter": "python",
   "pygments_lexer": "ipython3",
   "version": "3.6.2"
  }
 },
 "nbformat": 4,
 "nbformat_minor": 2
}
